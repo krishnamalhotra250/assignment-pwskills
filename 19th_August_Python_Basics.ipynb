{
 "cells": [
  {
   "cell_type": "code",
   "execution_count": 1,
   "id": "b23db2a3",
   "metadata": {},
   "outputs": [],
   "source": [
    "TOPIC: Python Basics Variable\n",
    "\n",
    "#1. Declare two variables, `x` and `y`, and assign them integer values. Swap the values of these variables without using any temporary variable."
   ]
  },
  {
   "cell_type": "code",
   "execution_count": 1,
   "id": "e5283c3b",
   "metadata": {},
   "outputs": [
    {
     "name": "stdout",
     "output_type": "stream",
     "text": [
      "value of x 200\n",
      "value of y 100\n"
     ]
    }
   ],
   "source": [
    "x=100\n",
    "y=200\n",
    "\n",
    "x=x+y\n",
    "y=x-y\n",
    "x=x-y\n",
    "\n",
    "print('value of x',x)\n",
    "print('value of y',y)"
   ]
  },
  {
   "cell_type": "code",
   "execution_count": 2,
   "id": "528368a7",
   "metadata": {},
   "outputs": [],
   "source": [
    "# 2. Create a program that calculates the area of a rectangle. Take the length and width as inputs from the user and store them in variables. Calculate and display the area."
   ]
  },
  {
   "cell_type": "code",
   "execution_count": 4,
   "id": "0e0c8814",
   "metadata": {},
   "outputs": [
    {
     "name": "stdout",
     "output_type": "stream",
     "text": [
      "enter the length20\n",
      "enter the width40\n",
      "The area of rectangle is 800.0\n"
     ]
    }
   ],
   "source": [
    "x=float(input('enter the length'))\n",
    "y=float(input('enter the width'))\n",
    "\n",
    "area=x*y\n",
    "\n",
    "print('The area of rectangle is',area)"
   ]
  },
  {
   "cell_type": "code",
   "execution_count": 6,
   "id": "c9d9eb3e",
   "metadata": {},
   "outputs": [
    {
     "data": {
      "text/plain": [
       "'3. Write a Python program that converts temperatures from Celsius to\\nFahrenheit. Take the temperature in Celsius as input, store it in a variable,\\nconvert it to Fahrenheit, and display the result.'"
      ]
     },
     "execution_count": 6,
     "metadata": {},
     "output_type": "execute_result"
    }
   ],
   "source": [
    "'''3. Write a Python program that converts temperatures from Celsius to\n",
    "Fahrenheit. Take the temperature in Celsius as input, store it in a variable,\n",
    "convert it to Fahrenheit, and display the result.'''"
   ]
  },
  {
   "cell_type": "code",
   "execution_count": 7,
   "id": "ef8b52c4",
   "metadata": {},
   "outputs": [
    {
     "name": "stdout",
     "output_type": "stream",
     "text": [
      "enter the temperature in Celsius30\n",
      "The temperature in fahrenheit is 86.0 degree\n"
     ]
    }
   ],
   "source": [
    "x=float(input('enter the temperature in Celsius'))\n",
    "\n",
    "Fahrenheit=(x*1.8)+32\n",
    "\n",
    "print('The temperature in fahrenheit is',Fahrenheit,'degree')"
   ]
  },
  {
   "cell_type": "markdown",
   "id": "ebe37fd6",
   "metadata": {},
   "source": [
    "TOPIC: String Based Questions"
   ]
  },
  {
   "cell_type": "code",
   "execution_count": 8,
   "id": "4999489b",
   "metadata": {},
   "outputs": [],
   "source": [
    "# 1. Write a Python program that takes a string as input and prints the length of the string.\n"
   ]
  },
  {
   "cell_type": "code",
   "execution_count": 9,
   "id": "9e969317",
   "metadata": {},
   "outputs": [
    {
     "name": "stdout",
     "output_type": "stream",
     "text": [
      "enter the stringhello\n",
      "The length of string is 5\n"
     ]
    }
   ],
   "source": [
    "x=input('enter the string')\n",
    "y=len(x)\n",
    "\n",
    "print('The length of string is',y)"
   ]
  },
  {
   "cell_type": "code",
   "execution_count": 10,
   "id": "ed42f441",
   "metadata": {},
   "outputs": [],
   "source": [
    "# 2. Create a program that takes a sentence from the user and counts the number of vowels (a, e, i, o, u) in the string.\n"
   ]
  },
  {
   "cell_type": "code",
   "execution_count": 12,
   "id": "4209df54",
   "metadata": {},
   "outputs": [
    {
     "name": "stdout",
     "output_type": "stream",
     "text": [
      "enter sentence my name is krish\n",
      "The number of vowels in sentence are 4\n"
     ]
    }
   ],
   "source": [
    "k=input('enter sentence ')\n",
    "v=0\n",
    "\n",
    "for i in k:\n",
    "    if(i=='a' or i=='e' or i=='i' or i=='o' or i=='u'):\n",
    "        v=v+1\n",
    "print('The number of vowels in sentence are',v)\n"
   ]
  },
  {
   "cell_type": "code",
   "execution_count": 13,
   "id": "cbbdc73d",
   "metadata": {},
   "outputs": [],
   "source": [
    "# 3. Given a string, reverse the order of characters using string slicing and print the reversed string.\n"
   ]
  },
  {
   "cell_type": "code",
   "execution_count": 14,
   "id": "84a8b793",
   "metadata": {},
   "outputs": [
    {
     "name": "stdout",
     "output_type": "stream",
     "text": [
      "enter stringhello everyone\n",
      "String in reversed format\n",
      "enoyreve olleh\n"
     ]
    }
   ],
   "source": [
    "string=input('enter string')\n",
    "\n",
    "y=string[::-1]\n",
    "\n",
    "print('String in reversed format')\n",
    "print(y)"
   ]
  },
  {
   "cell_type": "code",
   "execution_count": null,
   "id": "9b0533ac",
   "metadata": {},
   "outputs": [],
   "source": [
    "# 4. Write a program that takes a string as input and checks if it is a palindrome (reads the same forwards and backwards).\n"
   ]
  },
  {
   "cell_type": "code",
   "execution_count": 15,
   "id": "eb4ac1aa",
   "metadata": {},
   "outputs": [
    {
     "name": "stdout",
     "output_type": "stream",
     "text": [
      "enter textmalayalam\n",
      "The string is palindrome\n"
     ]
    }
   ],
   "source": [
    "x=input('enter text')\n",
    "if(x==x[::-1]):\n",
    "    print('The string is palindrome')\n",
    "else:\n",
    "    print('The string is not a palindrome')"
   ]
  },
  {
   "cell_type": "code",
   "execution_count": null,
   "id": "7a2998d5",
   "metadata": {},
   "outputs": [],
   "source": [
    "# 5. Create a program that takes a string as input and removes all the spaces from it. Print the modified string without spaces.\n"
   ]
  },
  {
   "cell_type": "code",
   "execution_count": 16,
   "id": "96e99fab",
   "metadata": {},
   "outputs": [
    {
     "name": "stdout",
     "output_type": "stream",
     "text": [
      "enter the stringpython is the programming language\n",
      "The modified string without spaces-\n",
      "pythonistheprogramminglanguage\n"
     ]
    }
   ],
   "source": [
    "x=input('enter the string')\n",
    "y=x.replace(' ','')\n",
    "\n",
    "print('The modified string without spaces-')\n",
    "print(y)"
   ]
  },
  {
   "cell_type": "code",
   "execution_count": null,
   "id": "846598a0",
   "metadata": {},
   "outputs": [],
   "source": []
  }
 ],
 "metadata": {
  "kernelspec": {
   "display_name": "Python 3 (ipykernel)",
   "language": "python",
   "name": "python3"
  },
  "language_info": {
   "codemirror_mode": {
    "name": "ipython",
    "version": 3
   },
   "file_extension": ".py",
   "mimetype": "text/x-python",
   "name": "python",
   "nbconvert_exporter": "python",
   "pygments_lexer": "ipython3",
   "version": "3.9.12"
  }
 },
 "nbformat": 4,
 "nbformat_minor": 5
}
