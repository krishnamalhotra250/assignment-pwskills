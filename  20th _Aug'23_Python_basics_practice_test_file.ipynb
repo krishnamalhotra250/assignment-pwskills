{
 "cells": [
  {
   "cell_type": "markdown",
   "id": "43cc7771",
   "metadata": {},
   "source": [
    "# String based questions"
   ]
  },
  {
   "cell_type": "code",
   "execution_count": 1,
   "id": "b031a158",
   "metadata": {},
   "outputs": [],
   "source": [
    "# 1. 1. Write a program to reverse a string."
   ]
  },
  {
   "cell_type": "code",
   "execution_count": 1,
   "id": "bf2760ae",
   "metadata": {},
   "outputs": [
    {
     "name": "stdout",
     "output_type": "stream",
     "text": [
      "enter texthello world!\n"
     ]
    },
    {
     "data": {
      "text/plain": [
       "'!dlrow olleh'"
      ]
     },
     "execution_count": 1,
     "metadata": {},
     "output_type": "execute_result"
    }
   ],
   "source": [
    "x=input('enter text')\n",
    "x[::-1]"
   ]
  },
  {
   "cell_type": "code",
   "execution_count": 3,
   "id": "0308f119",
   "metadata": {},
   "outputs": [
    {
     "name": "stdout",
     "output_type": "stream",
     "text": [
      "not a palindrome\n"
     ]
    }
   ],
   "source": [
    "#2. Check if a string is a palindrome.\n",
    "def is_palindrome(y):\n",
    "    return y == y[::-1]\n",
    "y=\"laptop\"\n",
    "\n",
    "if is_palindrome(y):\n",
    "    print('it is palindrome')\n",
    "else:\n",
    "    print('not a palindrome')\n",
    "    "
   ]
  },
  {
   "cell_type": "code",
   "execution_count": 5,
   "id": "808baa59",
   "metadata": {},
   "outputs": [
    {
     "data": {
      "text/plain": [
       "'PYTHON IS A PROGRAMMING LANGUAGE'"
      ]
     },
     "execution_count": 5,
     "metadata": {},
     "output_type": "execute_result"
    }
   ],
   "source": [
    "# 3. Convert a string to uppercase.\n",
    "\n",
    "x1='python is a programming language'\n",
    "x1.upper()"
   ]
  },
  {
   "cell_type": "code",
   "execution_count": 6,
   "id": "f6d3ccd5",
   "metadata": {},
   "outputs": [
    {
     "data": {
      "text/plain": [
       "'hello everyone'"
      ]
     },
     "execution_count": 6,
     "metadata": {},
     "output_type": "execute_result"
    }
   ],
   "source": [
    "# 4. Convert a string to lowercase\n",
    "x2='HELLO Everyone'\n",
    "x2.lower()"
   ]
  },
  {
   "cell_type": "code",
   "execution_count": 1,
   "id": "5212f6e6",
   "metadata": {},
   "outputs": [
    {
     "name": "stdout",
     "output_type": "stream",
     "text": [
      "enter stringpython\n",
      "number of vowels are\n",
      "1\n"
     ]
    }
   ],
   "source": [
    "# 5. Count the number of vowels in a string.\n",
    "text=input('enter string')\n",
    "vowel=0\n",
    "for i in text:\n",
    "    if(i=='a' or i=='e' or i=='i' or i=='o' or i=='u'):\n",
    "        vowel=vowel+1\n",
    "print('number of vowels are')\n",
    "print(vowel)"
   ]
  },
  {
   "cell_type": "code",
   "execution_count": 3,
   "id": "a0d8bda7",
   "metadata": {},
   "outputs": [
    {
     "name": "stdout",
     "output_type": "stream",
     "text": [
      "enter textpython\n",
      "number of consonant are\n",
      "5\n"
     ]
    }
   ],
   "source": [
    "# 6. Count the number of consonants in a string.\n",
    "\n",
    "w=input('enter text')\n",
    "\n",
    "consonant=0\n",
    "for i in w:\n",
    "    if(i!='a' and i!='e' and i!='i' and i!='o' and i!='u'):\n",
    "        consonant=consonant+1\n",
    "print('number of consonant are')\n",
    "print(consonant)\n"
   ]
  },
  {
   "cell_type": "code",
   "execution_count": 4,
   "id": "d083a90f",
   "metadata": {},
   "outputs": [
    {
     "data": {
      "text/plain": [
       "'hi everyone'"
      ]
     },
     "execution_count": 4,
     "metadata": {},
     "output_type": "execute_result"
    }
   ],
   "source": [
    "# 7. Remove all whitespaces from a string.\n",
    "w1='   hi everyone      '\n",
    "w1.strip()"
   ]
  },
  {
   "cell_type": "code",
   "execution_count": 5,
   "id": "d61b5912",
   "metadata": {},
   "outputs": [
    {
     "name": "stdout",
     "output_type": "stream",
     "text": [
      "enter textcoding\n",
      "length of string is\n",
      "6\n"
     ]
    }
   ],
   "source": [
    "# 8. Find the length of a string without using the `len()` function.\n",
    "k=input('enter text')\n",
    "length=0\n",
    "for i in k:\n",
    "    length=length+1\n",
    "print('length of string is') \n",
    "print(length)"
   ]
  },
  {
   "cell_type": "code",
   "execution_count": 6,
   "id": "e8ab6ecf",
   "metadata": {},
   "outputs": [
    {
     "name": "stdout",
     "output_type": "stream",
     "text": [
      "the string contains 'name'\n"
     ]
    }
   ],
   "source": [
    "# 9. Check if a string contains a specific word.\n",
    "\n",
    "data='My name is Krish'\n",
    "if 'name' in data:\n",
    "    print(\"the string contains 'name'\")\n",
    "else:\n",
    "    print('the string does not contain')"
   ]
  },
  {
   "cell_type": "code",
   "execution_count": 7,
   "id": "649d66a1",
   "metadata": {},
   "outputs": [
    {
     "data": {
      "text/plain": [
       "'i like to code in python'"
      ]
     },
     "execution_count": 7,
     "metadata": {},
     "output_type": "execute_result"
    }
   ],
   "source": [
    "# 10. Replace a word in a string with another word.\n",
    "string='i like to code in java'\n",
    "string.replace('java','python')"
   ]
  },
  {
   "cell_type": "code",
   "execution_count": 1,
   "id": "7ccd7a78",
   "metadata": {},
   "outputs": [
    {
     "data": {
      "text/plain": [
       "1"
      ]
     },
     "execution_count": 1,
     "metadata": {},
     "output_type": "execute_result"
    }
   ],
   "source": [
    "# 11. Count the occurrences of a word in a string.\n",
    "k='hello, my name is krish'\n",
    "k.count('k')"
   ]
  },
  {
   "cell_type": "code",
   "execution_count": 14,
   "id": "ae41867b",
   "metadata": {},
   "outputs": [
    {
     "data": {
      "text/plain": [
       "0"
      ]
     },
     "execution_count": 14,
     "metadata": {},
     "output_type": "execute_result"
    }
   ],
   "source": [
    "# 12. Find the first occurrence of a word in a string.\n",
    "string='python is the best coding language . python is easy than any other language.'\n",
    "string.find('python')"
   ]
  },
  {
   "cell_type": "code",
   "execution_count": 15,
   "id": "6d95cca2",
   "metadata": {},
   "outputs": [
    {
     "data": {
      "text/plain": [
       "2"
      ]
     },
     "execution_count": 15,
     "metadata": {},
     "output_type": "execute_result"
    }
   ],
   "source": [
    "# 13. Find the last occurrence of a word in a string.\n",
    "word='this is world. we live in this world '\n",
    "word.count('world')\n"
   ]
  },
  {
   "cell_type": "code",
   "execution_count": 16,
   "id": "0e84be9d",
   "metadata": {},
   "outputs": [
    {
     "data": {
      "text/plain": [
       "['data', 'science', 'include', 'data', 'analytics']"
      ]
     },
     "execution_count": 16,
     "metadata": {},
     "output_type": "execute_result"
    }
   ],
   "source": [
    "# 14. Split a string into a list of words.\n",
    "string='data science include data analytics'\n",
    "string.split()"
   ]
  },
  {
   "cell_type": "code",
   "execution_count": 17,
   "id": "d81df93a",
   "metadata": {},
   "outputs": [
    {
     "data": {
      "text/plain": [
       "'python language is used for data science'"
      ]
     },
     "execution_count": 17,
     "metadata": {},
     "output_type": "execute_result"
    }
   ],
   "source": [
    "# 15. Join a list of words into a string.\n",
    "l=['python','language','is','used','for','data','science']\n",
    "\" \".join(l)"
   ]
  },
  {
   "cell_type": "code",
   "execution_count": 18,
   "id": "e6be9a28",
   "metadata": {},
   "outputs": [
    {
     "data": {
      "text/plain": [
       "'peanut_butter_is_better_than_normal_butter'"
      ]
     },
     "execution_count": 18,
     "metadata": {},
     "output_type": "execute_result"
    }
   ],
   "source": [
    "# 16. Convert a string where words are separated by spaces to one where words are separated by underscores.\n",
    "string='peanut butter is better than normal butter'\n",
    "string.replace(' ','_')\n"
   ]
  },
  {
   "cell_type": "code",
   "execution_count": 19,
   "id": "75cc2c32",
   "metadata": {},
   "outputs": [
    {
     "data": {
      "text/plain": [
       "True"
      ]
     },
     "execution_count": 19,
     "metadata": {},
     "output_type": "execute_result"
    }
   ],
   "source": [
    "# 17. Check if a string starts with a specific word or phrase.\n",
    "string='mobile phones are so expensive'\n",
    "string.startswith('mobile')"
   ]
  },
  {
   "cell_type": "code",
   "execution_count": 20,
   "id": "fc59d454",
   "metadata": {},
   "outputs": [
    {
     "data": {
      "text/plain": [
       "False"
      ]
     },
     "execution_count": 20,
     "metadata": {},
     "output_type": "execute_result"
    }
   ],
   "source": [
    "# 18. Check if a string ends with a specific word or phrase.\n",
    "string='my coding speed is improving'\n",
    "string.endswith('speed')"
   ]
  },
  {
   "cell_type": "code",
   "execution_count": 21,
   "id": "5eecee74",
   "metadata": {},
   "outputs": [
    {
     "data": {
      "text/plain": [
       "'Python Language'"
      ]
     },
     "execution_count": 21,
     "metadata": {},
     "output_type": "execute_result"
    }
   ],
   "source": [
    "# 19. Convert a string to title case (e.g., \"hello world\" to \"Hello World\").\n",
    "data='python language'\n",
    "data.title()"
   ]
  },
  {
   "cell_type": "code",
   "execution_count": 26,
   "id": "d606a5d3",
   "metadata": {},
   "outputs": [
    {
     "data": {
      "text/plain": [
       "'largest'"
      ]
     },
     "execution_count": 26,
     "metadata": {},
     "output_type": "execute_result"
    }
   ],
   "source": [
    "# 20. Find the longest word in a string.\n",
    "w='the largest word in string is with more numbers'\n",
    "l=w.split()\n",
    "max(l,key=len)"
   ]
  },
  {
   "cell_type": "code",
   "execution_count": 29,
   "id": "c4a0cba7",
   "metadata": {},
   "outputs": [
    {
     "data": {
      "text/plain": [
       "'is'"
      ]
     },
     "execution_count": 29,
     "metadata": {},
     "output_type": "execute_result"
    }
   ],
   "source": [
    "# 21. Find the shortest word in a string.\n",
    "string='what is the smallest word'\n",
    "k=string.split()\n",
    "min(k,key=len)"
   ]
  },
  {
   "cell_type": "code",
   "execution_count": 45,
   "id": "1ea77f3b",
   "metadata": {},
   "outputs": [
    {
     "name": "stdout",
     "output_type": "stream",
     "text": [
      "code python by string this reverse\n"
     ]
    }
   ],
   "source": [
    "# 22. Reverse the order of words in a string.\n",
    "rev='reverse this string by python code'\n",
    "l=rev.split()\n",
    "l.reverse()\n",
    "print(\" \".join(l))\n"
   ]
  },
  {
   "cell_type": "code",
   "execution_count": 50,
   "id": "3d376881",
   "metadata": {},
   "outputs": [
    {
     "data": {
      "text/plain": [
       "True"
      ]
     },
     "execution_count": 50,
     "metadata": {},
     "output_type": "execute_result"
    }
   ],
   "source": [
    "# 23. Check if a string is alphanumeric.\n",
    "d='number125'\n",
    "d.isalnum()\n"
   ]
  },
  {
   "cell_type": "code",
   "execution_count": 52,
   "id": "86c5777e",
   "metadata": {},
   "outputs": [
    {
     "data": {
      "text/plain": [
       "\"['4', '6']\""
      ]
     },
     "execution_count": 52,
     "metadata": {},
     "output_type": "execute_result"
    }
   ],
   "source": [
    "# 24. Extract all digits from a string.\n",
    "string='there are 4 people and 6 kids'\n",
    "l=[]\n",
    "x=string.split()\n",
    "for i in x:\n",
    "    if i.isnumeric():\n",
    "        l.append((i))\n",
    "str(l)        "
   ]
  },
  {
   "cell_type": "code",
   "execution_count": 53,
   "id": "5711970a",
   "metadata": {},
   "outputs": [
    {
     "data": {
      "text/plain": [
       "\"['there', 'are', 'rooms']\""
      ]
     },
     "execution_count": 53,
     "metadata": {},
     "output_type": "execute_result"
    }
   ],
   "source": [
    "# 25. Extract all alphabets from a string.\n",
    "string='there are 48 rooms'\n",
    "k=[]\n",
    "x=string.split()\n",
    "for i in x:\n",
    "    if i.isalpha():\n",
    "        k.append((i))\n",
    "str(k)        "
   ]
  },
  {
   "cell_type": "code",
   "execution_count": 54,
   "id": "113742da",
   "metadata": {},
   "outputs": [
    {
     "name": "stdout",
     "output_type": "stream",
     "text": [
      "the number of upper case are 11\n"
     ]
    }
   ],
   "source": [
    "# 26. Count the number of uppercase letters in a string.\n",
    "string='THE laptop i3 is REQUIRED'\n",
    "x=0\n",
    "for i in string:\n",
    "    if(i.isupper()):\n",
    "        x=x+1\n",
    "print('the number of upper case are',x)        "
   ]
  },
  {
   "cell_type": "code",
   "execution_count": 55,
   "id": "6753058e",
   "metadata": {},
   "outputs": [
    {
     "name": "stdout",
     "output_type": "stream",
     "text": [
      "the  number of lower case are 9\n"
     ]
    }
   ],
   "source": [
    "# 27. Count the number of lowercase letters in a string.\n",
    "string='How many are'\n",
    "z=0\n",
    "for i in string:\n",
    "    if(i.islower()):\n",
    "        z=z+1\n",
    "print('the  number of lower case are',z)        "
   ]
  },
  {
   "cell_type": "code",
   "execution_count": 59,
   "id": "a3aee78e",
   "metadata": {},
   "outputs": [
    {
     "data": {
      "text/plain": [
       "'fOR tHESE tYPE oF qUESTION'"
      ]
     },
     "execution_count": 59,
     "metadata": {},
     "output_type": "execute_result"
    }
   ],
   "source": [
    "# 28. Swap the case of each character in a string.\n",
    "string='For These Type Of Question'\n",
    "string.swapcase()"
   ]
  },
  {
   "cell_type": "code",
   "execution_count": 62,
   "id": "fe99f9a0",
   "metadata": {},
   "outputs": [
    {
     "data": {
      "text/plain": [
       "' is coding language'"
      ]
     },
     "execution_count": 62,
     "metadata": {},
     "output_type": "execute_result"
    }
   ],
   "source": [
    "# 29. Remove a specific word from a string.\n",
    "string='python is coding language'\n",
    "string.lstrip('python')"
   ]
  },
  {
   "cell_type": "code",
   "execution_count": 2,
   "id": "d4d0dc1d",
   "metadata": {},
   "outputs": [
    {
     "name": "stdout",
     "output_type": "stream",
     "text": [
      "True   pythoncode@gmail.com\n",
      "False   pythoncode\n"
     ]
    }
   ],
   "source": [
    "# 30. Check if a string is a valid email address.\n",
    "\n",
    "import re\n",
    "\n",
    "def valid_email(email):\n",
    "    pattern = r'^[\\w\\.-]+@[\\w\\.-]+\\.\\w+$' \n",
    "    if re.match(pattern,email):\n",
    "        return True\n",
    "    else:\n",
    "        return False\n",
    "\n",
    "x='pythoncode@gmail.com'\n",
    "y='pythoncode'\n",
    "\n",
    "result1=valid_email(x)\n",
    "result2=valid_email(y)\n",
    "\n",
    "print(result1,\" \",x)\n",
    "print(result2,\" \",y)\n"
   ]
  },
  {
   "cell_type": "code",
   "execution_count": 4,
   "id": "3fd990cf",
   "metadata": {},
   "outputs": [
    {
     "name": "stdout",
     "output_type": "stream",
     "text": [
      "pyhton123\n"
     ]
    }
   ],
   "source": [
    "# 31. Extract the username from an email address string.\n",
    "\n",
    "def extract_username(email):\n",
    "    user_name= email.split('@')[0]\n",
    "    return user_name\n",
    "\n",
    "x='pyhton123@gmail.com'\n",
    "\n",
    "result=extract_username(x)\n",
    "print(result)"
   ]
  },
  {
   "cell_type": "code",
   "execution_count": 6,
   "id": "b8c9e6dd",
   "metadata": {},
   "outputs": [
    {
     "name": "stdout",
     "output_type": "stream",
     "text": [
      "yahoo.com\n"
     ]
    }
   ],
   "source": [
    "# 32. Extract the domain name from an email address string.\n",
    "\n",
    "def domain_name(x):\n",
    "    domain= x.split('@')[1]\n",
    "    return domain\n",
    "\n",
    "z='pyhton232@yahoo.com'\n",
    "\n",
    "result=domain_name(z)\n",
    "print(result)\n",
    "    "
   ]
  },
  {
   "cell_type": "code",
   "execution_count": 7,
   "id": "6c17e8ee",
   "metadata": {},
   "outputs": [
    {
     "name": "stdout",
     "output_type": "stream",
     "text": [
      "pyhton can be coded anywhere\n"
     ]
    }
   ],
   "source": [
    "# 33. Replace multiple spaces in a string with a single space\n",
    "\n",
    "def single_space(y):\n",
    "    clean_string=' '.join(y.split())\n",
    "    return clean_string\n",
    "\n",
    "x='pyhton    can be    coded   anywhere     '\n",
    "\n",
    "result=single_space(x)\n",
    "print(result)"
   ]
  },
  {
   "cell_type": "code",
   "execution_count": 8,
   "id": "339788c7",
   "metadata": {},
   "outputs": [
    {
     "name": "stdout",
     "output_type": "stream",
     "text": [
      "https://www.laptop.com - True\n",
      "laptopistech - False\n"
     ]
    }
   ],
   "source": [
    "# 34. Check if a string is a valid URL.\n",
    "from urllib.parse import urlparse\n",
    "\n",
    "def validation_url(x):\n",
    "    try:\n",
    "        result = urlparse(x)\n",
    "        return all([result.scheme, result.netloc])  \n",
    "    except ValueError:\n",
    "        return False\n",
    "    \n",
    "website1='https://www.laptop.com'\n",
    "website2='laptopistech'\n",
    "\n",
    "result1=validation_url(website1)\n",
    "result2=validation_url(website2)\n",
    "\n",
    "print(website1,\"-\",result1)\n",
    "print(website2,\"-\",result2)\n",
    "    "
   ]
  },
  {
   "cell_type": "code",
   "execution_count": 9,
   "id": "cf0f2db6",
   "metadata": {},
   "outputs": [
    {
     "name": "stdout",
     "output_type": "stream",
     "text": [
      "https\n",
      "http\n"
     ]
    }
   ],
   "source": [
    "# 35. Extract the protocol (http or https) from a URL string.\n",
    "def protocol_url(x):\n",
    "    protocol= x.find(\"://\")\n",
    "\n",
    "    if protocol != -1:\n",
    "        z= x[:protocol]\n",
    "        return z\n",
    "    else:\n",
    "        return None\n",
    "    \n",
    "url1='https://www.google.com'\n",
    "url2='http://www.fake.com'\n",
    "\n",
    "result1=protocol_url(url1)\n",
    "result2=protocol_url(url2)\n",
    "\n",
    "print(result1)\n",
    "print(result2)"
   ]
  },
  {
   "cell_type": "code",
   "execution_count": 1,
   "id": "7e864091",
   "metadata": {},
   "outputs": [],
   "source": [
    "# 36. Find the frequency of each character in a string.\n"
   ]
  },
  {
   "cell_type": "code",
   "execution_count": 2,
   "id": "03eea728",
   "metadata": {},
   "outputs": [
    {
     "name": "stdout",
     "output_type": "stream",
     "text": [
      "Character: 'h', Frequency: 1\n",
      "Character: 'e', Frequency: 1\n",
      "Character: 'l', Frequency: 3\n",
      "Character: 'o', Frequency: 2\n",
      "Character: ' ', Frequency: 1\n",
      "Character: 'w', Frequency: 1\n",
      "Character: 'r', Frequency: 1\n",
      "Character: 'd', Frequency: 1\n"
     ]
    }
   ],
   "source": [
    "def char_string(x):\n",
    "    frequency = {}  \n",
    "\n",
    "    for char in x:\n",
    "        if char in frequency:\n",
    "            frequency[char] += 1  \n",
    "        else:\n",
    "            frequency[char] = 1   \n",
    "\n",
    "    return frequency\n",
    "\n",
    "\n",
    "z = \"hello world\"\n",
    "\n",
    "\n",
    "char_freq = char_string(z)\n",
    "\n",
    "\n",
    "for char, freq in char_freq.items():\n",
    "    print(f\"Character: '{char}', Frequency: {freq}\")"
   ]
  },
  {
   "cell_type": "code",
   "execution_count": 3,
   "id": "6a9a87a1",
   "metadata": {},
   "outputs": [
    {
     "name": "stdout",
     "output_type": "stream",
     "text": [
      "Original string: Hello, world! How's it going?\n",
      "Cleaned string: Hello world Hows it going\n"
     ]
    }
   ],
   "source": [
    "# 37. Remove all punctuation from a string\n",
    "import string\n",
    "\n",
    "def delete_punctuation(x):\n",
    " \n",
    "    translator = str.maketrans(\"\", \"\", string.punctuation)\n",
    "\n",
    "    \n",
    "    clean_string = x.translate(translator)\n",
    "\n",
    "    return clean_string\n",
    "\n",
    "\n",
    "input_str = \"Hello, world! How's it going?\"\n",
    "\n",
    "\n",
    "cleaned_str = delete_punctuation(input_str)\n",
    "\n",
    "\n",
    "print(\"Original string:\", input_str)\n",
    "print(\"Cleaned string:\", cleaned_str)"
   ]
  },
  {
   "cell_type": "code",
   "execution_count": 4,
   "id": "880ed4b9",
   "metadata": {},
   "outputs": [
    {
     "name": "stdout",
     "output_type": "stream",
     "text": [
      "'12345' contains only digits: True\n",
      "'Hello123' contains only digits: False\n",
      "'456.789' contains only digits: False\n"
     ]
    }
   ],
   "source": [
    "# 38. Check if a string contains only digits.\n",
    "def digits_only(x):\n",
    "    return x.isdigit()\n",
    "\n",
    "\n",
    "string1 = \"12345\"\n",
    "string2 = \"Hello123\"\n",
    "string3 = \"456.789\"\n",
    "\n",
    "\n",
    "result1 = digits_only(string1)\n",
    "result2 = digits_only(string2)\n",
    "result3 = digits_only(string3)\n",
    "\n",
    "\n",
    "print(f\"'{string1}' contains only digits:\", result1)\n",
    "print(f\"'{string2}' contains only digits:\", result2)\n",
    "print(f\"'{string3}' contains only digits:\", result3)\n"
   ]
  },
  {
   "cell_type": "code",
   "execution_count": 5,
   "id": "0f0687da",
   "metadata": {},
   "outputs": [
    {
     "name": "stdout",
     "output_type": "stream",
     "text": [
      "'hello' contains only alphabets: True\n",
      "'5684' contains only aplhabtes: False\n",
      "'windows' contains only alphabets: True\n"
     ]
    }
   ],
   "source": [
    "# 39. Check if a string contains only alphabets.\n",
    "def only_alpha(x):\n",
    "    return x.isalpha()\n",
    "\n",
    "inpt1='hello'\n",
    "inpt2='5684'\n",
    "inpt3='windows'\n",
    "\n",
    "reslt1=only_alpha(inpt1)\n",
    "reslt2=only_alpha(inpt2)\n",
    "reslt3=only_alpha(inpt3)\n",
    "\n",
    "print(f\"'{inpt1}' contains only alphabets:\", reslt1)\n",
    "print(f\"'{inpt2}' contains only aplhabtes:\", reslt2)\n",
    "print(f\"'{inpt3}' contains only alphabets:\", reslt3)"
   ]
  },
  {
   "cell_type": "code",
   "execution_count": 6,
   "id": "f97aa439",
   "metadata": {},
   "outputs": [
    {
     "name": "stdout",
     "output_type": "stream",
     "text": [
      "original string python language\n",
      "characters in list ['p', 'y', 't', 'h', 'o', 'n', ' ', 'l', 'a', 'n', 'g', 'u', 'a', 'g', 'e']\n"
     ]
    }
   ],
   "source": [
    "# 40. Convert a string to a list of characters.\n",
    "\n",
    "def convert_list(x):\n",
    "    char=list(x)\n",
    "    return char\n",
    "\n",
    "inpt1='python language'\n",
    "\n",
    "reslt1=convert_list(inpt1)\n",
    "\n",
    "print('original string',inpt1)\n",
    "print('characters in list',reslt1)"
   ]
  },
  {
   "cell_type": "code",
   "execution_count": 8,
   "id": "5a175431",
   "metadata": {},
   "outputs": [
    {
     "name": "stdout",
     "output_type": "stream",
     "text": [
      "'listen' and 'silent' are anagrams: True\n",
      "'hello' and 'world' are anagrams: False\n"
     ]
    }
   ],
   "source": [
    "# 41. Check if two strings are anagrams.\n",
    "def anagrams(str1, str2):\n",
    "    \n",
    "    str1 = str1.replace(\" \", \"\").lower()\n",
    "    str2 = str2.replace(\" \", \"\").lower()\n",
    "\n",
    "    \n",
    "    return sorted(str1) == sorted(str2)\n",
    "\n",
    "\n",
    "string1 = \"listen\"\n",
    "string2 = \"silent\"\n",
    "string3 = \"hello\"\n",
    "string4 = \"world\"\n",
    "\n",
    "\n",
    "result1 = anagrams(string1, string2)\n",
    "result2 = anagrams(string3, string4)\n",
    "\n",
    "\n",
    "print(f\"'{string1}' and '{string2}' are anagrams:\", result1)\n",
    "print(f\"'{string3}' and '{string4}' are anagrams:\", result2)"
   ]
  },
  {
   "cell_type": "code",
   "execution_count": 9,
   "id": "347fab88",
   "metadata": {},
   "outputs": [
    {
     "name": "stdout",
     "output_type": "stream",
     "text": [
      "Encoded text: ehoor, zruog!\n"
     ]
    }
   ],
   "source": [
    "# 42. Encode a string using a Caesar cipher.\n",
    "\n",
    "def caesar_cipher(text, shift):\n",
    "  \n",
    "  \n",
    "\n",
    "  \n",
    "  encoded_text = \"\"\n",
    "\n",
    "  \n",
    "  for char in text:\n",
    "    \n",
    "    if char.isalpha():\n",
    "      \n",
    "    \n",
    "      encoded_char = chr((ord(char) + shift - ord('a')) % 26 + ord('a'))\n",
    "    else:\n",
    "    \n",
    "      encoded_char = char\n",
    "\n",
    "    \n",
    "    encoded_text += encoded_char\n",
    "\n",
    "  \n",
    "  return encoded_text\n",
    "\n",
    "\n",
    "text = \"Hello, world!\"\n",
    "shift = 3\n",
    "\n",
    "\n",
    "encoded_text = caesar_cipher(text, shift)\n",
    "\n",
    "print(\"Encoded text:\", encoded_text)"
   ]
  },
  {
   "cell_type": "code",
   "execution_count": 10,
   "id": "10bf035b",
   "metadata": {},
   "outputs": [
    {
     "name": "stdout",
     "output_type": "stream",
     "text": [
      "Decoded text: ilmm, world!\n"
     ]
    }
   ],
   "source": [
    "# 43. Decode a Caesar cipher encoded string.\n",
    "def caesar_cipher_decoder(text, shift):\n",
    "    \n",
    "\n",
    "  \n",
    "    decoded_text = \"\"\n",
    "\n",
    "  \n",
    "    for char in text:\n",
    "    \n",
    "        if char.isalpha():\n",
    "      \n",
    "            decoded_char = chr((ord(char) - shift - ord('a')) % 26 + ord('a'))\n",
    "        else:\n",
    "          \n",
    "            decoded_char = char\n",
    "\n",
    "      \n",
    "        decoded_text += decoded_char\n",
    "\n",
    "  \n",
    "    return decoded_text\n",
    "\n",
    "\n",
    "text = \"lopp, zruog!\"\n",
    "shift = 3\n",
    "\n",
    "\n",
    "decoded_text = caesar_cipher_decoder(text, shift)\n",
    "\n",
    "\n",
    "print(\"Decoded text:\", decoded_text)"
   ]
  },
  {
   "cell_type": "code",
   "execution_count": 11,
   "id": "ea801b29",
   "metadata": {},
   "outputs": [
    {
     "name": "stdout",
     "output_type": "stream",
     "text": [
      "Most frequent word: hello\n"
     ]
    }
   ],
   "source": [
    "# 44. Find the most frequent word in a string.\n",
    "import re\n",
    "from collections import Counter\n",
    "\n",
    "def most_frequent_word(input_string):\n",
    "\n",
    "    clean_string = re.sub(r'[^\\w\\s]', '', input_string).lower()\n",
    "\n",
    "\n",
    "    words = clean_string.split()\n",
    "\n",
    "   \n",
    "    word_counter = Counter(words)\n",
    "\n",
    "  \n",
    "    most_common_word = word_counter.most_common(1)[0][0]\n",
    "\n",
    "    return most_common_word\n",
    "\n",
    "input_str = \"Hello world, hello there! How's the world?\"\n",
    "\n",
    "\n",
    "most_common = most_frequent_word(input_str)\n",
    "\n",
    "\n",
    "print(\"Most frequent word:\", most_common)"
   ]
  },
  {
   "cell_type": "code",
   "execution_count": 12,
   "id": "45a5c8cc",
   "metadata": {},
   "outputs": [
    {
     "name": "stdout",
     "output_type": "stream",
     "text": [
      "Unique words: {'hello', 'hows', 'the', 'there', 'world'}\n"
     ]
    }
   ],
   "source": [
    "# 45. Find all unique words in a string.\n",
    "import re\n",
    "\n",
    "def unique_words(input_string):\n",
    "    \n",
    "    clean_string = re.sub(r'[^\\w\\s]', '', input_string).lower()\n",
    "\n",
    "    \n",
    "    words = set(clean_string.split())\n",
    "\n",
    "    return words\n",
    "\n",
    "\n",
    "input_str = \"Hello world, hello there! How's the world?\"\n",
    "\n",
    "\n",
    "unique_word_set = unique_words(input_str)\n",
    "\n",
    "\n",
    "print(\"Unique words:\", unique_word_set)"
   ]
  },
  {
   "cell_type": "code",
   "execution_count": 13,
   "id": "55090896",
   "metadata": {},
   "outputs": [
    {
     "name": "stdout",
     "output_type": "stream",
     "text": [
      "'hello' has 2 syllables.\n",
      "'banana' has 3 syllables.\n",
      "'syllable' has 3 syllables.\n"
     ]
    }
   ],
   "source": [
    "# 46. Count the number of syllables in a string.\n",
    "import re\n",
    "\n",
    "def count_syllables(word):\n",
    "    \n",
    "    vowel_groups = re.findall(r'[aeiouy]+', word, re.IGNORECASE)\n",
    "\n",
    "    return len(vowel_groups)\n",
    "\n",
    "\n",
    "word1 = \"hello\"\n",
    "word2 = \"banana\"\n",
    "word3 = \"syllable\"\n",
    "\n",
    "\n",
    "syllables1 = count_syllables(word1)\n",
    "syllables2 = count_syllables(word2)\n",
    "syllables3 = count_syllables(word3)\n",
    "\n",
    "\n",
    "print(f\"'{word1}' has {syllables1} syllables.\")\n",
    "print(f\"'{word2}' has {syllables2} syllables.\")\n",
    "print(f\"'{word3}' has {syllables3} syllables.\")"
   ]
  },
  {
   "cell_type": "code",
   "execution_count": 17,
   "id": "217db343",
   "metadata": {},
   "outputs": [
    {
     "name": "stdout",
     "output_type": "stream",
     "text": [
      "enter textbanana\n",
      "the number of syllables in string: 3\n"
     ]
    }
   ],
   "source": [
    " # or this can be solution\n",
    "string=input('enter text')\n",
    "v=0\n",
    "\n",
    "for i in string:\n",
    "    if(i=='a' or i=='e' or i=='i' or i=='o' or i=='u'):\n",
    "        v=v+1\n",
    "    \n",
    "print('the number of syllables in string:',v)        \n",
    "        "
   ]
  },
  {
   "cell_type": "code",
   "execution_count": 18,
   "id": "1d9afa86",
   "metadata": {},
   "outputs": [
    {
     "name": "stdout",
     "output_type": "stream",
     "text": [
      "'Hello, world!' contains special characters: True\n",
      "'This is a test.' contains special characters: True\n",
      "'Special@Characters' contains special characters: True\n"
     ]
    }
   ],
   "source": [
    "# 47. Check if a string contains any special characters.\n",
    "import re\n",
    "\n",
    "def contains_special_characters(input_string):\n",
    "  \n",
    "    pattern = re.compile(r'[!@#$%^&*()_+{}\\[\\]:;<>,.?~\\\\/]')\n",
    "\n",
    "    \n",
    "    match = pattern.search(input_string)\n",
    "\n",
    "    \n",
    "    return bool(match)\n",
    "\n",
    "\n",
    "string1 = \"Hello, world!\"\n",
    "string2 = \"This is a test.\"\n",
    "string3 = \"Special@Characters\"\n",
    "\n",
    "\n",
    "result1 = contains_special_characters(string1)\n",
    "result2 = contains_special_characters(string2)\n",
    "result3 = contains_special_characters(string3)\n",
    "\n",
    "print(f\"'{string1}' contains special characters:\", result1)\n",
    "print(f\"'{string2}' contains special characters:\", result2)\n",
    "print(f\"'{string3}' contains special characters:\", result3)"
   ]
  },
  {
   "cell_type": "code",
   "execution_count": 19,
   "id": "08f71a5a",
   "metadata": {},
   "outputs": [
    {
     "name": "stdout",
     "output_type": "stream",
     "text": [
      "Original string: This is an example sentence to test the function.\n",
      "Modified string: This is an sentence to test the function.\n",
      "Removed word: example\n"
     ]
    }
   ],
   "source": [
    "# 48. Remove the nth word from a string.\n",
    "def remove_nth_word(input_string, n):\n",
    "\n",
    "    words = input_string.split()\n",
    "\n",
    "  \n",
    "    if n >= 1 and n <= len(words):\n",
    "       \n",
    "        removed_word = words.pop(n - 1)\n",
    "\n",
    "   \n",
    "        modified_string = ' '.join(words)\n",
    "\n",
    "        return modified_string, removed_word\n",
    "    else:\n",
    "        return None, None\n",
    "\n",
    "\n",
    "input_str = \"This is an example sentence to test the function.\"\n",
    "n_value = 4\n",
    "\n",
    "\n",
    "modified_str, removed_word = remove_nth_word(input_str, n_value)\n",
    "\n",
    "\n",
    "print(\"Original string:\", input_str)\n",
    "if modified_str is not None:\n",
    "    print(\"Modified string:\", modified_str)\n",
    "    print(\"Removed word:\", removed_word)\n",
    "else:\n",
    "    print(\"Invalid n value.\")"
   ]
  },
  {
   "cell_type": "code",
   "execution_count": 22,
   "id": "2b20ebe4",
   "metadata": {},
   "outputs": [
    {
     "name": "stdout",
     "output_type": "stream",
     "text": [
      "Original string: This is a test string.\n",
      "Modified string: This is a sample test string.\n"
     ]
    }
   ],
   "source": [
    "# 49. Insert a word at the nth position in a string.\n",
    "def insert_word_at_n(input_string, word_to_insert, n):\n",
    "\n",
    "    words = input_string.split()\n",
    "\n",
    "\n",
    "    if n >= 0 and n <= len(words):\n",
    "       \n",
    "        words.insert(n, word_to_insert)\n",
    "\n",
    "   \n",
    "        modified_string = ' '.join(words)\n",
    "\n",
    "        return modified_string\n",
    "    else:\n",
    "        return None\n",
    "\n",
    "\n",
    "input_str = \"This is a test string.\"\n",
    "word_to_insert = \"sample\"\n",
    "n_value = 3\n",
    "\n",
    "\n",
    "modified_str = insert_word_at_n(input_str, word_to_insert, n_value)\n",
    "\n",
    "print(\"Original string:\", input_str)\n",
    "if modified_str is not None:\n",
    "    print(\"Modified string:\", modified_str)\n",
    "else:\n",
    "    print(\"Invalid n value.\")"
   ]
  },
  {
   "cell_type": "code",
   "execution_count": 23,
   "id": "e68ea246",
   "metadata": {},
   "outputs": [
    {
     "name": "stdout",
     "output_type": "stream",
     "text": [
      "['Name', ' Age', ' Country']\n",
      "['John', ' 25', ' USA']\n",
      "['Alice', ' 30', ' Canada']\n",
      "['Bob', ' 22', ' UK']\n"
     ]
    }
   ],
   "source": [
    "# 50. Convert a CSV string to a list of lists.\n",
    "def csv_string_to_list(csv_string):\n",
    "   \n",
    "    lines = csv_string.split('\\n')\n",
    "\n",
    "   \n",
    "    result = []\n",
    "\n",
    "    for line in lines:\n",
    "       \n",
    "        fields = line.split(',')\n",
    "\n",
    "        \n",
    "        result.append(fields)\n",
    "\n",
    "    return result\n",
    "\n",
    "\n",
    "csv_data = \"Name, Age, Country\\nJohn, 25, USA\\nAlice, 30, Canada\\nBob, 22, UK\"\n",
    "\n",
    "\n",
    "list_of_lists = csv_string_to_list(csv_data)\n",
    "\n",
    "for row in list_of_lists:\n",
    "    print(row)"
   ]
  },
  {
   "cell_type": "markdown",
   "id": "7884c1fd",
   "metadata": {},
   "source": [
    "# List based practice problem :"
   ]
  },
  {
   "cell_type": "code",
   "execution_count": 1,
   "id": "a730a110",
   "metadata": {},
   "outputs": [],
   "source": [
    "# 1. Create a list with integers from 1 to 10."
   ]
  },
  {
   "cell_type": "code",
   "execution_count": 2,
   "id": "054186b3",
   "metadata": {},
   "outputs": [
    {
     "name": "stdout",
     "output_type": "stream",
     "text": [
      "[1, 2, 3, 4, 5, 6, 7, 8, 9, 10]\n"
     ]
    }
   ],
   "source": [
    "x_list=[i for i in range(1,11)]\n",
    "\n",
    "print(x_list)"
   ]
  },
  {
   "cell_type": "code",
   "execution_count": 3,
   "id": "710e002c",
   "metadata": {},
   "outputs": [],
   "source": [
    "# 2. Find the length of a list without using the len() function"
   ]
  },
  {
   "cell_type": "code",
   "execution_count": 4,
   "id": "e404e5ec",
   "metadata": {},
   "outputs": [
    {
     "data": {
      "text/plain": [
       "5"
      ]
     },
     "execution_count": 4,
     "metadata": {},
     "output_type": "execute_result"
    }
   ],
   "source": [
    "def len_list(x):\n",
    "    count=0\n",
    "    for i in x:\n",
    "        count+=1\n",
    "    return count\n",
    "\n",
    "lst=[1,2,3,4,5]\n",
    "len_list(lst)"
   ]
  },
  {
   "cell_type": "code",
   "execution_count": 5,
   "id": "2569cb88",
   "metadata": {},
   "outputs": [],
   "source": [
    "# 3. Append an element to the end of a list."
   ]
  },
  {
   "cell_type": "code",
   "execution_count": 6,
   "id": "60a30c28",
   "metadata": {},
   "outputs": [
    {
     "data": {
      "text/plain": [
       "[5, 10, 15, 20, 25]"
      ]
     },
     "execution_count": 6,
     "metadata": {},
     "output_type": "execute_result"
    }
   ],
   "source": [
    "l=[5,10,15,20]\n",
    "\n",
    "l1=25\n",
    "\n",
    "l.append(l1)\n",
    "\n",
    "l"
   ]
  },
  {
   "cell_type": "code",
   "execution_count": 7,
   "id": "c7da913a",
   "metadata": {},
   "outputs": [],
   "source": [
    "# 4. Insert an element at a specific index in a list."
   ]
  },
  {
   "cell_type": "code",
   "execution_count": 10,
   "id": "0440d5df",
   "metadata": {},
   "outputs": [
    {
     "data": {
      "text/plain": [
       "[1, 2, 3, 4, 5, 6, 7, 8, 9]"
      ]
     },
     "execution_count": 10,
     "metadata": {},
     "output_type": "execute_result"
    }
   ],
   "source": [
    "l=[1,2,3,5,6,7,8,9]\n",
    "\n",
    "l1=4\n",
    "\n",
    "index_num=3\n",
    "\n",
    "l.insert(index_num,l1)\n",
    "l"
   ]
  },
  {
   "cell_type": "code",
   "execution_count": 11,
   "id": "da35f2cc",
   "metadata": {},
   "outputs": [],
   "source": [
    "# 5. Remove an element from a list by its value."
   ]
  },
  {
   "cell_type": "code",
   "execution_count": 12,
   "id": "93f15c73",
   "metadata": {},
   "outputs": [
    {
     "name": "stdout",
     "output_type": "stream",
     "text": [
      "updated list :  [10, 20, 30, 40]\n"
     ]
    }
   ],
   "source": [
    "l=[10,20,30,35,40]\n",
    "\n",
    "remove=35\n",
    "\n",
    "l.remove(remove)\n",
    "\n",
    "print('updated list : ',l)"
   ]
  },
  {
   "cell_type": "code",
   "execution_count": 13,
   "id": "d60a93c6",
   "metadata": {},
   "outputs": [],
   "source": [
    "# 6. Remove an element from a list by its index."
   ]
  },
  {
   "cell_type": "code",
   "execution_count": 14,
   "id": "a737d68b",
   "metadata": {},
   "outputs": [
    {
     "name": "stdout",
     "output_type": "stream",
     "text": [
      "new list :  [10, 20, 30]\n"
     ]
    }
   ],
   "source": [
    "l=[10,12,20,30]\n",
    "\n",
    "index=1\n",
    "\n",
    "l.pop(index)\n",
    "\n",
    "print('new list : ',l)"
   ]
  },
  {
   "cell_type": "code",
   "execution_count": 15,
   "id": "dbb9e02c",
   "metadata": {},
   "outputs": [],
   "source": [
    "# 7. Check if an element exists in a list."
   ]
  },
  {
   "cell_type": "code",
   "execution_count": 16,
   "id": "be09cb03",
   "metadata": {},
   "outputs": [
    {
     "name": "stdout",
     "output_type": "stream",
     "text": [
      "20 exist in list\n"
     ]
    }
   ],
   "source": [
    "l=[10,20,30,40,50,60,70]\n",
    "\n",
    "check=20\n",
    "\n",
    "if check in l:\n",
    "    print(f'{check} exist in list')\n",
    "else:\n",
    "    print(f'{check} does not exist in list')"
   ]
  },
  {
   "cell_type": "code",
   "execution_count": 17,
   "id": "73f24138",
   "metadata": {},
   "outputs": [],
   "source": [
    "# 8. Find the index of the first occurrence of an element in a list."
   ]
  },
  {
   "cell_type": "code",
   "execution_count": 19,
   "id": "6857aa89",
   "metadata": {},
   "outputs": [
    {
     "name": "stdout",
     "output_type": "stream",
     "text": [
      "the index of 4 is 3\n"
     ]
    }
   ],
   "source": [
    "l=[1,2,3,4,5,6,7]\n",
    "\n",
    "element=4\n",
    "\n",
    "index=l.index(4)\n",
    "print(f'the index of {element} is {index}')"
   ]
  },
  {
   "cell_type": "code",
   "execution_count": 20,
   "id": "a5797d9c",
   "metadata": {},
   "outputs": [],
   "source": [
    "# 9. Count the occurrences of an element in a list"
   ]
  },
  {
   "cell_type": "code",
   "execution_count": 21,
   "id": "35ff58f2",
   "metadata": {},
   "outputs": [
    {
     "name": "stdout",
     "output_type": "stream",
     "text": [
      "The 30 repeated 4 times\n"
     ]
    }
   ],
   "source": [
    "l=[10,20,30,30,40,30,50,30]\n",
    "\n",
    "element=30\n",
    "occur=l.count(element)\n",
    "\n",
    "print(f'The {element} repeated {occur} times')"
   ]
  },
  {
   "cell_type": "code",
   "execution_count": 22,
   "id": "5bd4c725",
   "metadata": {},
   "outputs": [],
   "source": [
    "# 10. Reverse the order of elements in a list."
   ]
  },
  {
   "cell_type": "code",
   "execution_count": 24,
   "id": "f79e0ba2",
   "metadata": {},
   "outputs": [
    {
     "data": {
      "text/plain": [
       "[50, 40, 30, 20, 10]"
      ]
     },
     "execution_count": 24,
     "metadata": {},
     "output_type": "execute_result"
    }
   ],
   "source": [
    "l=[10,20,30,40,50]\n",
    "\n",
    "l.reverse()\n",
    "l"
   ]
  },
  {
   "cell_type": "code",
   "execution_count": 26,
   "id": "1e1de27d",
   "metadata": {},
   "outputs": [],
   "source": [
    "# 11. Sort a list in ascending order."
   ]
  },
  {
   "cell_type": "code",
   "execution_count": 27,
   "id": "f0b08b60",
   "metadata": {},
   "outputs": [
    {
     "data": {
      "text/plain": [
       "[5, 10, 30, 40, 50, 60]"
      ]
     },
     "execution_count": 27,
     "metadata": {},
     "output_type": "execute_result"
    }
   ],
   "source": [
    "l=[50,10,30,40,60,5]\n",
    "\n",
    "l.sort()\n",
    "l"
   ]
  },
  {
   "cell_type": "code",
   "execution_count": 29,
   "id": "71fc43b2",
   "metadata": {},
   "outputs": [],
   "source": [
    "# 12. Sort a list in descending order."
   ]
  },
  {
   "cell_type": "code",
   "execution_count": 30,
   "id": "83effc2a",
   "metadata": {},
   "outputs": [
    {
     "data": {
      "text/plain": [
       "[60, 50, 40, 30, 10, 5]"
      ]
     },
     "execution_count": 30,
     "metadata": {},
     "output_type": "execute_result"
    }
   ],
   "source": [
    "l=[50,10,30,40,60,5]\n",
    "\n",
    "l.sort(reverse=True)\n",
    "l"
   ]
  },
  {
   "cell_type": "code",
   "execution_count": 31,
   "id": "44076ec4",
   "metadata": {},
   "outputs": [],
   "source": [
    "# 13. Create a list of even numbers from 1 to 20."
   ]
  },
  {
   "cell_type": "code",
   "execution_count": 32,
   "id": "f7b16e36",
   "metadata": {},
   "outputs": [
    {
     "name": "stdout",
     "output_type": "stream",
     "text": [
      "even numbers :  [2, 4, 6, 8, 10, 12, 14, 16, 18, 20]\n"
     ]
    }
   ],
   "source": [
    "lst=[x for x in range(2,21,2)]\n",
    "\n",
    "print('even numbers : ',lst)"
   ]
  },
  {
   "cell_type": "code",
   "execution_count": 33,
   "id": "fb0fce54",
   "metadata": {},
   "outputs": [],
   "source": [
    "# 14. Create a list of odd numbers from 1 to 20."
   ]
  },
  {
   "cell_type": "code",
   "execution_count": 35,
   "id": "8ff413ae",
   "metadata": {},
   "outputs": [
    {
     "data": {
      "text/plain": [
       "[1, 3, 5, 7, 9, 11, 13, 15, 17, 19]"
      ]
     },
     "execution_count": 35,
     "metadata": {},
     "output_type": "execute_result"
    }
   ],
   "source": [
    "lst=[x for x in range(1,20,2)]\n",
    "lst"
   ]
  },
  {
   "cell_type": "code",
   "execution_count": 36,
   "id": "5bbdf7e9",
   "metadata": {},
   "outputs": [],
   "source": [
    "# 15. Find the sum of all elements in a list."
   ]
  },
  {
   "cell_type": "code",
   "execution_count": 37,
   "id": "a71f27c5",
   "metadata": {},
   "outputs": [
    {
     "data": {
      "text/plain": [
       "100"
      ]
     },
     "execution_count": 37,
     "metadata": {},
     "output_type": "execute_result"
    }
   ],
   "source": [
    "lst=[10,20,30,40]\n",
    "\n",
    "total=sum(lst)\n",
    "\n",
    "total"
   ]
  },
  {
   "cell_type": "code",
   "execution_count": 38,
   "id": "2ad00703",
   "metadata": {},
   "outputs": [],
   "source": [
    "# 16. Find the maximum value in a list."
   ]
  },
  {
   "cell_type": "code",
   "execution_count": 2,
   "id": "58335e60",
   "metadata": {},
   "outputs": [
    {
     "data": {
      "text/plain": [
       "40"
      ]
     },
     "execution_count": 2,
     "metadata": {},
     "output_type": "execute_result"
    }
   ],
   "source": [
    "lst=[10,20,30,40]\n",
    "\n",
    "maximum=max(lst)\n",
    "maximum"
   ]
  },
  {
   "cell_type": "code",
   "execution_count": 3,
   "id": "55940606",
   "metadata": {},
   "outputs": [],
   "source": [
    "# 17. Find the minimum value in a list."
   ]
  },
  {
   "cell_type": "code",
   "execution_count": 4,
   "id": "80d81d91",
   "metadata": {},
   "outputs": [
    {
     "name": "stdout",
     "output_type": "stream",
     "text": [
      "the minimum value is 1\n"
     ]
    }
   ],
   "source": [
    "lst=[100,20,1,23,12]\n",
    "\n",
    "minimum=min(lst)\n",
    "\n",
    "print('the minimum value is',minimum)"
   ]
  },
  {
   "cell_type": "code",
   "execution_count": 5,
   "id": "263b48c8",
   "metadata": {},
   "outputs": [],
   "source": [
    "# 18. Create a list of squares of numbers from 1 to 10."
   ]
  },
  {
   "cell_type": "code",
   "execution_count": 6,
   "id": "d6a132df",
   "metadata": {},
   "outputs": [
    {
     "name": "stdout",
     "output_type": "stream",
     "text": [
      "list of squares [1, 4, 9, 16, 25, 36, 49, 64, 81, 100]\n"
     ]
    }
   ],
   "source": [
    "lst=[x**2 for x in range(1,11)]\n",
    "\n",
    "print('list of squares',lst)"
   ]
  },
  {
   "cell_type": "code",
   "execution_count": 7,
   "id": "4e6dd8e1",
   "metadata": {},
   "outputs": [],
   "source": [
    "# 19. Create a list of random numbers."
   ]
  },
  {
   "cell_type": "code",
   "execution_count": 8,
   "id": "a2f01dfa",
   "metadata": {},
   "outputs": [
    {
     "data": {
      "text/plain": [
       "[28, 50, 1, 35, 10, 50, 22, 24]"
      ]
     },
     "execution_count": 8,
     "metadata": {},
     "output_type": "execute_result"
    }
   ],
   "source": [
    "import random\n",
    "\n",
    "lst=[random.randint(1,50) for i in range(8)]\n",
    "\n",
    "lst"
   ]
  },
  {
   "cell_type": "code",
   "execution_count": 9,
   "id": "f263454a",
   "metadata": {},
   "outputs": [],
   "source": [
    "# 20. Remove duplicate from list"
   ]
  },
  {
   "cell_type": "code",
   "execution_count": 10,
   "id": "2c16d0f8",
   "metadata": {},
   "outputs": [
    {
     "data": {
      "text/plain": [
       "[40, 10, 80, 50, 20, 30]"
      ]
     },
     "execution_count": 10,
     "metadata": {},
     "output_type": "execute_result"
    }
   ],
   "source": [
    "lst=[10,20,30,20,50,40,80,20]\n",
    "\n",
    "unique=list(set(lst))\n",
    "unique"
   ]
  },
  {
   "cell_type": "code",
   "execution_count": 11,
   "id": "f507936a",
   "metadata": {},
   "outputs": [],
   "source": [
    "# 21. Find the common elements between two lists."
   ]
  },
  {
   "cell_type": "code",
   "execution_count": 12,
   "id": "090f9386",
   "metadata": {},
   "outputs": [
    {
     "name": "stdout",
     "output_type": "stream",
     "text": [
      "the common elements between two lists :  [20, 50]\n"
     ]
    }
   ],
   "source": [
    "l1=[10,20,10,30,40,50]\n",
    "\n",
    "l2=[90,80,50,20]\n",
    "\n",
    "common=[i for i in l1 if i in l2]\n",
    "\n",
    "print('the common elements between two lists : ',common)"
   ]
  },
  {
   "cell_type": "code",
   "execution_count": 13,
   "id": "d3a4d57d",
   "metadata": {},
   "outputs": [],
   "source": [
    "# 22. Find the difference between two lists."
   ]
  },
  {
   "cell_type": "code",
   "execution_count": 14,
   "id": "f2b13099",
   "metadata": {},
   "outputs": [
    {
     "name": "stdout",
     "output_type": "stream",
     "text": [
      "element in l1 but not in l2 :  [50, 40, 30]\n"
     ]
    }
   ],
   "source": [
    "l1=[10,20,30,40,50]\n",
    "l2=[10,20,60,70,80]\n",
    "\n",
    "diff=list(set(l1).difference(l2))\n",
    "\n",
    "print('element in l1 but not in l2 : ', diff)"
   ]
  },
  {
   "cell_type": "code",
   "execution_count": 15,
   "id": "28d6e7b6",
   "metadata": {},
   "outputs": [],
   "source": [
    "# 23. Merge two lists."
   ]
  },
  {
   "cell_type": "code",
   "execution_count": 16,
   "id": "d7838dd4",
   "metadata": {},
   "outputs": [
    {
     "name": "stdout",
     "output_type": "stream",
     "text": [
      "merged list:  [1, 2, 3, 4, 3, 4, 5, 6]\n"
     ]
    }
   ],
   "source": [
    "l1=[1,2,3,4]\n",
    "l2=[3,4,5,6]\n",
    "\n",
    "merge_list=l1+l2\n",
    "\n",
    "print('merged list: ',merge_list)"
   ]
  },
  {
   "cell_type": "code",
   "execution_count": 17,
   "id": "b980d396",
   "metadata": {},
   "outputs": [],
   "source": [
    "# 24. Multiply all elements in a list by 2"
   ]
  },
  {
   "cell_type": "code",
   "execution_count": 18,
   "id": "95450a7d",
   "metadata": {},
   "outputs": [
    {
     "data": {
      "text/plain": [
       "[20, 40, 60, 80, 100]"
      ]
     },
     "execution_count": 18,
     "metadata": {},
     "output_type": "execute_result"
    }
   ],
   "source": [
    "l=[10,20,30,40,50]\n",
    "\n",
    "list_2=[x*2 for x in l]\n",
    "\n",
    "list_2"
   ]
  },
  {
   "cell_type": "code",
   "execution_count": 5,
   "id": "a7a03e9a",
   "metadata": {},
   "outputs": [],
   "source": [
    "# 25. Filter out all even numbers from a list"
   ]
  },
  {
   "cell_type": "code",
   "execution_count": 6,
   "id": "7250535c",
   "metadata": {},
   "outputs": [
    {
     "data": {
      "text/plain": [
       "[1, 3, 5, 7, 9]"
      ]
     },
     "execution_count": 6,
     "metadata": {},
     "output_type": "execute_result"
    }
   ],
   "source": [
    "l=[1,2,3,4,5,6,7,8,9]\n",
    "\n",
    "odd_list=[x for x in l if x%2!=0]\n",
    "\n",
    "odd_list"
   ]
  },
  {
   "cell_type": "code",
   "execution_count": 7,
   "id": "a965fe09",
   "metadata": {},
   "outputs": [],
   "source": [
    "# 26. Convert a list of strings to a list of integers."
   ]
  },
  {
   "cell_type": "code",
   "execution_count": 8,
   "id": "de460e31",
   "metadata": {},
   "outputs": [
    {
     "data": {
      "text/plain": [
       "[10, 20, 30, 40, 50]"
      ]
     },
     "execution_count": 8,
     "metadata": {},
     "output_type": "execute_result"
    }
   ],
   "source": [
    "lst=['10','20','30','40','50']\n",
    "\n",
    "integer=[int(x) for x in lst]\n",
    "\n",
    "integer"
   ]
  },
  {
   "cell_type": "code",
   "execution_count": 9,
   "id": "b0b79a3f",
   "metadata": {},
   "outputs": [],
   "source": [
    "# 27. Convert a list of integers to a list of strings."
   ]
  },
  {
   "cell_type": "code",
   "execution_count": 10,
   "id": "9c43a3bd",
   "metadata": {},
   "outputs": [
    {
     "data": {
      "text/plain": [
       "['1', '2', '3', '4', '5', '6', '7', '8', '9']"
      ]
     },
     "execution_count": 10,
     "metadata": {},
     "output_type": "execute_result"
    }
   ],
   "source": [
    "l=[1,2,3,4,5,6,7,8,9]\n",
    "string=[str(x) for x in l]\n",
    "\n",
    "string"
   ]
  },
  {
   "cell_type": "code",
   "execution_count": 11,
   "id": "1d536643",
   "metadata": {},
   "outputs": [],
   "source": [
    "# 28. Flatten a nested list"
   ]
  },
  {
   "cell_type": "code",
   "execution_count": 13,
   "id": "882bc50e",
   "metadata": {},
   "outputs": [
    {
     "data": {
      "text/plain": [
       "[1, 2, 3, 4, 5, 6, 7, 8, 9]"
      ]
     },
     "execution_count": 13,
     "metadata": {},
     "output_type": "execute_result"
    }
   ],
   "source": [
    "def flat_list(x):\n",
    "    flatten_list=[]\n",
    "    \n",
    "    for i in x:\n",
    "        if type(i)==list:\n",
    "            flatten_list+=flat_list(i)\n",
    "            \n",
    "        else:\n",
    "            flatten_list.append(i)\n",
    "    return flatten_list\n",
    "\n",
    "lst=[1,2,3,[4,5,6],[7,8,9]]\n",
    "\n",
    "flat_list(lst)"
   ]
  },
  {
   "cell_type": "code",
   "execution_count": 14,
   "id": "2b7575f2",
   "metadata": {},
   "outputs": [],
   "source": [
    "# 29. Create a list of the first 10 Fibonacci numbers"
   ]
  },
  {
   "cell_type": "code",
   "execution_count": 16,
   "id": "492b4082",
   "metadata": {},
   "outputs": [
    {
     "data": {
      "text/plain": [
       "[0, 1, 1, 2, 3, 5, 8, 13, 21, 34]"
      ]
     },
     "execution_count": 16,
     "metadata": {},
     "output_type": "execute_result"
    }
   ],
   "source": [
    "def fibo(x):\n",
    "    fibo_list=[0,1]\n",
    "    \n",
    "    for i in range(2,x):\n",
    "        next_fib=fibo_list[i-1]+fibo_list[i-2]\n",
    "        fibo_list.append(next_fib)\n",
    "        \n",
    "    return fibo_list\n",
    "\n",
    "fibo(10)\n",
    "    "
   ]
  },
  {
   "cell_type": "code",
   "execution_count": 17,
   "id": "a8e8662c",
   "metadata": {},
   "outputs": [],
   "source": [
    "# 30. Check if a list is sorted."
   ]
  },
  {
   "cell_type": "code",
   "execution_count": 20,
   "id": "7e13cdfa",
   "metadata": {},
   "outputs": [
    {
     "name": "stdout",
     "output_type": "stream",
     "text": [
      "the list is not sorted\n"
     ]
    }
   ],
   "source": [
    "def sort(x):\n",
    "    \n",
    "    for i in range(1,len(x)):\n",
    "        \n",
    "        if x[i] < x[i-1]:\n",
    "            return False\n",
    "        \n",
    "    return True\n",
    "\n",
    "lst=[10,20,30,50,40]\n",
    "\n",
    "if sort(lst):\n",
    "    print('the list is sorted')\n",
    "else:\n",
    "    print('the list is not sorted')"
   ]
  },
  {
   "cell_type": "code",
   "execution_count": 21,
   "id": "0b05447c",
   "metadata": {},
   "outputs": [],
   "source": [
    "# 31. Rotate a list to the left by n positions"
   ]
  },
  {
   "cell_type": "code",
   "execution_count": 23,
   "id": "71900866",
   "metadata": {},
   "outputs": [
    {
     "data": {
      "text/plain": [
       "[3, 4, 5, 6, 1, 2]"
      ]
     },
     "execution_count": 23,
     "metadata": {},
     "output_type": "execute_result"
    }
   ],
   "source": [
    "def rotate(lst,n):\n",
    "    rotated_list=lst[n:]+lst[:n]\n",
    "    return rotated_list\n",
    "\n",
    "rotate([1,2,3,4,5,6],2)"
   ]
  },
  {
   "cell_type": "code",
   "execution_count": 1,
   "id": "d06862a9",
   "metadata": {},
   "outputs": [],
   "source": [
    "# 32. Rotate a list to the right by n positions."
   ]
  },
  {
   "cell_type": "code",
   "execution_count": 4,
   "id": "8b87ab74",
   "metadata": {},
   "outputs": [
    {
     "data": {
      "text/plain": [
       "[6, 1, 2, 3, 4, 5]"
      ]
     },
     "execution_count": 4,
     "metadata": {},
     "output_type": "execute_result"
    }
   ],
   "source": [
    "def rotate_right(lst,n):\n",
    "    right=lst[-n:]+lst[:-n]\n",
    "    return right\n",
    "\n",
    "rotate_right([1,2,3,4,5,6],1)"
   ]
  },
  {
   "cell_type": "code",
   "execution_count": 5,
   "id": "75ea3263",
   "metadata": {},
   "outputs": [],
   "source": [
    "# 33. Create a list of prime numbers up to 50."
   ]
  },
  {
   "cell_type": "code",
   "execution_count": 7,
   "id": "ece1c654",
   "metadata": {},
   "outputs": [
    {
     "data": {
      "text/plain": [
       "[2, 3, 5, 7, 11, 13, 17, 19, 23, 29, 31, 37, 41, 43, 47]"
      ]
     },
     "execution_count": 7,
     "metadata": {},
     "output_type": "execute_result"
    }
   ],
   "source": [
    "def prime_num(n):\n",
    "    prime=[]\n",
    "    for x in range(2,n):\n",
    "        for y in range(2,x):\n",
    "            if x%y==0:\n",
    "                break\n",
    "        else:\n",
    "            prime.append(x)\n",
    "    return prime\n",
    "\n",
    "prime_num(50)\n",
    "                "
   ]
  },
  {
   "cell_type": "code",
   "execution_count": 8,
   "id": "e39ee95c",
   "metadata": {},
   "outputs": [],
   "source": [
    "# 34. Split a list into chunks of size n."
   ]
  },
  {
   "cell_type": "code",
   "execution_count": 9,
   "id": "bc3c7318",
   "metadata": {},
   "outputs": [
    {
     "name": "stdout",
     "output_type": "stream",
     "text": [
      "[[1, 2, 3], [4, 5, 6], [7, 8]]\n"
     ]
    }
   ],
   "source": [
    "def divide_chunks(l, n):\n",
    "    for i in range(0, len(l), n):\n",
    "        yield l[i:i + n]\n",
    "\n",
    "my_list = [1, 2, 3, 4, 5, 6, 7, 8]\n",
    "n = 3\n",
    "x = list(divide_chunks(my_list, n))\n",
    "print(x)\n"
   ]
  },
  {
   "cell_type": "code",
   "execution_count": 10,
   "id": "6080791e",
   "metadata": {},
   "outputs": [],
   "source": [
    "# 35. Find the second largest number in a list."
   ]
  },
  {
   "cell_type": "code",
   "execution_count": 12,
   "id": "8a31b77c",
   "metadata": {},
   "outputs": [
    {
     "name": "stdout",
     "output_type": "stream",
     "text": [
      "second largest number is  30\n"
     ]
    }
   ],
   "source": [
    "lst=[5,1,30,20,25,5,4,40]\n",
    "\n",
    "sort_list=sorted(set(lst))\n",
    "\n",
    "if len(sort_list)>=2:\n",
    "    second_largest=sort_list[-2]\n",
    "    print('second largest number is ',second_largest)"
   ]
  },
  {
   "cell_type": "code",
   "execution_count": 13,
   "id": "e5c1ec8a",
   "metadata": {},
   "outputs": [],
   "source": [
    "# 36. Replace every element in a list with its square"
   ]
  },
  {
   "cell_type": "code",
   "execution_count": 14,
   "id": "24c6f848",
   "metadata": {},
   "outputs": [
    {
     "name": "stdout",
     "output_type": "stream",
     "text": [
      "squared list : [1, 4, 9, 16, 25]\n"
     ]
    }
   ],
   "source": [
    "lst=[1,2,3,4,5]\n",
    "\n",
    "sq_list=[x*x for x in lst]\n",
    "\n",
    "print('squared list :',sq_list)"
   ]
  },
  {
   "cell_type": "code",
   "execution_count": 15,
   "id": "5297ac89",
   "metadata": {},
   "outputs": [],
   "source": [
    "# 37. Convert a list to a dictionary where list elements become keys and their indices become values."
   ]
  },
  {
   "cell_type": "code",
   "execution_count": 17,
   "id": "a1413e79",
   "metadata": {},
   "outputs": [
    {
     "data": {
      "text/plain": [
       "{'apple': 0, 'banana': 1, 'cherry': 2, 'grape': 3}"
      ]
     },
     "execution_count": 17,
     "metadata": {},
     "output_type": "execute_result"
    }
   ],
   "source": [
    "def convert(lst):\n",
    "    return {lst[i]: i for i in range(len(lst))}\n",
    "l1=['apple','banana','cherry','grape']\n",
    "\n",
    "convert(l1)"
   ]
  },
  {
   "cell_type": "code",
   "execution_count": 18,
   "id": "e6e812c1",
   "metadata": {},
   "outputs": [],
   "source": [
    "# 38. Shuffle the elements of a list randomly."
   ]
  },
  {
   "cell_type": "code",
   "execution_count": 20,
   "id": "270601e1",
   "metadata": {},
   "outputs": [
    {
     "data": {
      "text/plain": [
       "[7, 9, 10, 6, 1, 3, 5, 2, 4, 8]"
      ]
     },
     "execution_count": 20,
     "metadata": {},
     "output_type": "execute_result"
    }
   ],
   "source": [
    "import random\n",
    "l1=[1,2,3,4,5,6,7,8,9,10]\n",
    "\n",
    "random.shuffle(l1)\n",
    "l1"
   ]
  },
  {
   "cell_type": "code",
   "execution_count": 21,
   "id": "41dc2da8",
   "metadata": {},
   "outputs": [],
   "source": [
    "# 39. Create a list of the first 10 factorial numbers"
   ]
  },
  {
   "cell_type": "code",
   "execution_count": 23,
   "id": "1d84bdbc",
   "metadata": {},
   "outputs": [
    {
     "name": "stdout",
     "output_type": "stream",
     "text": [
      "list of 10 factorial numbers :  [1, 1, 2, 6, 24, 120, 720, 5040, 40320, 362880]\n"
     ]
    }
   ],
   "source": [
    "def factor(n):\n",
    "    if n==0 or n==1:\n",
    "        return 1\n",
    "    else:\n",
    "        return n*factor(n-1)\n",
    "\n",
    "fact_num=[factor(i) for i in range(10)]\n",
    "\n",
    "print('list of 10 factorial numbers : ',fact_num)"
   ]
  },
  {
   "cell_type": "code",
   "execution_count": 24,
   "id": "1814c00e",
   "metadata": {},
   "outputs": [],
   "source": [
    "# 40. Check if two lists have at least one element in common"
   ]
  },
  {
   "cell_type": "code",
   "execution_count": 25,
   "id": "68874b56",
   "metadata": {},
   "outputs": [
    {
     "name": "stdout",
     "output_type": "stream",
     "text": [
      "It has atleast one item common\n"
     ]
    }
   ],
   "source": [
    "def common_item(l1,l2):\n",
    "    for item in l1:\n",
    "        if item in l2:\n",
    "            return True\n",
    "    return False\n",
    "\n",
    "x=[1,2,3,4,5]\n",
    "y=[4,5,6,7,8]\n",
    "\n",
    "if common_item(x,y):\n",
    "    print('It has atleast one item common')\n",
    "else:\n",
    "    print('No item in common')\n",
    "    \n",
    "        "
   ]
  },
  {
   "cell_type": "code",
   "execution_count": 26,
   "id": "bdae8f16",
   "metadata": {},
   "outputs": [],
   "source": [
    "# 41. Remove all elements from a list"
   ]
  },
  {
   "cell_type": "code",
   "execution_count": 30,
   "id": "b47560eb",
   "metadata": {},
   "outputs": [
    {
     "name": "stdout",
     "output_type": "stream",
     "text": [
      "empty list: []\n"
     ]
    }
   ],
   "source": [
    "lst=[1,2,3,4,5]\n",
    "\n",
    "x=lst.clear()\n",
    "\n",
    "print('empty list:',lst)"
   ]
  },
  {
   "cell_type": "code",
   "execution_count": 31,
   "id": "86fcddfa",
   "metadata": {},
   "outputs": [],
   "source": [
    "# 42. Replace negative numbers in a list with 0."
   ]
  },
  {
   "cell_type": "code",
   "execution_count": 33,
   "id": "12b9d9df",
   "metadata": {},
   "outputs": [
    {
     "data": {
      "text/plain": [
       "[1, 2, 0, 4, 0]"
      ]
     },
     "execution_count": 33,
     "metadata": {},
     "output_type": "execute_result"
    }
   ],
   "source": [
    "l=[1,2,-3,4,-5]\n",
    "\n",
    "for i in l:\n",
    "    if l[i]<0:\n",
    "        l[i]=0\n",
    "l        "
   ]
  },
  {
   "cell_type": "code",
   "execution_count": 34,
   "id": "c9dcb015",
   "metadata": {},
   "outputs": [],
   "source": [
    "# 43. Convert a string into a list of words."
   ]
  },
  {
   "cell_type": "code",
   "execution_count": 37,
   "id": "197e5771",
   "metadata": {},
   "outputs": [
    {
     "name": "stdout",
     "output_type": "stream",
     "text": [
      "list of words ['hello,', 'everyone', 'lets', 'start', 'coding.']\n"
     ]
    }
   ],
   "source": [
    "string='hello, everyone lets start coding.'\n",
    "\n",
    "word=string.split()\n",
    "\n",
    "print('list of words',word)"
   ]
  },
  {
   "cell_type": "code",
   "execution_count": null,
   "id": "13df8d74",
   "metadata": {},
   "outputs": [],
   "source": [
    "# 44. Convert a list of words into a string"
   ]
  },
  {
   "cell_type": "code",
   "execution_count": 38,
   "id": "d75e0558",
   "metadata": {},
   "outputs": [
    {
     "data": {
      "text/plain": [
       "'hello, everyone lets start coding.'"
      ]
     },
     "execution_count": 38,
     "metadata": {},
     "output_type": "execute_result"
    }
   ],
   "source": [
    "splt=['hello,', 'everyone', 'lets', 'start', 'coding.']\n",
    "\n",
    "string1=' '.join(splt)\n",
    "\n",
    "string1"
   ]
  },
  {
   "cell_type": "code",
   "execution_count": 39,
   "id": "053bb0e8",
   "metadata": {},
   "outputs": [],
   "source": [
    "# 45. Create a list of the first n powers of 2."
   ]
  },
  {
   "cell_type": "code",
   "execution_count": 40,
   "id": "ed26a95d",
   "metadata": {},
   "outputs": [
    {
     "data": {
      "text/plain": [
       "[1, 2, 4, 8, 16, 32, 64]"
      ]
     },
     "execution_count": 40,
     "metadata": {},
     "output_type": "execute_result"
    }
   ],
   "source": [
    "n=7\n",
    "\n",
    "power=[2**i for i in range(n)]\n",
    "\n",
    "power"
   ]
  },
  {
   "cell_type": "code",
   "execution_count": 41,
   "id": "014ba994",
   "metadata": {},
   "outputs": [],
   "source": [
    "# 46. Find the longest string in a list of strings"
   ]
  },
  {
   "cell_type": "code",
   "execution_count": 42,
   "id": "ba06ec79",
   "metadata": {},
   "outputs": [
    {
     "data": {
      "text/plain": [
       "'elderberry'"
      ]
     },
     "execution_count": 42,
     "metadata": {},
     "output_type": "execute_result"
    }
   ],
   "source": [
    "string_list = [\"apple\", \"banana\", \"cherry\", \"date\", \"elderberry\"]\n",
    "longest=''\n",
    "for i in string_list:\n",
    "    if len(i)>len(longest):\n",
    "        longest=i\n",
    "longest        "
   ]
  },
  {
   "cell_type": "code",
   "execution_count": 43,
   "id": "3dc7e96a",
   "metadata": {},
   "outputs": [],
   "source": [
    "# 47. Find the shortest string in a list of strings"
   ]
  },
  {
   "cell_type": "code",
   "execution_count": 45,
   "id": "70803ed8",
   "metadata": {},
   "outputs": [
    {
     "data": {
      "text/plain": [
       "'date'"
      ]
     },
     "execution_count": 45,
     "metadata": {},
     "output_type": "execute_result"
    }
   ],
   "source": [
    "string_list = [\"apple\", \"banana\", \"cherry\", \"date\", \"elderberry\"]\n",
    "shortest=string_list[0]\n",
    "\n",
    "for i in string_list:\n",
    "    if len(i)<len(shortest):\n",
    "        shortest=i\n",
    "shortest        \n"
   ]
  },
  {
   "cell_type": "code",
   "execution_count": 46,
   "id": "96cc6724",
   "metadata": {},
   "outputs": [],
   "source": [
    "# 48. Create a list of the first n triangular numbers"
   ]
  },
  {
   "cell_type": "code",
   "execution_count": 47,
   "id": "1161fad8",
   "metadata": {},
   "outputs": [
    {
     "name": "stdout",
     "output_type": "stream",
     "text": [
      "List of the first 5 triangular numbers: [1, 3, 6, 10, 15]\n"
     ]
    }
   ],
   "source": [
    "# Function to calculate triangular numbers\n",
    "def triangular_numbers(n):\n",
    "    return [i * (i + 1) // 2 for i in range(1, n + 1)]\n",
    "\n",
    "# Specify the value of n\n",
    "n = 5\n",
    "\n",
    "# Create a list of the first n triangular numbers\n",
    "triangular_list = triangular_numbers(n)\n",
    "\n",
    "# Print the list of triangular numbers\n",
    "print(\"List of the first\", n, \"triangular numbers:\", triangular_list)"
   ]
  },
  {
   "cell_type": "code",
   "execution_count": 48,
   "id": "85ea6d84",
   "metadata": {},
   "outputs": [],
   "source": [
    "# 49. Check if a list contains another list as a subsequence."
   ]
  },
  {
   "cell_type": "code",
   "execution_count": 50,
   "id": "6ad14097",
   "metadata": {},
   "outputs": [
    {
     "name": "stdout",
     "output_type": "stream",
     "text": [
      "it contains subsequent\n"
     ]
    }
   ],
   "source": [
    "def is_part(sub,main):\n",
    "    sub_index=0\n",
    "    for i in main:\n",
    "        if i ==sub[sub_index]:\n",
    "            sub_index +=1\n",
    "            if sub_index==len(sub):\n",
    "                return True\n",
    "    return False\n",
    "\n",
    "main=[1,2,3,4,5,6,7,8,9,10]\n",
    "sub=[2,9]\n",
    "\n",
    "if is_part(sub,main):\n",
    "    print('it contains subsequent')\n",
    "else:\n",
    "    print('it does not contain subsequent')"
   ]
  },
  {
   "cell_type": "code",
   "execution_count": 51,
   "id": "45b74b07",
   "metadata": {},
   "outputs": [],
   "source": [
    "# 50. Swap two elements in a list by their indices."
   ]
  },
  {
   "cell_type": "code",
   "execution_count": 52,
   "id": "4f6a3018",
   "metadata": {},
   "outputs": [
    {
     "data": {
      "text/plain": [
       "[1, 2, 4, 3, 5]"
      ]
     },
     "execution_count": 52,
     "metadata": {},
     "output_type": "execute_result"
    }
   ],
   "source": [
    "l1=[1,2,3,4,5]\n",
    "\n",
    "index1=2\n",
    "index2=3\n",
    "\n",
    "x=l1[index1]\n",
    "l1[index1]=l1[index2]\n",
    "l1[index2]=x\n",
    "\n",
    "l1"
   ]
  },
  {
   "cell_type": "markdown",
   "id": "c130f261",
   "metadata": {},
   "source": [
    "# Tuple based practice problem :"
   ]
  },
  {
   "cell_type": "code",
   "execution_count": 1,
   "id": "f66e804a",
   "metadata": {},
   "outputs": [],
   "source": [
    "# 1. Create a tuple with integers from 1 to 5."
   ]
  },
  {
   "cell_type": "code",
   "execution_count": 2,
   "id": "be7234c8",
   "metadata": {},
   "outputs": [
    {
     "name": "stdout",
     "output_type": "stream",
     "text": [
      "(1, 2, 3, 4, 5)\n"
     ]
    }
   ],
   "source": [
    "my_tuple=(1,2,3,4,5)\n",
    "\n",
    "print(my_tuple)"
   ]
  },
  {
   "cell_type": "code",
   "execution_count": 3,
   "id": "6c0b1ca7",
   "metadata": {},
   "outputs": [],
   "source": [
    "# 2. Access the third element of a tuple."
   ]
  },
  {
   "cell_type": "code",
   "execution_count": 4,
   "id": "0084b2b2",
   "metadata": {},
   "outputs": [
    {
     "name": "stdout",
     "output_type": "stream",
     "text": [
      "third element: 3\n"
     ]
    }
   ],
   "source": [
    "tupl=(1,2,3,4,5)\n",
    "third=tupl[2]\n",
    "print('third element:',third)"
   ]
  },
  {
   "cell_type": "code",
   "execution_count": 5,
   "id": "6a650ee2",
   "metadata": {},
   "outputs": [],
   "source": [
    "# 3. Find the length of a tuple without using the len() function"
   ]
  },
  {
   "cell_type": "code",
   "execution_count": 7,
   "id": "7aa33590",
   "metadata": {},
   "outputs": [
    {
     "name": "stdout",
     "output_type": "stream",
     "text": [
      "length of x is 8\n"
     ]
    }
   ],
   "source": [
    "x=(1,2,3,4,5,6,7,8)\n",
    "count=0\n",
    "for i in x:\n",
    "    count+=1\n",
    "\n",
    "print('length of x is',count)    \n",
    "    "
   ]
  },
  {
   "cell_type": "code",
   "execution_count": 9,
   "id": "5ac0247e",
   "metadata": {},
   "outputs": [],
   "source": [
    "# 4. Count the occurrences of an element in a tuple."
   ]
  },
  {
   "cell_type": "code",
   "execution_count": 10,
   "id": "652fb9d3",
   "metadata": {},
   "outputs": [
    {
     "name": "stdout",
     "output_type": "stream",
     "text": [
      "The occurence of 20 is 4 times.\n"
     ]
    }
   ],
   "source": [
    "tupl=(10,20,10,20,30,20,40,20)\n",
    "element=20\n",
    "count=0\n",
    "for i in tupl:\n",
    "    if i==element:\n",
    "        count+=1\n",
    "        \n",
    "print(f'The occurence of {element} is {count} times.')        "
   ]
  },
  {
   "cell_type": "code",
   "execution_count": 14,
   "id": "339932bc",
   "metadata": {},
   "outputs": [],
   "source": [
    "# 5. Find the index of the first occurrence of an element in a tuple."
   ]
  },
  {
   "cell_type": "code",
   "execution_count": 15,
   "id": "9be08d2e",
   "metadata": {},
   "outputs": [
    {
     "name": "stdout",
     "output_type": "stream",
     "text": [
      "The index of 5 is 4\n"
     ]
    }
   ],
   "source": [
    "tupl=(1,2,3,4,5,6,7,5,8,9,10)\n",
    "index=None\n",
    "element=5\n",
    "\n",
    "for i in range(len(tupl)):\n",
    "    if tupl[i]==element:\n",
    "        index=i\n",
    "        break\n",
    "        \n",
    "if index is not None:\n",
    "    print(f'The index of {element} is {index}')\n",
    "else:\n",
    "    print('element not found in tuple')"
   ]
  },
  {
   "cell_type": "code",
   "execution_count": 16,
   "id": "da2566dc",
   "metadata": {},
   "outputs": [],
   "source": [
    "# 6. Check if an element exists in a tuple."
   ]
  },
  {
   "cell_type": "code",
   "execution_count": 17,
   "id": "35698c61",
   "metadata": {},
   "outputs": [
    {
     "name": "stdout",
     "output_type": "stream",
     "text": [
      "the 4 exist in tupl\n"
     ]
    }
   ],
   "source": [
    "tupl=(1,2,3,4,5,6,7,8,9,10)\n",
    "\n",
    "element=4\n",
    "\n",
    "if element in tupl:\n",
    "    print(f'the {element} exist in tupl')\n",
    "else:\n",
    "    print('it does not exist')"
   ]
  },
  {
   "cell_type": "code",
   "execution_count": 18,
   "id": "a61afd77",
   "metadata": {},
   "outputs": [],
   "source": [
    "# 7. Convert a tuple to a list."
   ]
  },
  {
   "cell_type": "code",
   "execution_count": 19,
   "id": "be20ccee",
   "metadata": {},
   "outputs": [
    {
     "name": "stdout",
     "output_type": "stream",
     "text": [
      "the conversion in list: [1, 2, 3, 4, 5, 6, 7, 8, 9, 10]\n"
     ]
    }
   ],
   "source": [
    "tupl=(1,2,3,4,5,6,7,8,9,10)\n",
    "lst=list(tupl)\n",
    "\n",
    "print('the conversion in list:',lst)"
   ]
  },
  {
   "cell_type": "code",
   "execution_count": 20,
   "id": "1879f829",
   "metadata": {},
   "outputs": [],
   "source": [
    "# 8. Convert a list to a tuple."
   ]
  },
  {
   "cell_type": "code",
   "execution_count": 21,
   "id": "8101340c",
   "metadata": {},
   "outputs": [
    {
     "name": "stdout",
     "output_type": "stream",
     "text": [
      "the conversion in tuple: (1, 2, 3, 4, 5, 6)\n"
     ]
    }
   ],
   "source": [
    "lst1=[1,2,3,4,5,6]\n",
    "\n",
    "tupl=tuple(lst1)\n",
    "\n",
    "print('the conversion in tuple:',tupl)"
   ]
  },
  {
   "cell_type": "code",
   "execution_count": 22,
   "id": "d86c6bed",
   "metadata": {},
   "outputs": [],
   "source": [
    "# 9. Unpack the elements of a tuple into variables."
   ]
  },
  {
   "cell_type": "code",
   "execution_count": 24,
   "id": "8e2ed268",
   "metadata": {},
   "outputs": [
    {
     "name": "stdout",
     "output_type": "stream",
     "text": [
      "var1:  1\n",
      "var2:  2\n",
      "var3:  3\n"
     ]
    }
   ],
   "source": [
    "tupl=(1,2,3)\n",
    "\n",
    "var1,var2,var3=tupl\n",
    "\n",
    "print('var1: ',var1)\n",
    "print('var2: ',var2)\n",
    "print('var3: ',var3)"
   ]
  },
  {
   "cell_type": "code",
   "execution_count": 25,
   "id": "45e09562",
   "metadata": {},
   "outputs": [],
   "source": [
    "# 10. Create a tuple of even numbers from 1 to 10"
   ]
  },
  {
   "cell_type": "code",
   "execution_count": 26,
   "id": "70e06898",
   "metadata": {},
   "outputs": [
    {
     "name": "stdout",
     "output_type": "stream",
     "text": [
      "(2, 4, 6, 8, 10)\n"
     ]
    }
   ],
   "source": [
    "l1=[num for num in range(2,11,2)]\n",
    "\n",
    "tupl=tuple(l1)\n",
    "print(tupl)"
   ]
  },
  {
   "cell_type": "code",
   "execution_count": 27,
   "id": "16ccb16d",
   "metadata": {},
   "outputs": [],
   "source": [
    "# 11. Create a tuple of odd numbers from 1 to 10."
   ]
  },
  {
   "cell_type": "code",
   "execution_count": 28,
   "id": "72d67b49",
   "metadata": {},
   "outputs": [
    {
     "name": "stdout",
     "output_type": "stream",
     "text": [
      "(1, 3, 5, 7, 9)\n"
     ]
    }
   ],
   "source": [
    "l=[i for i in range(1,10,2)]\n",
    "tupl_odd=tuple(l)\n",
    "\n",
    "print(tupl_odd)"
   ]
  },
  {
   "cell_type": "code",
   "execution_count": null,
   "id": "45101da1",
   "metadata": {},
   "outputs": [],
   "source": [
    "# 12. Concatenate 2 tuples."
   ]
  },
  {
   "cell_type": "code",
   "execution_count": 29,
   "id": "6f651aa9",
   "metadata": {},
   "outputs": [
    {
     "name": "stdout",
     "output_type": "stream",
     "text": [
      "(1, 2, 3, 4, 5, 6)\n"
     ]
    }
   ],
   "source": [
    "t1=(1,2,3)\n",
    "t2=(4,5,6)\n",
    "\n",
    "concatenate=t1+t2\n",
    "print(concatenate)"
   ]
  },
  {
   "cell_type": "code",
   "execution_count": 30,
   "id": "c031bb1d",
   "metadata": {},
   "outputs": [],
   "source": [
    "# 13. Repeat a tuple three times"
   ]
  },
  {
   "cell_type": "code",
   "execution_count": 31,
   "id": "d4cac863",
   "metadata": {},
   "outputs": [
    {
     "name": "stdout",
     "output_type": "stream",
     "text": [
      "(1, 2, 3, 1, 2, 3, 1, 2, 3)\n"
     ]
    }
   ],
   "source": [
    "t1=(1,2,3)\n",
    "repeat=t1*3\n",
    "\n",
    "print(repeat)"
   ]
  },
  {
   "cell_type": "code",
   "execution_count": 32,
   "id": "e5886640",
   "metadata": {},
   "outputs": [],
   "source": [
    "# 14. Check if a tuple is empty"
   ]
  },
  {
   "cell_type": "code",
   "execution_count": 33,
   "id": "61018ff3",
   "metadata": {},
   "outputs": [
    {
     "name": "stdout",
     "output_type": "stream",
     "text": [
      "the tuple is empty\n",
      "the tuple is not empty\n"
     ]
    }
   ],
   "source": [
    "empty=()\n",
    "non_empty=(1,2,3,4,5,6)\n",
    "\n",
    "if not empty:\n",
    "    print('the tuple is empty')\n",
    "else:\n",
    "    print('the tuple is not empty')\n",
    "    \n",
    "if not non_empty:\n",
    "    print('the tuple is empty')\n",
    "else:\n",
    "    print('the tuple is not empty')"
   ]
  },
  {
   "cell_type": "code",
   "execution_count": 34,
   "id": "20cab6b5",
   "metadata": {},
   "outputs": [],
   "source": [
    "# 15. Create a nested tuple"
   ]
  },
  {
   "cell_type": "code",
   "execution_count": 35,
   "id": "f2e7af6c",
   "metadata": {},
   "outputs": [
    {
     "name": "stdout",
     "output_type": "stream",
     "text": [
      "nested tuple:  ((1, 2, 3), ('a', 'b', 'c'), (True, False))\n"
     ]
    }
   ],
   "source": [
    "t=((1,2,3),('a','b','c'),(True,False))\n",
    "print('nested tuple: ',t)"
   ]
  },
  {
   "cell_type": "code",
   "execution_count": 36,
   "id": "a6b3b3b8",
   "metadata": {},
   "outputs": [],
   "source": [
    "# 16. Access the first element of a nested tuple."
   ]
  },
  {
   "cell_type": "code",
   "execution_count": 37,
   "id": "102e7c36",
   "metadata": {},
   "outputs": [
    {
     "data": {
      "text/plain": [
       "(1, 2, 3)"
      ]
     },
     "execution_count": 37,
     "metadata": {},
     "output_type": "execute_result"
    }
   ],
   "source": [
    "t=((1,2,3),('a','b','c'),(True,False))\n",
    "\n",
    "first=t[0]\n",
    "first"
   ]
  },
  {
   "cell_type": "code",
   "execution_count": 38,
   "id": "85e767b5",
   "metadata": {},
   "outputs": [],
   "source": [
    "# 17. Create a tuple with a single element."
   ]
  },
  {
   "cell_type": "code",
   "execution_count": 40,
   "id": "349a938b",
   "metadata": {},
   "outputs": [
    {
     "name": "stdout",
     "output_type": "stream",
     "text": [
      "(1,)\n"
     ]
    }
   ],
   "source": [
    "t1=(1,)\n",
    "\n",
    "print(t1)"
   ]
  },
  {
   "cell_type": "code",
   "execution_count": 44,
   "id": "f7d337f0",
   "metadata": {},
   "outputs": [],
   "source": [
    "# 18. compare two tuples"
   ]
  },
  {
   "cell_type": "code",
   "execution_count": 45,
   "id": "72279e7e",
   "metadata": {},
   "outputs": [
    {
     "name": "stdout",
     "output_type": "stream",
     "text": [
      "tuple1 == tuple2: False\n",
      "tuple1 != tuple2: True\n",
      "tuple1 < tuple2: False\n",
      "tuple1 <= tuple2: False\n",
      "tuple1 > tuple2: True\n",
      "tuple1 >= tuple2: True\n"
     ]
    }
   ],
   "source": [
    "tuple1=(1,4,1)\n",
    "tuple2 = (1, 2, 4)\n",
    "\n",
    "\n",
    "print(\"tuple1 == tuple2:\", tuple1 == tuple2)  \n",
    "print(\"tuple1 != tuple2:\", tuple1 != tuple2)  \n",
    "print(\"tuple1 < tuple2:\", tuple1 < tuple2)   \n",
    "print(\"tuple1 <= tuple2:\", tuple1 <= tuple2)  \n",
    "print(\"tuple1 > tuple2:\", tuple1 > tuple2)    \n",
    "print(\"tuple1 >= tuple2:\", tuple1 >= tuple2) "
   ]
  },
  {
   "cell_type": "code",
   "execution_count": 46,
   "id": "9e1b4bc8",
   "metadata": {},
   "outputs": [],
   "source": [
    "# 19. Delete a tuple."
   ]
  },
  {
   "cell_type": "code",
   "execution_count": 49,
   "id": "44e69de1",
   "metadata": {},
   "outputs": [],
   "source": [
    "tuple1=(1,4,1)\n",
    "\n",
    "del tuple1"
   ]
  },
  {
   "cell_type": "code",
   "execution_count": 50,
   "id": "af1e8e25",
   "metadata": {},
   "outputs": [],
   "source": [
    "# 20. Slice a tuple."
   ]
  },
  {
   "cell_type": "code",
   "execution_count": 52,
   "id": "9adc5c7f",
   "metadata": {},
   "outputs": [
    {
     "name": "stdout",
     "output_type": "stream",
     "text": [
      "slice tuple: (2, 3, 4, 5)\n"
     ]
    }
   ],
   "source": [
    "my_tuple = (1, 2, 3, 4, 5, 6, 7, 8, 9, 10)\n",
    "\n",
    "\n",
    "slice_tuple=my_tuple[1:5]\n",
    "\n",
    "print('slice tuple:',slice_tuple)"
   ]
  },
  {
   "cell_type": "code",
   "execution_count": 53,
   "id": "b6f3d3b8",
   "metadata": {},
   "outputs": [],
   "source": [
    "# 21. Find the maximum value in a tuple"
   ]
  },
  {
   "cell_type": "code",
   "execution_count": 54,
   "id": "8329918b",
   "metadata": {},
   "outputs": [
    {
     "name": "stdout",
     "output_type": "stream",
     "text": [
      "maximum number is  8\n"
     ]
    }
   ],
   "source": [
    "t=(1,2,3,4,5,6,7,8)\n",
    "\n",
    "maximum=max(t)\n",
    "\n",
    "print('maximum number is ',maximum)"
   ]
  },
  {
   "cell_type": "code",
   "execution_count": 55,
   "id": "f98648b9",
   "metadata": {},
   "outputs": [],
   "source": [
    "# 22. Find the minimum value in a tuple."
   ]
  },
  {
   "cell_type": "code",
   "execution_count": 56,
   "id": "279a846c",
   "metadata": {},
   "outputs": [
    {
     "name": "stdout",
     "output_type": "stream",
     "text": [
      "minimum number is  1\n"
     ]
    }
   ],
   "source": [
    "t=(1,2,3,4,5,6,7,8)\n",
    "\n",
    "minimum=min(t)\n",
    "\n",
    "print('minimum number is ',minimum)"
   ]
  },
  {
   "cell_type": "code",
   "execution_count": 57,
   "id": "eaa292f2",
   "metadata": {},
   "outputs": [],
   "source": [
    "# 23. Convert a string to a tuple of characters."
   ]
  },
  {
   "cell_type": "code",
   "execution_count": 58,
   "id": "7d88341c",
   "metadata": {},
   "outputs": [
    {
     "name": "stdout",
     "output_type": "stream",
     "text": [
      "('d', 'a', 't', 'a', ' ', 's', 'c', 'i', 'e', 'n', 'c', 'e')\n"
     ]
    }
   ],
   "source": [
    "string='data science'\n",
    "\n",
    "t=tuple(string)\n",
    "\n",
    "print(t)"
   ]
  },
  {
   "cell_type": "code",
   "execution_count": 59,
   "id": "be380626",
   "metadata": {},
   "outputs": [],
   "source": [
    "# 24. Convert a tuple of characters to a string."
   ]
  },
  {
   "cell_type": "code",
   "execution_count": 63,
   "id": "c65ab619",
   "metadata": {},
   "outputs": [
    {
     "data": {
      "text/plain": [
       "'data science'"
      ]
     },
     "execution_count": 63,
     "metadata": {},
     "output_type": "execute_result"
    }
   ],
   "source": [
    "x=('d', 'a', 't', 'a', ' ', 's', 'c', 'i', 'e', 'n', 'c', 'e')\n",
    "string=''.join(x)\n",
    "string"
   ]
  },
  {
   "cell_type": "code",
   "execution_count": 64,
   "id": "aca812d8",
   "metadata": {},
   "outputs": [],
   "source": [
    "# 25. Create a tuple from multiple data types"
   ]
  },
  {
   "cell_type": "code",
   "execution_count": 65,
   "id": "82e92af9",
   "metadata": {},
   "outputs": [
    {
     "data": {
      "text/plain": [
       "('helo', 20.1, False)"
      ]
     },
     "execution_count": 65,
     "metadata": {},
     "output_type": "execute_result"
    }
   ],
   "source": [
    "tupl=('helo',20.1,False)\n",
    "tupl"
   ]
  },
  {
   "cell_type": "code",
   "execution_count": 66,
   "id": "cdf1f5c8",
   "metadata": {},
   "outputs": [],
   "source": [
    "# 26. Check if two tuples are identical"
   ]
  },
  {
   "cell_type": "code",
   "execution_count": 67,
   "id": "c3d10393",
   "metadata": {},
   "outputs": [
    {
     "name": "stdout",
     "output_type": "stream",
     "text": [
      "are identical : False\n",
      "are identical : True\n"
     ]
    }
   ],
   "source": [
    "x=(1,2,3)\n",
    "y=(2,3,4)\n",
    "z=(1,2,3)\n",
    "\n",
    "same1=x==y\n",
    "same2=x==z\n",
    "\n",
    "print('are identical :',same1)\n",
    "print('are identical :',same2)"
   ]
  },
  {
   "cell_type": "code",
   "execution_count": 68,
   "id": "ab618892",
   "metadata": {},
   "outputs": [],
   "source": [
    "# 27. Sort the elements of a tuple."
   ]
  },
  {
   "cell_type": "code",
   "execution_count": 70,
   "id": "2b2c65e6",
   "metadata": {},
   "outputs": [
    {
     "data": {
      "text/plain": [
       "(0, 1, 2, 3, 3, 5, 9)"
      ]
     },
     "execution_count": 70,
     "metadata": {},
     "output_type": "execute_result"
    }
   ],
   "source": [
    "t=(2,3,1,3,5,9,0)\n",
    "\n",
    "sort=sorted(t)\n",
    "tuple(sort)"
   ]
  },
  {
   "cell_type": "code",
   "execution_count": 71,
   "id": "56c4ec84",
   "metadata": {},
   "outputs": [],
   "source": [
    "# 28. Convert a tuple of integers to a tuple of strings."
   ]
  },
  {
   "cell_type": "code",
   "execution_count": 73,
   "id": "a641fb99",
   "metadata": {},
   "outputs": [
    {
     "data": {
      "text/plain": [
       "('1', '2', '3', '4', '5', '6', '7', '8', '9', '10')"
      ]
     },
     "execution_count": 73,
     "metadata": {},
     "output_type": "execute_result"
    }
   ],
   "source": [
    "t=(1,2,3,4,5,6,7,8,9,10)\n",
    "\n",
    "string=tuple(str(i) for i in t)\n",
    "\n",
    "string"
   ]
  },
  {
   "cell_type": "code",
   "execution_count": 74,
   "id": "5db0f474",
   "metadata": {},
   "outputs": [],
   "source": [
    "# 29. Convert a tuple of strings to a tuple of integers"
   ]
  },
  {
   "cell_type": "code",
   "execution_count": 75,
   "id": "770eaf18",
   "metadata": {},
   "outputs": [
    {
     "data": {
      "text/plain": [
       "(1, 2, 3, 4, 5, 6, 7, 8, 9, 10)"
      ]
     },
     "execution_count": 75,
     "metadata": {},
     "output_type": "execute_result"
    }
   ],
   "source": [
    "t1=('1', '2', '3', '4', '5', '6', '7', '8', '9', '10')\n",
    "\n",
    "integer=tuple(int(i) for i in t1)\n",
    "\n",
    "integer"
   ]
  },
  {
   "cell_type": "code",
   "execution_count": 76,
   "id": "1ad7b228",
   "metadata": {},
   "outputs": [],
   "source": [
    "# 30. Merge two tuples."
   ]
  },
  {
   "cell_type": "code",
   "execution_count": 77,
   "id": "f60acd1c",
   "metadata": {},
   "outputs": [
    {
     "data": {
      "text/plain": [
       "(1, 2, 3, 3, 4, 5)"
      ]
     },
     "execution_count": 77,
     "metadata": {},
     "output_type": "execute_result"
    }
   ],
   "source": [
    "t1=(1,2,3)\n",
    "t2=(3,4,5)\n",
    "\n",
    "merge=t1+t2\n",
    "\n",
    "merge"
   ]
  },
  {
   "cell_type": "code",
   "execution_count": 78,
   "id": "5e980a1c",
   "metadata": {},
   "outputs": [],
   "source": [
    "# 31. Flatten a nested tuple"
   ]
  },
  {
   "cell_type": "code",
   "execution_count": 82,
   "id": "ccc0e76b",
   "metadata": {},
   "outputs": [
    {
     "data": {
      "text/plain": [
       "(1, 2, 3, 4)"
      ]
     },
     "execution_count": 82,
     "metadata": {},
     "output_type": "execute_result"
    }
   ],
   "source": [
    "def flatten_tuple(n):\n",
    "    flat=()\n",
    "    for i in n:\n",
    "        for item in i:\n",
    "            flat+=(item,)\n",
    "    return flat\n",
    "\n",
    "x=((1,2),(3,4))\n",
    "\n",
    "flatten_tuple(x)"
   ]
  },
  {
   "cell_type": "code",
   "execution_count": 83,
   "id": "7fd3e768",
   "metadata": {},
   "outputs": [],
   "source": [
    "# 32. Create a tuple of the first 5 prime numbers."
   ]
  },
  {
   "cell_type": "code",
   "execution_count": 89,
   "id": "5810e1ad",
   "metadata": {},
   "outputs": [
    {
     "data": {
      "text/plain": [
       "(2, 3, 5, 7, 11)"
      ]
     },
     "execution_count": 89,
     "metadata": {},
     "output_type": "execute_result"
    }
   ],
   "source": [
    "def is_prime(x):\n",
    "    if x<2:\n",
    "        return False\n",
    "    for i in range(2,int(x**0.5)+1):\n",
    "        if x%i==0:\n",
    "            return False\n",
    "    return True\n",
    "\n",
    "prime=[]\n",
    "\n",
    "x=2\n",
    "\n",
    "while len(prime)<5:\n",
    "    if is_prime(x):\n",
    "        prime.append(x)\n",
    "    x+=1\n",
    "    \n",
    "t=tuple(prime)\n",
    "t\n",
    "    "
   ]
  },
  {
   "cell_type": "code",
   "execution_count": 91,
   "id": "e5ae216e",
   "metadata": {},
   "outputs": [],
   "source": [
    "# 33. Check if a tuple is a palindrome."
   ]
  },
  {
   "cell_type": "code",
   "execution_count": 92,
   "id": "57f46969",
   "metadata": {},
   "outputs": [
    {
     "name": "stdout",
     "output_type": "stream",
     "text": [
      "Tuple is palindrome\n"
     ]
    }
   ],
   "source": [
    "def is_palindrome(x):\n",
    "    return x==x[::-1]\n",
    "\n",
    "tupl=(1,2,3,2,1)\n",
    "\n",
    "if is_palindrome(tupl):\n",
    "    print('Tuple is palindrome')\n",
    "else:\n",
    "    print('Tuple is not palindrome')\n"
   ]
  },
  {
   "cell_type": "code",
   "execution_count": 93,
   "id": "f18f4dfa",
   "metadata": {},
   "outputs": [],
   "source": [
    "# 34. Create a tuple of squares of numbers from 1 to 5"
   ]
  },
  {
   "cell_type": "code",
   "execution_count": 94,
   "id": "c79b0979",
   "metadata": {},
   "outputs": [
    {
     "data": {
      "text/plain": [
       "(1, 4, 9, 16, 25)"
      ]
     },
     "execution_count": 94,
     "metadata": {},
     "output_type": "execute_result"
    }
   ],
   "source": [
    "tuple_sq=tuple(x**2 for x in range(1,6))\n",
    "\n",
    "tuple_sq"
   ]
  },
  {
   "cell_type": "code",
   "execution_count": 95,
   "id": "9b68ba89",
   "metadata": {},
   "outputs": [],
   "source": [
    "# 35. Filter out all even numbers from a tuple."
   ]
  },
  {
   "cell_type": "code",
   "execution_count": 96,
   "id": "bf08bf76",
   "metadata": {},
   "outputs": [
    {
     "data": {
      "text/plain": [
       "(1, 3, 5, 7, 9)"
      ]
     },
     "execution_count": 96,
     "metadata": {},
     "output_type": "execute_result"
    }
   ],
   "source": [
    "x=(1,2,3,4,5,6,7,8,9,10)\n",
    "\n",
    "odd_num=tuple(i for i in x if i%2!=0)\n",
    "\n",
    "odd_num"
   ]
  },
  {
   "cell_type": "code",
   "execution_count": 97,
   "id": "1b0777a2",
   "metadata": {},
   "outputs": [],
   "source": [
    "# 36. Multiply all elements in a tuple by 2."
   ]
  },
  {
   "cell_type": "code",
   "execution_count": 98,
   "id": "7c26ee4a",
   "metadata": {},
   "outputs": [
    {
     "data": {
      "text/plain": [
       "(2, 4, 6, 8, 10, 12, 14, 16, 18, 20)"
      ]
     },
     "execution_count": 98,
     "metadata": {},
     "output_type": "execute_result"
    }
   ],
   "source": [
    "x=(1,2,3,4,5,6,7,8,9,10)\n",
    "\n",
    "tupl=tuple(i*2 for i in x )\n",
    "\n",
    "tupl"
   ]
  },
  {
   "cell_type": "code",
   "execution_count": 99,
   "id": "ee5c2fda",
   "metadata": {},
   "outputs": [],
   "source": [
    "# 37. Create a tuple of random numbers"
   ]
  },
  {
   "cell_type": "code",
   "execution_count": 102,
   "id": "0bd40bcf",
   "metadata": {},
   "outputs": [
    {
     "data": {
      "text/plain": [
       "(16, 73, 86, 62, 57)"
      ]
     },
     "execution_count": 102,
     "metadata": {},
     "output_type": "execute_result"
    }
   ],
   "source": [
    "import random\n",
    "\n",
    "random=tuple(random.randint(1,100) for i in range(5))\n",
    "\n",
    "random"
   ]
  },
  {
   "cell_type": "code",
   "execution_count": 103,
   "id": "acbb0fec",
   "metadata": {},
   "outputs": [],
   "source": [
    "# 38. Check if a tuple is sorted."
   ]
  },
  {
   "cell_type": "code",
   "execution_count": 107,
   "id": "2f15a5eb",
   "metadata": {},
   "outputs": [
    {
     "name": "stdout",
     "output_type": "stream",
     "text": [
      "tuple is sorted\n"
     ]
    }
   ],
   "source": [
    "t=(1,2,3,4,5)\n",
    "\n",
    "def is_sorted(x):\n",
    "    for i in range(len(x)-1):\n",
    "        if x[i]>x[i+1]:\n",
    "            return False\n",
    "        \n",
    "    return True\n",
    "\n",
    "if is_sorted(t):\n",
    "    print('tuple is sorted')\n",
    "else:\n",
    "    print('tuple is not sorted')\n",
    "    "
   ]
  },
  {
   "cell_type": "code",
   "execution_count": 108,
   "id": "71a6cb54",
   "metadata": {},
   "outputs": [],
   "source": [
    "# 39. Rotate a tuple to the left by n positions"
   ]
  },
  {
   "cell_type": "code",
   "execution_count": 112,
   "id": "ae069976",
   "metadata": {},
   "outputs": [
    {
     "data": {
      "text/plain": [
       "(3, 4, 5, 1, 2)"
      ]
     },
     "execution_count": 112,
     "metadata": {},
     "output_type": "execute_result"
    }
   ],
   "source": [
    "t=(1,2,3,4,5)\n",
    "\n",
    "def left_pos(tup,n):\n",
    "    n=n%len(tup)\n",
    "    left=tup[n:]+tup[:n]\n",
    "    return left\n",
    "n=2\n",
    "\n",
    "result=left_pos(t,n)\n",
    "result\n",
    "    "
   ]
  },
  {
   "cell_type": "code",
   "execution_count": 113,
   "id": "bf2a555f",
   "metadata": {},
   "outputs": [],
   "source": [
    "# 40. Rotate a tuple to the right by n positions."
   ]
  },
  {
   "cell_type": "code",
   "execution_count": 114,
   "id": "fc27c557",
   "metadata": {},
   "outputs": [
    {
     "data": {
      "text/plain": [
       "(4, 5, 1, 2, 3)"
      ]
     },
     "execution_count": 114,
     "metadata": {},
     "output_type": "execute_result"
    }
   ],
   "source": [
    "t=(1,2,3,4,5)\n",
    "\n",
    "def right_pos(tup,n):\n",
    "    n=n%len(tup)\n",
    "    right=tup[-n:]+tup[:-n]\n",
    "    return right\n",
    "n=2\n",
    "\n",
    "right_pos(t,n)\n"
   ]
  },
  {
   "cell_type": "code",
   "execution_count": 1,
   "id": "06c3b710",
   "metadata": {},
   "outputs": [],
   "source": [
    "# 41. Create a tuple of the first 5 Fibonacci numbers."
   ]
  },
  {
   "cell_type": "code",
   "execution_count": 23,
   "id": "b417ab15",
   "metadata": {},
   "outputs": [
    {
     "ename": "TypeError",
     "evalue": "'function' object is not subscriptable",
     "output_type": "error",
     "traceback": [
      "\u001b[1;31m---------------------------------------------------------------------------\u001b[0m",
      "\u001b[1;31mTypeError\u001b[0m                                 Traceback (most recent call last)",
      "Input \u001b[1;32mIn [23]\u001b[0m, in \u001b[0;36m<cell line: 9>\u001b[1;34m()\u001b[0m\n\u001b[0;32m      5\u001b[0m         fib\u001b[38;5;241m.\u001b[39mappend(next_number)\n\u001b[0;32m      6\u001b[0m     \u001b[38;5;28;01mreturn\u001b[39;00m \u001b[38;5;28mtuple\u001b[39m(fib)\n\u001b[1;32m----> 9\u001b[0m \u001b[43mfibonaci\u001b[49m\u001b[43m(\u001b[49m\u001b[38;5;241;43m5\u001b[39;49m\u001b[43m)\u001b[49m\n",
      "Input \u001b[1;32mIn [23]\u001b[0m, in \u001b[0;36mfibonaci\u001b[1;34m(n)\u001b[0m\n\u001b[0;32m      2\u001b[0m fib\u001b[38;5;241m=\u001b[39m[\u001b[38;5;241m0\u001b[39m,\u001b[38;5;241m1\u001b[39m]\n\u001b[0;32m      3\u001b[0m \u001b[38;5;28;01mwhile\u001b[39;00m \u001b[38;5;28mlen\u001b[39m(fib)\u001b[38;5;241m<\u001b[39mn:\n\u001b[1;32m----> 4\u001b[0m     next_number\u001b[38;5;241m=\u001b[39m\u001b[43mfibonaci\u001b[49m\u001b[43m[\u001b[49m\u001b[38;5;241;43m-\u001b[39;49m\u001b[38;5;241;43m1\u001b[39;49m\u001b[43m]\u001b[49m\u001b[38;5;241m+\u001b[39mfibonaci[\u001b[38;5;241m-\u001b[39m\u001b[38;5;241m2\u001b[39m]\n\u001b[0;32m      5\u001b[0m     fib\u001b[38;5;241m.\u001b[39mappend(next_number)\n\u001b[0;32m      6\u001b[0m \u001b[38;5;28;01mreturn\u001b[39;00m \u001b[38;5;28mtuple\u001b[39m(fib)\n",
      "\u001b[1;31mTypeError\u001b[0m: 'function' object is not subscriptable"
     ]
    }
   ],
   "source": [
    "def fibonaci(n):\n",
    "    fib=[0,1]\n",
    "    while len(fib)<n:\n",
    "        next_number=fibonaci[-1]+fibonaci[-2]\n",
    "        fib.append(next_number)\n",
    "    return tuple(fib)\n",
    "\n",
    "\n",
    "fibonaci(5)\n",
    "    "
   ]
  },
  {
   "cell_type": "code",
   "execution_count": 24,
   "id": "90fadc8f",
   "metadata": {},
   "outputs": [],
   "source": [
    "# 42. Create a tuple from user input."
   ]
  },
  {
   "cell_type": "code",
   "execution_count": 26,
   "id": "05818434",
   "metadata": {},
   "outputs": [
    {
     "name": "stdout",
     "output_type": "stream",
     "text": [
      "enter inputhello everyone\n",
      "user input in tuple :  ('h', 'e', 'l', 'l', 'o', ' ', 'e', 'v', 'e', 'r', 'y', 'o', 'n', 'e')\n"
     ]
    }
   ],
   "source": [
    "user=input('enter input')\n",
    "\n",
    "t1=tuple(user)\n",
    "\n",
    "print('user input in tuple : ',t1)"
   ]
  },
  {
   "cell_type": "code",
   "execution_count": 27,
   "id": "0e9af451",
   "metadata": {},
   "outputs": [],
   "source": [
    "# 43. Swap two elements in a tuple."
   ]
  },
  {
   "cell_type": "code",
   "execution_count": 29,
   "id": "bad43c57",
   "metadata": {},
   "outputs": [
    {
     "name": "stdout",
     "output_type": "stream",
     "text": [
      "((5, 4), (7, 6))\n"
     ]
    }
   ],
   "source": [
    "element1=((4,5),(6,7))\n",
    "\n",
    "element2=[(i[1],i[0]) for i in element1]\n",
    "\n",
    "print(tuple(element2))"
   ]
  },
  {
   "cell_type": "code",
   "execution_count": 30,
   "id": "dba9b68b",
   "metadata": {},
   "outputs": [],
   "source": [
    "# 44. Reverse the elements of a tuple."
   ]
  },
  {
   "cell_type": "code",
   "execution_count": 31,
   "id": "792d7f46",
   "metadata": {},
   "outputs": [
    {
     "data": {
      "text/plain": [
       "(5, 4, 3, 2, 1)"
      ]
     },
     "execution_count": 31,
     "metadata": {},
     "output_type": "execute_result"
    }
   ],
   "source": [
    "data=(1,2,3,4,5)\n",
    "\n",
    "reverse=data[::-1]\n",
    "reverse"
   ]
  },
  {
   "cell_type": "code",
   "execution_count": 32,
   "id": "2d07628e",
   "metadata": {},
   "outputs": [],
   "source": [
    "# 45. Create a tuple of the first n powers of 2."
   ]
  },
  {
   "cell_type": "code",
   "execution_count": 34,
   "id": "c323f780",
   "metadata": {},
   "outputs": [
    {
     "name": "stdout",
     "output_type": "stream",
     "text": [
      "enter n : 6\n"
     ]
    },
    {
     "data": {
      "text/plain": [
       "(1, 2, 4, 8, 16, 32)"
      ]
     },
     "execution_count": 34,
     "metadata": {},
     "output_type": "execute_result"
    }
   ],
   "source": [
    "n=int(input('enter n : '))\n",
    "\n",
    "power=tuple(2**i for i in range(n))\n",
    "\n",
    "power"
   ]
  },
  {
   "cell_type": "code",
   "execution_count": 35,
   "id": "11fc2fce",
   "metadata": {},
   "outputs": [],
   "source": [
    "# 46. Find the longest string in a tuple of strings."
   ]
  },
  {
   "cell_type": "code",
   "execution_count": 36,
   "id": "cdcab9c1",
   "metadata": {},
   "outputs": [
    {
     "data": {
      "text/plain": [
       "'watermelon'"
      ]
     },
     "execution_count": 36,
     "metadata": {},
     "output_type": "execute_result"
    }
   ],
   "source": [
    "string_tuple = (\"apple\", \"banana\", \"grape\", \"kiwi\", \"watermelon\")\n",
    "\n",
    "longest=max(string_tuple,key=len)\n",
    "\n",
    "longest"
   ]
  },
  {
   "cell_type": "code",
   "execution_count": 37,
   "id": "096d4360",
   "metadata": {},
   "outputs": [],
   "source": [
    "# 47. Find the shortest string in a tuple of strings."
   ]
  },
  {
   "cell_type": "code",
   "execution_count": 39,
   "id": "a7a9942f",
   "metadata": {},
   "outputs": [
    {
     "data": {
      "text/plain": [
       "'kiwi'"
      ]
     },
     "execution_count": 39,
     "metadata": {},
     "output_type": "execute_result"
    }
   ],
   "source": [
    "string_tuple = (\"apple\", \"banana\", \"grape\", \"kiwi\", \"watermelon\")\n",
    "\n",
    "shortest=min(string_tuple,key=len)\n",
    "\n",
    "shortest"
   ]
  },
  {
   "cell_type": "code",
   "execution_count": 40,
   "id": "e2d655e9",
   "metadata": {},
   "outputs": [],
   "source": [
    "# 48. Create a tuple of the first n triangular numbers."
   ]
  },
  {
   "cell_type": "code",
   "execution_count": 41,
   "id": "a6c9f1c9",
   "metadata": {},
   "outputs": [
    {
     "data": {
      "text/plain": [
       "(1, 3, 6, 10, 15)"
      ]
     },
     "execution_count": 41,
     "metadata": {},
     "output_type": "execute_result"
    }
   ],
   "source": [
    "def triangular_numbers(n: int) -> tuple:\n",
    "    return tuple((i * (i + 1)) // 2 for i in range(1, n + 1))\n",
    "triangular_numbers(5)"
   ]
  },
  {
   "cell_type": "code",
   "execution_count": null,
   "id": "a25a7acd",
   "metadata": {},
   "outputs": [],
   "source": [
    "# 49. Check if a tuple contains another tuple as a subsequence."
   ]
  },
  {
   "cell_type": "code",
   "execution_count": 42,
   "id": "f05971ae",
   "metadata": {},
   "outputs": [
    {
     "name": "stdout",
     "output_type": "stream",
     "text": [
      "Main tuple contains subsequence tuple: True\n"
     ]
    }
   ],
   "source": [
    "def contains_subsequence(main_tuple, sub_tuple):\n",
    "    sub_length = len(sub_tuple)\n",
    "    for i in range(len(main_tuple) - sub_length + 1):\n",
    "        if main_tuple[i:i+sub_length] == sub_tuple:\n",
    "            return True\n",
    "    return False\n",
    "\n",
    "\n",
    "main_tuple = (1, 2, 3, 4, 5, 6, 7, 8, 9)\n",
    "\n",
    "\n",
    "sub_tuple = (3, 4, 5)\n",
    "\n",
    "# Check if the main tuple contains the subsequence tuple\n",
    "contains_subseq = contains_subsequence(main_tuple, sub_tuple)\n",
    "\n",
    "# Print the result\n",
    "print(\"Main tuple contains subsequence tuple:\", contains_subseq)"
   ]
  },
  {
   "cell_type": "code",
   "execution_count": 43,
   "id": "bab6a7c8",
   "metadata": {},
   "outputs": [],
   "source": [
    "# 50. Create a tuple of alternating 1s and 0s of length n."
   ]
  },
  {
   "cell_type": "code",
   "execution_count": 44,
   "id": "cd902e31",
   "metadata": {},
   "outputs": [
    {
     "data": {
      "text/plain": [
       "(0, 1, 0, 1, 0)"
      ]
     },
     "execution_count": 44,
     "metadata": {},
     "output_type": "execute_result"
    }
   ],
   "source": [
    "n=5\n",
    "\n",
    "alternating=tuple(i%2 for i in range(n))\n",
    "alternating"
   ]
  },
  {
   "cell_type": "markdown",
   "id": "0a8c9f74",
   "metadata": {},
   "source": [
    "# Set based problems:"
   ]
  },
  {
   "cell_type": "code",
   "execution_count": 45,
   "id": "2377e0ed",
   "metadata": {},
   "outputs": [],
   "source": [
    "# 1. Create a set with integers from 1 to 5"
   ]
  },
  {
   "cell_type": "code",
   "execution_count": 46,
   "id": "b9917152",
   "metadata": {},
   "outputs": [
    {
     "data": {
      "text/plain": [
       "{1, 2, 3, 4}"
      ]
     },
     "execution_count": 46,
     "metadata": {},
     "output_type": "execute_result"
    }
   ],
   "source": [
    "my_set=set()\n",
    "\n",
    "my_set.add(1)\n",
    "my_set.add(2)\n",
    "my_set.add(3)\n",
    "my_set.add(4)\n",
    "\n",
    "my_set"
   ]
  },
  {
   "cell_type": "code",
   "execution_count": 47,
   "id": "9bc507d1",
   "metadata": {},
   "outputs": [],
   "source": [
    "# 2. Add an element to a set"
   ]
  },
  {
   "cell_type": "code",
   "execution_count": 48,
   "id": "05e9d12c",
   "metadata": {},
   "outputs": [
    {
     "data": {
      "text/plain": [
       "{1, 2, 3, 4, 5, 6}"
      ]
     },
     "execution_count": 48,
     "metadata": {},
     "output_type": "execute_result"
    }
   ],
   "source": [
    "element={1,2,3,4,5}\n",
    "\n",
    "element.add(6)\n",
    "\n",
    "element"
   ]
  },
  {
   "cell_type": "code",
   "execution_count": 49,
   "id": "e8a026cf",
   "metadata": {},
   "outputs": [],
   "source": [
    "# 3. Remove an element from a set."
   ]
  },
  {
   "cell_type": "code",
   "execution_count": 50,
   "id": "b34daef7",
   "metadata": {},
   "outputs": [
    {
     "data": {
      "text/plain": [
       "{1, 2, 3, 4}"
      ]
     },
     "execution_count": 50,
     "metadata": {},
     "output_type": "execute_result"
    }
   ],
   "source": [
    "element={1,2,3,4,5}\n",
    "\n",
    "element.remove(5)\n",
    "\n",
    "element"
   ]
  },
  {
   "cell_type": "code",
   "execution_count": 51,
   "id": "4c3b0dfc",
   "metadata": {},
   "outputs": [],
   "source": [
    "# 4. Check if an element exists in a set."
   ]
  },
  {
   "cell_type": "code",
   "execution_count": 52,
   "id": "68b9f439",
   "metadata": {},
   "outputs": [
    {
     "name": "stdout",
     "output_type": "stream",
     "text": [
      "enter number to check : 4\n",
      "4 exist in {1, 2, 3, 4, 5, 6, 7, 8, 9, 10}\n"
     ]
    }
   ],
   "source": [
    "element={1,2,3,4,5,6,7,8,9,10}\n",
    "\n",
    "check=int(input('enter number to check : '))\n",
    "\n",
    "if check in element:\n",
    "    print(f'{check} exist in {element}')\n",
    "else:\n",
    "    print(f'{check} does not exist in {element}')"
   ]
  },
  {
   "cell_type": "code",
   "execution_count": 1,
   "id": "135c2740",
   "metadata": {},
   "outputs": [],
   "source": [
    "# 5. Find the length of a set without using the len() function"
   ]
  },
  {
   "cell_type": "code",
   "execution_count": 2,
   "id": "4478ad06",
   "metadata": {},
   "outputs": [
    {
     "name": "stdout",
     "output_type": "stream",
     "text": [
      "length of set is  5\n"
     ]
    }
   ],
   "source": [
    "set1={1,2,3,4,5}\n",
    "count=0\n",
    "\n",
    "for i in  set1:\n",
    "    count+=1\n",
    "    \n",
    "print('length of set is ',count) "
   ]
  },
  {
   "cell_type": "code",
   "execution_count": 3,
   "id": "9d4783b0",
   "metadata": {},
   "outputs": [],
   "source": [
    "# 6. Clear all elements from a set."
   ]
  },
  {
   "cell_type": "code",
   "execution_count": 5,
   "id": "422305b3",
   "metadata": {},
   "outputs": [
    {
     "data": {
      "text/plain": [
       "set()"
      ]
     },
     "execution_count": 5,
     "metadata": {},
     "output_type": "execute_result"
    }
   ],
   "source": [
    "set1={1,2,3,4,5}\n",
    "\n",
    "x=set1.clear()\n",
    "\n",
    "set1"
   ]
  },
  {
   "cell_type": "code",
   "execution_count": 6,
   "id": "3931b6c1",
   "metadata": {},
   "outputs": [],
   "source": [
    "# 7. Create a set of even numbers from 1 to 10"
   ]
  },
  {
   "cell_type": "code",
   "execution_count": 7,
   "id": "b9c4871f",
   "metadata": {},
   "outputs": [
    {
     "data": {
      "text/plain": [
       "{2, 4, 6, 8, 10}"
      ]
     },
     "execution_count": 7,
     "metadata": {},
     "output_type": "execute_result"
    }
   ],
   "source": [
    "set1=set()\n",
    "\n",
    "for i in range(1,11):\n",
    "    if i%2==0:\n",
    "        set1.add(i)\n",
    "        \n",
    "set1        "
   ]
  },
  {
   "cell_type": "code",
   "execution_count": 8,
   "id": "d30c477b",
   "metadata": {},
   "outputs": [],
   "source": [
    "# 8. Create a set of odd numbers from 1 to 10"
   ]
  },
  {
   "cell_type": "code",
   "execution_count": 9,
   "id": "1492b101",
   "metadata": {},
   "outputs": [
    {
     "data": {
      "text/plain": [
       "{1, 3, 5, 7, 9}"
      ]
     },
     "execution_count": 9,
     "metadata": {},
     "output_type": "execute_result"
    }
   ],
   "source": [
    "set2=set()\n",
    "\n",
    "for i in range(1,11):\n",
    "    if i%2!=0:\n",
    "        set2.add(i)\n",
    "        \n",
    "set2        "
   ]
  },
  {
   "cell_type": "code",
   "execution_count": 10,
   "id": "56774f41",
   "metadata": {},
   "outputs": [],
   "source": [
    "# 9. Find the union of two sets"
   ]
  },
  {
   "cell_type": "code",
   "execution_count": 11,
   "id": "f95706b8",
   "metadata": {},
   "outputs": [
    {
     "data": {
      "text/plain": [
       "{1, 2, 3, 4, 5, 6, 7, 8, 9}"
      ]
     },
     "execution_count": 11,
     "metadata": {},
     "output_type": "execute_result"
    }
   ],
   "source": [
    "set1={1,2,3,4,5}\n",
    "set2={5,6,7,8,9}\n",
    "\n",
    "union_set=set1.union(set2)\n",
    "\n",
    "union_set"
   ]
  },
  {
   "cell_type": "code",
   "execution_count": 12,
   "id": "498efe57",
   "metadata": {},
   "outputs": [],
   "source": [
    "# 10. Find the intersection of two sets"
   ]
  },
  {
   "cell_type": "code",
   "execution_count": 34,
   "id": "d5ce10a3",
   "metadata": {},
   "outputs": [
    {
     "data": {
      "text/plain": [
       "{3}"
      ]
     },
     "execution_count": 34,
     "metadata": {},
     "output_type": "execute_result"
    }
   ],
   "source": [
    "set1={1,2,3,4,5}\n",
    "set2={3,6,7,8,9}\n",
    "\n",
    "inter=set1.intersection(set2)\n",
    "\n",
    "inter"
   ]
  },
  {
   "cell_type": "code",
   "execution_count": 14,
   "id": "a1f92330",
   "metadata": {},
   "outputs": [],
   "source": [
    "# 11. Find the difference between two sets"
   ]
  },
  {
   "cell_type": "code",
   "execution_count": 15,
   "id": "11e60db6",
   "metadata": {},
   "outputs": [
    {
     "data": {
      "text/plain": [
       "{1, 5}"
      ]
     },
     "execution_count": 15,
     "metadata": {},
     "output_type": "execute_result"
    }
   ],
   "source": [
    "set1={1,2,3,4,5,6}\n",
    "set2={2,3,4,6,7,8,9,10}\n",
    "\n",
    "diff=set1.difference(set2)\n",
    "\n",
    "diff"
   ]
  },
  {
   "cell_type": "code",
   "execution_count": 16,
   "id": "e45d3222",
   "metadata": {},
   "outputs": [],
   "source": [
    "# 12. Check if a set is a subset of another set."
   ]
  },
  {
   "cell_type": "code",
   "execution_count": 18,
   "id": "7fe3d6f3",
   "metadata": {},
   "outputs": [
    {
     "data": {
      "text/plain": [
       "False"
      ]
     },
     "execution_count": 18,
     "metadata": {},
     "output_type": "execute_result"
    }
   ],
   "source": [
    "set1={3,4,5,6,7,8}\n",
    "set2={3,4,5,10,1,2}\n",
    "\n",
    "subset_check=set1.issubset(set2)\n",
    "\n",
    "subset_check"
   ]
  },
  {
   "cell_type": "code",
   "execution_count": 19,
   "id": "827bb85d",
   "metadata": {},
   "outputs": [],
   "source": [
    "# 13. Check if a set is a superset of another set"
   ]
  },
  {
   "cell_type": "code",
   "execution_count": 21,
   "id": "38052820",
   "metadata": {},
   "outputs": [
    {
     "data": {
      "text/plain": [
       "True"
      ]
     },
     "execution_count": 21,
     "metadata": {},
     "output_type": "execute_result"
    }
   ],
   "source": [
    "set1={3,4}\n",
    "set2={3,4,5,6,7,8,9}\n",
    "\n",
    "superset=set2.issuperset(set1)\n",
    "\n",
    "superset"
   ]
  },
  {
   "cell_type": "code",
   "execution_count": 22,
   "id": "ef9cf32c",
   "metadata": {},
   "outputs": [],
   "source": [
    "# 14. Create a set from a list"
   ]
  },
  {
   "cell_type": "code",
   "execution_count": 23,
   "id": "49a75a09",
   "metadata": {},
   "outputs": [
    {
     "data": {
      "text/plain": [
       "{1, 2, 3, 4, 12}"
      ]
     },
     "execution_count": 23,
     "metadata": {},
     "output_type": "execute_result"
    }
   ],
   "source": [
    "lst=[2,1,3,4,12,4,1,2,12]\n",
    "\n",
    "s=set(lst)\n",
    "\n",
    "s"
   ]
  },
  {
   "cell_type": "code",
   "execution_count": null,
   "id": "e0745243",
   "metadata": {},
   "outputs": [],
   "source": [
    "# 15. Create a list from a set"
   ]
  },
  {
   "cell_type": "code",
   "execution_count": 25,
   "id": "17e4efb6",
   "metadata": {},
   "outputs": [
    {
     "data": {
      "text/plain": [
       "[1, 2, 3, 4, 6]"
      ]
     },
     "execution_count": 25,
     "metadata": {},
     "output_type": "execute_result"
    }
   ],
   "source": [
    "my_set={2,1,3,1,2,4,6,4,1}\n",
    "\n",
    "lst=list(my_set)\n",
    "\n",
    "lst"
   ]
  },
  {
   "cell_type": "code",
   "execution_count": 26,
   "id": "fa692c1c",
   "metadata": {},
   "outputs": [],
   "source": [
    "# 16. Remove a random element from a set."
   ]
  },
  {
   "cell_type": "code",
   "execution_count": 28,
   "id": "fd86754c",
   "metadata": {},
   "outputs": [
    {
     "data": {
      "text/plain": [
       "{1, 2, 4, 5}"
      ]
     },
     "execution_count": 28,
     "metadata": {},
     "output_type": "execute_result"
    }
   ],
   "source": [
    "import random\n",
    "\n",
    "set1={1,2,3,4,5}\n",
    "\n",
    "random_element=random.choice(list(set1))\n",
    "\n",
    "set1.remove(random_element)\n",
    "\n",
    "set1"
   ]
  },
  {
   "cell_type": "code",
   "execution_count": 29,
   "id": "b16393b5",
   "metadata": {},
   "outputs": [],
   "source": [
    "# 17. Pop an element from a set."
   ]
  },
  {
   "cell_type": "code",
   "execution_count": 30,
   "id": "5394e65b",
   "metadata": {},
   "outputs": [
    {
     "data": {
      "text/plain": [
       "{2, 3, 4, 5}"
      ]
     },
     "execution_count": 30,
     "metadata": {},
     "output_type": "execute_result"
    }
   ],
   "source": [
    "set1={1,2,3,4,5}\n",
    "\n",
    "pop_element=set1.pop()\n",
    "\n",
    "set1"
   ]
  },
  {
   "cell_type": "code",
   "execution_count": 32,
   "id": "2ce56e99",
   "metadata": {},
   "outputs": [
    {
     "data": {
      "text/plain": [
       "{3, 4, 5}"
      ]
     },
     "execution_count": 32,
     "metadata": {},
     "output_type": "execute_result"
    }
   ],
   "source": [
    "set1.pop()\n",
    "set1"
   ]
  },
  {
   "cell_type": "code",
   "execution_count": 33,
   "id": "edb74805",
   "metadata": {},
   "outputs": [],
   "source": [
    "# 18. Check if two sets have no elements in common"
   ]
  },
  {
   "cell_type": "code",
   "execution_count": 35,
   "id": "cf4c5b39",
   "metadata": {},
   "outputs": [
    {
     "name": "stdout",
     "output_type": "stream",
     "text": [
      "no element in common\n"
     ]
    }
   ],
   "source": [
    "set1={1,2,3,4,5}\n",
    "set2={6,7,8,9,10}\n",
    "\n",
    "common=set1.intersection(set2)\n",
    "\n",
    "if not common:\n",
    "    print('no element in common')\n",
    "else:\n",
    "    print('element in common')"
   ]
  },
  {
   "cell_type": "code",
   "execution_count": 36,
   "id": "7148f6bb",
   "metadata": {},
   "outputs": [],
   "source": [
    "# 19. Find the symmetric difference between two sets."
   ]
  },
  {
   "cell_type": "code",
   "execution_count": 37,
   "id": "4de79162",
   "metadata": {},
   "outputs": [
    {
     "data": {
      "text/plain": [
       "{1, 2, 5, 6, 7, 8, 9, 10}"
      ]
     },
     "execution_count": 37,
     "metadata": {},
     "output_type": "execute_result"
    }
   ],
   "source": [
    "set1={1,2,3,4,5,6}\n",
    "set2={3,4,7,8,9,10}\n",
    "\n",
    "sym_diff=set1^set2\n",
    "\n",
    "sym_diff"
   ]
  },
  {
   "cell_type": "code",
   "execution_count": 38,
   "id": "37fa26a3",
   "metadata": {},
   "outputs": [],
   "source": [
    "# 20. Update a set with elements from another set."
   ]
  },
  {
   "cell_type": "code",
   "execution_count": 39,
   "id": "97616173",
   "metadata": {},
   "outputs": [
    {
     "data": {
      "text/plain": [
       "{1, 2, 3, 4, 5, 6}"
      ]
     },
     "execution_count": 39,
     "metadata": {},
     "output_type": "execute_result"
    }
   ],
   "source": [
    "set1={1,2,3}\n",
    "set2={4,5,6}\n",
    "\n",
    "update=set1.update(set2)\n",
    "\n",
    "set1"
   ]
  },
  {
   "cell_type": "code",
   "execution_count": 40,
   "id": "1224d07b",
   "metadata": {},
   "outputs": [],
   "source": [
    "# 21. Create a set of the first 5 prime numbers."
   ]
  },
  {
   "cell_type": "code",
   "execution_count": 44,
   "id": "f8cbe6d4",
   "metadata": {},
   "outputs": [
    {
     "data": {
      "text/plain": [
       "{2, 3, 5, 7, 11}"
      ]
     },
     "execution_count": 44,
     "metadata": {},
     "output_type": "execute_result"
    }
   ],
   "source": [
    "def is_prime(n):\n",
    "    if n<=1:\n",
    "        return False\n",
    "    for i in range(2,int(n**0.5)+1):\n",
    "        if n%i==0:\n",
    "            return False\n",
    "    return True\n",
    "\n",
    "prime_set=set()\n",
    "num=2\n",
    "while len(prime_set)<5:\n",
    "    if is_prime(num):\n",
    "        prime_set.add(num)\n",
    "        \n",
    "    num+=1\n",
    "    \n",
    "prime_set    "
   ]
  },
  {
   "cell_type": "code",
   "execution_count": 45,
   "id": "85f5ddd4",
   "metadata": {},
   "outputs": [],
   "source": [
    "# 22. Check if two sets are identical."
   ]
  },
  {
   "cell_type": "code",
   "execution_count": 46,
   "id": "d4fe508c",
   "metadata": {},
   "outputs": [
    {
     "name": "stdout",
     "output_type": "stream",
     "text": [
      "sets are identical\n"
     ]
    }
   ],
   "source": [
    "set1={1,2,3,4,5}\n",
    "set2={2,3,5,4,1}\n",
    "\n",
    "if set1==set2:\n",
    "    print('sets are identical')\n",
    "else: \n",
    "    print('sets are not identical')"
   ]
  },
  {
   "cell_type": "code",
   "execution_count": 47,
   "id": "638b46df",
   "metadata": {},
   "outputs": [],
   "source": [
    "# 23. Create a frozen set"
   ]
  },
  {
   "cell_type": "code",
   "execution_count": 50,
   "id": "ba508a2c",
   "metadata": {},
   "outputs": [
    {
     "data": {
      "text/plain": [
       "frozenset({1, 2, 3, 4, 5})"
      ]
     },
     "execution_count": 50,
     "metadata": {},
     "output_type": "execute_result"
    }
   ],
   "source": [
    "set1={1,2,3,4,5}\n",
    "\n",
    "froze=frozenset(set1)\n",
    "\n",
    "froze\n"
   ]
  },
  {
   "cell_type": "code",
   "execution_count": 52,
   "id": "90670a1b",
   "metadata": {},
   "outputs": [],
   "source": [
    "# 24. Check if a set is disjoint with another set"
   ]
  },
  {
   "cell_type": "code",
   "execution_count": 54,
   "id": "246057ef",
   "metadata": {},
   "outputs": [
    {
     "name": "stdout",
     "output_type": "stream",
     "text": [
      "they have no similar items.\n"
     ]
    }
   ],
   "source": [
    "set1={1,2,3,4,5}\n",
    "set2={6,7,8,9,10}\n",
    "\n",
    "check=set1.isdisjoint(set2)\n",
    "\n",
    "if check:\n",
    "    print('they have no similar items.')\n",
    "else:\n",
    "    print('they have similar items.')"
   ]
  },
  {
   "cell_type": "code",
   "execution_count": 55,
   "id": "979805ef",
   "metadata": {},
   "outputs": [],
   "source": [
    "# 25. Create a set of squares of numbers from 1 to 5."
   ]
  },
  {
   "cell_type": "code",
   "execution_count": 58,
   "id": "edd5c242",
   "metadata": {},
   "outputs": [
    {
     "data": {
      "text/plain": [
       "{1, 4, 9, 16, 25}"
      ]
     },
     "execution_count": 58,
     "metadata": {},
     "output_type": "execute_result"
    }
   ],
   "source": [
    "\n",
    "\n",
    "sq=set((i**2 for i in range(1,6)))\n",
    "\n",
    "sq"
   ]
  },
  {
   "cell_type": "code",
   "execution_count": 59,
   "id": "6229c735",
   "metadata": {},
   "outputs": [],
   "source": [
    "# 26. Filter out all even numbers from a set."
   ]
  },
  {
   "cell_type": "code",
   "execution_count": 60,
   "id": "ff3a597c",
   "metadata": {},
   "outputs": [
    {
     "data": {
      "text/plain": [
       "{2, 4}"
      ]
     },
     "execution_count": 60,
     "metadata": {},
     "output_type": "execute_result"
    }
   ],
   "source": [
    "set1={1,2,3,4,5}\n",
    "set2=set()\n",
    "for i in set1:\n",
    "    if i%2==0:\n",
    "        set2.add(i)\n",
    "        \n",
    "set2        "
   ]
  },
  {
   "cell_type": "code",
   "execution_count": 61,
   "id": "751d2fe1",
   "metadata": {},
   "outputs": [],
   "source": [
    "# 27. Multiply all elements in a set by 2."
   ]
  },
  {
   "cell_type": "code",
   "execution_count": 62,
   "id": "67f851a4",
   "metadata": {},
   "outputs": [
    {
     "data": {
      "text/plain": [
       "{2, 4, 6, 8, 10}"
      ]
     },
     "execution_count": 62,
     "metadata": {},
     "output_type": "execute_result"
    }
   ],
   "source": [
    "set1={1,2,3,4,5}\n",
    "\n",
    "multiply=set(i*2 for i in set1)\n",
    "\n",
    "multiply\n"
   ]
  },
  {
   "cell_type": "code",
   "execution_count": 63,
   "id": "f3bea3ad",
   "metadata": {},
   "outputs": [],
   "source": [
    "# 28. Create a set of random numbers."
   ]
  },
  {
   "cell_type": "code",
   "execution_count": 65,
   "id": "9612a5a0",
   "metadata": {},
   "outputs": [
    {
     "data": {
      "text/plain": [
       "{6, 9, 12, 22, 25}"
      ]
     },
     "execution_count": 65,
     "metadata": {},
     "output_type": "execute_result"
    }
   ],
   "source": [
    "import random\n",
    "\n",
    "number=5\n",
    "\n",
    "set_random=set()\n",
    "\n",
    "for i in range(number):\n",
    "    ran=random.randint(1,50)\n",
    "    set_random.add(ran)\n",
    "    \n",
    "set_random    "
   ]
  },
  {
   "cell_type": "code",
   "execution_count": 66,
   "id": "68bd8cff",
   "metadata": {},
   "outputs": [],
   "source": [
    "# 29. Check if a set is empty."
   ]
  },
  {
   "cell_type": "code",
   "execution_count": 67,
   "id": "563c9e02",
   "metadata": {},
   "outputs": [
    {
     "name": "stdout",
     "output_type": "stream",
     "text": [
      "set is empty\n"
     ]
    }
   ],
   "source": [
    "set1={}\n",
    "\n",
    "if not set1:\n",
    "    print('set is empty')\n",
    "else:\n",
    "    print('set is not empty')"
   ]
  },
  {
   "cell_type": "code",
   "execution_count": 68,
   "id": "9805b699",
   "metadata": {},
   "outputs": [],
   "source": [
    "# 30. Create a nested set (hint: use frozenset)."
   ]
  },
  {
   "cell_type": "code",
   "execution_count": 69,
   "id": "7fec85a7",
   "metadata": {},
   "outputs": [
    {
     "data": {
      "text/plain": [
       "{frozenset({1, 2, 3, 4, 5}), frozenset({6, 7, 8, 9, 10})}"
      ]
     },
     "execution_count": 69,
     "metadata": {},
     "output_type": "execute_result"
    }
   ],
   "source": [
    "set1={1,2,3,4,5}\n",
    "set2={6,7,8,9,10}\n",
    "\n",
    "froze1=frozenset(set1)\n",
    "froze2=frozenset(set2)\n",
    "\n",
    "nested={froze1,froze2}\n",
    "\n",
    "nested"
   ]
  },
  {
   "cell_type": "code",
   "execution_count": 70,
   "id": "1f448b25",
   "metadata": {},
   "outputs": [],
   "source": [
    "# 31. Remove an element from a set using the discard method."
   ]
  },
  {
   "cell_type": "code",
   "execution_count": 71,
   "id": "5c896587",
   "metadata": {},
   "outputs": [
    {
     "data": {
      "text/plain": [
       "{1, 3, 4, 5}"
      ]
     },
     "execution_count": 71,
     "metadata": {},
     "output_type": "execute_result"
    }
   ],
   "source": [
    "set1={1,2,3,4,5}\n",
    "\n",
    "set1.discard(2)\n",
    "\n",
    "set1"
   ]
  },
  {
   "cell_type": "code",
   "execution_count": 73,
   "id": "0ca9f93f",
   "metadata": {},
   "outputs": [],
   "source": [
    "# 32. compare two sets"
   ]
  },
  {
   "cell_type": "code",
   "execution_count": 80,
   "id": "517d41ff",
   "metadata": {},
   "outputs": [
    {
     "name": "stdout",
     "output_type": "stream",
     "text": [
      "False\n",
      "False\n",
      "{1, 2, 3, 4, 5, 6, 7, 8}\n",
      "{1, 2, 3}\n",
      "{8, 6, 7}\n"
     ]
    }
   ],
   "source": [
    "set1={1,2,3,4,5}\n",
    "set2={4,5,6,7,8}\n",
    "\n",
    "print(set1.issubset(set2))\n",
    "print(set2.issubset(set1))\n",
    "print(set1.union(set2))\n",
    "print(set1.difference(set2))\n",
    "print(set2.difference(set1))\n"
   ]
  },
  {
   "cell_type": "code",
   "execution_count": 81,
   "id": "700ac591",
   "metadata": {},
   "outputs": [],
   "source": [
    "# 33. Create a set from a string"
   ]
  },
  {
   "cell_type": "code",
   "execution_count": 82,
   "id": "fbd23e1a",
   "metadata": {},
   "outputs": [
    {
     "data": {
      "text/plain": [
       "{' ', 'a', 'c', 'd', 'e', 'i', 'n', 's', 't'}"
      ]
     },
     "execution_count": 82,
     "metadata": {},
     "output_type": "execute_result"
    }
   ],
   "source": [
    "string='data science'\n",
    "\n",
    "set1=set(string)\n",
    "\n",
    "set1"
   ]
  },
  {
   "cell_type": "code",
   "execution_count": 83,
   "id": "6df75480",
   "metadata": {},
   "outputs": [],
   "source": [
    "# 34. Convert a set of strings to a set of integers"
   ]
  },
  {
   "cell_type": "code",
   "execution_count": 86,
   "id": "c995db9e",
   "metadata": {},
   "outputs": [
    {
     "data": {
      "text/plain": [
       "{101, 123, 212}"
      ]
     },
     "execution_count": 86,
     "metadata": {},
     "output_type": "execute_result"
    }
   ],
   "source": [
    "string={'123','212','101'}\n",
    "\n",
    "int_set=set()\n",
    "\n",
    "for i in string:\n",
    "    value=int(i)\n",
    "    int_set.add(value)\n",
    "int_set    "
   ]
  },
  {
   "cell_type": "code",
   "execution_count": 87,
   "id": "07a1f104",
   "metadata": {},
   "outputs": [],
   "source": [
    "# 35. Convert a set of integers to a set of strings"
   ]
  },
  {
   "cell_type": "code",
   "execution_count": 88,
   "id": "98afd63f",
   "metadata": {},
   "outputs": [
    {
     "data": {
      "text/plain": [
       "{'101', '123', '212'}"
      ]
     },
     "execution_count": 88,
     "metadata": {},
     "output_type": "execute_result"
    }
   ],
   "source": [
    "set_int={101, 123, 212}\n",
    "string=set()\n",
    "for  i in set_int:\n",
    "    val=str(i)\n",
    "    string.add(val)\n",
    "    \n",
    "string    "
   ]
  },
  {
   "cell_type": "code",
   "execution_count": 89,
   "id": "d022b34b",
   "metadata": {},
   "outputs": [],
   "source": [
    "# 36. Create a set from a tuple"
   ]
  },
  {
   "cell_type": "code",
   "execution_count": 90,
   "id": "0897c680",
   "metadata": {},
   "outputs": [
    {
     "data": {
      "text/plain": [
       "{1, 2, 3, 4, 5, 6}"
      ]
     },
     "execution_count": 90,
     "metadata": {},
     "output_type": "execute_result"
    }
   ],
   "source": [
    "t=(1,2,1,3,4,5,1,2,6)\n",
    "\n",
    "set_t=set(t)\n",
    "\n",
    "set_t"
   ]
  },
  {
   "cell_type": "code",
   "execution_count": 91,
   "id": "bc057ddc",
   "metadata": {},
   "outputs": [],
   "source": [
    "# 37. Convert a set to a tuple."
   ]
  },
  {
   "cell_type": "code",
   "execution_count": 92,
   "id": "5bdc054f",
   "metadata": {},
   "outputs": [
    {
     "data": {
      "text/plain": [
       "(1, 2, 3, 4, 5)"
      ]
     },
     "execution_count": 92,
     "metadata": {},
     "output_type": "execute_result"
    }
   ],
   "source": [
    "set_t={1,2,4,1,3,5,2}\n",
    "\n",
    "tupl=tuple(set_t)\n",
    "tupl"
   ]
  },
  {
   "cell_type": "code",
   "execution_count": 94,
   "id": "c65c7a87",
   "metadata": {},
   "outputs": [],
   "source": [
    "# 38. Find the maximum value in a set."
   ]
  },
  {
   "cell_type": "code",
   "execution_count": 96,
   "id": "99ba8c7d",
   "metadata": {},
   "outputs": [
    {
     "data": {
      "text/plain": [
       "80"
      ]
     },
     "execution_count": 96,
     "metadata": {},
     "output_type": "execute_result"
    }
   ],
   "source": [
    "set1={20,1,13,70,80}\n",
    "\n",
    "max_value= None\n",
    "\n",
    "for i in set1:\n",
    "    if max_value==None or i>max_value:\n",
    "        max_value=i\n",
    "max_value        "
   ]
  },
  {
   "cell_type": "code",
   "execution_count": 97,
   "id": "16ca3de0",
   "metadata": {},
   "outputs": [],
   "source": [
    "# 39. Find the minimum value in a set."
   ]
  },
  {
   "cell_type": "code",
   "execution_count": 98,
   "id": "0de1d8df",
   "metadata": {},
   "outputs": [
    {
     "data": {
      "text/plain": [
       "1"
      ]
     },
     "execution_count": 98,
     "metadata": {},
     "output_type": "execute_result"
    }
   ],
   "source": [
    "set1={20,1,13,70,80}\n",
    "\n",
    "minimum=None\n",
    "\n",
    "for i in set1:\n",
    "    if minimum==None or i<minimum:\n",
    "        minimum=i\n",
    "minimum        "
   ]
  },
  {
   "cell_type": "code",
   "execution_count": 99,
   "id": "a6d16e72",
   "metadata": {},
   "outputs": [],
   "source": [
    "# 40. Create a set from user input"
   ]
  },
  {
   "cell_type": "code",
   "execution_count": 100,
   "id": "f69a9d98",
   "metadata": {},
   "outputs": [
    {
     "name": "stdout",
     "output_type": "stream",
     "text": [
      "type done when finish writing input\n",
      "enterhello data courses done\n",
      "enterdone\n"
     ]
    },
    {
     "data": {
      "text/plain": [
       "{'hello data courses done'}"
      ]
     },
     "execution_count": 100,
     "metadata": {},
     "output_type": "execute_result"
    }
   ],
   "source": [
    "user_Set=set()\n",
    "print('type done when finish writing input')\n",
    "while True:\n",
    "    user_input=input('enter')\n",
    "    if user_input=='done':\n",
    "        break\n",
    "        \n",
    "    user_Set.add(user_input)\n",
    "    \n",
    "user_Set    \n",
    "    "
   ]
  },
  {
   "cell_type": "code",
   "execution_count": 101,
   "id": "6ed6d498",
   "metadata": {},
   "outputs": [],
   "source": [
    "# 41. Check if the intersection of two sets is empty."
   ]
  },
  {
   "cell_type": "code",
   "execution_count": 102,
   "id": "e6907b62",
   "metadata": {},
   "outputs": [
    {
     "name": "stdout",
     "output_type": "stream",
     "text": [
      "intersection is empty\n"
     ]
    }
   ],
   "source": [
    "set1={1,2,3,4}\n",
    "set2={5,6,7,8}\n",
    "\n",
    "inter=set1.intersection(set2)\n",
    "\n",
    "if inter:\n",
    "    print('intersection is not empty')\n",
    "else:\n",
    "    print('intersection is empty')"
   ]
  },
  {
   "cell_type": "code",
   "execution_count": 103,
   "id": "e3107354",
   "metadata": {},
   "outputs": [
    {
     "data": {
      "text/plain": [
       "set()"
      ]
     },
     "execution_count": 103,
     "metadata": {},
     "output_type": "execute_result"
    }
   ],
   "source": [
    "inter"
   ]
  },
  {
   "cell_type": "code",
   "execution_count": 104,
   "id": "6176bc36",
   "metadata": {},
   "outputs": [],
   "source": [
    "# 42. Create a set of the first 5 Fibonacci numbers"
   ]
  },
  {
   "cell_type": "code",
   "execution_count": 105,
   "id": "08914eaf",
   "metadata": {},
   "outputs": [
    {
     "data": {
      "text/plain": [
       "{0, 1, 2, 3, 5}"
      ]
     },
     "execution_count": 105,
     "metadata": {},
     "output_type": "execute_result"
    }
   ],
   "source": [
    "fib=set()\n",
    "a,b=0,1\n",
    "for i in range(6):\n",
    "    fib.add(a)\n",
    "    a,b=b,a+b\n",
    "fib    "
   ]
  },
  {
   "cell_type": "code",
   "execution_count": 1,
   "id": "ff7a088b",
   "metadata": {},
   "outputs": [],
   "source": [
    "# 43. Remove duplicates from a list using sets."
   ]
  },
  {
   "cell_type": "code",
   "execution_count": 2,
   "id": "42fedc8f",
   "metadata": {},
   "outputs": [
    {
     "data": {
      "text/plain": [
       "{1, 2, 3, 4, 5}"
      ]
     },
     "execution_count": 2,
     "metadata": {},
     "output_type": "execute_result"
    }
   ],
   "source": [
    "lst=[1,2,3,1,4,2,5,1,2,1,2]\n",
    "\n",
    "set_1=set(lst)\n",
    "\n",
    "set_1"
   ]
  },
  {
   "cell_type": "code",
   "execution_count": 3,
   "id": "67ccf51f",
   "metadata": {},
   "outputs": [],
   "source": [
    "# 44. Check if two sets have the same elements, regardless of their count."
   ]
  },
  {
   "cell_type": "code",
   "execution_count": 5,
   "id": "3602454c",
   "metadata": {},
   "outputs": [
    {
     "name": "stdout",
     "output_type": "stream",
     "text": [
      "sets dont have same elements\n"
     ]
    }
   ],
   "source": [
    "def same_elements(set1,set2):\n",
    "    lst1=sorted(list(set1))\n",
    "    lst2=sorted(list(set2))\n",
    "    \n",
    "    return lst1==lst2\n",
    "\n",
    "set1={12,13,15,14,12,13}\n",
    "set2={12,14,13}\n",
    "\n",
    "result=same_elements(set1,set2)\n",
    "if result:\n",
    "    print('sets have same elements')\n",
    "else:\n",
    "    print('sets dont have same elements')"
   ]
  },
  {
   "cell_type": "code",
   "execution_count": 6,
   "id": "26aaaaf4",
   "metadata": {},
   "outputs": [],
   "source": [
    "# 45. Create a set of the first n powers of 2"
   ]
  },
  {
   "cell_type": "code",
   "execution_count": 7,
   "id": "c8d228c3",
   "metadata": {},
   "outputs": [
    {
     "data": {
      "text/plain": [
       "{1, 2, 4, 8, 16}"
      ]
     },
     "execution_count": 7,
     "metadata": {},
     "output_type": "execute_result"
    }
   ],
   "source": [
    "def power_2(n):\n",
    "    power=set()\n",
    "    \n",
    "    for i in range(n):\n",
    "        p=2**i\n",
    "        power.add(p)\n",
    "        \n",
    "    return power\n",
    "power_2(5)"
   ]
  },
  {
   "cell_type": "code",
   "execution_count": 8,
   "id": "5beca641",
   "metadata": {},
   "outputs": [],
   "source": [
    "# 46. Find the common elements between a set and a list"
   ]
  },
  {
   "cell_type": "code",
   "execution_count": 9,
   "id": "35082bcc",
   "metadata": {},
   "outputs": [
    {
     "data": {
      "text/plain": [
       "[1, 5]"
      ]
     },
     "execution_count": 9,
     "metadata": {},
     "output_type": "execute_result"
    }
   ],
   "source": [
    "set1={1,2,3,5,7}\n",
    "\n",
    "lst=[5,1,9,10]\n",
    "\n",
    "set2=set(lst)\n",
    "common=[]\n",
    "for i in set1:\n",
    "    if i in set2:\n",
    "        common.append(i)\n",
    "        \n",
    "common        \n",
    "        "
   ]
  },
  {
   "cell_type": "code",
   "execution_count": 1,
   "id": "b0892638",
   "metadata": {},
   "outputs": [],
   "source": [
    "# 47. Create a set of the first n triangular numbers."
   ]
  },
  {
   "cell_type": "code",
   "execution_count": 2,
   "id": "fae89daf",
   "metadata": {},
   "outputs": [
    {
     "name": "stdout",
     "output_type": "stream",
     "text": [
      "Enter the value of n: 5\n",
      "The set of the first 5 triangular numbers is: {1, 3, 6, 10, 15}\n"
     ]
    }
   ],
   "source": [
    "def generate_triangular_numbers(n):\n",
    "    triangular_numbers = set()  # Create an empty set to store the triangular numbers\n",
    "    for i in range(1, n + 1):\n",
    "        triangular_number = i * (i + 1) // 2  # Calculate the ith triangular number using the formula\n",
    "        triangular_numbers.add(triangular_number)  # Add the calculated triangular number to the set\n",
    "    return triangular_numbers\n",
    "\n",
    "# Input the value of 'n'\n",
    "n = int(input(\"Enter the value of n: \"))\n",
    "\n",
    "# Call the function to generate the set of first 'n' triangular numbers\n",
    "triangular_set = generate_triangular_numbers(n)\n",
    "\n",
    "# Display the set of triangular numbers\n",
    "print(f\"The set of the first {n} triangular numbers is:\", triangular_set)"
   ]
  },
  {
   "cell_type": "code",
   "execution_count": 3,
   "id": "71c34257",
   "metadata": {},
   "outputs": [],
   "source": [
    "# 48. Check if a set contains another set as a subset"
   ]
  },
  {
   "cell_type": "code",
   "execution_count": 4,
   "id": "a55a2e6a",
   "metadata": {},
   "outputs": [
    {
     "name": "stdout",
     "output_type": "stream",
     "text": [
      "it contains subset\n"
     ]
    }
   ],
   "source": [
    "set1={1,2,3,4,5}\n",
    "set2={3,4}\n",
    "\n",
    "subset=set2.issubset(set1)\n",
    "\n",
    "if subset:\n",
    "    print('it contains subset')\n",
    "else:\n",
    "    print('it does not contain subset')"
   ]
  },
  {
   "cell_type": "code",
   "execution_count": 5,
   "id": "cc65d4cd",
   "metadata": {},
   "outputs": [],
   "source": [
    "# 49. Create a set of alternating 1s and 0s of length n."
   ]
  },
  {
   "cell_type": "code",
   "execution_count": 8,
   "id": "8f26727a",
   "metadata": {},
   "outputs": [
    {
     "data": {
      "text/plain": [
       "{0, 1}"
      ]
     },
     "execution_count": 8,
     "metadata": {},
     "output_type": "execute_result"
    }
   ],
   "source": [
    "def alternate(n):\n",
    "    set1=set()\n",
    "    for i in range(n):\n",
    "        if i%2==0:\n",
    "            set1.add(0)\n",
    "        else:\n",
    "            set1.add(1)\n",
    "    return set1\n",
    "alternate(10)\n",
    "            "
   ]
  },
  {
   "cell_type": "code",
   "execution_count": 9,
   "id": "81c26701",
   "metadata": {},
   "outputs": [],
   "source": [
    "# 50. Merge multiple sets into one."
   ]
  },
  {
   "cell_type": "code",
   "execution_count": 12,
   "id": "1512a4d1",
   "metadata": {},
   "outputs": [
    {
     "data": {
      "text/plain": [
       "{1, 2, 3, 4, 5, 6, 7, 8, 9}"
      ]
     },
     "execution_count": 12,
     "metadata": {},
     "output_type": "execute_result"
    }
   ],
   "source": [
    "set1={1,2,3}\n",
    "set2={4,5,6}\n",
    "set3={7,8,9}\n",
    "\n",
    "merge=set1.union(set2,set3)\n",
    "merge\n"
   ]
  },
  {
   "cell_type": "code",
   "execution_count": null,
   "id": "d82c9113",
   "metadata": {},
   "outputs": [],
   "source": []
  }
 ],
 "metadata": {
  "kernelspec": {
   "display_name": "Python 3 (ipykernel)",
   "language": "python",
   "name": "python3"
  },
  "language_info": {
   "codemirror_mode": {
    "name": "ipython",
    "version": 3
   },
   "file_extension": ".py",
   "mimetype": "text/x-python",
   "name": "python",
   "nbconvert_exporter": "python",
   "pygments_lexer": "ipython3",
   "version": "3.9.12"
  }
 },
 "nbformat": 4,
 "nbformat_minor": 5
}
