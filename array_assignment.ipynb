{
 "cells": [
  {
   "cell_type": "code",
   "execution_count": 1,
   "id": "bd5e86b5-d333-40bf-bdcd-64bdf32bc03d",
   "metadata": {},
   "outputs": [],
   "source": [
    "# 1. Given an array, check if it contains any duplicates or not.\n",
    "#arr = [1, 2, 4, 2, 5, 9]\n",
    "#Output = True"
   ]
  },
  {
   "cell_type": "code",
   "execution_count": 3,
   "id": "997631d2-233e-4736-abee-6e46f4e7caec",
   "metadata": {},
   "outputs": [
    {
     "data": {
      "text/plain": [
       "True"
      ]
     },
     "execution_count": 3,
     "metadata": {},
     "output_type": "execute_result"
    }
   ],
   "source": [
    "def check_duplicates(arr):\n",
    "    return len(arr)!=len(set(arr))\n",
    "\n",
    "# driver code\n",
    "arr=[1,2,4,2,5,9]\n",
    "\n",
    "check_duplicates(arr)"
   ]
  },
  {
   "cell_type": "code",
   "execution_count": 4,
   "id": "bfb4b8ea-6935-4274-873a-31a30a82575e",
   "metadata": {},
   "outputs": [],
   "source": [
    "# 2. Given an array and an integer k, rotate the array to the right by k steps.\n",
    "# arr = [1, 2, 3, 4, 5, 6, 7] k = 3\n",
    "# Output = [5, 6, 7, 1, 2, 3, 4]"
   ]
  },
  {
   "cell_type": "code",
   "execution_count": 6,
   "id": "00da24d2-580e-4ce5-8587-e17a0d046091",
   "metadata": {},
   "outputs": [
    {
     "data": {
      "text/plain": [
       "[5, 6, 7, 1, 2, 3, 4]"
      ]
     },
     "execution_count": 6,
     "metadata": {},
     "output_type": "execute_result"
    }
   ],
   "source": [
    "def rotate_array(arr,k):\n",
    "    n=len(arr)\n",
    "    arr[:]= arr[-k:]+arr[:-k]\n",
    "    \n",
    "# driver code\n",
    "\n",
    "arr = [1, 2, 3, 4, 5, 6, 7]\n",
    "rotate_array(arr,3)\n",
    "arr"
   ]
  },
  {
   "cell_type": "code",
   "execution_count": 7,
   "id": "57ec5d94-7493-4209-862e-7763a3894b4d",
   "metadata": {},
   "outputs": [],
   "source": [
    "# 3. Reverse the given array in-place, means without using any extra data structure.\n",
    "# arr = [2, 4, 5, 7, 9, 12]\n",
    "# Output = [12, 9, 7, 5, 4, 2]"
   ]
  },
  {
   "cell_type": "code",
   "execution_count": 1,
   "id": "fb0818bb-8a61-45d4-88dc-ab416766e591",
   "metadata": {},
   "outputs": [
    {
     "data": {
      "text/plain": [
       "[12, 9, 7, 5, 4, 2]"
      ]
     },
     "execution_count": 1,
     "metadata": {},
     "output_type": "execute_result"
    }
   ],
   "source": [
    "arr = [2, 4, 5, 7, 9, 12]\n",
    "\n",
    "arr[:] = arr[::-1]\n",
    "\n",
    "arr"
   ]
  },
  {
   "cell_type": "code",
   "execution_count": null,
   "id": "c6397a7d-a503-4d0f-b49c-8e78ea21224c",
   "metadata": {},
   "outputs": [],
   "source": [
    "# 4. Given an array of integers, find the maximum element in an array\n",
    "# arr = [10, 5, 20, 8, 15]\n",
    "# Output = 20"
   ]
  },
  {
   "cell_type": "code",
   "execution_count": 2,
   "id": "05d03c9c-6af6-4c4a-847b-bbbf63f86325",
   "metadata": {},
   "outputs": [
    {
     "data": {
      "text/plain": [
       "20"
      ]
     },
     "execution_count": 2,
     "metadata": {},
     "output_type": "execute_result"
    }
   ],
   "source": [
    "arr = [10, 5, 20, 8, 15]\n",
    "max(arr)   "
   ]
  },
  {
   "cell_type": "code",
   "execution_count": 3,
   "id": "46be1130-3bf1-4b44-bd11-2ff21c2ba452",
   "metadata": {},
   "outputs": [],
   "source": [
    "# 5. Given a sorted array, remove the duplicate element without using any extra data structure.\n",
    "# arr = [1, 1, 2, 2, 2, 3, 3, 4, 4, 4, 5, 5]\n",
    "# Output = [1, 2, 3, 4, 5]"
   ]
  },
  {
   "cell_type": "code",
   "execution_count": 8,
   "id": "16e41e68-a89d-4497-9e31-d5e1a4deafa4",
   "metadata": {},
   "outputs": [
    {
     "data": {
      "text/plain": [
       "[1, 2, 3, 4, 5]"
      ]
     },
     "execution_count": 8,
     "metadata": {},
     "output_type": "execute_result"
    }
   ],
   "source": [
    "arr = [1, 1, 2, 2, 2, 3, 3, 4, 4, 4, 5, 5]\n",
    "j=0\n",
    "\n",
    "for i in range(len(arr)):\n",
    "    if arr[i]!=arr[j]:\n",
    "        j+=1\n",
    "        arr[j]=arr[i]\n",
    "arr=arr[:j+1]\n",
    "\n",
    "arr\n",
    "        "
   ]
  },
  {
   "cell_type": "code",
   "execution_count": null,
   "id": "ebc95dac-1fe7-45b0-b90b-1c499aeb4790",
   "metadata": {},
   "outputs": [],
   "source": []
  }
 ],
 "metadata": {
  "kernelspec": {
   "display_name": "Python 3 (ipykernel)",
   "language": "python",
   "name": "python3"
  },
  "language_info": {
   "codemirror_mode": {
    "name": "ipython",
    "version": 3
   },
   "file_extension": ".py",
   "mimetype": "text/x-python",
   "name": "python",
   "nbconvert_exporter": "python",
   "pygments_lexer": "ipython3",
   "version": "3.10.8"
  }
 },
 "nbformat": 4,
 "nbformat_minor": 5
}
