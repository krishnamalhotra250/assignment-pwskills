{
 "cells": [
  {
   "cell_type": "code",
   "execution_count": 1,
   "id": "21347225",
   "metadata": {},
   "outputs": [],
   "source": [
    "# Problem 1: Bank Account Create a class representing a bank account with attributes like account number, account holder name,\n",
    "#            and balance. Implement methods to deposit and withdraw money from the account."
   ]
  },
  {
   "cell_type": "code",
   "execution_count": 5,
   "id": "26d3cff4",
   "metadata": {},
   "outputs": [],
   "source": [
    "class bankaccount:\n",
    "    \n",
    "    def details(self,ac_no,ac_name,balance):\n",
    "        print('The basic details of your account : ')\n",
    "        return 'account number = ' ,ac_no,' ','account holder name = ',ac_name,' ','balance = ',balance\n",
    "    \n",
    "    def deposit(self,dep):\n",
    "        print('The amount you want to deposit is ')\n",
    "        return dep\n",
    "    \n",
    "    def withdraw(self,draw):\n",
    "        print('The amount you want to withdraw is ')\n",
    "        return draw"
   ]
  },
  {
   "cell_type": "code",
   "execution_count": 6,
   "id": "53ac0252",
   "metadata": {},
   "outputs": [
    {
     "name": "stdout",
     "output_type": "stream",
     "text": [
      "The basic details of your account : \n"
     ]
    },
    {
     "data": {
      "text/plain": [
       "('account number = ',\n",
       " 2840124,\n",
       " ' ',\n",
       " 'account holder name = ',\n",
       " 'Krish',\n",
       " ' ',\n",
       " 'balance = ',\n",
       " 30000)"
      ]
     },
     "execution_count": 6,
     "metadata": {},
     "output_type": "execute_result"
    }
   ],
   "source": [
    "obj_1=bankaccount()\n",
    "obj_1.details(2840124,'Krish',30000)"
   ]
  },
  {
   "cell_type": "code",
   "execution_count": 7,
   "id": "5de34a54",
   "metadata": {},
   "outputs": [
    {
     "name": "stdout",
     "output_type": "stream",
     "text": [
      "The amount you want to deposit is \n"
     ]
    },
    {
     "data": {
      "text/plain": [
       "5000"
      ]
     },
     "execution_count": 7,
     "metadata": {},
     "output_type": "execute_result"
    }
   ],
   "source": [
    "obj_1.deposit(5000)"
   ]
  },
  {
   "cell_type": "code",
   "execution_count": 8,
   "id": "824d56ee",
   "metadata": {},
   "outputs": [],
   "source": [
    "# Problem 2: Employee Management Create a class representing an employee with attributes like employee ID, name, and salary.\n",
    "#            Implement methods to calculate the yearly bonus and display employee details"
   ]
  },
  {
   "cell_type": "code",
   "execution_count": 16,
   "id": "45853d3e",
   "metadata": {},
   "outputs": [],
   "source": [
    "class employee:\n",
    "    \n",
    "    def __init__(self,emp_id,emp_name,emp_salary):\n",
    "        self.id=emp_id\n",
    "        self.name=emp_name\n",
    "        self.salary=emp_salary\n",
    "        \n",
    "    def bonus(self):\n",
    "        print('The yearly bonus is ')\n",
    "        return self.salary*.10\n",
    "    \n",
    "    def details(self):\n",
    "        print('employee details as per id, name, salary are as follows : ',self.id,' ',self.name,' ',self.salary )\n",
    "    \n",
    "    "
   ]
  },
  {
   "cell_type": "code",
   "execution_count": 17,
   "id": "8b18dc10",
   "metadata": {},
   "outputs": [],
   "source": [
    "krish=employee(101,'krish',35000)"
   ]
  },
  {
   "cell_type": "code",
   "execution_count": 19,
   "id": "a97ce15b",
   "metadata": {},
   "outputs": [
    {
     "name": "stdout",
     "output_type": "stream",
     "text": [
      "The yearly bonus is \n"
     ]
    },
    {
     "data": {
      "text/plain": [
       "3500.0"
      ]
     },
     "execution_count": 19,
     "metadata": {},
     "output_type": "execute_result"
    }
   ],
   "source": [
    "krish.bonus()"
   ]
  },
  {
   "cell_type": "code",
   "execution_count": 20,
   "id": "a66a7127",
   "metadata": {},
   "outputs": [
    {
     "name": "stdout",
     "output_type": "stream",
     "text": [
      "employee details as per id, name, salary are as follows :  101   krish   35000\n"
     ]
    }
   ],
   "source": [
    "krish.details()"
   ]
  },
  {
   "cell_type": "code",
   "execution_count": 21,
   "id": "9807cb29",
   "metadata": {},
   "outputs": [],
   "source": [
    "# Problem 3: Vehicle Rental Create a class representing a vehicle rental system. Implement methods to rent a vehicle, \n",
    "#            \"return a vehicle, and display available vehicles."
   ]
  },
  {
   "cell_type": "code",
   "execution_count": 33,
   "id": "adb0ee6a",
   "metadata": {},
   "outputs": [],
   "source": [
    "class vehicle_rental_system:\n",
    "    \n",
    "    def rent(self,rent_vehicle):\n",
    "        print('tell us the name of vehicle which u want to rent ')\n",
    "        return rent_vehicle\n",
    "        \n",
    "    def return_vehicle(self):\n",
    "        print('You must return vehicle on time otherwise rs500 fine per hour is applicable.')\n",
    "        \n",
    "    def display(self):\n",
    "        print('The available vehciles : wagonr,alto,swift')"
   ]
  },
  {
   "cell_type": "code",
   "execution_count": 34,
   "id": "f5a5470f",
   "metadata": {},
   "outputs": [],
   "source": [
    "obj=vehicle_rental_system()"
   ]
  },
  {
   "cell_type": "code",
   "execution_count": 35,
   "id": "d877276f",
   "metadata": {},
   "outputs": [
    {
     "name": "stdout",
     "output_type": "stream",
     "text": [
      "tell us the name of vehicle which u want to rent \n"
     ]
    },
    {
     "data": {
      "text/plain": [
       "'wagonr'"
      ]
     },
     "execution_count": 35,
     "metadata": {},
     "output_type": "execute_result"
    }
   ],
   "source": [
    "obj.rent('wagonr')"
   ]
  },
  {
   "cell_type": "code",
   "execution_count": 36,
   "id": "fa848c51",
   "metadata": {},
   "outputs": [
    {
     "name": "stdout",
     "output_type": "stream",
     "text": [
      "You must return vehicle on time otherwise rs500 fine per hour is applicable.\n"
     ]
    }
   ],
   "source": [
    "obj.return_vehicle()"
   ]
  },
  {
   "cell_type": "code",
   "execution_count": 1,
   "id": "8e677d4a",
   "metadata": {},
   "outputs": [],
   "source": [
    "# Problem 4: Library Catalog Create classes representing a library and a book. Implement methods to add books to the library,\n",
    "#            borrow books, and display available books"
   ]
  },
  {
   "cell_type": "code",
   "execution_count": 2,
   "id": "2a45d4dd",
   "metadata": {},
   "outputs": [],
   "source": [
    "class books:\n",
    "    \n",
    "    def add_books(self):\n",
    "        print('enter the name of book , you want to add.')\n",
    "        \n",
    "    def borrow(self):\n",
    "        print('Enter the name of book you want to add')\n",
    "        \n",
    "    def available(self):\n",
    "        print('Here is the list of available books.')\n",
    "        "
   ]
  },
  {
   "cell_type": "code",
   "execution_count": 3,
   "id": "dfe6fa2c",
   "metadata": {},
   "outputs": [],
   "source": [
    "class library(books):\n",
    "    \n",
    "    def details(self):\n",
    "        print('the book class is available in library class')"
   ]
  },
  {
   "cell_type": "code",
   "execution_count": 4,
   "id": "f6c4e488",
   "metadata": {},
   "outputs": [],
   "source": [
    "obj=library()"
   ]
  },
  {
   "cell_type": "code",
   "execution_count": 5,
   "id": "a24c59f6",
   "metadata": {},
   "outputs": [
    {
     "name": "stdout",
     "output_type": "stream",
     "text": [
      "Enter the name of book you want to add\n"
     ]
    }
   ],
   "source": [
    "obj.borrow()"
   ]
  },
  {
   "cell_type": "code",
   "execution_count": 6,
   "id": "0d886f87",
   "metadata": {},
   "outputs": [],
   "source": [
    "# Problem 5: Product Inventory Create classes representing a product and an inventory system. Implement methods to add products\n",
    "#            to the inventory, update product quantity, and display available products"
   ]
  },
  {
   "cell_type": "code",
   "execution_count": 7,
   "id": "83b3a9d9",
   "metadata": {},
   "outputs": [],
   "source": [
    "class product:\n",
    "    \n",
    "    def available(self):\n",
    "        print('The products quantity available is 200.')\n",
    "        \n",
    "    def update(Self,x):\n",
    "        print('Enter the number of products recently manufactured : ')\n",
    "        return x"
   ]
  },
  {
   "cell_type": "code",
   "execution_count": 8,
   "id": "28a2aa42",
   "metadata": {},
   "outputs": [],
   "source": [
    "class inventory(product):\n",
    "    \n",
    "    def invent(self):\n",
    "        print('The inventory class is now related with product class.')\n",
    "    "
   ]
  },
  {
   "cell_type": "code",
   "execution_count": 9,
   "id": "c632e49e",
   "metadata": {},
   "outputs": [],
   "source": [
    "obj1=inventory()"
   ]
  },
  {
   "cell_type": "code",
   "execution_count": 10,
   "id": "6861d061",
   "metadata": {},
   "outputs": [
    {
     "name": "stdout",
     "output_type": "stream",
     "text": [
      "Enter the number of products recently manufactured : \n"
     ]
    },
    {
     "data": {
      "text/plain": [
       "20"
      ]
     },
     "execution_count": 10,
     "metadata": {},
     "output_type": "execute_result"
    }
   ],
   "source": [
    "obj1.update(20)"
   ]
  },
  {
   "cell_type": "code",
   "execution_count": 11,
   "id": "ccac23dd",
   "metadata": {},
   "outputs": [],
   "source": [
    "# Problem 6: Shape Calculation Create a class representing a shape with attributes like length, width, and height. \n",
    "#            Implement methods to calculate the area and perimeter of the shape"
   ]
  },
  {
   "cell_type": "code",
   "execution_count": 12,
   "id": "d4d25365",
   "metadata": {},
   "outputs": [],
   "source": [
    "class shape:\n",
    "    \n",
    "    def __init__(self,length,width,height):\n",
    "        self.len=length\n",
    "        self.wid=width\n",
    "        self.ht=height\n",
    "        \n",
    "    def area(self):\n",
    "        return self.len*self.wid*self.ht\n",
    "    \n",
    "    def perimeter(self):\n",
    "        return self.len+self.wid+self.ht"
   ]
  },
  {
   "cell_type": "code",
   "execution_count": 14,
   "id": "88dc3cd4",
   "metadata": {},
   "outputs": [],
   "source": [
    "calculate=shape(10,20,30)"
   ]
  },
  {
   "cell_type": "code",
   "execution_count": 15,
   "id": "82607e02",
   "metadata": {},
   "outputs": [
    {
     "data": {
      "text/plain": [
       "60"
      ]
     },
     "execution_count": 15,
     "metadata": {},
     "output_type": "execute_result"
    }
   ],
   "source": [
    "calculate.perimeter()"
   ]
  },
  {
   "cell_type": "code",
   "execution_count": 16,
   "id": "cc261304",
   "metadata": {},
   "outputs": [
    {
     "data": {
      "text/plain": [
       "6000"
      ]
     },
     "execution_count": 16,
     "metadata": {},
     "output_type": "execute_result"
    }
   ],
   "source": [
    "calculate.area()"
   ]
  },
  {
   "cell_type": "code",
   "execution_count": 17,
   "id": "c29bf040",
   "metadata": {},
   "outputs": [],
   "source": [
    "# Problem 7: Student Management Create a class representing a student with attributes like student ID, name, and grades.\n",
    "#            Implement methods to calculate the average grade and display student details"
   ]
  },
  {
   "cell_type": "code",
   "execution_count": 18,
   "id": "0733de43",
   "metadata": {},
   "outputs": [],
   "source": [
    "class student:\n",
    "    \n",
    "    def __init__(self,s_id,s_name,s_grade):\n",
    "        self.id=s_id\n",
    "        self.name=s_name\n",
    "        self.grade=s_grade\n",
    "        \n",
    "    def details(self):\n",
    "        return 'id : ' ,self.id,' name : ',self.name,' grade : ',self.grade\n",
    "    \n",
    "    def average(self):\n",
    "        return 'grade is average'"
   ]
  },
  {
   "cell_type": "code",
   "execution_count": 19,
   "id": "b6ecf568",
   "metadata": {},
   "outputs": [],
   "source": [
    "krish=student(1,'krish',90)"
   ]
  },
  {
   "cell_type": "code",
   "execution_count": 20,
   "id": "c7018885",
   "metadata": {},
   "outputs": [
    {
     "data": {
      "text/plain": [
       "('id : ', 1, ' name : ', 'krish', ' grade : ', 90)"
      ]
     },
     "execution_count": 20,
     "metadata": {},
     "output_type": "execute_result"
    }
   ],
   "source": [
    "krish.details()"
   ]
  },
  {
   "cell_type": "code",
   "execution_count": 21,
   "id": "0b1272d9",
   "metadata": {},
   "outputs": [],
   "source": [
    "# Problem 8: Email Management Create a class representing an email with attributes like sender, recipient, and subject. \n",
    "#            Implement methods to send an email and display email details"
   ]
  },
  {
   "cell_type": "code",
   "execution_count": 22,
   "id": "60d0487a",
   "metadata": {},
   "outputs": [],
   "source": [
    "class email:\n",
    "    \n",
    "    def __init__(self,sender,recipient,subject):\n",
    "        self.sen=sender\n",
    "        self.rec=recipient\n",
    "        self.sub=subject\n",
    "        \n",
    "    def send_email(self):\n",
    "        return 'This email is sent by '+self.sen\n",
    "    \n",
    "    def details(self):\n",
    "        return self.sen+' '+self.rec+' '+self.sub"
   ]
  },
  {
   "cell_type": "code",
   "execution_count": 23,
   "id": "4f273e34",
   "metadata": {},
   "outputs": [],
   "source": [
    "obj=email('krish','pwskills','course info')"
   ]
  },
  {
   "cell_type": "code",
   "execution_count": 24,
   "id": "fa3d4828",
   "metadata": {},
   "outputs": [
    {
     "data": {
      "text/plain": [
       "'This email is sent by krish'"
      ]
     },
     "execution_count": 24,
     "metadata": {},
     "output_type": "execute_result"
    }
   ],
   "source": [
    "obj.send_email()"
   ]
  },
  {
   "cell_type": "code",
   "execution_count": 25,
   "id": "d6599cd6",
   "metadata": {},
   "outputs": [
    {
     "data": {
      "text/plain": [
       "'krish pwskills course info'"
      ]
     },
     "execution_count": 25,
     "metadata": {},
     "output_type": "execute_result"
    }
   ],
   "source": [
    "obj.details()"
   ]
  },
  {
   "cell_type": "code",
   "execution_count": 26,
   "id": "b96634e8",
   "metadata": {},
   "outputs": [],
   "source": [
    "# Problem 9: Social Media Profile Create a class representing a social media profile with attributes like username and posts.\n",
    "#            Implement methods to add posts, display posts, and search for posts by keyword."
   ]
  },
  {
   "cell_type": "code",
   "execution_count": 27,
   "id": "38dab799",
   "metadata": {},
   "outputs": [],
   "source": [
    "class social_media:\n",
    "    \n",
    "    def __init__(self,username,posts):\n",
    "        self.user=username\n",
    "        self.p=posts\n",
    "        \n",
    "    def add_post(self):\n",
    "        print('Enter the post you want to add.')\n",
    "        \n",
    "    def display_post(self):\n",
    "        return self.p\n",
    "    \n",
    "    def keyword(self):\n",
    "        print('Enter the keyword for the post u want to search')"
   ]
  },
  {
   "cell_type": "code",
   "execution_count": 28,
   "id": "3804fe8d",
   "metadata": {},
   "outputs": [],
   "source": [
    "insta=social_media('user','user says hello')"
   ]
  },
  {
   "cell_type": "code",
   "execution_count": 30,
   "id": "6e0c2c99",
   "metadata": {},
   "outputs": [
    {
     "name": "stdout",
     "output_type": "stream",
     "text": [
      "Enter the keyword for the post u want to search\n"
     ]
    }
   ],
   "source": [
    "insta.keyword()"
   ]
  },
  {
   "cell_type": "code",
   "execution_count": 31,
   "id": "cc052102",
   "metadata": {},
   "outputs": [
    {
     "data": {
      "text/plain": [
       "'user says hello'"
      ]
     },
     "execution_count": 31,
     "metadata": {},
     "output_type": "execute_result"
    }
   ],
   "source": [
    "insta.display_post()"
   ]
  },
  {
   "cell_type": "code",
   "execution_count": 32,
   "id": "ff8f0cc9",
   "metadata": {},
   "outputs": [],
   "source": [
    "# Problem 10: ToDo List Create a class representing a ToDo list with attributes like tasks and due dates.\n",
    "#             Implement methods to add tasks, mark tasks as completed, and display pending tasks"
   ]
  },
  {
   "cell_type": "code",
   "execution_count": 33,
   "id": "e070dde0",
   "metadata": {},
   "outputs": [],
   "source": [
    "class todo_list:\n",
    "    \n",
    "    def __init__(self,task,due_dates):\n",
    "        self.t=task\n",
    "        self.due=due_dates\n",
    "        \n",
    "    def add_task(self):\n",
    "        print('enter the task you want to add : ')\n",
    "        return self.t\n",
    "    \n",
    "    def completed(self):\n",
    "        print('the task is completed')\n",
    "        \n",
    "        "
   ]
  },
  {
   "cell_type": "code",
   "execution_count": null,
   "id": "2934ebd9",
   "metadata": {},
   "outputs": [],
   "source": []
  }
 ],
 "metadata": {
  "kernelspec": {
   "display_name": "Python 3 (ipykernel)",
   "language": "python",
   "name": "python3"
  },
  "language_info": {
   "codemirror_mode": {
    "name": "ipython",
    "version": 3
   },
   "file_extension": ".py",
   "mimetype": "text/x-python",
   "name": "python",
   "nbconvert_exporter": "python",
   "pygments_lexer": "ipython3",
   "version": "3.9.12"
  }
 },
 "nbformat": 4,
 "nbformat_minor": 5
}
