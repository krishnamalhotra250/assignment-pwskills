{
 "cells": [
  {
   "cell_type": "markdown",
   "id": "03664639",
   "metadata": {},
   "source": [
    "# Basic Level:"
   ]
  },
  {
   "cell_type": "code",
   "execution_count": 1,
   "id": "0403bffb",
   "metadata": {},
   "outputs": [],
   "source": [
    "# 1. Write a Python program to print the numbers from 1 to 10 using a `for` loop."
   ]
  },
  {
   "cell_type": "code",
   "execution_count": 2,
   "id": "0743e2b1",
   "metadata": {},
   "outputs": [
    {
     "name": "stdout",
     "output_type": "stream",
     "text": [
      "1\n",
      "2\n",
      "3\n",
      "4\n",
      "5\n",
      "6\n",
      "7\n",
      "8\n",
      "9\n",
      "10\n"
     ]
    }
   ],
   "source": [
    "for i in range(1,11):\n",
    "    print(i)"
   ]
  },
  {
   "cell_type": "code",
   "execution_count": 3,
   "id": "046aac1f",
   "metadata": {},
   "outputs": [],
   "source": [
    "# 2. Create a program that calculates the sum of all numbers in a list using a `for` loop."
   ]
  },
  {
   "cell_type": "code",
   "execution_count": 4,
   "id": "407acc23",
   "metadata": {},
   "outputs": [
    {
     "name": "stdout",
     "output_type": "stream",
     "text": [
      "15\n"
     ]
    }
   ],
   "source": [
    "l=[1,2,3,4,5]\n",
    "\n",
    "add=0\n",
    "for i in l:\n",
    "    add=add+i\n",
    "    \n",
    "print(add)    \n"
   ]
  },
  {
   "cell_type": "code",
   "execution_count": 5,
   "id": "94ee635e",
   "metadata": {},
   "outputs": [],
   "source": [
    "# 3. Write a program to print the characters of a string in reverse order using a `for` loop."
   ]
  },
  {
   "cell_type": "code",
   "execution_count": 6,
   "id": "36c44026",
   "metadata": {},
   "outputs": [
    {
     "name": "stdout",
     "output_type": "stream",
     "text": [
      "dlrow ,olleh\n"
     ]
    }
   ],
   "source": [
    "string='hello, world'\n",
    "\n",
    "rev=''\n",
    "for i in string:\n",
    "    rev=i+rev\n",
    "print(rev)    \n",
    "    "
   ]
  },
  {
   "cell_type": "code",
   "execution_count": 7,
   "id": "819e6d74",
   "metadata": {},
   "outputs": [],
   "source": [
    "# 4. Develop a program that finds the factorial of a given number using a `for` loop."
   ]
  },
  {
   "cell_type": "code",
   "execution_count": 9,
   "id": "fb051e7b",
   "metadata": {},
   "outputs": [
    {
     "name": "stdout",
     "output_type": "stream",
     "text": [
      "120\n"
     ]
    }
   ],
   "source": [
    "num=5\n",
    "factorial=1\n",
    "\n",
    "if num<0:\n",
    "    print('Sorry, factorial does not exist.')\n",
    "    \n",
    "elif num==0:\n",
    "    print('the factorial of 0 is 1')\n",
    "    \n",
    "else:\n",
    "    for i in range(1,num+1):\n",
    "        factorial=factorial*i\n",
    "    print(factorial)"
   ]
  },
  {
   "cell_type": "code",
   "execution_count": 10,
   "id": "4ae96ce8",
   "metadata": {},
   "outputs": [],
   "source": [
    "# 5. Create a program to print the multiplication table of a given number using a `for` loop."
   ]
  },
  {
   "cell_type": "code",
   "execution_count": 15,
   "id": "aac333c4",
   "metadata": {},
   "outputs": [
    {
     "name": "stdout",
     "output_type": "stream",
     "text": [
      "enter for which u want table : 5\n",
      "5 x 1 = 5\n",
      "5 x 2 = 10\n",
      "5 x 3 = 15\n",
      "5 x 4 = 20\n",
      "5 x 5 = 25\n",
      "5 x 6 = 30\n",
      "5 x 7 = 35\n",
      "5 x 8 = 40\n",
      "5 x 9 = 45\n",
      "5 x 10 = 50\n"
     ]
    }
   ],
   "source": [
    "num=int(input('enter for which u want table : '))\n",
    "\n",
    "for i in range(1,11):\n",
    "    print(num,'x',i,'=',num*i)"
   ]
  },
  {
   "cell_type": "code",
   "execution_count": 16,
   "id": "9a1ed758",
   "metadata": {},
   "outputs": [],
   "source": [
    "# 6. Write a program that counts the number of even and odd numbers in a list using a `for` loop."
   ]
  },
  {
   "cell_type": "code",
   "execution_count": 18,
   "id": "abb877f5",
   "metadata": {},
   "outputs": [
    {
     "name": "stdout",
     "output_type": "stream",
     "text": [
      "even numbers :  6\n",
      "odd numbers :  4\n"
     ]
    }
   ],
   "source": [
    "l=[2,2,3,4,5,6,7,8,9,10]\n",
    "even_count=0\n",
    "odd_count=0\n",
    "\n",
    "for i in l:\n",
    "    if i%2==0:\n",
    "        even_count+=1\n",
    "    else:\n",
    "        odd_count+=1\n",
    "        \n",
    "print('even numbers : ',even_count)\n",
    "print('odd numbers : ',odd_count)"
   ]
  },
  {
   "cell_type": "code",
   "execution_count": 19,
   "id": "00397128",
   "metadata": {},
   "outputs": [],
   "source": [
    "# 7. Develop a program that prints the squares of numbers from 1 to 5 using a `for` loop."
   ]
  },
  {
   "cell_type": "code",
   "execution_count": 22,
   "id": "918b2f2d",
   "metadata": {},
   "outputs": [
    {
     "name": "stdout",
     "output_type": "stream",
     "text": [
      "1\n",
      "4\n",
      "9\n",
      "16\n",
      "25\n"
     ]
    }
   ],
   "source": [
    "for i in range(1,6):\n",
    "    sq=i*i\n",
    "    print(sq)"
   ]
  },
  {
   "cell_type": "code",
   "execution_count": 23,
   "id": "6fa789b9",
   "metadata": {},
   "outputs": [],
   "source": [
    "# 8. Create a program to find the length of a string without using the `len()` function."
   ]
  },
  {
   "cell_type": "code",
   "execution_count": 25,
   "id": "fad67de0",
   "metadata": {},
   "outputs": [
    {
     "name": "stdout",
     "output_type": "stream",
     "text": [
      "enter string : laptop\n"
     ]
    },
    {
     "data": {
      "text/plain": [
       "6"
      ]
     },
     "execution_count": 25,
     "metadata": {},
     "output_type": "execute_result"
    }
   ],
   "source": [
    "string=input('enter string : ')\n",
    "lenn=0\n",
    "for i in string:\n",
    "    lenn+=1\n",
    "lenn    \n"
   ]
  },
  {
   "cell_type": "code",
   "execution_count": 26,
   "id": "e1bf704d",
   "metadata": {},
   "outputs": [],
   "source": [
    "# 9. Write a program that calculates the average of a list of numbers using a `for` loop."
   ]
  },
  {
   "cell_type": "code",
   "execution_count": 28,
   "id": "f263f66a",
   "metadata": {},
   "outputs": [
    {
     "data": {
      "text/plain": [
       "3.0"
      ]
     },
     "execution_count": 28,
     "metadata": {},
     "output_type": "execute_result"
    }
   ],
   "source": [
    "l=[1,2,3,4,5]\n",
    "summ=0\n",
    "\n",
    "for i in l:\n",
    "    summ+=i\n",
    "    \n",
    "average=summ/len(l)\n",
    "\n",
    "average"
   ]
  },
  {
   "cell_type": "code",
   "execution_count": 29,
   "id": "183cca7d",
   "metadata": {},
   "outputs": [],
   "source": [
    "# 10. Develop a program that prints the first `n` Fibonacci numbers using a `for` loop."
   ]
  },
  {
   "cell_type": "code",
   "execution_count": 32,
   "id": "91d4c0b0",
   "metadata": {},
   "outputs": [
    {
     "name": "stdout",
     "output_type": "stream",
     "text": [
      "enter number : 6\n",
      "[0, 1, 1, 2, 3, 5]\n"
     ]
    }
   ],
   "source": [
    "n=int(input('enter number : '))\n",
    "\n",
    "fib_series=[0,1]\n",
    "\n",
    "if n<=0:\n",
    "    print('invalid number')\n",
    "elif n==1:\n",
    "    print('the fibonaci number is ',fib_series[0] )\n",
    "else:\n",
    "    for i in range(2,n):\n",
    "        nxt=fib_series[i-1]+fib_series[i-2]\n",
    "        fib_series.append(nxt)\n",
    "    print(fib_series)    "
   ]
  },
  {
   "cell_type": "markdown",
   "id": "4c3303f0",
   "metadata": {},
   "source": [
    "# Intermediate Level:"
   ]
  },
  {
   "cell_type": "code",
   "execution_count": 33,
   "id": "c97746ff",
   "metadata": {},
   "outputs": [],
   "source": [
    "# 11. Write a program to check if a given list contains any duplicates using a `for` loop."
   ]
  },
  {
   "cell_type": "code",
   "execution_count": 34,
   "id": "778c3ca4",
   "metadata": {},
   "outputs": [
    {
     "name": "stdout",
     "output_type": "stream",
     "text": [
      "The list has duplicates\n"
     ]
    }
   ],
   "source": [
    "l=[1,2,3,4,5,6,1,2]\n",
    "\n",
    "for i in range(len(l)):\n",
    "    for j in range(i+1,len(l)):\n",
    "        if l[i]==l[j]:\n",
    "            has_duplicates=True\n",
    "            break\n",
    "            \n",
    "if has_duplicates:\n",
    "    print('The list has duplicates')\n",
    "else:\n",
    "    print('The list does not have duplicates')\n",
    "            "
   ]
  },
  {
   "cell_type": "code",
   "execution_count": 35,
   "id": "713cc40c",
   "metadata": {},
   "outputs": [],
   "source": [
    "# 12. Create a program that prints the prime numbers in a given range using a `for` loop."
   ]
  },
  {
   "cell_type": "code",
   "execution_count": 37,
   "id": "59740c2c",
   "metadata": {},
   "outputs": [
    {
     "name": "stdout",
     "output_type": "stream",
     "text": [
      "11\n",
      "13\n",
      "17\n",
      "19\n",
      "23\n",
      "29\n",
      "31\n",
      "37\n",
      "41\n",
      "43\n",
      "47\n"
     ]
    }
   ],
   "source": [
    "lower=10\n",
    "upper=50\n",
    "\n",
    "for i in range(lower,upper+1):\n",
    "    for j in range(2,i):\n",
    "        if i%j==0:\n",
    "            break\n",
    "    else:\n",
    "        print(i)\n",
    "            \n",
    "            "
   ]
  },
  {
   "cell_type": "code",
   "execution_count": 38,
   "id": "d8655c8c",
   "metadata": {},
   "outputs": [],
   "source": [
    "# 13. Develop a program that counts the number of vowels in a string using a `for` loop."
   ]
  },
  {
   "cell_type": "code",
   "execution_count": 39,
   "id": "effe1b9f",
   "metadata": {},
   "outputs": [
    {
     "name": "stdout",
     "output_type": "stream",
     "text": [
      "Total number of vowel in string are  3\n"
     ]
    }
   ],
   "source": [
    "string='hello, world'\n",
    "\n",
    "vowel='aeiouAEIOU'\n",
    "\n",
    "count=0\n",
    "\n",
    "for i in string:\n",
    "    if i in vowel:\n",
    "        count+=1\n",
    "        \n",
    "print('Total number of vowel in string are ',count)        "
   ]
  },
  {
   "cell_type": "code",
   "execution_count": 40,
   "id": "87e5efa0",
   "metadata": {},
   "outputs": [],
   "source": [
    "# 14. Write a program to find the maximum element in a 2D list using a nested `for` loop."
   ]
  },
  {
   "cell_type": "code",
   "execution_count": 41,
   "id": "13416f7b",
   "metadata": {},
   "outputs": [
    {
     "name": "stdout",
     "output_type": "stream",
     "text": [
      "9\n"
     ]
    }
   ],
   "source": [
    "l=[[1,2,3],[4,5,6],[7,8,9]]\n",
    "\n",
    "maximum=l[0][0]\n",
    "\n",
    "for i in range(len(l)):\n",
    "    for j in range(len(l[i])):\n",
    "        if l[i][j]>maximum:\n",
    "            maximum=l[i][j]\n",
    "print(maximum)            "
   ]
  },
  {
   "cell_type": "code",
   "execution_count": 42,
   "id": "fdd156c9",
   "metadata": {},
   "outputs": [],
   "source": [
    "# 15. Create a program that removes all occurrences of a specific element from a list using a `for` loop."
   ]
  },
  {
   "cell_type": "code",
   "execution_count": 43,
   "id": "0fdfdcdb",
   "metadata": {},
   "outputs": [
    {
     "data": {
      "text/plain": [
       "[1, 2, 3, 4, 6, 7, 8]"
      ]
     },
     "execution_count": 43,
     "metadata": {},
     "output_type": "execute_result"
    }
   ],
   "source": [
    "l=[1,2,3,4,5,6,7,8,5]\n",
    "element=5\n",
    "\n",
    "for i in l:\n",
    "    if i==element:\n",
    "        l.remove(i)\n",
    "l        "
   ]
  },
  {
   "cell_type": "code",
   "execution_count": 44,
   "id": "6cab3714",
   "metadata": {},
   "outputs": [],
   "source": [
    "# 16. Develop a program that generates a multiplication table for numbers from 1 to 5 using a nested `for` loop."
   ]
  },
  {
   "cell_type": "code",
   "execution_count": 5,
   "id": "51fcfb83",
   "metadata": {},
   "outputs": [
    {
     "name": "stdout",
     "output_type": "stream",
     "text": [
      "1 x 1 = 1\t 1 x 2 = 2\t 1 x 3 = 3\t 1 x 4 = 4\t 1 x 5 = 5\t 1 x 6 = 6\t 1 x 7 = 7\t 1 x 8 = 8\t 1 x 9 = 9\t 1 x 10 = 10\t 2 x 1 = 2\t 2 x 2 = 4\t 2 x 3 = 6\t 2 x 4 = 8\t 2 x 5 = 10\t 2 x 6 = 12\t 2 x 7 = 14\t 2 x 8 = 16\t 2 x 9 = 18\t 2 x 10 = 20\t 3 x 1 = 3\t 3 x 2 = 6\t 3 x 3 = 9\t 3 x 4 = 12\t 3 x 5 = 15\t 3 x 6 = 18\t 3 x 7 = 21\t 3 x 8 = 24\t 3 x 9 = 27\t 3 x 10 = 30\t 4 x 1 = 4\t 4 x 2 = 8\t 4 x 3 = 12\t 4 x 4 = 16\t 4 x 5 = 20\t 4 x 6 = 24\t 4 x 7 = 28\t 4 x 8 = 32\t 4 x 9 = 36\t 4 x 10 = 40\t 5 x 1 = 5\t 5 x 2 = 10\t 5 x 3 = 15\t 5 x 4 = 20\t 5 x 5 = 25\t 5 x 6 = 30\t 5 x 7 = 35\t 5 x 8 = 40\t 5 x 9 = 45\t 5 x 10 = 50\t "
     ]
    }
   ],
   "source": [
    "for i in range(1,6):\n",
    "    for j in range(1,11):\n",
    "        print(i,'x',j,'=',i*j,end='\\t ')"
   ]
  },
  {
   "cell_type": "code",
   "execution_count": 6,
   "id": "2b54bfa1",
   "metadata": {},
   "outputs": [],
   "source": [
    "# 17. Write a program that converts a list of Fahrenheit temperatures to Celsius using a `for` loop."
   ]
  },
  {
   "cell_type": "code",
   "execution_count": 11,
   "id": "256e5009",
   "metadata": {},
   "outputs": [
    {
     "data": {
      "text/plain": [
       "[0.0, 10.0, 32.22, 26.67]"
      ]
     },
     "execution_count": 11,
     "metadata": {},
     "output_type": "execute_result"
    }
   ],
   "source": [
    "fahrenheit_temp=[32,50,90,80]\n",
    "\n",
    "celsius_temp=[]\n",
    "\n",
    "for i in fahrenheit_temp:\n",
    "    c=(i-32)*5/9\n",
    "    celsius_temp.append(round(c,2))\n",
    "    \n",
    "celsius_temp    "
   ]
  },
  {
   "cell_type": "code",
   "execution_count": 12,
   "id": "89439920",
   "metadata": {},
   "outputs": [],
   "source": [
    "# 18. Create a program to print the common elements from two lists using a `for` loop."
   ]
  },
  {
   "cell_type": "code",
   "execution_count": 13,
   "id": "e3d3d4e5",
   "metadata": {},
   "outputs": [
    {
     "data": {
      "text/plain": [
       "[1, 3]"
      ]
     },
     "execution_count": 13,
     "metadata": {},
     "output_type": "execute_result"
    }
   ],
   "source": [
    "l1=[1,2,3,4,5]\n",
    "l2=[6,1,8,3,9]\n",
    "\n",
    "common=[]\n",
    "\n",
    "for i in l1:\n",
    "    if i in l2:\n",
    "        common.append(i)\n",
    "        \n",
    "common        "
   ]
  },
  {
   "cell_type": "code",
   "execution_count": 14,
   "id": "37fbc320",
   "metadata": {},
   "outputs": [],
   "source": [
    "# 19. Develop a program that prints the pattern of right-angled triangles using a `for` loop. Use ‘*’ to draw the pattern"
   ]
  },
  {
   "cell_type": "code",
   "execution_count": 16,
   "id": "215fd900",
   "metadata": {},
   "outputs": [
    {
     "name": "stdout",
     "output_type": "stream",
     "text": [
      "*\n",
      "**\n",
      "***\n",
      "****\n",
      "*****\n"
     ]
    }
   ],
   "source": [
    "def pattern(n):\n",
    "    for i in range(n):\n",
    "        print('*'*(i+1))\n",
    "\n",
    "pattern(5)        "
   ]
  },
  {
   "cell_type": "code",
   "execution_count": 17,
   "id": "b8154aef",
   "metadata": {},
   "outputs": [],
   "source": [
    "# 20. Write a program to find the greatest common divisor (GCD) of two numbers using a `for` loop."
   ]
  },
  {
   "cell_type": "code",
   "execution_count": 18,
   "id": "de5b8f31",
   "metadata": {},
   "outputs": [
    {
     "name": "stdout",
     "output_type": "stream",
     "text": [
      "the gcd is  5\n"
     ]
    }
   ],
   "source": [
    "num1=10\n",
    "num2=15\n",
    "\n",
    "if num1>num2:\n",
    "    smaller=num2\n",
    "else:\n",
    "    smaller=num1\n",
    "    \n",
    "for i in range(1,smaller+1):\n",
    "    if (num1%i==0) and (num2%i==0):\n",
    "        gcd=i\n",
    "        \n",
    "print('the gcd is ',gcd)        "
   ]
  },
  {
   "cell_type": "markdown",
   "id": "3d565b80",
   "metadata": {},
   "source": [
    "# Advanced Level:"
   ]
  },
  {
   "cell_type": "code",
   "execution_count": 19,
   "id": "65d65896",
   "metadata": {},
   "outputs": [],
   "source": [
    "# 21. Create a program that calculates the sum of the digits of numbers in a list using a list comprehension."
   ]
  },
  {
   "cell_type": "code",
   "execution_count": 29,
   "id": "0506986d",
   "metadata": {},
   "outputs": [
    {
     "data": {
      "text/plain": [
       "[1, 2, 3]"
      ]
     },
     "execution_count": 29,
     "metadata": {},
     "output_type": "execute_result"
    }
   ],
   "source": [
    "number=[100,200,300]\n",
    "\n",
    "total=[sum(int(k) for k in str(i)) for i in number]\n",
    "\n",
    "total"
   ]
  },
  {
   "cell_type": "code",
   "execution_count": 1,
   "id": "7d2aeb30",
   "metadata": {},
   "outputs": [],
   "source": [
    "# 22. Write a program to find the prime factors of a given number using a `for` loop and list comprehension."
   ]
  },
  {
   "cell_type": "code",
   "execution_count": 2,
   "id": "1444419f",
   "metadata": {},
   "outputs": [
    {
     "data": {
      "text/plain": [
       "[2, 4]"
      ]
     },
     "execution_count": 2,
     "metadata": {},
     "output_type": "execute_result"
    }
   ],
   "source": [
    "def prime_factor(n):\n",
    "    factor=[]\n",
    "    for i in range(2,n+1):\n",
    "        if n%i==0:\n",
    "            factor.append(i)\n",
    "    return factor\n",
    "\n",
    "prime_factor(4)"
   ]
  },
  {
   "cell_type": "code",
   "execution_count": 3,
   "id": "1c0c2056",
   "metadata": {},
   "outputs": [],
   "source": [
    "# 23. Develop a program that extracts unique elements from a list and stores them in a new list using a list comprehension."
   ]
  },
  {
   "cell_type": "code",
   "execution_count": 4,
   "id": "b2aa01b3",
   "metadata": {},
   "outputs": [
    {
     "data": {
      "text/plain": [
       "[1, 2, 3, 4, 5, 6, 7]"
      ]
     },
     "execution_count": 4,
     "metadata": {},
     "output_type": "execute_result"
    }
   ],
   "source": [
    "def unique(l):\n",
    "    return [x for i , x in enumerate(l) if x not in l[:i]]\n",
    "\n",
    "lst=[1,2,3,4,2,3,5,6,7]\n",
    "\n",
    "unique(lst)"
   ]
  },
  {
   "cell_type": "code",
   "execution_count": 8,
   "id": "a6cb75c8",
   "metadata": {},
   "outputs": [],
   "source": [
    "# 24. Create a program that generates a list of all palindromic numbers up to a specified limit using a list comprehension."
   ]
  },
  {
   "cell_type": "code",
   "execution_count": 14,
   "id": "c8c15012",
   "metadata": {},
   "outputs": [
    {
     "name": "stdout",
     "output_type": "stream",
     "text": [
      "enter the limit : 100\n"
     ]
    },
    {
     "data": {
      "text/plain": [
       "[1, 2, 3, 4, 5, 6, 7, 8, 9, 11, 22, 33, 44, 55, 66, 77, 88, 99]"
      ]
     },
     "execution_count": 14,
     "metadata": {},
     "output_type": "execute_result"
    }
   ],
   "source": [
    "def is_palindrome(n):\n",
    "    return str(n)==str(n)[::-1]\n",
    "\n",
    "def palindromic_number(limit):\n",
    "    return [i for i in range(1,limit+1) if is_palindrome(i)]\n",
    "\n",
    "limit=int(input('enter the limit : '))\n",
    "\n",
    "palindromic_number(100)"
   ]
  },
  {
   "cell_type": "code",
   "execution_count": 15,
   "id": "c0f7bb4b",
   "metadata": {},
   "outputs": [],
   "source": [
    "# 25. Write a program to flatten a nested list using list comprehension."
   ]
  },
  {
   "cell_type": "code",
   "execution_count": 16,
   "id": "b90d94ba",
   "metadata": {},
   "outputs": [
    {
     "data": {
      "text/plain": [
       "[1, 2, 3, 4, 5, 6, 7, 8, 9]"
      ]
     },
     "execution_count": 16,
     "metadata": {},
     "output_type": "execute_result"
    }
   ],
   "source": [
    "lst=[[1,2,3],[4,5,6],[7,8,9]]\n",
    "\n",
    "def flatlist(l):\n",
    "    return [item for i in l for item in (i if isinstance(i,list) else [i])]\n",
    "\n",
    "flatlist(lst)"
   ]
  },
  {
   "cell_type": "code",
   "execution_count": 17,
   "id": "9fc1b1ce",
   "metadata": {},
   "outputs": [],
   "source": [
    "# 26. Develop a program that computes the sum of even and odd numbers in a list separately using list comprehension."
   ]
  },
  {
   "cell_type": "code",
   "execution_count": 24,
   "id": "67c2f303",
   "metadata": {},
   "outputs": [
    {
     "name": "stdout",
     "output_type": "stream",
     "text": [
      "even : 12\n",
      "odd : 9\n"
     ]
    }
   ],
   "source": [
    "lst=[1,2,3,4,5,6]\n",
    "\n",
    "even= sum([i for i in lst if i%2==0])\n",
    "\n",
    "odd=sum([i for i in lst if i%2!=0])\n",
    "\n",
    "print('even :',even)\n",
    "\n",
    "print('odd :',odd)\n",
    "        \n",
    " "
   ]
  },
  {
   "cell_type": "code",
   "execution_count": 1,
   "id": "2754d682",
   "metadata": {},
   "outputs": [],
   "source": [
    "# 27. Create a program that generates a list of squares of odd numbers between 1 and 10 using list comprehension."
   ]
  },
  {
   "cell_type": "code",
   "execution_count": 2,
   "id": "9b65e267",
   "metadata": {},
   "outputs": [
    {
     "data": {
      "text/plain": [
       "[1, 9, 25, 49, 81]"
      ]
     },
     "execution_count": 2,
     "metadata": {},
     "output_type": "execute_result"
    }
   ],
   "source": [
    "square_odd=[i**2 for i in range(1,11) if i%2!=0]\n",
    "\n",
    "square_odd"
   ]
  },
  {
   "cell_type": "code",
   "execution_count": 3,
   "id": "52802630",
   "metadata": {},
   "outputs": [],
   "source": [
    "# 28. Write a program that combines two lists into a dictionary using list comprehension."
   ]
  },
  {
   "cell_type": "code",
   "execution_count": 5,
   "id": "d7796769",
   "metadata": {},
   "outputs": [
    {
     "data": {
      "text/plain": [
       "{'a': 1, 'b': 2, 'c': 3}"
      ]
     },
     "execution_count": 5,
     "metadata": {},
     "output_type": "execute_result"
    }
   ],
   "source": [
    "list1=['a','b','c']\n",
    "list2=[1,2,3]\n",
    "\n",
    "dictionary={list1[i]:list2[i] for i in range(len(list1))}\n",
    "dictionary"
   ]
  },
  {
   "cell_type": "code",
   "execution_count": 6,
   "id": "74563f7d",
   "metadata": {},
   "outputs": [],
   "source": [
    "# 29. Develop a program that extracts the vowels from a string and stores them in a list using list comprehension."
   ]
  },
  {
   "cell_type": "code",
   "execution_count": 7,
   "id": "bbe8a8f1",
   "metadata": {},
   "outputs": [
    {
     "data": {
      "text/plain": [
       "['e', 'o', 'o']"
      ]
     },
     "execution_count": 7,
     "metadata": {},
     "output_type": "execute_result"
    }
   ],
   "source": [
    "string='hello world'\n",
    "vowel='aeiou'\n",
    "lst=[]\n",
    "extract=[lst.append(i) for i in string if i in vowel]\n",
    "lst"
   ]
  },
  {
   "cell_type": "code",
   "execution_count": 8,
   "id": "bc50b4cc",
   "metadata": {},
   "outputs": [],
   "source": [
    "# 30. Create a program that removes all non-numeric characters from a list of strings using list comprehension."
   ]
  },
  {
   "cell_type": "code",
   "execution_count": 9,
   "id": "6864a7d2",
   "metadata": {},
   "outputs": [
    {
     "data": {
      "text/plain": [
       "['123', '100', '200']"
      ]
     },
     "execution_count": 9,
     "metadata": {},
     "output_type": "execute_result"
    }
   ],
   "source": [
    "lst=['ab123','hello100','laptop200']\n",
    "\n",
    "new_lst=[''.join(c for c in i if c.isdigit()) for i in lst]\n",
    "new_lst"
   ]
  },
  {
   "cell_type": "markdown",
   "id": "bdbc5e61",
   "metadata": {},
   "source": [
    "# Challenge Level:"
   ]
  },
  {
   "cell_type": "code",
   "execution_count": 10,
   "id": "88a7baa9",
   "metadata": {},
   "outputs": [],
   "source": [
    "# 31. Write a program to generate a list of prime numbers using the Sieve of Eratosthenes algorithm and list comprehension."
   ]
  },
  {
   "cell_type": "code",
   "execution_count": 11,
   "id": "20d66d29",
   "metadata": {},
   "outputs": [
    {
     "name": "stdout",
     "output_type": "stream",
     "text": [
      "[2, 3, 5, 7, 11, 13, 17, 19, 23, 29]\n"
     ]
    }
   ],
   "source": [
    "n = 30\n",
    "\n",
    "primes = [i for i in range(2, n+1) if all(i % j != 0 for j in range(2, int(i**0.5)+1))]\n",
    "\n",
    "print(primes)\n"
   ]
  },
  {
   "cell_type": "code",
   "execution_count": 1,
   "id": "f83d4a5c",
   "metadata": {},
   "outputs": [],
   "source": [
    "# 32. Create a program that generates a list of all Pythagorean triplets up to a specified limit using list comprehension."
   ]
  },
  {
   "cell_type": "code",
   "execution_count": 5,
   "id": "fa088b2b",
   "metadata": {},
   "outputs": [
    {
     "name": "stdout",
     "output_type": "stream",
     "text": [
      "enter limit : 10\n"
     ]
    },
    {
     "data": {
      "text/plain": [
       "[(3, 4, 5), (6, 8, 10)]"
      ]
     },
     "execution_count": 5,
     "metadata": {},
     "output_type": "execute_result"
    }
   ],
   "source": [
    "limit=int(input('enter limit : '))\n",
    "py=[(a,b,c) for c in range(1,limit+1) for b in range(1,c) for a in range(1,b) if a**2+b**2==c**2]\n",
    "py"
   ]
  },
  {
   "cell_type": "code",
   "execution_count": 6,
   "id": "da1234bb",
   "metadata": {},
   "outputs": [],
   "source": [
    "# 33. Develop a program that generates a list of all possible combinations of two lists using list comprehension"
   ]
  },
  {
   "cell_type": "code",
   "execution_count": 7,
   "id": "b550c77b",
   "metadata": {},
   "outputs": [
    {
     "data": {
      "text/plain": [
       "[(1, 'a'),\n",
       " (1, 'b'),\n",
       " (1, 'c'),\n",
       " (2, 'a'),\n",
       " (2, 'b'),\n",
       " (2, 'c'),\n",
       " (3, 'a'),\n",
       " (3, 'b'),\n",
       " (3, 'c')]"
      ]
     },
     "execution_count": 7,
     "metadata": {},
     "output_type": "execute_result"
    }
   ],
   "source": [
    "list1=[1,2,3]\n",
    "list2=['a','b','c']\n",
    "\n",
    "combination=[(x,y) for x in list1 for y in list2]\n",
    "combination"
   ]
  },
  {
   "cell_type": "code",
   "execution_count": 8,
   "id": "db3b7fe4",
   "metadata": {},
   "outputs": [],
   "source": [
    "# 34. Write a program that calculates the mean, median, and mode of a list of numbers using list comprehension."
   ]
  },
  {
   "cell_type": "code",
   "execution_count": 9,
   "id": "440fe55a",
   "metadata": {},
   "outputs": [
    {
     "name": "stdout",
     "output_type": "stream",
     "text": [
      "Mean: 3.5714285714285716\n",
      "Median: 4.0\n",
      "Mode: [5]\n"
     ]
    }
   ],
   "source": [
    "from collections import Counter\n",
    "\n",
    "numbers = [1, 2, 3, 4, 5, 5, 5]\n",
    "\n",
    "mean = sum(numbers) / len(numbers)\n",
    "\n",
    "sorted_numbers = sorted(numbers)\n",
    "mid = len(numbers) // 2\n",
    "median = (sorted_numbers[mid] + sorted_numbers[~mid]) / 2\n",
    "\n",
    "mode = [k for k, v in Counter(numbers).items() if v == max(Counter(numbers).values())]\n",
    "\n",
    "print(f\"Mean: {mean}\")\n",
    "print(f\"Median: {median}\")\n",
    "print(f\"Mode: {mode}\")\n"
   ]
  },
  {
   "cell_type": "code",
   "execution_count": 10,
   "id": "d017e845",
   "metadata": {},
   "outputs": [],
   "source": [
    "# 35. Create a program that generates Pascal's triangle up to a specified number of rows using list comprehension."
   ]
  },
  {
   "cell_type": "code",
   "execution_count": 11,
   "id": "d557b8ed",
   "metadata": {},
   "outputs": [
    {
     "name": "stdout",
     "output_type": "stream",
     "text": [
      "Enter the number of rows: 5\n",
      "[[1], [1, 1], [1, 2, 1], [1, 3, 3, 1], [1, 4, 6, 4, 1]]\n"
     ]
    }
   ],
   "source": [
    "rows = int(input(\"Enter the number of rows: \"))\n",
    "triangle = [[1] * (i + 1) for i in range(rows)]\n",
    "for i in range(rows):\n",
    "    for j in range(1, i):\n",
    "        triangle[i][j] = triangle[i - 1][j - 1] + triangle[i - 1][j]\n",
    "print(triangle)\n"
   ]
  },
  {
   "cell_type": "code",
   "execution_count": 12,
   "id": "e63cab97",
   "metadata": {},
   "outputs": [],
   "source": [
    "# 36. Develop a program that calculates the sum of the digits of a factorial of numbers from 1 to 5 using list comprehension"
   ]
  },
  {
   "cell_type": "code",
   "execution_count": 14,
   "id": "b59e800c",
   "metadata": {},
   "outputs": [
    {
     "name": "stdout",
     "output_type": "stream",
     "text": [
      "[1, 2, 6, 6, 3]\n"
     ]
    }
   ],
   "source": [
    "numbers = [1, 2, 3, 4, 5]\n",
    "\n",
    "sums = []\n",
    "for n in numbers:\n",
    "    factorial = 1\n",
    "    for i in range(1, n + 1):\n",
    "        factorial *= i\n",
    "    digits = [int(digit) for digit in str(factorial)]\n",
    "    sums.append(sum(digits))\n",
    "\n",
    "print(sums)\n"
   ]
  },
  {
   "cell_type": "code",
   "execution_count": 15,
   "id": "d0b45e55",
   "metadata": {},
   "outputs": [],
   "source": [
    "# 37. Write a program that finds the longest word in a sentence using list comprehension"
   ]
  },
  {
   "cell_type": "code",
   "execution_count": 16,
   "id": "72264012",
   "metadata": {},
   "outputs": [
    {
     "name": "stdout",
     "output_type": "stream",
     "text": [
      "enter : hello everyone\n"
     ]
    },
    {
     "data": {
      "text/plain": [
       "'everyone'"
      ]
     },
     "execution_count": 16,
     "metadata": {},
     "output_type": "execute_result"
    }
   ],
   "source": [
    "sentence=input('enter : ')\n",
    "longest=max(sentence.split(),key=len)\n",
    "longest"
   ]
  },
  {
   "cell_type": "code",
   "execution_count": 17,
   "id": "8d2e37dc",
   "metadata": {},
   "outputs": [],
   "source": [
    "# 38. Create a program that filters a list of strings to include only those with more than three vowels using list comprehension."
   ]
  },
  {
   "cell_type": "code",
   "execution_count": 20,
   "id": "ac8fbd74",
   "metadata": {},
   "outputs": [
    {
     "name": "stdout",
     "output_type": "stream",
     "text": [
      "['grapefruit']\n"
     ]
    }
   ],
   "source": [
    "strings = [\"apple\", \"banana\", \"cherry\", \"date\", \"elderberry\", \"fig\", \"grapefruit\"]\n",
    "vowels = set(\"aeiouAEIOU\")\n",
    "filtered_strings = [string for string in strings if sum(1 for c in string if c in vowels) > 3]\n",
    "print(filtered_strings)\n"
   ]
  },
  {
   "cell_type": "code",
   "execution_count": 21,
   "id": "8040ec1f",
   "metadata": {},
   "outputs": [],
   "source": [
    "# 39. Develop a program that calculates the sum of the digits of numbers from 1 to 1000 using list comprehension"
   ]
  },
  {
   "cell_type": "code",
   "execution_count": 26,
   "id": "0d80b1ff",
   "metadata": {},
   "outputs": [
    {
     "name": "stdout",
     "output_type": "stream",
     "text": [
      "[5000]\n"
     ]
    }
   ],
   "source": [
    "sums = [sum(int(digit) for digit in str(i) for i in range(1, 1001))]\n",
    "print(sums)\n"
   ]
  },
  {
   "cell_type": "code",
   "execution_count": 27,
   "id": "8e510ca4",
   "metadata": {},
   "outputs": [],
   "source": [
    "# 40. Write a program that generates a list of prime palindromic numbers using list comprehension"
   ]
  },
  {
   "cell_type": "code",
   "execution_count": 28,
   "id": "73a283a3",
   "metadata": {},
   "outputs": [
    {
     "name": "stdout",
     "output_type": "stream",
     "text": [
      "[2, 3, 5, 7, 11, 101, 131, 151, 181, 191, 313, 353, 373, 383, 727, 757, 787, 797, 919, 929]\n"
     ]
    }
   ],
   "source": [
    "primes = [x for x in range(2, 1000) if all(x % y != 0 for y in range(2, int(x**0.5) + 1)) and str(x) == str(x)[::-1]]\n",
    "print(primes)\n"
   ]
  },
  {
   "cell_type": "code",
   "execution_count": null,
   "id": "221cc05f",
   "metadata": {},
   "outputs": [],
   "source": []
  }
 ],
 "metadata": {
  "kernelspec": {
   "display_name": "Python 3 (ipykernel)",
   "language": "python",
   "name": "python3"
  },
  "language_info": {
   "codemirror_mode": {
    "name": "ipython",
    "version": 3
   },
   "file_extension": ".py",
   "mimetype": "text/x-python",
   "name": "python",
   "nbconvert_exporter": "python",
   "pygments_lexer": "ipython3",
   "version": "3.9.12"
  }
 },
 "nbformat": 4,
 "nbformat_minor": 5
}
