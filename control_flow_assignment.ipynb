{
 "cells": [
  {
   "cell_type": "markdown",
   "id": "92f79d1c",
   "metadata": {},
   "source": [
    "# Basic if else statements"
   ]
  },
  {
   "cell_type": "code",
   "execution_count": 1,
   "id": "caebd2d3",
   "metadata": {},
   "outputs": [],
   "source": [
    "# 1. Write a Python program to check if a given number is positive or negative."
   ]
  },
  {
   "cell_type": "code",
   "execution_count": 2,
   "id": "177585cb",
   "metadata": {},
   "outputs": [
    {
     "name": "stdout",
     "output_type": "stream",
     "text": [
      "enter any number -20\n",
      "The given number is negative\n"
     ]
    }
   ],
   "source": [
    "x=int(input('enter any number '))\n",
    "\n",
    "if x>=0:\n",
    "    print('The given number is positive')\n",
    "else:\n",
    "    print('The given number is negative')"
   ]
  },
  {
   "cell_type": "code",
   "execution_count": 3,
   "id": "8b571741",
   "metadata": {},
   "outputs": [],
   "source": [
    "# 2. Create a program that determines if a person is eligible to vote based on their age."
   ]
  },
  {
   "cell_type": "code",
   "execution_count": 4,
   "id": "32ff59c2",
   "metadata": {},
   "outputs": [
    {
     "name": "stdout",
     "output_type": "stream",
     "text": [
      "Enter your age18\n",
      "A person is eligible to vote\n"
     ]
    }
   ],
   "source": [
    "age=int(input('Enter your age'))\n",
    "\n",
    "if age>=18:\n",
    "    print('A person is eligible to vote')\n",
    "else:\n",
    "    print('A person is not eligible to vote')"
   ]
  },
  {
   "cell_type": "code",
   "execution_count": 5,
   "id": "52e2feb5",
   "metadata": {},
   "outputs": [],
   "source": [
    "# 3. Develop a program to find the maximum of two numbers using if-else statements."
   ]
  },
  {
   "cell_type": "code",
   "execution_count": 6,
   "id": "e6ff0c46",
   "metadata": {},
   "outputs": [
    {
     "name": "stdout",
     "output_type": "stream",
     "text": [
      "enter number1 30\n",
      "enter number2 70\n",
      "The maximum number is  70\n"
     ]
    }
   ],
   "source": [
    "num1=int(input('enter number1 '))\n",
    "num2=int(input('enter number2 '))\n",
    "\n",
    "if num1>num2:\n",
    "    print('The maximum number is ',num1)\n",
    "else:\n",
    "    print('The maximum number is ',num2)"
   ]
  },
  {
   "cell_type": "code",
   "execution_count": 7,
   "id": "3b1b68ac",
   "metadata": {},
   "outputs": [],
   "source": [
    "# 4. Write a Python script to classify a given year as a leap year or not."
   ]
  },
  {
   "cell_type": "code",
   "execution_count": 9,
   "id": "af065e9b",
   "metadata": {},
   "outputs": [
    {
     "name": "stdout",
     "output_type": "stream",
     "text": [
      "enter number of days in a year 2564\n",
      "invalid\n"
     ]
    }
   ],
   "source": [
    "x=int(input('enter number of days in a year '))\n",
    "\n",
    "if x<=365:\n",
    "    print('The given year is not a leap year')\n",
    "elif x==366:\n",
    "    print('The given year is a leap year')\n",
    "else:\n",
    "    print('invalid')"
   ]
  },
  {
   "cell_type": "code",
   "execution_count": 10,
   "id": "596f3048",
   "metadata": {},
   "outputs": [],
   "source": [
    "# 5. Create a program that checks whether a character is a vowel or a consonant."
   ]
  },
  {
   "cell_type": "code",
   "execution_count": 15,
   "id": "5dd68f75",
   "metadata": {},
   "outputs": [
    {
     "name": "stdout",
     "output_type": "stream",
     "text": [
      "enter alphabet i\n",
      "The given alphabet is vowel\n"
     ]
    }
   ],
   "source": [
    "x=input('enter alphabet ')\n",
    "\n",
    "if x=='a' or x=='e' or x=='i' or x=='o' or x=='u':\n",
    "    print('The given alphabet is vowel')\n",
    "else:\n",
    "    print('The given alphabet is consonant')"
   ]
  },
  {
   "cell_type": "code",
   "execution_count": 16,
   "id": "9da073bf",
   "metadata": {},
   "outputs": [],
   "source": [
    "# 6. Implement a program to determine whether a given number is even or odd."
   ]
  },
  {
   "cell_type": "code",
   "execution_count": 18,
   "id": "bd8688ec",
   "metadata": {},
   "outputs": [
    {
     "name": "stdout",
     "output_type": "stream",
     "text": [
      "enter number 22\n",
      "The number is even\n"
     ]
    }
   ],
   "source": [
    "number=int(input('enter number '))\n",
    "\n",
    "if number%2==0:\n",
    "    print('The number is even')\n",
    "elif number==0:\n",
    "    print('It is zero')\n",
    "else:\n",
    "    print('The number is odd')"
   ]
  },
  {
   "cell_type": "code",
   "execution_count": 19,
   "id": "3e96e0be",
   "metadata": {},
   "outputs": [],
   "source": [
    "# 7. Write a Python function to calculate the absolute value of a number without using the `abs()` function."
   ]
  },
  {
   "cell_type": "code",
   "execution_count": 21,
   "id": "cca136f1",
   "metadata": {},
   "outputs": [
    {
     "name": "stdout",
     "output_type": "stream",
     "text": [
      "enter number -2\n",
      "The absolute value is  2\n"
     ]
    }
   ],
   "source": [
    "x=int(input('enter number '))\n",
    "\n",
    "if x<0:\n",
    "    print('The absolute value is ',-x)\n",
    "else:\n",
    "    print('The absolute value is ',x)"
   ]
  },
  {
   "cell_type": "code",
   "execution_count": 22,
   "id": "17ccff85",
   "metadata": {},
   "outputs": [],
   "source": [
    "# 8. Develop a program that determines the largest of three given numbers using if-else statements."
   ]
  },
  {
   "cell_type": "code",
   "execution_count": 23,
   "id": "fc4f58c2",
   "metadata": {},
   "outputs": [
    {
     "name": "stdout",
     "output_type": "stream",
     "text": [
      "enter number1 265\n",
      "enter number2 147\n",
      "enter number3 9632\n",
      "The largest number is  9632\n"
     ]
    }
   ],
   "source": [
    "num1=int(input('enter number1 '))\n",
    "num2=int(input('enter number2 '))\n",
    "num3=int(input('enter number3 '))\n",
    "\n",
    "if num1>num2 and num1>num3:\n",
    "    print('The largest number is ',num1)\n",
    "elif num2>num1 and num2>num3:\n",
    "    print('The largest number is ',num2)\n",
    "else:\n",
    "    print('The largest number is ',num3)"
   ]
  },
  {
   "cell_type": "code",
   "execution_count": 24,
   "id": "a8c2d636",
   "metadata": {},
   "outputs": [],
   "source": [
    "# 9. Create a program that checks if a given string is a palindrome."
   ]
  },
  {
   "cell_type": "code",
   "execution_count": 28,
   "id": "c747ac34",
   "metadata": {},
   "outputs": [
    {
     "name": "stdout",
     "output_type": "stream",
     "text": [
      "enter string malayalam\n",
      "The string is palindrome\n"
     ]
    }
   ],
   "source": [
    "string=input('enter string ')\n",
    "\n",
    "if string==string[::-1]:\n",
    "    print('The string is palindrome')\n",
    "else:\n",
    "    print('The string is not palindrome')\n",
    "    "
   ]
  },
  {
   "cell_type": "code",
   "execution_count": 29,
   "id": "a857e9f9",
   "metadata": {},
   "outputs": [],
   "source": [
    "# 10. Write a Python program to calculate the grade based on a student's score."
   ]
  },
  {
   "cell_type": "code",
   "execution_count": 30,
   "id": "9757dd28",
   "metadata": {},
   "outputs": [
    {
     "name": "stdout",
     "output_type": "stream",
     "text": [
      "enter score of student 75\n",
      "The grade based on student score is A\n"
     ]
    }
   ],
   "source": [
    "score=int(input('enter score of student '))\n",
    "\n",
    "if score>=90:\n",
    "    print('The grade based on student score is A+')\n",
    "elif 75<=score<90:\n",
    "    print('The grade based on student score is A')\n",
    "elif 60<=score<75:\n",
    "    print('The grade based on student score is B')\n",
    "else:\n",
    "    print('The grade based on student score is C')"
   ]
  },
  {
   "cell_type": "markdown",
   "id": "4f490e39",
   "metadata": {},
   "source": [
    "# Nested if else statements"
   ]
  },
  {
   "cell_type": "code",
   "execution_count": 31,
   "id": "b4216a34",
   "metadata": {},
   "outputs": [],
   "source": [
    "# 11. Write a program to find the largest among three numbers using nested if-else statements."
   ]
  },
  {
   "cell_type": "code",
   "execution_count": 33,
   "id": "20054135",
   "metadata": {},
   "outputs": [
    {
     "name": "stdout",
     "output_type": "stream",
     "text": [
      "enter number 70\n",
      "enter number 65\n",
      "enter number 13\n",
      "The largest number is  70\n"
     ]
    }
   ],
   "source": [
    "num1=int(input('enter number '))\n",
    "num2=int(input('enter number '))\n",
    "num3=int(input('enter number '))\n",
    "\n",
    "if num1>num2:\n",
    "    if num1>num3:\n",
    "        print('The largest number is ',num1)\n",
    "    else:\n",
    "        print('The largest number is ',num3)\n",
    "else:\n",
    "    if num2>num3:\n",
    "        print('The largest number is ',num2)\n",
    "    else:\n",
    "        print('The largest number is ',num3)"
   ]
  },
  {
   "cell_type": "code",
   "execution_count": 1,
   "id": "10e7eef0",
   "metadata": {},
   "outputs": [],
   "source": [
    "# 12. Implement a program to determine if a triangle is equilateral, isosceles, or scalene."
   ]
  },
  {
   "cell_type": "code",
   "execution_count": 2,
   "id": "97de51ae",
   "metadata": {},
   "outputs": [
    {
     "name": "stdout",
     "output_type": "stream",
     "text": [
      "enter length of triangle x: 4\n",
      "enter length of triangle y: 2\n",
      "enter length of triangle z: 4\n",
      "This is isoceles triangle\n"
     ]
    }
   ],
   "source": [
    "x=float(input('enter length of triangle x: '))\n",
    "y=float(input('enter length of triangle y: '))\n",
    "z=float(input('enter length of triangle z: '))\n",
    "\n",
    "if x==y:\n",
    "    if x==z:\n",
    "        print('This is equilateral triangle')\n",
    "    else:\n",
    "        print('This is isoceles triangle')\n",
    "else:\n",
    "    if y==z or z==x:\n",
    "        print('This is isoceles triangle')\n",
    "    else:\n",
    "        print('This is scalene triangle')\n",
    "    "
   ]
  },
  {
   "cell_type": "code",
   "execution_count": 3,
   "id": "866b40e4",
   "metadata": {},
   "outputs": [],
   "source": [
    "# 13. Develop a program that checks if a year is a leap year and also if it is a century year."
   ]
  },
  {
   "cell_type": "code",
   "execution_count": 5,
   "id": "0298a4a1",
   "metadata": {},
   "outputs": [
    {
     "name": "stdout",
     "output_type": "stream",
     "text": [
      "enter number of years 2004\n",
      "This is a leap year\n"
     ]
    }
   ],
   "source": [
    "year=int(input('enter number of years '))\n",
    "\n",
    "if year%4==0:\n",
    "    if year%100==0:\n",
    "        if year%400==0:\n",
    "            print('This is a leap year')\n",
    "        else:\n",
    "            print('This is not a leap year')\n",
    "    else:\n",
    "        print('This is a leap year')\n",
    "elif year%400==0:\n",
    "    print('This is a century year')\n",
    "else:\n",
    "    print('This is not a leap year')    \n",
    "            "
   ]
  },
  {
   "cell_type": "code",
   "execution_count": 6,
   "id": "1a1dc260",
   "metadata": {},
   "outputs": [],
   "source": [
    "# 14. Write a Python script to determine if a number is positive, negative, or zero."
   ]
  },
  {
   "cell_type": "code",
   "execution_count": 8,
   "id": "2a62bbad",
   "metadata": {},
   "outputs": [
    {
     "name": "stdout",
     "output_type": "stream",
     "text": [
      "enter number5\n",
      "This is positive number\n"
     ]
    }
   ],
   "source": [
    "number=int(input('enter number'))\n",
    "\n",
    "if number>-1:\n",
    "    if number==0:\n",
    "        print('This is zero')\n",
    "    else:\n",
    "        print('This is positive number')\n",
    "else:\n",
    "    print('This is negative number')"
   ]
  },
  {
   "cell_type": "code",
   "execution_count": 9,
   "id": "768cd2db",
   "metadata": {},
   "outputs": [],
   "source": [
    "# 15. Create a program to check if a person is a teenager (between 13 and 19 years old)."
   ]
  },
  {
   "cell_type": "code",
   "execution_count": 10,
   "id": "73f7a6e7",
   "metadata": {},
   "outputs": [
    {
     "name": "stdout",
     "output_type": "stream",
     "text": [
      "enter your age20\n",
      "Person is not teenager\n"
     ]
    }
   ],
   "source": [
    "age=int(input('enter your age'))\n",
    "\n",
    "if age >12:\n",
    "    if age<20:\n",
    "        print('Person is teenager')\n",
    "    else:\n",
    "        print('Person is not teenager')\n",
    "else:\n",
    "    print('Person is not teenager')"
   ]
  },
  {
   "cell_type": "code",
   "execution_count": 1,
   "id": "ba4fdc45",
   "metadata": {},
   "outputs": [],
   "source": [
    "# 16. Develop a program that determines the type of angle based on its measure (acute, obtuse, or right)."
   ]
  },
  {
   "cell_type": "code",
   "execution_count": 4,
   "id": "65f5584f",
   "metadata": {},
   "outputs": [
    {
     "name": "stdout",
     "output_type": "stream",
     "text": [
      "enter side A in degree90\n",
      "enter side B in degree50\n",
      "enter side C in degree40\n",
      "This is right triangle\n"
     ]
    }
   ],
   "source": [
    "a=int(input('enter side A in degree'))\n",
    "b=int(input('enter side B in degree'))\n",
    "c=int(input('enter side C in degree'))\n",
    "\n",
    "if a<90 and b<90:\n",
    "    if c>90:\n",
    "        print('This is obtuse triangle')\n",
    "    elif c==90:\n",
    "        print('This is right triangle')\n",
    "    else:\n",
    "        print('This is acute triangle')\n",
    "else:\n",
    "    if a>90 or b>90:\n",
    "        print('This is obtuse triangle')\n",
    "    else:\n",
    "        print('This is right triangle')"
   ]
  },
  {
   "cell_type": "code",
   "execution_count": 5,
   "id": "b47ba9e4",
   "metadata": {},
   "outputs": [],
   "source": [
    "# 17. Write a Python program to calculate the roots of a quadratic equation."
   ]
  },
  {
   "cell_type": "code",
   "execution_count": 6,
   "id": "31706e5f",
   "metadata": {},
   "outputs": [
    {
     "name": "stdout",
     "output_type": "stream",
     "text": [
      "Equation: ax^2 + bx + c \n",
      "Enter a: 1\n",
      "Enter b: -5\n",
      "Enter c: 6\n",
      "The first root:  3.0\n",
      "The second root:  2.0\n"
     ]
    }
   ],
   "source": [
    "print(\"Equation: ax^2 + bx + c \")\n",
    "a=int(input(\"Enter a: \"))\n",
    "b=int(input(\"Enter b: \"))\n",
    "c=int(input(\"Enter c: \"))\n",
    "d=b**2-4*a*c\n",
    "d1=d**0.5\n",
    "if(d<0):\n",
    "    print(\"The roots are imaginary. \")\n",
    "else:\n",
    "    r1=(-b+d1)/2*a\n",
    "    r2=(-b-d1)/2*a\n",
    "    print(\"The first root: \",round(r1,2))\n",
    "    print(\"The second root: \",round(r2,2))"
   ]
  },
  {
   "cell_type": "code",
   "execution_count": 7,
   "id": "66b69b82",
   "metadata": {},
   "outputs": [],
   "source": [
    "# 18. Implement a program to determine the day of the week based on a user-provided number (1 for Monday, 2\n",
    "#     for Tuesday, etc.)."
   ]
  },
  {
   "cell_type": "code",
   "execution_count": 9,
   "id": "6ef849f0",
   "metadata": {},
   "outputs": [
    {
     "name": "stdout",
     "output_type": "stream",
     "text": [
      "enter number from 1 to 7 - 7\n",
      "Sunday\n"
     ]
    }
   ],
   "source": [
    "number=int(input('enter number from 1 to 7 - '))\n",
    "\n",
    "if number>0:\n",
    "    if number==1:\n",
    "        print('Monday')\n",
    "    elif number==2:\n",
    "        print('Tuesday')\n",
    "    elif number==3:\n",
    "        print('Wednesday')\n",
    "    elif number==4:\n",
    "        print('Thursday')\n",
    "    elif number==5:\n",
    "        print('Friday')\n",
    "    elif number==6:\n",
    "        print('Saturday')\n",
    "    else:\n",
    "        print('Sunday')\n",
    "else:\n",
    "    if number>7:\n",
    "        print('invalid')\n",
    "    else:\n",
    "        pass"
   ]
  },
  {
   "cell_type": "code",
   "execution_count": 10,
   "id": "9b53a03f",
   "metadata": {},
   "outputs": [],
   "source": [
    "# 19. Create a program that determines if a year is a leap year and also if it is evenly divisible by 400."
   ]
  },
  {
   "cell_type": "code",
   "execution_count": 11,
   "id": "081bab1c",
   "metadata": {},
   "outputs": [
    {
     "name": "stdout",
     "output_type": "stream",
     "text": [
      "enter year2014\n",
      "It does not suits the program\n"
     ]
    }
   ],
   "source": [
    "year=int(input('enter year'))\n",
    "\n",
    "if (year%4==0 and year%100!=0):\n",
    "    if year%400==0:\n",
    "        print('It suits the program')\n",
    "    else:\n",
    "        pass\n",
    "else:\n",
    "    print('It does not suits the program')"
   ]
  },
  {
   "cell_type": "code",
   "execution_count": 12,
   "id": "ffce83d0",
   "metadata": {},
   "outputs": [],
   "source": [
    "# 20. Develop a program that checks if a given number is prime or not using nested if-else statements."
   ]
  },
  {
   "cell_type": "code",
   "execution_count": 31,
   "id": "eb86575a",
   "metadata": {},
   "outputs": [
    {
     "name": "stdout",
     "output_type": "stream",
     "text": [
      "Enter number - 20\n",
      "This is not a prime number\n"
     ]
    }
   ],
   "source": [
    "num=int(input('Enter number - '))\n",
    "\n",
    "if num>1:\n",
    "    \n",
    "    if num==2:\n",
    "        print('The number is prime') \n",
    "        \n",
    "    else:\n",
    "        for i in range(2,num):\n",
    "            if num%i==0:\n",
    "                print('This is not a prime number')\n",
    "                break\n",
    "            else:\n",
    "                print('This is a prime number')\n",
    "else:\n",
    "    print('This is not a  prime number')\n",
    "        \n"
   ]
  },
  {
   "cell_type": "markdown",
   "id": "7096e396",
   "metadata": {},
   "source": [
    " # elif statements"
   ]
  },
  {
   "cell_type": "code",
   "execution_count": 32,
   "id": "80bc1237",
   "metadata": {},
   "outputs": [],
   "source": [
    "# 21. Write a Python program to assign grades based on different ranges of scores using elif statements.\n"
   ]
  },
  {
   "cell_type": "code",
   "execution_count": 1,
   "id": "4b6685b6",
   "metadata": {},
   "outputs": [
    {
     "name": "stdout",
     "output_type": "stream",
     "text": [
      "Enter score of student 90\n",
      "The grade is A\n"
     ]
    }
   ],
   "source": [
    "score=int(input('Enter score of student '))\n",
    "\n",
    "if 0<=score<=40:\n",
    "    print('The grade is c')\n",
    "elif 40<score<=70:\n",
    "    print('The grade is B')\n",
    "elif 70<score<=90:\n",
    "    print('The grade is A')\n",
    "elif 90<score<=100:\n",
    "    print('The grade is A+')\n",
    "else:\n",
    "    print('invalid marks')\n",
    "    \n"
   ]
  },
  {
   "cell_type": "code",
   "execution_count": 2,
   "id": "7a760071",
   "metadata": {},
   "outputs": [],
   "source": [
    "# 22. Implement a program to determine the type of a triangle based on its angles."
   ]
  },
  {
   "cell_type": "code",
   "execution_count": 3,
   "id": "67548c90",
   "metadata": {},
   "outputs": [
    {
     "name": "stdout",
     "output_type": "stream",
     "text": [
      "enter angle of side1 - 60\n",
      "enter angle of side2 - 40\n",
      "enter angle of side3 - 30\n",
      "This is acute triangle\n"
     ]
    }
   ],
   "source": [
    "x=int(input('enter angle of side1 - '))\n",
    "y=int(input('enter angle of side2 - '))\n",
    "z=int(input('enter angle of side3 - '))\n",
    "\n",
    "if x>90 or y>90 or z>90:\n",
    "    print('This is obtuse triangle')\n",
    "elif x==90 or y==90 or z==90:\n",
    "    print('This is right triangle')\n",
    "else:\n",
    "    print('This is acute triangle')"
   ]
  },
  {
   "cell_type": "code",
   "execution_count": null,
   "id": "2757ed57",
   "metadata": {},
   "outputs": [],
   "source": [
    "# 23. Develop a program to categorize a given person's BMI into underweight, normal, overweight, or obese using elif statements."
   ]
  },
  {
   "cell_type": "code",
   "execution_count": 4,
   "id": "d9f5a002",
   "metadata": {},
   "outputs": [
    {
     "name": "stdout",
     "output_type": "stream",
     "text": [
      "enter bmi - 25\n",
      "Person is overweight\n"
     ]
    }
   ],
   "source": [
    "bmi=int(input('enter bmi - '))\n",
    "\n",
    "if bmi<18.5:\n",
    "    print('Person is underweight')\n",
    "elif 18.5<=bmi<25:\n",
    "    print('Person is normal weight')\n",
    "elif 25<=bmi<30:\n",
    "    print('Person is overweight')\n",
    "else:\n",
    "    print('Person is obese')"
   ]
  },
  {
   "cell_type": "code",
   "execution_count": null,
   "id": "0af04bfc",
   "metadata": {},
   "outputs": [],
   "source": [
    "# 24. Create a program that determines whether a given number is positive, negative, or zero using elif statements."
   ]
  },
  {
   "cell_type": "code",
   "execution_count": 5,
   "id": "0e469962",
   "metadata": {},
   "outputs": [
    {
     "name": "stdout",
     "output_type": "stream",
     "text": [
      "enter integer20\n",
      "The number is positive\n"
     ]
    }
   ],
   "source": [
    "number=int(input('enter integer'))\n",
    "\n",
    "if number<0:\n",
    "    print('The number is negative')\n",
    "elif number==0:\n",
    "    print('The number is zero')\n",
    "else:\n",
    "    print('The number is positive')"
   ]
  },
  {
   "cell_type": "code",
   "execution_count": null,
   "id": "05f1578e",
   "metadata": {},
   "outputs": [],
   "source": [
    "# 25. Write a Python script to determine the type of a character (uppercase, lowercase, or special) using elif statements."
   ]
  },
  {
   "cell_type": "code",
   "execution_count": 6,
   "id": "1bf012e7",
   "metadata": {},
   "outputs": [
    {
     "name": "stdout",
     "output_type": "stream",
     "text": [
      "enter character - A\n",
      "This is uppercase\n"
     ]
    }
   ],
   "source": [
    "char=input('enter character - ')\n",
    "\n",
    "if char.isupper():\n",
    "    print('This is uppercase')\n",
    "elif char.islower():\n",
    "    print('This is lowercase')\n",
    "else:\n",
    "    print('This is special character')"
   ]
  },
  {
   "cell_type": "code",
   "execution_count": 7,
   "id": "60f6f523",
   "metadata": {},
   "outputs": [],
   "source": [
    "# 26. Implement a program to calculate the discounted price based on different purchase amounts using elif statements."
   ]
  },
  {
   "cell_type": "code",
   "execution_count": 8,
   "id": "2bd0e0da",
   "metadata": {},
   "outputs": [
    {
     "name": "stdout",
     "output_type": "stream",
     "text": [
      "enter purchase amount= 35000\n",
      "The discounted price is 12%\n"
     ]
    }
   ],
   "source": [
    "price=int(input('enter purchase amount= '))\n",
    "\n",
    "if 1500<=price<=2000:\n",
    "    print('The discounted price is 5%')\n",
    "elif 2000<price<=20000:\n",
    "    print('The discounted price is 10%')\n",
    "elif 20000<price<=40000:\n",
    "    print('The discounted price is 12%')\n",
    "else:\n",
    "    print('The discounted price is 15%')"
   ]
  },
  {
   "cell_type": "code",
   "execution_count": 9,
   "id": "0c719151",
   "metadata": {},
   "outputs": [],
   "source": [
    "# 27. Develop a program to calculate the electricity bill based on different consumption slabs using elif statements."
   ]
  },
  {
   "cell_type": "code",
   "execution_count": 11,
   "id": "d95357aa",
   "metadata": {},
   "outputs": [
    {
     "name": "stdout",
     "output_type": "stream",
     "text": [
      "enter units consumed=150\n",
      "The price is Rs 4.50 per unit\n"
     ]
    }
   ],
   "source": [
    "units=int(input('enter units consumed='))\n",
    "\n",
    "if 0<units<=150:\n",
    "    print('The price is Rs 4.50 per unit')\n",
    "elif 150<units<=250:\n",
    "    print('The price is Rs 5 per unit')\n",
    "elif 250<unit<=500:\n",
    "    print('The price is Rs 6.05 per unit')\n",
    "else:\n",
    "    print('The price is rs 6.80 per unit')"
   ]
  },
  {
   "cell_type": "code",
   "execution_count": null,
   "id": "f39be3a6",
   "metadata": {},
   "outputs": [],
   "source": [
    "# 28. Create a program to determine the type of quadrilateral based on its angles and sides using elif statements."
   ]
  },
  {
   "cell_type": "code",
   "execution_count": 14,
   "id": "3817c7ac",
   "metadata": {},
   "outputs": [
    {
     "name": "stdout",
     "output_type": "stream",
     "text": [
      "enter sideAB= 30\n",
      "enter angleA=60\n",
      "enter sideBC= 30\n",
      "enter angleB= 60\n",
      "enter sideCD= 30\n",
      "enter angleC= 70\n",
      "enter sideDA= 30\n",
      "enter angleD= 70\n",
      "This is rhombus\n"
     ]
    }
   ],
   "source": [
    "AB=int(input('enter sideAB= '))\n",
    "angle_A=int(input('enter angleA='))\n",
    "BC=int(input('enter sideBC= '))\n",
    "angle_B=int(input('enter angleB= '))\n",
    "CD=int(input('enter sideCD= '))\n",
    "angle_C=int(input('enter angleC= '))\n",
    "DA=int(input('enter sideDA= '))\n",
    "angle_D=int(input('enter angleD= '))\n",
    "\n",
    "if (AB==CD) and (BC==DA) and angle_A==angle_B==angle_C==angle_D==90:\n",
    "    print('This is rectangle')\n",
    "elif (AB==CD==BC==DA) and angle_A==angle_B==angle_C==angle_D==90:\n",
    "    print('This is square')\n",
    "elif (AB==CD==BC==DA) and (angle_A==angle_B) and (angle_C==angle_D):\n",
    "    print('This is rhombus')\n",
    "else:\n",
    "    pass"
   ]
  },
  {
   "cell_type": "code",
   "execution_count": 1,
   "id": "526277f3",
   "metadata": {},
   "outputs": [],
   "source": [
    "# 29. Write a Python script to determine the season based on a user-provided month using elif statements."
   ]
  },
  {
   "cell_type": "code",
   "execution_count": 2,
   "id": "497bde12",
   "metadata": {},
   "outputs": [
    {
     "name": "stdout",
     "output_type": "stream",
     "text": [
      "enter monthjuly\n",
      "It is summer season\n"
     ]
    }
   ],
   "source": [
    "month=input('enter month')\n",
    "\n",
    "if month=='january' or month=='febuary' or month=='december' or month=='march':\n",
    "    print('It is winter season')\n",
    "elif month=='april' or month=='may' or month=='june' or month=='july':\n",
    "    print('It is summer season')\n",
    "elif month=='august' or month=='september':\n",
    "    print('It is rainy seaon')\n",
    "else:\n",
    "    print('It is autumn season')"
   ]
  },
  {
   "cell_type": "code",
   "execution_count": 3,
   "id": "0b92b421",
   "metadata": {},
   "outputs": [],
   "source": [
    "# 30. Implement a program to determine the type of a year (leap or common) and month (30 or 31 days) using elif statements."
   ]
  },
  {
   "cell_type": "code",
   "execution_count": 7,
   "id": "cfc866fc",
   "metadata": {},
   "outputs": [
    {
     "name": "stdout",
     "output_type": "stream",
     "text": [
      "enter year=2015\n",
      "enter month=january\n",
      "This is not a leap year\n",
      "This month consist of 31 days\n"
     ]
    }
   ],
   "source": [
    "year=int(input('enter year='))\n",
    "month=input('enter month=')\n",
    "\n",
    "if year%4==0 and year%100==0:\n",
    "    print('This is leap year')\n",
    "else:\n",
    "    print('This is not a leap year')\n",
    "    \n",
    "if month=='january' or month=='march' or month=='may' or month=='july' or month=='august' or month=='october' or month=='december':\n",
    "    print('This month consist of 31 days')\n",
    "elif month=='april' or month=='june' or month=='september' or month=='november':\n",
    "    print('This month consist of 30 days')\n",
    "else: \n",
    "    print('This month consist of 28 days')\n"
   ]
  },
  {
   "cell_type": "markdown",
   "id": "5dbf608e",
   "metadata": {},
   "source": [
    "# Basic Level"
   ]
  },
  {
   "cell_type": "code",
   "execution_count": 8,
   "id": "0c58a9f6",
   "metadata": {},
   "outputs": [],
   "source": [
    "# 1. Write a Python program that checks if a given number is positive, negative, or zero."
   ]
  },
  {
   "cell_type": "code",
   "execution_count": 9,
   "id": "3539d641",
   "metadata": {},
   "outputs": [
    {
     "name": "stdout",
     "output_type": "stream",
     "text": [
      "enter number=-20\n",
      "The number is negative\n"
     ]
    }
   ],
   "source": [
    "number=int(input('enter number='))\n",
    "\n",
    "if number<0:\n",
    "    print('The number is negative')\n",
    "elif number==0:\n",
    "    print('The number is zero')\n",
    "else:\n",
    "    print('The number is positive')"
   ]
  },
  {
   "cell_type": "code",
   "execution_count": 10,
   "id": "e7504a01",
   "metadata": {},
   "outputs": [],
   "source": [
    "# 2. Create a program to determine if a person is eligible to vote based on their age."
   ]
  },
  {
   "cell_type": "code",
   "execution_count": 11,
   "id": "48c47032",
   "metadata": {},
   "outputs": [
    {
     "name": "stdout",
     "output_type": "stream",
     "text": [
      "enter age18\n",
      "This person is eligible to vote\n"
     ]
    }
   ],
   "source": [
    "age=int(input('enter age'))\n",
    "\n",
    "if age<18:\n",
    "    print('This person is not eligible to vote')\n",
    "else:\n",
    "    print('This person is eligible to vote')"
   ]
  },
  {
   "cell_type": "code",
   "execution_count": 12,
   "id": "8115967a",
   "metadata": {},
   "outputs": [],
   "source": [
    "# 3. Write a program to find the maximum of two given numbers using conditional statements."
   ]
  },
  {
   "cell_type": "code",
   "execution_count": 13,
   "id": "6018cee1",
   "metadata": {},
   "outputs": [
    {
     "name": "stdout",
     "output_type": "stream",
     "text": [
      "enter number=25\n",
      "enter number=30\n",
      "30  is maximum number\n"
     ]
    }
   ],
   "source": [
    "x=int(input('enter number='))\n",
    "y=int(input('enter number='))\n",
    "\n",
    "if x>y:\n",
    "    print(x,' is maximum number')\n",
    "else:\n",
    "    print(y,' is maximum number')"
   ]
  },
  {
   "cell_type": "code",
   "execution_count": 14,
   "id": "4600a8b9",
   "metadata": {},
   "outputs": [],
   "source": [
    "# 4. Develop a program that calculates the grade of a student based on their exam score."
   ]
  },
  {
   "cell_type": "code",
   "execution_count": 15,
   "id": "1372ffdb",
   "metadata": {},
   "outputs": [
    {
     "name": "stdout",
     "output_type": "stream",
     "text": [
      "enter score=60\n",
      "The grade is B\n"
     ]
    }
   ],
   "source": [
    "score=int(input('enter score='))\n",
    "\n",
    "if 0<=score<=40:\n",
    "    print('The grade is C')\n",
    "elif 40<score<=70:\n",
    "    print('The grade is B')\n",
    "elif 70<score<=90:\n",
    "    print('The grade is A')\n",
    "else:\n",
    "    print('The grade is A+')\n",
    "    "
   ]
  },
  {
   "cell_type": "code",
   "execution_count": 16,
   "id": "738de4a0",
   "metadata": {},
   "outputs": [],
   "source": [
    "# 5. Create a program that checks if a year is a leap year or not."
   ]
  },
  {
   "cell_type": "code",
   "execution_count": 17,
   "id": "f051b1b9",
   "metadata": {},
   "outputs": [
    {
     "name": "stdout",
     "output_type": "stream",
     "text": [
      "enter year=2017\n",
      "This is not a leap year\n"
     ]
    }
   ],
   "source": [
    "year=int(input('enter year='))\n",
    "\n",
    "if year%4==0 and year%100==0:\n",
    "    print('This is leap year')\n",
    "else:\n",
    "    print('This is not a leap year')"
   ]
  },
  {
   "cell_type": "code",
   "execution_count": 18,
   "id": "2384b985",
   "metadata": {},
   "outputs": [],
   "source": [
    "# 6. Write a program to classify a triangle based on its sides' lengths."
   ]
  },
  {
   "cell_type": "code",
   "execution_count": 19,
   "id": "6953e2f6",
   "metadata": {},
   "outputs": [
    {
     "name": "stdout",
     "output_type": "stream",
     "text": [
      "enter side A=20\n",
      "enter side B=40\n",
      "enter side C=20\n",
      "This is isosceles triangle\n"
     ]
    }
   ],
   "source": [
    "A=int(input('enter side A='))\n",
    "B=int(input('enter side B='))\n",
    "C=int(input('enter side C='))\n",
    "\n",
    "if A==B==C:\n",
    "    print('This is eqilateral triangle')\n",
    "elif A==B or B==C or C==A:\n",
    "    print('This is isosceles triangle')\n",
    "else:\n",
    "    print('This is scalene triangle')"
   ]
  },
  {
   "cell_type": "code",
   "execution_count": 1,
   "id": "8f156e9d",
   "metadata": {},
   "outputs": [],
   "source": [
    "# 7. Build a program that determines the largest of three given numbers."
   ]
  },
  {
   "cell_type": "code",
   "execution_count": 2,
   "id": "ba918e91",
   "metadata": {},
   "outputs": [
    {
     "name": "stdout",
     "output_type": "stream",
     "text": [
      "enter number1=100\n",
      "enter number2=200\n",
      "enter number3=500\n",
      "500  is the largest of three given numbers\n"
     ]
    }
   ],
   "source": [
    "num_1=int(input('enter number1='))\n",
    "num_2=int(input('enter number2='))\n",
    "num_3=int(input('enter number3='))\n",
    "\n",
    "if num_1>num_2 and num1>num_3:\n",
    "    print(num_1,' is the largest of three given numbers')\n",
    "elif num_2>num_1 and num_2>num_3:\n",
    "    print(num_2,' is the largest of three given numbers')\n",
    "else:\n",
    "    print(num_3,' is the largest of three given numbers')"
   ]
  },
  {
   "cell_type": "code",
   "execution_count": 3,
   "id": "4924320e",
   "metadata": {},
   "outputs": [],
   "source": [
    "# 8. Develop a program that checks whether a character is a vowel or a consonant."
   ]
  },
  {
   "cell_type": "code",
   "execution_count": 4,
   "id": "7bb88293",
   "metadata": {},
   "outputs": [
    {
     "name": "stdout",
     "output_type": "stream",
     "text": [
      "enter character=o\n",
      "It is vowel\n"
     ]
    }
   ],
   "source": [
    "char=input('enter character=')\n",
    "\n",
    "if char=='a' or char=='e' or char=='i' or char=='o' or char=='u':\n",
    "    print('It is vowel')\n",
    "else:\n",
    "    print('It is consonant')"
   ]
  },
  {
   "cell_type": "code",
   "execution_count": null,
   "id": "a909f8ab",
   "metadata": {},
   "outputs": [],
   "source": [
    "# 9. Create a program to calculate the total cost of a shopping cart based on discounts."
   ]
  },
  {
   "cell_type": "code",
   "execution_count": 5,
   "id": "8e25edcc",
   "metadata": {},
   "outputs": [
    {
     "name": "stdout",
     "output_type": "stream",
     "text": [
      "enter cost=15000\n",
      "10% discount on total cost\n"
     ]
    }
   ],
   "source": [
    "cost=int(input('enter cost='))\n",
    "if 2000<=cost<=7000:\n",
    "    print('5% discount on total cost')\n",
    "elif 7000<cost<=15000:\n",
    "    print('10% discount on total cost')\n",
    "elif 15000<cost<=30000:\n",
    "    print('12% discount on total cost')\n",
    "else:\n",
    "    print('15% discount on total cost')"
   ]
  },
  {
   "cell_type": "code",
   "execution_count": 6,
   "id": "d8223301",
   "metadata": {},
   "outputs": [],
   "source": [
    "# 10. Write a program that checks if a given number is even or odd."
   ]
  },
  {
   "cell_type": "code",
   "execution_count": 9,
   "id": "a2e0cb06",
   "metadata": {},
   "outputs": [
    {
     "name": "stdout",
     "output_type": "stream",
     "text": [
      "enter number=20\n",
      "The number is even\n"
     ]
    }
   ],
   "source": [
    "num=int(input('enter number='))\n",
    "\n",
    "if num%2!=0:\n",
    "    print('The number is odd')\n",
    "else:\n",
    "    print('The number is even')"
   ]
  },
  {
   "cell_type": "markdown",
   "id": "1d199790",
   "metadata": {},
   "source": [
    "# Intermediate Level:"
   ]
  },
  {
   "cell_type": "code",
   "execution_count": null,
   "id": "d4a00c7c",
   "metadata": {},
   "outputs": [],
   "source": [
    "# 11. Write a program that calculates the roots of a quadratic equation ."
   ]
  },
  {
   "cell_type": "code",
   "execution_count": 1,
   "id": "f3eb51e9",
   "metadata": {},
   "outputs": [
    {
     "name": "stdout",
     "output_type": "stream",
     "text": [
      "Quadratic function : (a * x^2) + b*x + c\n",
      "a: 5\n",
      "b: 20\n",
      "c: 10\n",
      "There are 2 roots: -0.585786 and -3.414214\n"
     ]
    }
   ],
   "source": [
    "from math import sqrt\n",
    "\n",
    "print(\"Quadratic function : (a * x^2) + b*x + c\")\n",
    "a = float(input(\"a: \"))\n",
    "b = float(input(\"b: \"))\n",
    "c = float(input(\"c: \"))\n",
    "\n",
    "r = b**2 - 4*a*c\n",
    "\n",
    "if r > 0:\n",
    "    num_roots = 2\n",
    "    x1 = (((-b) + sqrt(r))/(2*a))     \n",
    "    x2 = (((-b) - sqrt(r))/(2*a))\n",
    "    print(\"There are 2 roots: %f and %f\" % (x1, x2))\n",
    "elif r == 0:\n",
    "    num_roots = 1\n",
    "    x = (-b) / 2*a\n",
    "    print(\"There is one root: \", x)\n",
    "else:\n",
    "    num_roots = 0\n",
    "    print(\"No roots, discriminant < 0.\")\n",
    "    exit()"
   ]
  },
  {
   "cell_type": "code",
   "execution_count": 2,
   "id": "226fcd21",
   "metadata": {},
   "outputs": [],
   "source": [
    "# 12. Create a program that determines the day of the week based on the day number (1-7)."
   ]
  },
  {
   "cell_type": "code",
   "execution_count": 6,
   "id": "eb43fdb2",
   "metadata": {},
   "outputs": [
    {
     "name": "stdout",
     "output_type": "stream",
     "text": [
      "enter day number (1-7) =5\n",
      "friday\n"
     ]
    }
   ],
   "source": [
    "day=int(input('enter day number (1-7) ='))\n",
    "if day==1:\n",
    "    print('monday')\n",
    "elif day==2:\n",
    "    print('tuesday')\n",
    "elif day==3:\n",
    "    print('wednesday')\n",
    "elif day==4:\n",
    "    print('thursday')\n",
    "elif day==5:\n",
    "    print('friday')\n",
    "elif day==6:\n",
    "    print('saturday')\n",
    "elif day==7:\n",
    "    print('sunday')\n",
    "else:\n",
    "    print('invalid data')"
   ]
  },
  {
   "cell_type": "code",
   "execution_count": 7,
   "id": "4d5adc1f",
   "metadata": {},
   "outputs": [],
   "source": [
    "# 13. Develop a program that calculates the factorial of a given number using recursion."
   ]
  },
  {
   "cell_type": "code",
   "execution_count": 9,
   "id": "c2d19c61",
   "metadata": {},
   "outputs": [
    {
     "name": "stdout",
     "output_type": "stream",
     "text": [
      "enter number= 5\n",
      "The factorial of given number is  20\n"
     ]
    }
   ],
   "source": [
    "def factorial(n):\n",
    "    if n == 0 or n == 1:\n",
    "        return 1\n",
    "    else:\n",
    "        return n * factorial(n - 1)\n",
    "\n",
    "print(factorial(5)) "
   ]
  },
  {
   "cell_type": "code",
   "execution_count": 15,
   "id": "abaf8a17",
   "metadata": {},
   "outputs": [
    {
     "name": "stdout",
     "output_type": "stream",
     "text": [
      "120\n"
     ]
    }
   ],
   "source": [
    "def factorial(n):\n",
    "    if n==0 or n==1:\n",
    "        return 1\n",
    "    else:\n",
    "        return n * factorial(n-1)\n",
    "print(factorial(5))        "
   ]
  },
  {
   "cell_type": "code",
   "execution_count": null,
   "id": "d47c8955",
   "metadata": {},
   "outputs": [],
   "source": [
    "# 14. Write a program to find the largest among three numbers without using the `max()` function."
   ]
  },
  {
   "cell_type": "code",
   "execution_count": 17,
   "id": "5fc5fda6",
   "metadata": {},
   "outputs": [
    {
     "name": "stdout",
     "output_type": "stream",
     "text": [
      "enter number1=30\n",
      "enter number2=10\n",
      "enter number3=40\n",
      "40  is the largest of three given numbers\n"
     ]
    }
   ],
   "source": [
    "num_1=int(input('enter number1='))\n",
    "num_2=int(input('enter number2='))\n",
    "num_3=int(input('enter number3='))\n",
    "\n",
    "if num_1>num_2 and num_1>num_3:\n",
    "    print(num_1,' is the largest of three given numbers')\n",
    "elif num_2>num_1 and num_2>num_3:\n",
    "    print(num_2,' is the largest of three given numbers')\n",
    "else:\n",
    "    print(num_3,' is the largest of three given numbers')"
   ]
  },
  {
   "cell_type": "code",
   "execution_count": 1,
   "id": "9e161bc8",
   "metadata": {},
   "outputs": [],
   "source": [
    "# 15. Create a program that simulates a basic ATM transaction menu."
   ]
  },
  {
   "cell_type": "code",
   "execution_count": 10,
   "id": "dc12a8f1",
   "metadata": {},
   "outputs": [
    {
     "name": "stdout",
     "output_type": "stream",
     "text": [
      "welcome to Kotak Mahindra Bank\n",
      "enter your 4 digit pin number: 1212\n",
      "1. Withdraw\n",
      "2. Balance Enquiry\n",
      "3. Fast Cash\n",
      "please choose transactions:3\n",
      "1. 5000\n",
      "2. 10000\n",
      "enter fast cash option: 1\n",
      "please take your cash Rs5000\n"
     ]
    }
   ],
   "source": [
    "print('welcome to Kotak Mahindra Bank')\n",
    "pin=int(input('enter your 4 digit pin number: '))\n",
    "balance=50000\n",
    "\n",
    "if pin==1212:\n",
    "    \n",
    "    print('1. Withdraw')\n",
    "    print('2. Balance Enquiry')\n",
    "    print('3. Fast Cash')\n",
    "    select=int(input('please choose transactions:'))\n",
    "    \n",
    "    if select==1:\n",
    "        \n",
    "        \n",
    "        withdraw=int(input('enter your withdraw amount: '))\n",
    "        if (withdraw < balance and withdraw%100==0):\n",
    "        \n",
    "        \n",
    "            print('Please take your amount ')\n",
    "        else:\n",
    "            print('invalid cash')\n",
    "\n",
    "    elif select==2:\n",
    "        print('Your available amount: ',balance)\n",
    "\n",
    "    elif select==3:\n",
    "        \n",
    "        print('1. 5000')\n",
    "        print('2. 10000')\n",
    "        \n",
    "        f=int(input('enter fast cash option: '))\n",
    "        if (f==1 and 5000<balance):\n",
    "            \n",
    "            print('please take your cash Rs5000')\n",
    "        elif (f==2 and 10000<balance):\n",
    "            \n",
    "            print('please take your cash Rs10000')\n",
    "        else:\n",
    "            print('ivalid fast cash option')\n",
    "    else:\n",
    "        print('wrong choice')\n",
    "else:\n",
    "    print('invalid pin')\n",
    "    "
   ]
  },
  {
   "cell_type": "code",
   "execution_count": 11,
   "id": "363e6eb9",
   "metadata": {},
   "outputs": [],
   "source": [
    "# 16. Build a program that checks if a given string is a palindrome or not."
   ]
  },
  {
   "cell_type": "code",
   "execution_count": 13,
   "id": "76e90054",
   "metadata": {},
   "outputs": [
    {
     "name": "stdout",
     "output_type": "stream",
     "text": [
      "enter string: malayalam\n",
      "The given string is palindrome\n"
     ]
    }
   ],
   "source": [
    "string=input('enter string: ')\n",
    "\n",
    "if string==string[::-1]:\n",
    "    print('The given string is palindrome')\n",
    "else:\n",
    "    print('The given string is not palindrome')"
   ]
  },
  {
   "cell_type": "code",
   "execution_count": 14,
   "id": "28dac47a",
   "metadata": {},
   "outputs": [],
   "source": [
    "# 17. Write a program that calculates the average of a list of numbers, excluding the smallest and largest values."
   ]
  },
  {
   "cell_type": "code",
   "execution_count": 17,
   "id": "979ddb55",
   "metadata": {},
   "outputs": [
    {
     "data": {
      "text/plain": [
       "12.5"
      ]
     },
     "execution_count": 17,
     "metadata": {},
     "output_type": "execute_result"
    }
   ],
   "source": [
    "def avg(x):\n",
    "    length=len(x)\n",
    "    high=max(x)\n",
    "    low=min(x)\n",
    "    total=sum(x)\n",
    "    \n",
    "    average=(total-high-low)/(length-2)\n",
    "    return average\n",
    "\n",
    "j=[20,15,10,5]\n",
    "avg(j)"
   ]
  },
  {
   "cell_type": "code",
   "execution_count": 18,
   "id": "71fc6830",
   "metadata": {},
   "outputs": [],
   "source": [
    "# 18. Develop a program that converts a given temperature from Celsius to Fahrenheit."
   ]
  },
  {
   "cell_type": "code",
   "execution_count": 20,
   "id": "0e38f092",
   "metadata": {},
   "outputs": [
    {
     "name": "stdout",
     "output_type": "stream",
     "text": [
      "enter temperature in celsius: 35\n",
      "The temperature in fahrenheit is  95.0\n"
     ]
    }
   ],
   "source": [
    "celsius=int(input('enter temperature in celsius: '))\n",
    "\n",
    "fahrenheit=(1.8 * celsius) + 32\n",
    "\n",
    "print('The temperature in fahrenheit is ',fahrenheit)"
   ]
  },
  {
   "cell_type": "code",
   "execution_count": 21,
   "id": "15b6c4ce",
   "metadata": {},
   "outputs": [],
   "source": [
    "# 19. Create a program that simulates a basic calculator for addition, subtraction, multiplication, and division."
   ]
  },
  {
   "cell_type": "code",
   "execution_count": 22,
   "id": "3b9d905d",
   "metadata": {},
   "outputs": [
    {
     "name": "stdout",
     "output_type": "stream",
     "text": [
      "enter number1: 20\n",
      "enter number2: 10\n",
      "1. Addition\n",
      "2. Subtract\n",
      "3. Multiply\n",
      "4. Divide\n",
      "choose from 1 to 4: 4\n",
      "2.0\n"
     ]
    }
   ],
   "source": [
    "num_1=int(input('enter number1: '))\n",
    "num_2=int(input('enter number2: '))\n",
    "\n",
    "print('1. Addition')\n",
    "print('2. Subtract')\n",
    "print('3. Multiply')\n",
    "print('4. Divide')\n",
    "\n",
    "select=int(input('choose from 1 to 4: '))\n",
    "\n",
    "if select==1:\n",
    "    print(num_1 + num_2)\n",
    "elif select==2:\n",
    "    print(num_1-num_2)\n",
    "elif select==3:\n",
    "    print(num_1*num_2)\n",
    "else:\n",
    "    print(num_1/num_2)"
   ]
  },
  {
   "cell_type": "code",
   "execution_count": 23,
   "id": "ad740e04",
   "metadata": {},
   "outputs": [],
   "source": [
    "# 20. Write a program that determines the roots of a cubic equation using the Cardano formula."
   ]
  },
  {
   "cell_type": "code",
   "execution_count": null,
   "id": "ea993bd2",
   "metadata": {},
   "outputs": [],
   "source": [
    "\n",
    "\n",
    "def solve(a,b,c,d):\n",
    "    Q = (3*a*c - (b**2)) / (9*(a**2))\n",
    "    R = (9*a*b*c - 27*(a**2)*d - 2*(b**3)) / (54*(a**3))\n",
    "    D = (Q**3) + (R**2)\n",
    "    S = (R + (D**(1/2)))**(1/3)\n",
    "    T = (R - (D**(1/2)))**(1/3)\n",
    "\n",
    "    x1 = S + T - (b/(3*a))\n",
    "    x2 = -((S + T)/2) - (b/(3*a)) + 0.5j * (3**(1/2)) * (S - T)\n",
    "    x3 = -((S + T)/2) - (b/(3*a)) - 0.5j * (3**(1/2)) * (S - T)\n",
    "\n",
    "    return (x1,x2,x3)\n",
    "\n",
    "def verify(a,b,c,d,x):\n",
    "    return (a*(x**3) + b*(x**2) + c*x + d)\n",
    "\n",
    "\n",
    "roots = solve(a,b,c,d)\n",
    "\n",
    "for x in roots:\n",
    "    print(verify(a,b,c,d,x))"
   ]
  },
  {
   "cell_type": "markdown",
   "id": "06d7827b",
   "metadata": {},
   "source": [
    "# Advanced Level:"
   ]
  },
  {
   "cell_type": "code",
   "execution_count": 27,
   "id": "42a02432",
   "metadata": {},
   "outputs": [],
   "source": [
    "# 21. Create a program that calculates the income tax based on the user's income and tax brackets."
   ]
  },
  {
   "cell_type": "code",
   "execution_count": 28,
   "id": "096dc443",
   "metadata": {},
   "outputs": [
    {
     "name": "stdout",
     "output_type": "stream",
     "text": [
      "enter income: 1500000\n",
      "The tax is 12% for the user.\n"
     ]
    }
   ],
   "source": [
    "income=int(input('enter income: '))\n",
    "\n",
    "if income<=500000:\n",
    "    print('The tax is NIL for the user.')\n",
    "elif 500000<income<=900000:\n",
    "    print('The tax is 10% for the user.')\n",
    "elif 900000<=income<=1800000:\n",
    "    print('The tax is 12% for the user.')\n",
    "else:\n",
    "    print('The tax is 15% for the user.')"
   ]
  },
  {
   "cell_type": "code",
   "execution_count": 1,
   "id": "160c6b22",
   "metadata": {},
   "outputs": [],
   "source": [
    "# 22. Write a program that simulates a rock-paper-scissors game against the computer."
   ]
  },
  {
   "cell_type": "code",
   "execution_count": 6,
   "id": "178c0113",
   "metadata": {},
   "outputs": [
    {
     "name": "stdout",
     "output_type": "stream",
     "text": [
      "enter rock or paper or scissors: rock\n",
      "Paper covers rock. You lose\n"
     ]
    }
   ],
   "source": [
    "import random\n",
    "user=input('enter rock or paper or scissors: ')\n",
    "outcome=['rock','paper','scissors']\n",
    "\n",
    "computer=random.choice(outcome)\n",
    "\n",
    "if user==computer:\n",
    "    print(f'Both players selected {user}. It is a tie.')\n",
    "elif user=='rock':\n",
    "    if computer=='scissors':\n",
    "        print('Rock smashes scissors. You win')\n",
    "    else:\n",
    "        print('Paper covers rock. You lose')\n",
    "elif user=='paper':\n",
    "    if computer=='rock':\n",
    "        print('Paper covers rock. You win')\n",
    "    else:\n",
    "        print('Scissors cut paper. You lose')\n",
    "else:\n",
    "    if computer=='rock':\n",
    "        print('Rock smashes scissors. You lose')\n",
    "    else:\n",
    "        print('Scissors cut paper. You win')\n"
   ]
  },
  {
   "cell_type": "code",
   "execution_count": 7,
   "id": "125353f5",
   "metadata": {},
   "outputs": [],
   "source": [
    "# 23. Develop a program that generates a random password based on user preferences (length, complexity)."
   ]
  },
  {
   "cell_type": "code",
   "execution_count": 40,
   "id": "5107738f",
   "metadata": {},
   "outputs": [
    {
     "name": "stdout",
     "output_type": "stream",
     "text": [
      "Enter the length of the password: 8\n",
      "A randomly selected password is: CVSJE&Hw\n"
     ]
    }
   ],
   "source": [
    "import random\n",
    "\n",
    "def generatePassword(n):\n",
    "  \n",
    "    characters = \"abcdefghijklmnopqrstuvwxyzABCDEFGHIJKLMNOPQRSTUVWXYZ123456789!@#$%^&*()\"\n",
    "\n",
    "    chosenLetter = random.sample(characters, n)\n",
    "\n",
    "    password = \"\".join(chosenLetter)\n",
    "\n",
    "    return password\n",
    "\n",
    "n = int(input(\"Enter the length of the password: \"))\n",
    "password = generatePassword(n)\n",
    "print(\"A randomly selected password is:\", password)"
   ]
  },
  {
   "cell_type": "code",
   "execution_count": null,
   "id": "081d9af9",
   "metadata": {},
   "outputs": [],
   "source": [
    "# 24. Create a program that implements a simple text-based adventure game with branching scenarios."
   ]
  },
  {
   "cell_type": "code",
   "execution_count": 43,
   "id": "e7c87298",
   "metadata": {},
   "outputs": [
    {
     "name": "stdout",
     "output_type": "stream",
     "text": [
      "\n",
      "Welcome to text based adventure\n",
      "\n",
      "You are standing outside of your house and you see a man running towards you and asking for urgent shelter.\n",
      "\n",
      "Will u provide shelter to him. (yes/no)\n",
      "\n",
      "enter yes or no: no\n",
      "He is trying to  kill u. Will u knock him down or not?\n",
      "write yes or no: yes\n",
      "This is the good thing . You won the Game.\n"
     ]
    }
   ],
   "source": [
    "\n",
    "print('''\n",
    "Welcome to text based adventure\n",
    "\n",
    "You are standing outside of your house and you see a man running towards you and asking for urgent shelter.\n",
    "\n",
    "Will u provide shelter to him. (yes/no)\n",
    "''')\n",
    "output=input('enter yes or no: ')\n",
    "\n",
    "if output=='yes':\n",
    "    print('After 5 minutes , the police came to your house and ask you that whether theif is in your house or not')\n",
    "    tell=input('write yes or no: ')\n",
    "    if tell=='yes':\n",
    "        print('you are an honest person.He was a theif and u won the game.')\n",
    "    else:\n",
    "        print('you helped theif. Now go to jail')\n",
    "else:\n",
    "    print('He is trying to  kill u. Will u knock him down or not?')\n",
    "    tell_1=input('write yes or no: ')\n",
    "    if tell_1=='yes':\n",
    "        print('This is the good thing . You won the Game.')\n",
    "    else:\n",
    "        print('You helped him and later on he murders you. You lose the game')\n",
    "        \n",
    "    \n"
   ]
  },
  {
   "cell_type": "code",
   "execution_count": 1,
   "id": "0306b808",
   "metadata": {},
   "outputs": [],
   "source": [
    "# 25. Build a program that solves a linear equation for x, considering different cases."
   ]
  },
  {
   "cell_type": "code",
   "execution_count": 2,
   "id": "49991056",
   "metadata": {},
   "outputs": [
    {
     "name": "stdout",
     "output_type": "stream",
     "text": [
      "Input the value of a, b, c, d, e, f:\n",
      "2 5 6 4 7 9\n",
      "Values of x and y:\n",
      "0.500 1.000\n"
     ]
    }
   ],
   "source": [
    "print(\"Input the value of a, b, c, d, e, f:\")\n",
    "a, b, c, d, e, f = map(float, input().split())\n",
    "n = a*e - b*d\n",
    "print(\"Values of x and y:\")\n",
    "if n != 0:\n",
    "    x = (c*e - b*f) / n\n",
    "    y = (a*f - c*d) / n\n",
    "    print('{:.3f} {:.3f}'.format(x+0, y+0))"
   ]
  },
  {
   "cell_type": "code",
   "execution_count": 3,
   "id": "91b7f05e",
   "metadata": {},
   "outputs": [],
   "source": [
    "# 26. Write a program that simulates a basic quiz game with multiple-choice questions and scoring."
   ]
  },
  {
   "cell_type": "code",
   "execution_count": 4,
   "id": "752202bb",
   "metadata": {},
   "outputs": [
    {
     "name": "stdout",
     "output_type": "stream",
     "text": [
      "Quiz starts\n",
      "Answer carefully\n",
      "do u want to play: yes or no ? yes\n",
      " Q-1 : What does CPU stands for ?\n",
      "A- central processing unit  B- central play unit  C- central process unitt\n",
      "Type A or B or C : A\n",
      "Correct Answer\n",
      "Q-2 : Keyboard is which device ? \n",
      "A- input device  B- output device\n",
      "type A or B : A\n",
      "Correct Answer\n",
      "You score 2 out of 2.\n"
     ]
    }
   ],
   "source": [
    "print('Quiz starts')\n",
    "print('Answer carefully')\n",
    "score=0\n",
    "question=0\n",
    "start=input('do u want to play: yes or no ? ')\n",
    "if start=='yes':\n",
    "    print(' Q-1 : What does CPU stands for ?')\n",
    "    print('A- central processing unit  B- central play unit  C- central process unitt')\n",
    "    a_1=input('Type A or B or C : ')\n",
    "    if a_1=='A':\n",
    "        score+=1\n",
    "        print('Correct Answer')\n",
    "    elif a_1=='B':\n",
    "        print('Wrong Answer')\n",
    "    else:\n",
    "        print('Wrong Answer')\n",
    "        \n",
    "    print('Q-2 : Keyboard is which device ? ')\n",
    "    print('A- input device  B- output device' )\n",
    "    a_2=input('type A or B : ')\n",
    "    if a_2=='A':\n",
    "        score+=1\n",
    "        print('Correct Answer')\n",
    "    else:\n",
    "        print('Wrong Answer')\n",
    "else:\n",
    "    print('Thank you , you are out of game')\n",
    "\n",
    "\n",
    "print(f'You score {score} out of 2.')    "
   ]
  },
  {
   "cell_type": "code",
   "execution_count": 1,
   "id": "ac5a1d2d",
   "metadata": {},
   "outputs": [],
   "source": [
    "# 27. Develop a program that determines whether a given year is a prime number or not."
   ]
  },
  {
   "cell_type": "code",
   "execution_count": 3,
   "id": "7192c15c",
   "metadata": {},
   "outputs": [
    {
     "name": "stdout",
     "output_type": "stream",
     "text": [
      "enter number: 13\n",
      "It is prime number\n",
      "It is prime number\n",
      "It is prime number\n",
      "It is prime number\n"
     ]
    }
   ],
   "source": [
    "num=int(input('enter number: '))\n",
    "if num>1:\n",
    "    for i in range(2,num//2):\n",
    "        if (num%i)==0:\n",
    "            print('It is not a prime number.')\n",
    "            break\n",
    "            \n",
    "        else:\n",
    "            print('It is prime number')\n",
    "else:\n",
    "    print('It is not a prime number')"
   ]
  },
  {
   "cell_type": "code",
   "execution_count": 4,
   "id": "78f969ec",
   "metadata": {},
   "outputs": [],
   "source": [
    "# 28. Create a program that sorts three numbers in ascending order using conditional statements."
   ]
  },
  {
   "cell_type": "code",
   "execution_count": 7,
   "id": "e93c2382",
   "metadata": {},
   "outputs": [
    {
     "name": "stdout",
     "output_type": "stream",
     "text": [
      "enter num_1: 50\n",
      "enter num_2: 100\n",
      "enter num_3: 20\n",
      "The numbers in ascending order are  20 50 100\n"
     ]
    }
   ],
   "source": [
    "num1=int(input('enter num_1: '))\n",
    "num2=int(input('enter num_2: '))\n",
    "num3=int(input('enter num_3: '))\n",
    "\n",
    "if num1<num2 and num1<num3:\n",
    "    if num2<num3:\n",
    "        x,y,z=num1,num2,num3\n",
    "    else:\n",
    "        x,y,z=num1,num3,num2\n",
    "elif num2<num1 and num2<num3:\n",
    "    if num1<num3:\n",
    "        x,y,z=num2,num1,num3\n",
    "    else:\n",
    "        x,y,z=num2,num3,num1\n",
    "else:\n",
    "    if num1<num2:\n",
    "        x,y,z=num3,num1,num2\n",
    "    else:\n",
    "        x,y,z=num3,num2,num1\n",
    "print('The numbers in ascending order are ',x,y,z)        \n",
    "    "
   ]
  },
  {
   "cell_type": "code",
   "execution_count": null,
   "id": "de17f456",
   "metadata": {},
   "outputs": [],
   "source": [
    "# 29. Build a program that determines the roots of a quartic equation using numerical methods."
   ]
  },
  {
   "cell_type": "code",
   "execution_count": 8,
   "id": "721f8f7f",
   "metadata": {},
   "outputs": [
    {
     "name": "stdout",
     "output_type": "stream",
     "text": [
      "Roots are real and different \n",
      "4.0\n",
      "3.0\n"
     ]
    }
   ],
   "source": [
    "import math\n",
    " \n",
    "def findRoots(a, b, c):\n",
    " \n",
    "    if a == 0:\n",
    "        print(\"Invalid\")\n",
    "        return -1\n",
    "    d = b * b - 4 * a * c\n",
    "    sqrt_val = math.sqrt(abs(d))\n",
    " \n",
    "    if d > 0:\n",
    "        print(\"Roots are real and different \")\n",
    "        print((-b + sqrt_val)/(2 * a))\n",
    "        print((-b - sqrt_val)/(2 * a))\n",
    "    elif d == 0:\n",
    "        print(\"Roots are real and same\")\n",
    "        print(-b / (2*a))\n",
    "    else:  # d<0\n",
    "        print(\"Roots are complex\")\n",
    "        print(- b / (2*a), \" + i\", sqrt_val / (2 * a))\n",
    "        print(- b / (2*a), \" - i\", sqrt_val / (2 * a))\n",
    " \n",
    " \n",
    "\n",
    "if __name__ == '__main__':\n",
    "    a = 1\n",
    "    b = -7\n",
    "    c = 12\n",
    "     \n",
    "    \n",
    "    findRoots(a, b, c)"
   ]
  },
  {
   "cell_type": "code",
   "execution_count": null,
   "id": "c8bc2eea",
   "metadata": {},
   "outputs": [],
   "source": [
    "# 30. Write a program that calculates the BMI (Body Mass Index) and provides health recommendations based\n",
    "#     on the user's input."
   ]
  },
  {
   "cell_type": "code",
   "execution_count": 7,
   "id": "46e7ea02",
   "metadata": {},
   "outputs": [
    {
     "name": "stdout",
     "output_type": "stream",
     "text": [
      "enter height in meters:  1.75\n",
      "enter weight in kilograms: 80\n",
      "Your body mass index is  26.12\n",
      "You are overweight, you must decrease body weight\n"
     ]
    }
   ],
   "source": [
    "height=float(input('enter height in meters:  '))\n",
    "weight=float(input('enter weight in kilograms: '))\n",
    "bmi=round(weight/(height**2),2)\n",
    "print('Your body mass index is ',bmi)\n",
    "if bmi<18.5:\n",
    "    print('You are underweight, you should increase body weight.')\n",
    "elif 18.5<=bmi<25:\n",
    "    print('Your BMI is normal and should maintain it .')\n",
    "elif 25<=bmi<30:\n",
    "    print('You are overweight, you must decrease body weight')\n",
    "else:\n",
    "    print('You are obese, and should decrease body weight as soon as possible.')"
   ]
  },
  {
   "cell_type": "markdown",
   "id": "977ae0c2",
   "metadata": {},
   "source": [
    "# Challenge Level:"
   ]
  },
  {
   "cell_type": "code",
   "execution_count": 8,
   "id": "2c13f093",
   "metadata": {},
   "outputs": [],
   "source": [
    "# 31. Create a program that validates a password based on complexity rules (length, characters, etc.)."
   ]
  },
  {
   "cell_type": "code",
   "execution_count": 12,
   "id": "ef4f3212",
   "metadata": {},
   "outputs": [
    {
     "name": "stdout",
     "output_type": "stream",
     "text": [
      "enter the password: Python123\n",
      "that is valid password\n"
     ]
    }
   ],
   "source": [
    "length=lower=uper=digit=False\n",
    "password=input('enter the password: ')\n",
    "\n",
    "if len(password)>=8:\n",
    "    length=True\n",
    "    \n",
    "    for letter in password:\n",
    "        if letter.islower():\n",
    "            lower=True\n",
    "        elif letter.isupper():\n",
    "            upper=True\n",
    "        elif letter.isdigit():\n",
    "            digit=True\n",
    "else:\n",
    "    print('password is not valid')\n",
    "    \n",
    "if length and lower and upper and digit:\n",
    "    print('that is valid password')"
   ]
  },
  {
   "cell_type": "code",
   "execution_count": 13,
   "id": "c501c44b",
   "metadata": {},
   "outputs": [],
   "source": [
    "#  32. Develop a program that performs matrix addition and subtraction based on user input."
   ]
  },
  {
   "cell_type": "code",
   "execution_count": 17,
   "id": "7d29193c",
   "metadata": {},
   "outputs": [
    {
     "name": "stdout",
     "output_type": "stream",
     "text": [
      "[10, 10, 10]\n",
      "[10, 10, 10]\n",
      "[10, 10, 10]\n"
     ]
    }
   ],
   "source": [
    "\n",
    "X = [[1,2,3],\n",
    "    [4 ,5,6],\n",
    "    [7 ,8,9]]\n",
    " \n",
    "Y = [[9,8,7],\n",
    "    [6,5,4],\n",
    "    [3,2,1]]\n",
    " \n",
    " \n",
    "res  = [[0,0,0],\n",
    "        [0,0,0],\n",
    "        [0,0,0]]\n",
    " \n",
    "\n",
    "for i in range(len(X)):  \n",
    "\n",
    "    for j in range(len(X[0])):\n",
    "        res[i][j] = X[i][j] + Y[i][j]\n",
    " \n",
    "for r in res:\n",
    "    print(r)"
   ]
  },
  {
   "cell_type": "code",
   "execution_count": 18,
   "id": "25f03412",
   "metadata": {},
   "outputs": [],
   "source": [
    "# 33. Write a program that calculates the greatest common divisor (GCD) of two numbers using the Euclidean\n",
    "#     algorithm."
   ]
  },
  {
   "cell_type": "code",
   "execution_count": 21,
   "id": "f9c6f525",
   "metadata": {},
   "outputs": [
    {
     "name": "stdout",
     "output_type": "stream",
     "text": [
      "GCD of 12 & 17 = 1\n",
      "GCD of 4 & 6 = 2\n"
     ]
    }
   ],
   "source": [
    "def gcd(x, y):\n",
    "   gcd = 1   \n",
    "   if x % y == 0:\n",
    "       return y   \n",
    "   for k in range(int(y / 2), 0, -1):\n",
    "       if x % k == 0 and y % k == 0:\n",
    "           gcd = k\n",
    "           break \n",
    "   return gcd\n",
    "print(\"GCD of 12 & 17 =\",gcd(12, 17))\n",
    "print(\"GCD of 4 & 6 =\",gcd(4, 6))\n"
   ]
  },
  {
   "cell_type": "code",
   "execution_count": null,
   "id": "77546e47",
   "metadata": {},
   "outputs": [],
   "source": [
    "# 34. Build a program that performs matrix multiplication using nested loops and conditional statements."
   ]
  },
  {
   "cell_type": "code",
   "execution_count": 22,
   "id": "c0fc5387",
   "metadata": {},
   "outputs": [
    {
     "name": "stdout",
     "output_type": "stream",
     "text": [
      "[114, 160, 60, 27]\n",
      "[74, 97, 73, 14]\n",
      "[119, 157, 112, 23]\n"
     ]
    }
   ],
   "source": [
    "\n",
    "\n",
    "\n",
    "X = [[12,7,3],\n",
    "    [4 ,5,6],\n",
    "    [7 ,8,9]]\n",
    "\n",
    "Y = [[5,8,1,2],\n",
    "    [6,7,3,0],\n",
    "    [4,5,9,1]]\n",
    "\n",
    "result = [[0,0,0,0],\n",
    "         [0,0,0,0],\n",
    "         [0,0,0,0]]\n",
    "\n",
    "\n",
    "for i in range(len(X)):\n",
    "   \n",
    "   for j in range(len(Y[0])):\n",
    "       \n",
    "       for k in range(len(Y)):\n",
    "           result[i][j] += X[i][k] * Y[k][j]\n",
    "\n",
    "for r in result:\n",
    "   print(r)"
   ]
  },
  {
   "cell_type": "code",
   "execution_count": 23,
   "id": "e877dbdf",
   "metadata": {},
   "outputs": [],
   "source": [
    "# 35. Create a program that simulates a basic text-based tic-tac-toe game against the computer."
   ]
  },
  {
   "cell_type": "code",
   "execution_count": 24,
   "id": "765c8d1d",
   "metadata": {},
   "outputs": [
    {
     "name": "stdout",
     "output_type": "stream",
     "text": [
      "- | - | -\n",
      "- | - | -\n",
      "- | - | -\n",
      "X's turn.\n",
      "Choose a position from 1-9: 5\n",
      "- | - | -\n",
      "- | X | -\n",
      "- | - | -\n",
      "O's turn.\n",
      "Choose a position from 1-9: 4\n",
      "- | - | -\n",
      "O | X | -\n",
      "- | - | -\n",
      "X's turn.\n",
      "Choose a position from 1-9: 9\n",
      "- | - | -\n",
      "O | X | -\n",
      "- | - | X\n",
      "O's turn.\n",
      "Choose a position from 1-9: 6\n",
      "- | - | -\n",
      "O | X | O\n",
      "- | - | X\n",
      "X's turn.\n",
      "Choose a position from 1-9: 1\n",
      "X | - | -\n",
      "O | X | O\n",
      "- | - | X\n",
      "X wins!\n"
     ]
    }
   ],
   "source": [
    "board = [\"-\", \"-\", \"-\",\n",
    "         \"-\", \"-\", \"-\",\n",
    "         \"-\", \"-\", \"-\"]\n",
    " \n",
    "# Define a function to print the game board\n",
    "def print_board():\n",
    "    print(board[0] + \" | \" + board[1] + \" | \" + board[2])\n",
    "    print(board[3] + \" | \" + board[4] + \" | \" + board[5])\n",
    "    print(board[6] + \" | \" + board[7] + \" | \" + board[8])\n",
    " \n",
    "# Define a function to handle a player's turn\n",
    "def take_turn(player):\n",
    "    print(player + \"'s turn.\")\n",
    "    position = input(\"Choose a position from 1-9: \")\n",
    "    while position not in [\"1\", \"2\", \"3\", \"4\", \"5\", \"6\", \"7\", \"8\", \"9\"]:\n",
    "        position = input(\"Invalid input. Choose a position from 1-9: \")\n",
    "    position = int(position) - 1\n",
    "    while board[position] != \"-\":\n",
    "        position = int(input(\"Position already taken. Choose a different position: \")) - 1\n",
    "    board[position] = player\n",
    "    print_board()\n",
    " \n",
    "# Define a function to check if the game is over\n",
    "def check_game_over():\n",
    "    # Check for a win\n",
    "    if (board[0] == board[1] == board[2] != \"-\") or \\\n",
    "       (board[3] == board[4] == board[5] != \"-\") or \\\n",
    "       (board[6] == board[7] == board[8] != \"-\") or \\\n",
    "       (board[0] == board[3] == board[6] != \"-\") or \\\n",
    "       (board[1] == board[4] == board[7] != \"-\") or \\\n",
    "       (board[2] == board[5] == board[8] != \"-\") or \\\n",
    "       (board[0] == board[4] == board[8] != \"-\") or \\\n",
    "       (board[2] == board[4] == board[6] != \"-\"):\n",
    "        return \"win\"\n",
    "    # Check for a tie\n",
    "    elif \"-\" not in board:\n",
    "        return \"tie\"\n",
    "    # Game is not over\n",
    "    else:\n",
    "        return \"play\"\n",
    " \n",
    "\n",
    "def play_game():\n",
    "    print_board()\n",
    "    current_player = \"X\"\n",
    "    game_over = False\n",
    "    while not game_over:\n",
    "        take_turn(current_player)\n",
    "        game_result = check_game_over()\n",
    "        if game_result == \"win\":\n",
    "            print(current_player + \" wins!\")\n",
    "            game_over = True\n",
    "        elif game_result == \"tie\":\n",
    "            print(\"It's a tie!\")\n",
    "            game_over = True\n",
    "        else:\n",
    "            # Switch to the other player\n",
    "            current_player = \"O\" if current_player == \"X\" else \"X\"\n",
    " \n",
    "\n",
    "play_game()"
   ]
  },
  {
   "cell_type": "code",
   "execution_count": null,
   "id": "2f67ee81",
   "metadata": {},
   "outputs": [],
   "source": [
    "# 36. Write a program that generates Fibonacci numbers up to a specified term using iterative methods."
   ]
  },
  {
   "cell_type": "code",
   "execution_count": 27,
   "id": "3e0d6f00",
   "metadata": {},
   "outputs": [
    {
     "name": "stdout",
     "output_type": "stream",
     "text": [
      "How many terms? 5\n",
      "Fibonacci sequence:\n",
      "0\n",
      "1\n",
      "1\n",
      "2\n",
      "3\n"
     ]
    }
   ],
   "source": [
    "nterms = int(input(\"How many terms? \"))\n",
    "\n",
    "# first two terms\n",
    "n1, n2 = 0, 1\n",
    "count = 0\n",
    "\n",
    "# check if the number of terms is valid\n",
    "if nterms <= 0:\n",
    "   print(\"Please enter a positive integer\")\n",
    "# if there is only one term, return n1\n",
    "elif nterms == 1:\n",
    "   print(\"Fibonacci sequence upto\",nterms,\":\")\n",
    "   print(n1)\n",
    "# generate fibonacci sequence\n",
    "else:\n",
    "   print(\"Fibonacci sequence:\")\n",
    "   while count < nterms:\n",
    "       print(n1)\n",
    "       nth = n1 + n2\n",
    "       # update values\n",
    "       n1 = n2\n",
    "       n2 = nth\n",
    "       count += 1"
   ]
  },
  {
   "cell_type": "code",
   "execution_count": 28,
   "id": "e03e228a",
   "metadata": {},
   "outputs": [],
   "source": [
    "# 38. Create a program that generates a calendar for a given month and year using conditional statements."
   ]
  },
  {
   "cell_type": "code",
   "execution_count": 31,
   "id": "387f7aab",
   "metadata": {},
   "outputs": [
    {
     "name": "stdout",
     "output_type": "stream",
     "text": [
      "     July 2023\n",
      "Mo Tu We Th Fr Sa Su\n",
      "                1  2\n",
      " 3  4  5  6  7  8  9\n",
      "10 11 12 13 14 15 16\n",
      "17 18 19 20 21 22 23\n",
      "24 25 26 27 28 29 30\n",
      "31\n",
      "\n"
     ]
    }
   ],
   "source": [
    "import calendar\n",
    "\n",
    "yr=2023\n",
    "mnth=7\n",
    "\n",
    "print(calendar.month(yr,mnth))"
   ]
  },
  {
   "cell_type": "code",
   "execution_count": 32,
   "id": "d13f7828",
   "metadata": {},
   "outputs": [],
   "source": [
    "# 39. Build a program that simulates a basic text-based blackjack game against the computer."
   ]
  },
  {
   "cell_type": "code",
   "execution_count": 5,
   "id": "bdc1d9db",
   "metadata": {},
   "outputs": [
    {
     "name": "stdout",
     "output_type": "stream",
     "text": [
      "\n"
     ]
    }
   ],
   "source": [
    "def print_cards(cards, hidden):\n",
    "         \n",
    "    s = \"\"\n",
    "    for card in cards:\n",
    "        s = s + \"\\t ________________\"\n",
    "    if hidden:\n",
    "        s += \"\\t ________________\"\n",
    "    print(s)\n",
    " \n",
    " \n",
    "    s = \"\"\n",
    "    for card in cards:\n",
    "        s = s + \"\\t|                |\"\n",
    "    if hidden:\n",
    "        s += \"\\t|                |\"    \n",
    "    print(s)\n",
    " \n",
    "    s = \"\"\n",
    "    for card in cards:\n",
    "        if card.value == '10':\n",
    "            s = s + \"\\t|  {}            |\".format(card.value)\n",
    "        else:\n",
    "            s = s + \"\\t|  {}             |\".format(card.value)  \n",
    "    if hidden:\n",
    "        s += \"\\t|                |\"    \n",
    "        print(s)\n",
    " \n",
    "    s = \"\"\n",
    "    for card in cards:\n",
    "        s = s + \"\\t|                |\"\n",
    "    if hidden:\n",
    "        s += \"\\t|      * *       |\"\n",
    "        print(s)    \n",
    " \n",
    "    s = \"\"\n",
    "    for card in cards:\n",
    "        s = s + \"\\t|                |\"\n",
    "    if hidden:\n",
    "        s += \"\\t|    *     *     |\"\n",
    "        print(s)    \n",
    " \n",
    "    s = \"\"\n",
    "    for card in cards:\n",
    "        s = s + \"\\t|                |\"\n",
    "    if hidden:\n",
    "        s += \"\\t|   *       *    |\"\n",
    "        print(s)    \n",
    " \n",
    "    s = \"\"\n",
    "    for card in cards:\n",
    "        s = s + \"\\t|                |\"\n",
    "    if hidden:\n",
    "        s += \"\\t|   *       *    |\"\n",
    "        print(s)    \n",
    " \n",
    "    s = \"\"\n",
    "    for card in cards:\n",
    "        s = s + \"\\t|       {}        |\".format(card.suit)\n",
    "    if hidden:\n",
    "        s += \"\\t|          *     |\"\n",
    "        print(s)    \n",
    " \n",
    "    s = \"\"\n",
    "    for card in cards:\n",
    "        s = s + \"\\t|                |\"\n",
    "    if hidden:\n",
    "        s += \"\\t|         *      |\"\n",
    "        print(s)    \n",
    " \n",
    "    s = \"\"\n",
    "    for card in cards:\n",
    "        s = s + \"\\t|                |\"\n",
    "    if hidden:\n",
    "        s += \"\\t|        *       |\"\n",
    "        print(s)\n",
    " \n",
    "    s = \"\"\n",
    "    for card in cards:\n",
    "        s = s + \"\\t|                |\"\n",
    "    if hidden:\n",
    "        s += \"\\t|                |\"\n",
    "        print(s)\n",
    " \n",
    "    s = \"\"\n",
    "    for card in cards:\n",
    "        s = s + \"\\t|                |\"\n",
    "    if hidden:\n",
    "        s += \"\\t|                |\"\n",
    "        print(s)    \n",
    " \n",
    "    s = \"\"\n",
    "    for card in cards:\n",
    "        if card.value == '10':\n",
    "            s = s + \"\\t|            {}  |\".format(card.value)\n",
    "        else:\n",
    "            s = s + \"\\t|            {}   |\".format(card.value)\n",
    "    if hidden:\n",
    "        s += \"\\t|        *       |\"        \n",
    "        print(s)    \n",
    "         \n",
    "    s = \"\"\n",
    "    for card in cards:\n",
    "        s = s + \"\\t|________________|\"\n",
    "    if hidden:\n",
    "        s += \"\\t|________________|\"\n",
    "        print(s)        \n",
    " \n",
    "print()"
   ]
  },
  {
   "cell_type": "code",
   "execution_count": 6,
   "id": "54d1e52f",
   "metadata": {},
   "outputs": [],
   "source": [
    "# 40. Write a program that generates the prime factors of a given number using trial division."
   ]
  },
  {
   "cell_type": "code",
   "execution_count": 7,
   "id": "8ff786cd",
   "metadata": {},
   "outputs": [
    {
     "name": "stdout",
     "output_type": "stream",
     "text": [
      "Composite\n"
     ]
    }
   ],
   "source": [
    "def TrialDivision(N):\n",
    "    i = 2\n",
    "\n",
    "    k = int(N ** 0.5)\n",
    " \n",
    "  \n",
    "    while(i<= k):\n",
    " \n",
    "       \n",
    "        if(N % i == 0):\n",
    "            return 0\n",
    "        i += 1\n",
    " \n",
    " \n",
    "    return 1\n",
    "\n",
    "if __name__ == \"__main__\":\n",
    "    N = 49\n",
    "    p = TrialDivision(N)\n",
    " \n",
    "\n",
    "    if(p):\n",
    "        print(\"Prime\")\n",
    "    else:\n",
    "        print(\"Composite\")"
   ]
  },
  {
   "cell_type": "code",
   "execution_count": null,
   "id": "1ed5a103",
   "metadata": {},
   "outputs": [],
   "source": []
  },
  {
   "cell_type": "code",
   "execution_count": null,
   "id": "42cac8c2",
   "metadata": {},
   "outputs": [],
   "source": []
  }
 ],
 "metadata": {
  "kernelspec": {
   "display_name": "Python 3 (ipykernel)",
   "language": "python",
   "name": "python3"
  },
  "language_info": {
   "codemirror_mode": {
    "name": "ipython",
    "version": 3
   },
   "file_extension": ".py",
   "mimetype": "text/x-python",
   "name": "python",
   "nbconvert_exporter": "python",
   "pygments_lexer": "ipython3",
   "version": "3.9.12"
  }
 },
 "nbformat": 4,
 "nbformat_minor": 5
}
