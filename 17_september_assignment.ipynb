{
 "cells": [
  {
   "cell_type": "markdown",
   "id": "70ef51e8",
   "metadata": {},
   "source": [
    "# For loop"
   ]
  },
  {
   "cell_type": "code",
   "execution_count": 1,
   "id": "090af9a0",
   "metadata": {},
   "outputs": [],
   "source": [
    "# 1. Write a Python program to print numbers from 1 to 10 using a for loop."
   ]
  },
  {
   "cell_type": "code",
   "execution_count": 2,
   "id": "e00ee546",
   "metadata": {},
   "outputs": [
    {
     "name": "stdout",
     "output_type": "stream",
     "text": [
      "1\n",
      "2\n",
      "3\n",
      "4\n",
      "5\n",
      "6\n",
      "7\n",
      "8\n",
      "9\n",
      "10\n"
     ]
    }
   ],
   "source": [
    "for i in range(1,11):\n",
    "    print(i)"
   ]
  },
  {
   "cell_type": "code",
   "execution_count": 3,
   "id": "a5f062c8",
   "metadata": {},
   "outputs": [],
   "source": [
    "# 2. Explain the difference between a for loop and a while loop in Python."
   ]
  },
  {
   "cell_type": "code",
   "execution_count": null,
   "id": "334dfc3f",
   "metadata": {},
   "outputs": [],
   "source": [
    "'''\n",
    "For Loop VS While Loop\n",
    "\n",
    "1)  For loop is used to iterate over a sequence of items such as list, string ,tuple or range. The loop will execute a \n",
    "    block of statements for each item in the sequence whereas While loop is used to repeatedly execute a block of \n",
    "    statements while condition is true. The loop will continue to run as long as the condition remains true.\n",
    "\n",
    "2)  For loop is used for iterating over a fixed sequence of items but while loop is used for more complex control \n",
    "    flow situations.\n",
    "    \n",
    "3)  For loop require a sequence to iterate over whereas while loop requires an initial condition that is tested at\n",
    "    the beginning of the loop. \n",
    "    \n",
    "    \n",
    "    \n",
    "    \n",
    "'''"
   ]
  },
  {
   "cell_type": "code",
   "execution_count": 4,
   "id": "ba7417f8",
   "metadata": {},
   "outputs": [],
   "source": [
    "# 3. Write a Python program to calculate the sum of all numbers from 1 to 100 using a for loop."
   ]
  },
  {
   "cell_type": "code",
   "execution_count": 6,
   "id": "9e78f2f0",
   "metadata": {},
   "outputs": [
    {
     "name": "stdout",
     "output_type": "stream",
     "text": [
      "5050\n"
     ]
    }
   ],
   "source": [
    "s=0\n",
    "for i in range(1,101):\n",
    "    s+=i\n",
    "    \n",
    "print(s)\n",
    "    "
   ]
  },
  {
   "cell_type": "code",
   "execution_count": 8,
   "id": "0df046fb",
   "metadata": {},
   "outputs": [],
   "source": [
    "# 4. How do you iterate through a list using a for loop in Python?"
   ]
  },
  {
   "cell_type": "code",
   "execution_count": 9,
   "id": "3eb5640b",
   "metadata": {},
   "outputs": [
    {
     "name": "stdout",
     "output_type": "stream",
     "text": [
      "1\n",
      "2\n",
      "3\n",
      "4\n",
      "2\n",
      "1\n",
      "3\n",
      "4\n"
     ]
    }
   ],
   "source": [
    "# To iterate through ,let me show you with example\n",
    "l=[1,2,3,4,2,1,3,4]\n",
    "\n",
    "for i in l:\n",
    "    print(i)\n"
   ]
  },
  {
   "cell_type": "code",
   "execution_count": 10,
   "id": "711d7817",
   "metadata": {},
   "outputs": [],
   "source": [
    "# 5. Write a Python program to find the product of all elements in a list using a for loop."
   ]
  },
  {
   "cell_type": "code",
   "execution_count": 11,
   "id": "3cfbf30c",
   "metadata": {},
   "outputs": [
    {
     "name": "stdout",
     "output_type": "stream",
     "text": [
      "24\n"
     ]
    }
   ],
   "source": [
    "l=[2,3,4,1]\n",
    "c=1\n",
    "for i in l:\n",
    "    c=i*c\n",
    "print(c)    \n",
    "    "
   ]
  },
  {
   "cell_type": "code",
   "execution_count": 12,
   "id": "f37e1243",
   "metadata": {},
   "outputs": [],
   "source": [
    "# 6. Create a Python program that prints all even numbers from 1 to 20 using a for loop."
   ]
  },
  {
   "cell_type": "code",
   "execution_count": 13,
   "id": "6b907be3",
   "metadata": {},
   "outputs": [
    {
     "name": "stdout",
     "output_type": "stream",
     "text": [
      "2\n",
      "4\n",
      "6\n",
      "8\n",
      "10\n",
      "12\n",
      "14\n",
      "16\n",
      "18\n",
      "20\n"
     ]
    }
   ],
   "source": [
    "for i in range(1,21):\n",
    "    if i%2==0:\n",
    "        print(i)"
   ]
  },
  {
   "cell_type": "code",
   "execution_count": 14,
   "id": "afbbf6c8",
   "metadata": {},
   "outputs": [],
   "source": [
    "# 7. Write a Python program that calculates the factorial of a number using a for loop."
   ]
  },
  {
   "cell_type": "code",
   "execution_count": 16,
   "id": "76331c5f",
   "metadata": {},
   "outputs": [
    {
     "name": "stdout",
     "output_type": "stream",
     "text": [
      "enter number for factorial: 4\n",
      "The factorial is  24\n"
     ]
    }
   ],
   "source": [
    "n=int(input('enter number for factorial: '))\n",
    "f=1\n",
    "if n==0:\n",
    "    print('The factorial for 0 is 1. ')\n",
    "else:\n",
    "    for i in range(1,n+1):\n",
    "        f=f*i\n",
    "    print('The factorial is ',f)    "
   ]
  },
  {
   "cell_type": "code",
   "execution_count": 17,
   "id": "f045f61c",
   "metadata": {},
   "outputs": [],
   "source": [
    "# 8. How can you iterate through the characters of a string using a for loop in Python?"
   ]
  },
  {
   "cell_type": "code",
   "execution_count": 19,
   "id": "e6285700",
   "metadata": {},
   "outputs": [
    {
     "name": "stdout",
     "output_type": "stream",
     "text": [
      "p\n",
      "w\n",
      "s\n",
      "k\n",
      "i\n",
      "l\n",
      "l\n",
      "s\n"
     ]
    }
   ],
   "source": [
    "# Here is an example to illustrate how to iterate through characters in a string\n",
    "string='pwskills'\n",
    "for i in string:\n",
    "    print(i)"
   ]
  },
  {
   "cell_type": "code",
   "execution_count": 20,
   "id": "bd896fbf",
   "metadata": {},
   "outputs": [],
   "source": [
    "# 9. Write a Python program to find the largest number in a list using a for loop."
   ]
  },
  {
   "cell_type": "code",
   "execution_count": 32,
   "id": "c70a8e91",
   "metadata": {},
   "outputs": [
    {
     "name": "stdout",
     "output_type": "stream",
     "text": [
      "100\n"
     ]
    }
   ],
   "source": [
    "k=[3,10,90,5,-2,4,18,45,100,1,6]\n",
    "\n",
    "l=k[0]\n",
    "\n",
    "for i in k:\n",
    "    if i > l:\n",
    "        l=i\n",
    "        \n",
    "print(l)        "
   ]
  },
  {
   "cell_type": "code",
   "execution_count": 34,
   "id": "a3d64a43",
   "metadata": {},
   "outputs": [],
   "source": [
    "# 10. Create a Python program that prints the Fibonacci sequence up to a specified limit using a for loop."
   ]
  },
  {
   "cell_type": "code",
   "execution_count": 36,
   "id": "a52468f2",
   "metadata": {},
   "outputs": [
    {
     "name": "stdout",
     "output_type": "stream",
     "text": [
      "enter number of elements: 5\n",
      "[0, 1, 1, 2, 3]\n"
     ]
    }
   ],
   "source": [
    "n=int(input('enter number of elements: '))\n",
    "\n",
    "fibonaci=[0,1]\n",
    "\n",
    "if n>2:\n",
    "    for i in range(2,n):\n",
    "        element=fibonaci[i-1] + fibonaci[i-2]\n",
    "        fibonaci.append(element)\n",
    "print(fibonaci)        "
   ]
  },
  {
   "cell_type": "code",
   "execution_count": 37,
   "id": "37818c65",
   "metadata": {},
   "outputs": [],
   "source": [
    "# 11. Write a Python program to count the number of vowels in a given string using a for loop."
   ]
  },
  {
   "cell_type": "code",
   "execution_count": 39,
   "id": "ed59dff1",
   "metadata": {},
   "outputs": [
    {
     "name": "stdout",
     "output_type": "stream",
     "text": [
      "The word is  hello  and it contains  2  vowels in it\n",
      "The word is  everyone  and it contains  4  vowels in it\n",
      "The word is  how  and it contains  1  vowels in it\n",
      "The word is  are  and it contains  2  vowels in it\n",
      "The word is  u  and it contains  1  vowels in it\n"
     ]
    }
   ],
   "source": [
    "string='hello everyone how are u'\n",
    "vowels=['a','e','i','o','u']\n",
    "w=string.split()\n",
    "\n",
    "for i in w:\n",
    "    v=0\n",
    "    for j in range(0,len(i)):\n",
    "        if i[j] in vowels:\n",
    "            v+=1\n",
    "    print('The word is ',i,' and it contains ',v,' vowels in it')        \n",
    "            \n",
    "\n"
   ]
  },
  {
   "cell_type": "code",
   "execution_count": 42,
   "id": "5c5bcd3f",
   "metadata": {},
   "outputs": [],
   "source": [
    "# 12.  Create a Python program that generates a multiplication table for a given number using a for loop."
   ]
  },
  {
   "cell_type": "code",
   "execution_count": 44,
   "id": "a6e06569",
   "metadata": {},
   "outputs": [
    {
     "name": "stdout",
     "output_type": "stream",
     "text": [
      "enter number : 5\n",
      "5 x 1 = 5\n",
      "5 x 2 = 10\n",
      "5 x 3 = 15\n",
      "5 x 4 = 20\n",
      "5 x 5 = 25\n",
      "5 x 6 = 30\n",
      "5 x 7 = 35\n",
      "5 x 8 = 40\n",
      "5 x 9 = 45\n",
      "5 x 10 = 50\n"
     ]
    }
   ],
   "source": [
    "given_num=int(input('enter number : '))\n",
    "\n",
    "for i in range(1,11):\n",
    "    print(given_num,'x', i,'=',given_num*i)"
   ]
  },
  {
   "cell_type": "code",
   "execution_count": 45,
   "id": "57a71ca4",
   "metadata": {},
   "outputs": [],
   "source": [
    "# 13. Write a Python program to reverse a list using a for loop."
   ]
  },
  {
   "cell_type": "code",
   "execution_count": 46,
   "id": "c111fa9b",
   "metadata": {},
   "outputs": [
    {
     "name": "stdout",
     "output_type": "stream",
     "text": [
      "7\n",
      "6\n",
      "5\n",
      "4\n",
      "3\n",
      "2\n",
      "1\n"
     ]
    }
   ],
   "source": [
    "list1 = [1, 2, 3, 4, 5, 6, 7]\n",
    "\n",
    "for i in range(len(list1)-1,-1,-1):\n",
    "    print(list1[i])"
   ]
  },
  {
   "cell_type": "code",
   "execution_count": 50,
   "id": "8766c5b7",
   "metadata": {},
   "outputs": [],
   "source": [
    "# 14. Write a Python program to find the common elements between two lists using a for loop."
   ]
  },
  {
   "cell_type": "code",
   "execution_count": 51,
   "id": "4ce3745a",
   "metadata": {},
   "outputs": [
    {
     "data": {
      "text/plain": [
       "[1, 2, 4]"
      ]
     },
     "execution_count": 51,
     "metadata": {},
     "output_type": "execute_result"
    }
   ],
   "source": [
    "def common(x,y):\n",
    "    elements=[]\n",
    "    for i in x:\n",
    "        if i in y:\n",
    "            elements.append(i)\n",
    "    return elements\n",
    "\n",
    "l1=[1,2,3,4,5]\n",
    "l2=[1,2,0,4,7]\n",
    "\n",
    "common(l1,l2)\n"
   ]
  },
  {
   "cell_type": "code",
   "execution_count": 1,
   "id": "6cfc4634",
   "metadata": {},
   "outputs": [],
   "source": [
    "# 15. Explain how to use a for loop to iterate through the keys and values of a dictionary in Python."
   ]
  },
  {
   "cell_type": "code",
   "execution_count": 2,
   "id": "787c2aa1",
   "metadata": {},
   "outputs": [
    {
     "name": "stdout",
     "output_type": "stream",
     "text": [
      "name corresponds to krish\n",
      "course corresponds to data science\n",
      "coding corresponds to python\n"
     ]
    }
   ],
   "source": [
    "# To iterate through keys and values in dictionary using for loop , let me explain through an example\n",
    "\n",
    "my_dict={'name':'krish','course':'data science','coding':'python'}\n",
    "\n",
    "for key, value in my_dict.items():\n",
    "    print(key,'corresponds to',value)\n"
   ]
  },
  {
   "cell_type": "code",
   "execution_count": 3,
   "id": "dca507e5",
   "metadata": {},
   "outputs": [],
   "source": [
    "# 16. Write a Python program to find the GCD (Greatest Common Divisor) of two numbers using a for loop."
   ]
  },
  {
   "cell_type": "code",
   "execution_count": 5,
   "id": "8faf0bd2",
   "metadata": {},
   "outputs": [
    {
     "name": "stdout",
     "output_type": "stream",
     "text": [
      "12\n"
     ]
    }
   ],
   "source": [
    "def gcd(a,b):\n",
    "    if a>b:\n",
    "        smaller = b\n",
    "    else:\n",
    "        smaller = a\n",
    "    for i in range(1,smaller+1):\n",
    "        if (a%i==0)and (b%i==0):\n",
    "            k=i\n",
    "    return k\n",
    "\n",
    "print(gcd(60,48))"
   ]
  },
  {
   "cell_type": "code",
   "execution_count": 7,
   "id": "fa33e907",
   "metadata": {},
   "outputs": [],
   "source": [
    "# 17. Create a Python program that checks if a string is a palindrome using a for loop."
   ]
  },
  {
   "cell_type": "code",
   "execution_count": null,
   "id": "e2259153",
   "metadata": {},
   "outputs": [],
   "source": []
  },
  {
   "cell_type": "code",
   "execution_count": 10,
   "id": "2c20dc57",
   "metadata": {},
   "outputs": [
    {
     "name": "stdout",
     "output_type": "stream",
     "text": [
      "racecar is a palindrome\n"
     ]
    }
   ],
   "source": [
    "def is_palindrome(s: str) -> bool:\n",
    "    for i in range(len(s) // 2):\n",
    "        if s[i] != s[-i - 1]:\n",
    "            return False\n",
    "    return True\n",
    "\n",
    "string = \"racecar\"\n",
    "if is_palindrome(string):\n",
    "    print(f\"{string} is a palindrome\")\n",
    "else:\n",
    "    print(f\"{string} is not a palindrome\")\n"
   ]
  },
  {
   "cell_type": "code",
   "execution_count": 11,
   "id": "6d852a19",
   "metadata": {},
   "outputs": [],
   "source": [
    "# 18. Write a Python program to remove duplicates from a list using a for loop."
   ]
  },
  {
   "cell_type": "code",
   "execution_count": 12,
   "id": "b1aa2e34",
   "metadata": {},
   "outputs": [
    {
     "data": {
      "text/plain": [
       "[1, 2, 3, 4]"
      ]
     },
     "execution_count": 12,
     "metadata": {},
     "output_type": "execute_result"
    }
   ],
   "source": [
    "k=[1,2,3,4,1,2,3]\n",
    "\n",
    "def remove_duplicates(x):\n",
    "    l1=[]\n",
    "    for i in x:\n",
    "        if i not in l1:\n",
    "            l1.append(i)\n",
    "    return l1\n",
    "\n",
    "remove_duplicates(k)"
   ]
  },
  {
   "cell_type": "code",
   "execution_count": 13,
   "id": "e5a01607",
   "metadata": {},
   "outputs": [],
   "source": [
    "# 19. Create a Python program that counts the number of words in a sentence using a for loop."
   ]
  },
  {
   "cell_type": "code",
   "execution_count": 14,
   "id": "966ed140",
   "metadata": {},
   "outputs": [
    {
     "data": {
      "text/plain": [
       "2"
      ]
     },
     "execution_count": 14,
     "metadata": {},
     "output_type": "execute_result"
    }
   ],
   "source": [
    "def count_num(x):\n",
    "    k=x.split()\n",
    "    c=0\n",
    "    for i in k:\n",
    "        c+=1\n",
    "    return c\n",
    "\n",
    "string='hello everyone'\n",
    "\n",
    "count_num(string)"
   ]
  },
  {
   "cell_type": "code",
   "execution_count": 15,
   "id": "5d374270",
   "metadata": {},
   "outputs": [],
   "source": [
    "# 20. Write a Python program to find the sum of all odd numbers from 1 to 50 using a for loop."
   ]
  },
  {
   "cell_type": "code",
   "execution_count": 18,
   "id": "053ca142",
   "metadata": {},
   "outputs": [
    {
     "name": "stdout",
     "output_type": "stream",
     "text": [
      "The sum of all odd numbers is 625\n"
     ]
    }
   ],
   "source": [
    "c=0\n",
    "for i in range(1,51):\n",
    "    if i%2!=0:\n",
    "        c=i+c\n",
    "        \n",
    "print('The sum of all odd numbers is',c)        "
   ]
  },
  {
   "cell_type": "code",
   "execution_count": 19,
   "id": "b1c34482",
   "metadata": {},
   "outputs": [],
   "source": [
    "# 21. Write a Python program that checks if a given year is a leap year using a for loop."
   ]
  },
  {
   "cell_type": "code",
   "execution_count": 20,
   "id": "04d1fc9b",
   "metadata": {},
   "outputs": [
    {
     "name": "stdout",
     "output_type": "stream",
     "text": [
      "enter year: 2000\n",
      "This is a leap year\n"
     ]
    }
   ],
   "source": [
    "year=int(input('enter year: '))\n",
    "\n",
    "is_leap=False\n",
    "\n",
    "for i in range(0,1):\n",
    "    if (year%100==0) and (year%400==0):\n",
    "        is_leap=True\n",
    "\n",
    "for i in range(0,1):\n",
    "    if (year%4==0) and (year%100!=0):\n",
    "        is_leap=True\n",
    "        \n",
    "if is_leap:\n",
    "    print('This is a leap year')\n",
    "else:\n",
    "    print('This is not a leap year')"
   ]
  },
  {
   "cell_type": "code",
   "execution_count": 1,
   "id": "364a6167",
   "metadata": {},
   "outputs": [],
   "source": [
    "# 22. Create a Python program that calculates the square root of a number using a for loop."
   ]
  },
  {
   "cell_type": "code",
   "execution_count": 6,
   "id": "d413b3d9",
   "metadata": {},
   "outputs": [
    {
     "name": "stdout",
     "output_type": "stream",
     "text": [
      "enter number: 4\n",
      "The square root of c is  2\n"
     ]
    }
   ],
   "source": [
    "c=int(input('enter number: '))\n",
    "def sq_root(x):\n",
    "    for i in range(1,x+1):\n",
    "        if i*i == x:\n",
    "            return i\n",
    "    \n",
    "        elif i*i > x:\n",
    "            return i-1\n",
    "print('The square root of c is ',sq_root(c))    "
   ]
  },
  {
   "cell_type": "code",
   "execution_count": 7,
   "id": "ed49ab31",
   "metadata": {},
   "outputs": [],
   "source": [
    "# 23. Write a Python program to find the LCM (Least Common Multiple) of two numbers using a for loop."
   ]
  },
  {
   "cell_type": "code",
   "execution_count": 8,
   "id": "c1620251",
   "metadata": {},
   "outputs": [
    {
     "name": "stdout",
     "output_type": "stream",
     "text": [
      "The LCM is  216\n"
     ]
    }
   ],
   "source": [
    "def find_lcm(x,y):\n",
    "    if x>y:\n",
    "        greater=x\n",
    "    else:\n",
    "        greater=y\n",
    "        \n",
    "    for num in range(greater,x*y+1):\n",
    "        if (num%x==0) and (num%y==0):\n",
    "            lcm=num\n",
    "            break\n",
    "    return lcm\n",
    "\n",
    "num1=54\n",
    "num2=24\n",
    "print('The LCM is ', find_lcm(num1,num2))"
   ]
  },
  {
   "cell_type": "markdown",
   "id": "65db19c5",
   "metadata": {},
   "source": [
    "# If Else"
   ]
  },
  {
   "cell_type": "code",
   "execution_count": 9,
   "id": "baac0d8c",
   "metadata": {},
   "outputs": [],
   "source": [
    "# 1. Write a Python program to check if a number is positive, negative, or zero using an if-else statement."
   ]
  },
  {
   "cell_type": "code",
   "execution_count": 11,
   "id": "1de898ea",
   "metadata": {},
   "outputs": [
    {
     "name": "stdout",
     "output_type": "stream",
     "text": [
      "enter number: 30\n",
      "The number is positive\n"
     ]
    }
   ],
   "source": [
    "num=int(input('enter number: '))\n",
    "\n",
    "if num<0:\n",
    "    print('The number is negative')\n",
    "elif num==0:\n",
    "    print('The number is zero')\n",
    "else:\n",
    "    print('The number is positive')"
   ]
  },
  {
   "cell_type": "code",
   "execution_count": 12,
   "id": "9ac7f1d5",
   "metadata": {},
   "outputs": [],
   "source": [
    "# 2. Create a Python program that checks if a given number is even or odd using an if-else statement."
   ]
  },
  {
   "cell_type": "code",
   "execution_count": 14,
   "id": "9a6e22e0",
   "metadata": {},
   "outputs": [
    {
     "name": "stdout",
     "output_type": "stream",
     "text": [
      "enter number : -2\n",
      "The number is even\n"
     ]
    }
   ],
   "source": [
    "num=int(input('enter number : '))\n",
    "\n",
    "if num%2==0:\n",
    "    print('The number is even')\n",
    "else:\n",
    "    print('The number is odd')"
   ]
  },
  {
   "cell_type": "code",
   "execution_count": 15,
   "id": "d04b0238",
   "metadata": {},
   "outputs": [],
   "source": [
    "# 3. How can you use nested if-else statements in Python, and provide an example?"
   ]
  },
  {
   "cell_type": "code",
   "execution_count": null,
   "id": "82cbf30d",
   "metadata": {},
   "outputs": [],
   "source": [
    "'''\n",
    "In Python, we can use nested if-else statements to create more complex conditional logic. A nested if-else statement\n",
    "is when an if or else statement is placed inside another if or else statement.\n",
    "This allows you to check multiple conditions and perform different actions based on the outcome of those conditions.\n",
    "'''\n",
    "# example\n",
    "\n"
   ]
  },
  {
   "cell_type": "code",
   "execution_count": 16,
   "id": "2ce0452a",
   "metadata": {},
   "outputs": [
    {
     "name": "stdout",
     "output_type": "stream",
     "text": [
      "x is greater than 5\n",
      "x is greater than 7\n"
     ]
    }
   ],
   "source": [
    "x=10\n",
    "\n",
    "if x>5:\n",
    "    print('x is greater than 5')\n",
    "    \n",
    "    if x>7:\n",
    "        print('x is greater than 7')\n",
    "    else:\n",
    "        print('x is not greater than 7')\n",
    "else:\n",
    "    print('x is not greater than 5')"
   ]
  },
  {
   "cell_type": "code",
   "execution_count": 17,
   "id": "6cdea902",
   "metadata": {},
   "outputs": [],
   "source": [
    "# 4. Write a Python program to determine the largest of three numbers using if-else."
   ]
  },
  {
   "cell_type": "code",
   "execution_count": 18,
   "id": "77d7abd6",
   "metadata": {},
   "outputs": [
    {
     "name": "stdout",
     "output_type": "stream",
     "text": [
      "enter num1 : 100\n",
      "enter num2 : 200\n",
      "enter num2 : 300\n",
      "300 is the largest number\n"
     ]
    }
   ],
   "source": [
    "x=int(input('enter num1 : '))\n",
    "y=int(input('enter num2 : '))\n",
    "z=int(input('enter num2 : '))\n",
    "\n",
    "if x>y and x>z:\n",
    "    print(x,'is the largest number')\n",
    "elif y>x and y>z:\n",
    "    print(y,'is the largest number')\n",
    "else:\n",
    "    print(z,'is the largest number')"
   ]
  },
  {
   "cell_type": "code",
   "execution_count": 19,
   "id": "6a12840a",
   "metadata": {},
   "outputs": [],
   "source": [
    "# 5.Write a Python program that calculates the absolute value of a number using if-else."
   ]
  },
  {
   "cell_type": "code",
   "execution_count": 22,
   "id": "47004cc8",
   "metadata": {},
   "outputs": [
    {
     "name": "stdout",
     "output_type": "stream",
     "text": [
      "enter number : -20\n",
      "The absolute value is  20\n"
     ]
    }
   ],
   "source": [
    "num=int(input('enter number : '))\n",
    "\n",
    "if num<0:\n",
    "    print('The absolute value is ',-(num))\n",
    "else:\n",
    "    print('The absolute value is ',num)"
   ]
  },
  {
   "cell_type": "code",
   "execution_count": 23,
   "id": "43810e76",
   "metadata": {},
   "outputs": [],
   "source": [
    "# 6. Create a Python program that checks if a given character is a vowel or consonant using if-else."
   ]
  },
  {
   "cell_type": "code",
   "execution_count": 24,
   "id": "3b11080a",
   "metadata": {},
   "outputs": [
    {
     "name": "stdout",
     "output_type": "stream",
     "text": [
      "enter character : k\n",
      "The given character is consonant\n"
     ]
    }
   ],
   "source": [
    "char=input('enter character : ')\n",
    "\n",
    "if char=='a' or char=='e' or char=='i' or char=='o' or char=='u':\n",
    "    print('The given character is vowel')\n",
    "else:\n",
    "    print('The given character is consonant')\n",
    "    "
   ]
  },
  {
   "cell_type": "code",
   "execution_count": 25,
   "id": "7ca2d45d",
   "metadata": {},
   "outputs": [],
   "source": [
    "# 7. Write a Python program to determine if a user is eligible to vote based on their age using if-else."
   ]
  },
  {
   "cell_type": "code",
   "execution_count": 27,
   "id": "867389c9",
   "metadata": {},
   "outputs": [
    {
     "name": "stdout",
     "output_type": "stream",
     "text": [
      "enter age of the user : 20\n",
      "The person is eligible to vote.\n"
     ]
    }
   ],
   "source": [
    "age=int(input('enter age of the user : '))\n",
    "\n",
    "if age>=18:\n",
    "    print('The person is eligible to vote.')\n",
    "else:\n",
    "    print('The person is not eligible to vote.')"
   ]
  },
  {
   "cell_type": "code",
   "execution_count": 28,
   "id": "bef890de",
   "metadata": {},
   "outputs": [],
   "source": [
    "# 8. Create a Python program that calculates the discount amount based on the purchase amount using if-else."
   ]
  },
  {
   "cell_type": "code",
   "execution_count": 29,
   "id": "1265bc77",
   "metadata": {},
   "outputs": [
    {
     "name": "stdout",
     "output_type": "stream",
     "text": [
      "enter purchase amount : 20000\n",
      "The discount based on purchase amount is 10% \n"
     ]
    }
   ],
   "source": [
    "purchase=int(input('enter purchase amount : '))\n",
    "\n",
    "if 5000<=purchase<15000:\n",
    "    print('The discount based on purchase amount is 5% ')\n",
    "elif 15000 <= purchase<30000:\n",
    "    print('The discount based on purchase amount is 10% ')\n",
    "else:\n",
    "    print('The discount based on purchase amount is 15% ')"
   ]
  },
  {
   "cell_type": "code",
   "execution_count": 30,
   "id": "82c418fa",
   "metadata": {},
   "outputs": [],
   "source": [
    "# 9. Write a Python program to check if a number is within a specified range using if-else."
   ]
  },
  {
   "cell_type": "code",
   "execution_count": 32,
   "id": "5d479b00",
   "metadata": {},
   "outputs": [
    {
     "name": "stdout",
     "output_type": "stream",
     "text": [
      "The number 7 is within the range of 5 and 10.\n"
     ]
    }
   ],
   "source": [
    "def check_num(number,start,end):\n",
    "    if start <= number <= end:\n",
    "        print(f'The number {number} is within the range of {start} and {end}.')\n",
    "    else:\n",
    "        print(f'The number {number} is not within the range of {start} and {end}.')\n",
    "        \n",
    "number=7\n",
    "start=5\n",
    "end=10\n",
    "check_num(number,start,end)"
   ]
  },
  {
   "cell_type": "code",
   "execution_count": 1,
   "id": "f4dac61b",
   "metadata": {},
   "outputs": [],
   "source": [
    "# 10. Create a Python program that determines the grade of a student based on their score using if-else."
   ]
  },
  {
   "cell_type": "code",
   "execution_count": 4,
   "id": "9d602bb8",
   "metadata": {},
   "outputs": [
    {
     "name": "stdout",
     "output_type": "stream",
     "text": [
      "enter score out of 100 : 80\n",
      "A\n"
     ]
    }
   ],
   "source": [
    "score=int(input('enter score out of 100 : '))\n",
    "\n",
    "if 0<=score<35:\n",
    "    print('Fail')\n",
    "elif 35<=score<60:\n",
    "    print('C')\n",
    "elif 60<=score<80:\n",
    "    print('B')\n",
    "elif 80<=score<90:\n",
    "    print('A')\n",
    "else:\n",
    "    print('A+')"
   ]
  },
  {
   "cell_type": "code",
   "execution_count": 5,
   "id": "bea7d971",
   "metadata": {},
   "outputs": [],
   "source": [
    "# 11. Write a Python program to check if a string is empty or not using if-else."
   ]
  },
  {
   "cell_type": "code",
   "execution_count": 8,
   "id": "f18dfd84",
   "metadata": {},
   "outputs": [
    {
     "name": "stdout",
     "output_type": "stream",
     "text": [
      "enter string : hello\n",
      "The string is not empty\n"
     ]
    }
   ],
   "source": [
    "string=input('enter string : ')\n",
    "\n",
    "if len(string)==0:\n",
    "    print('The string is empty')\n",
    "else:\n",
    "    print('The string is not empty')"
   ]
  },
  {
   "cell_type": "code",
   "execution_count": 9,
   "id": "de248e70",
   "metadata": {},
   "outputs": [],
   "source": [
    "# 12. Create a Python program that identifies the type of a triangle (e.g., equilateral, isosceles, or scalene) \n",
    "#     based on input values using if-else."
   ]
  },
  {
   "cell_type": "code",
   "execution_count": 10,
   "id": "e7186954",
   "metadata": {},
   "outputs": [
    {
     "name": "stdout",
     "output_type": "stream",
     "text": [
      "enter length in cm : 20\n",
      "enter length in cm : 20\n",
      "enter length in cm : 50\n",
      "The triangle is isosceles\n"
     ]
    }
   ],
   "source": [
    "side1=int(input('enter length in cm : '))\n",
    "side2=int(input('enter length in cm : '))\n",
    "side3=int(input('enter length in cm : '))\n",
    "\n",
    "if side1==side2==side3:\n",
    "    print('The triangle is equilateral')\n",
    "elif side1==side2 or side1==side3 or side2==side3:\n",
    "    print('The triangle is isosceles')\n",
    "else:\n",
    "    print('The triangle is scalene')"
   ]
  },
  {
   "cell_type": "code",
   "execution_count": 11,
   "id": "fc78e026",
   "metadata": {},
   "outputs": [],
   "source": [
    "# 13. Write a Python program to determine the day of the week based on a user-provided number using if-else."
   ]
  },
  {
   "cell_type": "code",
   "execution_count": 12,
   "id": "8af69124",
   "metadata": {},
   "outputs": [
    {
     "name": "stdout",
     "output_type": "stream",
     "text": [
      "enter number from 1 to 7 :5\n",
      "The day is Friday\n"
     ]
    }
   ],
   "source": [
    "num=int(input('enter number from 1 to 7 :'))\n",
    "\n",
    "if num==1:\n",
    "    print('The day is Monday')\n",
    "elif num==2:\n",
    "    print('The day is Tuesday')\n",
    "elif num==3:\n",
    "    print('The day is Wednesday')\n",
    "elif num==4:\n",
    "    print('The day is Thursday')\n",
    "elif num==5:\n",
    "    print('The day is Friday')\n",
    "elif num==6:\n",
    "    print('The day is Saturday')\n",
    "else:\n",
    "    print('The day is Sunday')"
   ]
  },
  {
   "cell_type": "code",
   "execution_count": 14,
   "id": "6063dfe6",
   "metadata": {},
   "outputs": [],
   "source": [
    "# 14. Create a Python program that checks if a given year is a leap year using both if-else and a function."
   ]
  },
  {
   "cell_type": "code",
   "execution_count": 15,
   "id": "055e461d",
   "metadata": {},
   "outputs": [
    {
     "data": {
      "text/plain": [
       "'This is leap year'"
      ]
     },
     "execution_count": 15,
     "metadata": {},
     "output_type": "execute_result"
    }
   ],
   "source": [
    "def leap_year(x):\n",
    "    if x%400==0  or (x%100!=0 and x%4==0):\n",
    "        \n",
    "        return 'This is leap year'\n",
    "    else:\n",
    "        return 'This is not a leap year'\n",
    "    \n",
    "leap_year(2020)    "
   ]
  },
  {
   "cell_type": "code",
   "execution_count": 16,
   "id": "f47ef800",
   "metadata": {},
   "outputs": [],
   "source": [
    "# 15. How do you use the \"assert\" statement in Python to add debugging checks within if-else blocks?"
   ]
  },
  {
   "cell_type": "code",
   "execution_count": 20,
   "id": "3f63513a",
   "metadata": {},
   "outputs": [
    {
     "name": "stdout",
     "output_type": "stream",
     "text": [
      "x is less than 10\n"
     ]
    }
   ],
   "source": [
    "x = 5\n",
    "\n",
    "if x > 10:\n",
    "    print(\"x is greater than 10\")\n",
    "else:\n",
    "    assert x < 10, \"x should be less than 10\"\n",
    "    print(\"x is less than 10\")"
   ]
  },
  {
   "cell_type": "code",
   "execution_count": 21,
   "id": "7a49c284",
   "metadata": {},
   "outputs": [],
   "source": [
    "# 16. Create a Python program that determines the eligibility of a person for a senior citizen discount \n",
    "#     based on age using if-else."
   ]
  },
  {
   "cell_type": "code",
   "execution_count": 22,
   "id": "5b6ee40f",
   "metadata": {},
   "outputs": [
    {
     "name": "stdout",
     "output_type": "stream",
     "text": [
      "enter age : 60\n",
      "The person is eligible for senior citizen discount.\n"
     ]
    }
   ],
   "source": [
    "age=int(input('enter age : '))\n",
    "\n",
    "if age>=60:\n",
    "    print('The person is eligible for senior citizen discount.')\n",
    "else:\n",
    "    print('The person is not eligible for senior citizen discount.')"
   ]
  },
  {
   "cell_type": "code",
   "execution_count": 23,
   "id": "840bb94b",
   "metadata": {},
   "outputs": [],
   "source": [
    "# 17. Write a Python program to categorize a given character as uppercase, lowercase, or neither using if-else."
   ]
  },
  {
   "cell_type": "code",
   "execution_count": 25,
   "id": "674809fd",
   "metadata": {},
   "outputs": [
    {
     "name": "stdout",
     "output_type": "stream",
     "text": [
      "enter character : D\n",
      "The character is upper.\n"
     ]
    }
   ],
   "source": [
    "character=input('enter character : ')\n",
    "if character.isupper():\n",
    "    print('The character is upper.')\n",
    "elif character.islower():\n",
    "    print('The character is lower')\n",
    "else:\n",
    "    print('The character is neither upper nor lower')"
   ]
  },
  {
   "cell_type": "code",
   "execution_count": 26,
   "id": "ae9d7328",
   "metadata": {},
   "outputs": [],
   "source": [
    "# 18. Write a Python program to determine the roots of a quadratic equation using if-else."
   ]
  },
  {
   "cell_type": "code",
   "execution_count": 27,
   "id": "3656a9a1",
   "metadata": {},
   "outputs": [
    {
     "name": "stdout",
     "output_type": "stream",
     "text": [
      "Roots are real and same.\n",
      "Root: -1.0\n"
     ]
    }
   ],
   "source": [
    "import math\n",
    "\n",
    "def quadratic_roots(a, b, c):\n",
    "    discriminant = b**2 - 4*a*c\n",
    "    \n",
    "    if discriminant > 0:\n",
    "        root1 = (-b + math.sqrt(discriminant)) / (2*a)\n",
    "        root2 = (-b - math.sqrt(discriminant)) / (2*a)\n",
    "        print(\"Roots are real and different.\")\n",
    "        print(\"Root 1:\", root1)\n",
    "        print(\"Root 2:\", root2)\n",
    "    elif discriminant == 0:\n",
    "        root = -b / (2*a)\n",
    "        print(\"Roots are real and same.\")\n",
    "        print(\"Root:\", root)\n",
    "    else:\n",
    "        print(\"Roots are complex.\")\n",
    "        real_part = -b / (2*a)\n",
    "        imaginary_part = math.sqrt(-discriminant) / (2*a)\n",
    "        print(\"Root 1:\", real_part, \"+\", imaginary_part, \"i\")\n",
    "        print(\"Root 2:\", real_part, \"-\", imaginary_part, \"i\")\n",
    "\n",
    "# Example usage\n",
    "a = 1\n",
    "b = 2\n",
    "c = 1\n",
    "quadratic_roots(a, b, c)\n"
   ]
  },
  {
   "cell_type": "code",
   "execution_count": 28,
   "id": "0288905b",
   "metadata": {},
   "outputs": [],
   "source": [
    "# 19. Create a Python program that checks if a given year is a century year or not using if-else."
   ]
  },
  {
   "cell_type": "code",
   "execution_count": 29,
   "id": "b59bb7b6",
   "metadata": {},
   "outputs": [
    {
     "name": "stdout",
     "output_type": "stream",
     "text": [
      "enter year : 2023\n",
      "This is not a century year\n"
     ]
    }
   ],
   "source": [
    "year=int(input('enter year : '))\n",
    "\n",
    "if year%100==0:\n",
    "    print('This is century year')\n",
    "else:\n",
    "    print('This is not a century year')"
   ]
  },
  {
   "cell_type": "code",
   "execution_count": 30,
   "id": "c0d33766",
   "metadata": {},
   "outputs": [],
   "source": [
    "# 20. Write a Python program to determine if a given number is a perfect square using if-else."
   ]
  },
  {
   "cell_type": "code",
   "execution_count": 31,
   "id": "1400cc89",
   "metadata": {},
   "outputs": [
    {
     "name": "stdout",
     "output_type": "stream",
     "text": [
      "16 is a perfect square.\n"
     ]
    }
   ],
   "source": [
    "def is_perfect_square(number):\n",
    "    i = 1\n",
    "    while i * i < number:\n",
    "        i += 1\n",
    "    if i * i == number:\n",
    "        return True\n",
    "    else:\n",
    "        return False\n",
    "\n",
    "\n",
    "number = 16\n",
    "if is_perfect_square(number):\n",
    "    print(f\"{number} is a perfect square.\")\n",
    "else:\n",
    "    print(f\"{number} is not a perfect square.\")\n"
   ]
  },
  {
   "cell_type": "code",
   "execution_count": 32,
   "id": "a8beeeb2",
   "metadata": {},
   "outputs": [],
   "source": [
    "# 21. Explain the purpose of the \"continue\" and \"break\" statements within if-else loops."
   ]
  },
  {
   "cell_type": "code",
   "execution_count": null,
   "id": "e699b6ba",
   "metadata": {},
   "outputs": [],
   "source": [
    "'''\n",
    "The continue statement is used to skip the current iteration of the loop and move on to the next iteration. It allows you \n",
    "to bypass certain iterations based on a condition, without terminating the entire loop\n",
    "\n",
    "The break statement is used to terminate the loop immediately when it is encountered. It allows you to exit the loop\n",
    "prematurely, skipping any remaining iterations. This can be useful when you want to stop the loop based on a certain condition.\n",
    "\n",
    "'''"
   ]
  },
  {
   "cell_type": "code",
   "execution_count": 33,
   "id": "c77ff767",
   "metadata": {},
   "outputs": [],
   "source": [
    "# 22. Create a Python program that calculates the BMI (Body Mass Index) of a person based \n",
    "#     on their weight and height using if-else."
   ]
  },
  {
   "cell_type": "code",
   "execution_count": 34,
   "id": "a2599457",
   "metadata": {},
   "outputs": [
    {
     "name": "stdout",
     "output_type": "stream",
     "text": [
      "enter weight in kgs : 70\n",
      "enter height in metres : 1.75\n",
      "The person is normal.\n"
     ]
    }
   ],
   "source": [
    "weight=float(input('enter weight in kgs : '))\n",
    "height=float(input('enter height in metres : '))\n",
    "\n",
    "bmi=weight/(height**2)\n",
    "\n",
    "if bmi<18.5:\n",
    "    print('The person is underweight.')\n",
    "elif 18.5<=bmi<25:\n",
    "    print('The person is normal.')\n",
    "elif 25<=bmi<28.5:\n",
    "    print('The person is overweight.')\n",
    "else:\n",
    "    print('The person is obese.')"
   ]
  },
  {
   "cell_type": "code",
   "execution_count": 1,
   "id": "c821dd59",
   "metadata": {},
   "outputs": [],
   "source": [
    "# 23. How can you use the \"filter()\" function with if-else statements to filter elements from a list?"
   ]
  },
  {
   "cell_type": "code",
   "execution_count": 2,
   "id": "00bfc551",
   "metadata": {},
   "outputs": [
    {
     "name": "stdout",
     "output_type": "stream",
     "text": [
      "[2, 4, 6, 8, 10]\n"
     ]
    }
   ],
   "source": [
    "# Here is an example of if else with filter()\n",
    "\n",
    "numbers = [1, 2, 3, 4, 5, 6, 7, 8, 9, 10]\n",
    "\n",
    "\n",
    "filtered_numbers = list(filter(lambda x: True if x % 2 == 0 else False, numbers))\n",
    "\n",
    "print(filtered_numbers)  \n"
   ]
  },
  {
   "cell_type": "code",
   "execution_count": 3,
   "id": "85d8b76e",
   "metadata": {},
   "outputs": [],
   "source": [
    "# 24. Write a Python program to determine if a given number is prime or not using if-else."
   ]
  },
  {
   "cell_type": "code",
   "execution_count": 6,
   "id": "3d104187",
   "metadata": {},
   "outputs": [
    {
     "data": {
      "text/plain": [
       "'It is prime number.'"
      ]
     },
     "execution_count": 6,
     "metadata": {},
     "output_type": "execute_result"
    }
   ],
   "source": [
    "def prime(x):\n",
    "    if x<=1:\n",
    "        return 'It is not a prime number.'\n",
    "    for i in range(2,int(x**0.5)+1):\n",
    "        if x%i==0:\n",
    "            return 'It is not a prime number'\n",
    "        else:\n",
    "            return 'It is prime number.'\n",
    "prime(13)        "
   ]
  },
  {
   "cell_type": "markdown",
   "id": "e09e6b44",
   "metadata": {},
   "source": [
    "# Map"
   ]
  },
  {
   "cell_type": "code",
   "execution_count": 7,
   "id": "ec4b4bca",
   "metadata": {},
   "outputs": [],
   "source": [
    "# 1. Explain the purpose of the `map()` function in Python and provide an example of how it can be used \n",
    "#    to apply a function to each element of an iterable."
   ]
  },
  {
   "cell_type": "code",
   "execution_count": 8,
   "id": "406559e3",
   "metadata": {},
   "outputs": [
    {
     "data": {
      "text/plain": [
       "[2, 3, 4, 5, 6]"
      ]
     },
     "execution_count": 8,
     "metadata": {},
     "output_type": "execute_result"
    }
   ],
   "source": [
    "# The map() function in Python is used to process and transform all the objects in an iterable without\n",
    "#  needing an explicit for loop.\n",
    "\n",
    "li=[1,2,3,4,5]\n",
    "\n",
    "def add_on(x):\n",
    "    return x+1\n",
    "\n",
    "list(map(add_on,li))"
   ]
  },
  {
   "cell_type": "code",
   "execution_count": 9,
   "id": "941ba808",
   "metadata": {},
   "outputs": [],
   "source": [
    "# 2. Write a Python program that uses the `map()` function to square each element of a list of numbers."
   ]
  },
  {
   "cell_type": "code",
   "execution_count": 10,
   "id": "66483052",
   "metadata": {},
   "outputs": [
    {
     "data": {
      "text/plain": [
       "[4, 16, 36, 64, 100]"
      ]
     },
     "execution_count": 10,
     "metadata": {},
     "output_type": "execute_result"
    }
   ],
   "source": [
    "l1=[2,4,6,8,10]\n",
    "\n",
    "def square_item(x):\n",
    "    return x**2\n",
    "\n",
    "list(map(square_item,l1))"
   ]
  },
  {
   "cell_type": "code",
   "execution_count": 11,
   "id": "b5618a1f",
   "metadata": {},
   "outputs": [],
   "source": [
    "# 3. How does the `map()` function differ from a list comprehension in Python, and when would you choose one over the other?"
   ]
  },
  {
   "cell_type": "code",
   "execution_count": null,
   "id": "2ff0f572",
   "metadata": {},
   "outputs": [],
   "source": [
    "'''\n",
    " The map() function applies a given function to each element of an iterable and returns an iterator of the results.\n",
    " On the other hand, list comprehension is a concise way to create lists by applying an expression to each element of\n",
    " an iterable and filtering the results based on a condition.\n",
    " If you need to apply a function to each element of an iterable and return an iterator, use map().\n",
    " If you need to create a new list by applying an expression to each element of an iterable and filtering the results\n",
    " based on a condition, use list comprehension\n",
    "'''"
   ]
  },
  {
   "cell_type": "code",
   "execution_count": 1,
   "id": "dd1575e2",
   "metadata": {},
   "outputs": [],
   "source": [
    "# 4. Create a Python program that uses the `map()` function to convert a list of names to uppercase."
   ]
  },
  {
   "cell_type": "code",
   "execution_count": 3,
   "id": "5f6c13d9",
   "metadata": {},
   "outputs": [
    {
     "data": {
      "text/plain": [
       "['KRISH', 'COURSE', 'SUBJECT', 'DATA SCIENCE']"
      ]
     },
     "execution_count": 3,
     "metadata": {},
     "output_type": "execute_result"
    }
   ],
   "source": [
    "l1=['krish','course','subject','data science']\n",
    "\n",
    "def upper_case(x):\n",
    "     return x.upper()\n",
    "    \n",
    "list(map(upper_case,l1))    "
   ]
  },
  {
   "cell_type": "code",
   "execution_count": 4,
   "id": "9277ec2e",
   "metadata": {},
   "outputs": [],
   "source": [
    "# 5. Write a Python program that uses the `map()` function to calculate the length of each word in a list of strings."
   ]
  },
  {
   "cell_type": "code",
   "execution_count": 5,
   "id": "b86d09f3",
   "metadata": {},
   "outputs": [
    {
     "data": {
      "text/plain": [
       "[5, 6, 12, 6]"
      ]
     },
     "execution_count": 5,
     "metadata": {},
     "output_type": "execute_result"
    }
   ],
   "source": [
    "l2=['krish','course','data science','laptop']\n",
    "\n",
    "def length_case(x):\n",
    "    return len(x)\n",
    "\n",
    "list(map(length_case,l2))"
   ]
  },
  {
   "cell_type": "code",
   "execution_count": 6,
   "id": "d16f4c2b",
   "metadata": {},
   "outputs": [],
   "source": [
    "# 6. How can you use the `map()` function to apply a custom function to elements of multiple lists simultaneously in Python?"
   ]
  },
  {
   "cell_type": "code",
   "execution_count": 7,
   "id": "a951be08",
   "metadata": {},
   "outputs": [
    {
     "data": {
      "text/plain": [
       "[3, 7, 11]"
      ]
     },
     "execution_count": 7,
     "metadata": {},
     "output_type": "execute_result"
    }
   ],
   "source": [
    "# i have illustrate it by example of 2 lists and adding them with the help of map function\n",
    "\n",
    "l1=[1,3,5]\n",
    "l2=[2,4,6]\n",
    "\n",
    "def add_on(x,y):\n",
    "    return x+y\n",
    "\n",
    "list(map(add_on,l1,l2))\n"
   ]
  },
  {
   "cell_type": "code",
   "execution_count": 8,
   "id": "cad87930",
   "metadata": {},
   "outputs": [],
   "source": [
    "# 7. Create a Python program that uses `map()` to convert a list of temperatures from Celsius to Fahrenheit."
   ]
  },
  {
   "cell_type": "code",
   "execution_count": 15,
   "id": "cf3c5930",
   "metadata": {},
   "outputs": [
    {
     "name": "stdout",
     "output_type": "stream",
     "text": [
      "The temperature in fahrenhiet is \n"
     ]
    },
    {
     "data": {
      "text/plain": [
       "[676.0, 1013.9999999999999, 338.0, 169.0]"
      ]
     },
     "execution_count": 15,
     "metadata": {},
     "output_type": "execute_result"
    }
   ],
   "source": [
    "l1=[20,30,10,5]\n",
    "\n",
    "def temp_f(x):\n",
    "    return 33.8*x\n",
    "\n",
    "print('The temperature in fahrenhiet is ')\n",
    "list(map(temp_f,l1))\n"
   ]
  },
  {
   "cell_type": "code",
   "execution_count": 16,
   "id": "d9eb97d0",
   "metadata": {},
   "outputs": [],
   "source": [
    "# 8. Write a Python program that uses the `map()` function to round each element of a list of floating-point numbers\n",
    "#    to the nearest integer."
   ]
  },
  {
   "cell_type": "code",
   "execution_count": 19,
   "id": "88b68436",
   "metadata": {},
   "outputs": [
    {
     "name": "stdout",
     "output_type": "stream",
     "text": [
      "[20, 31, 12, 15]\n"
     ]
    }
   ],
   "source": [
    "float_list=[20.2,30.95,12.36,14.53]\n",
    "\n",
    "rounded_list=list(map(round,float_list))\n",
    "print(rounded_list)"
   ]
  },
  {
   "cell_type": "markdown",
   "id": "8d593ee4",
   "metadata": {},
   "source": [
    "# Reduce"
   ]
  },
  {
   "cell_type": "code",
   "execution_count": 20,
   "id": "f72f9ad7",
   "metadata": {},
   "outputs": [],
   "source": [
    "# 1. What is the `reduce()` function in Python, and what module should you import to use it? \n",
    "#    Provide an example of its basic usage."
   ]
  },
  {
   "cell_type": "code",
   "execution_count": 22,
   "id": "3e735eda",
   "metadata": {},
   "outputs": [
    {
     "name": "stdout",
     "output_type": "stream",
     "text": [
      "10\n"
     ]
    }
   ],
   "source": [
    "# Reduce is a built-in Python function that applies a given function to the elements of an iterable and returns a single value. \n",
    "# It is defined in the functools module\n",
    "\n",
    "from functools import reduce\n",
    "\n",
    "l1=[1,2,3,4]\n",
    "\n",
    "def add_on(x,y):\n",
    "    \n",
    "    return x+y\n",
    "\n",
    "sum_all=reduce(add_on,l1)\n",
    "print(sum_all)"
   ]
  },
  {
   "cell_type": "code",
   "execution_count": 23,
   "id": "32ad6f15",
   "metadata": {},
   "outputs": [],
   "source": [
    "# 2. Write a Python program that uses the `reduce()` function to find the product of all elements in a list."
   ]
  },
  {
   "cell_type": "code",
   "execution_count": 24,
   "id": "295b254e",
   "metadata": {},
   "outputs": [
    {
     "name": "stdout",
     "output_type": "stream",
     "text": [
      "120\n"
     ]
    }
   ],
   "source": [
    "l2=[1,2,3,4,5]\n",
    "\n",
    "\n",
    "def multiply(x,y):\n",
    "    return x*y\n",
    "\n",
    "product_all=reduce(multiply,l2)\n",
    "print(product_all)\n"
   ]
  },
  {
   "cell_type": "code",
   "execution_count": 25,
   "id": "717dd45b",
   "metadata": {},
   "outputs": [],
   "source": [
    "# 3. Create a Python program that uses `reduce()` to find the maximum element in a list of numbers."
   ]
  },
  {
   "cell_type": "code",
   "execution_count": 28,
   "id": "ebf486bd",
   "metadata": {},
   "outputs": [
    {
     "name": "stdout",
     "output_type": "stream",
     "text": [
      "The maximum number is 5\n"
     ]
    }
   ],
   "source": [
    "l2=[1,2,3,4,5]\n",
    "\n",
    "def max_num(x,y):\n",
    "    if x>y:\n",
    "        return x\n",
    "    else:\n",
    "        return y\n",
    "    \n",
    "maximum=reduce(max_num,l2)\n",
    "print('The maximum number is',maximum)"
   ]
  },
  {
   "cell_type": "code",
   "execution_count": 29,
   "id": "da4e539b",
   "metadata": {},
   "outputs": [],
   "source": [
    "# 4. How can you use the `reduce()` function to concatenate a list of strings into a single string?"
   ]
  },
  {
   "cell_type": "code",
   "execution_count": 30,
   "id": "42276301",
   "metadata": {},
   "outputs": [
    {
     "data": {
      "text/plain": [
       "'helloeveryonelaptop'"
      ]
     },
     "execution_count": 30,
     "metadata": {},
     "output_type": "execute_result"
    }
   ],
   "source": [
    "l1=['hello','everyone','laptop']\n",
    "\n",
    "def add_string(x,y):\n",
    "    return x+y\n",
    "reduce(add_string,l1)"
   ]
  },
  {
   "cell_type": "code",
   "execution_count": 31,
   "id": "6aa5a0ff",
   "metadata": {},
   "outputs": [],
   "source": [
    "# 5. Write a Python program that calculates the factorial of a number using the `reduce()` function."
   ]
  },
  {
   "cell_type": "code",
   "execution_count": 35,
   "id": "28f094d5",
   "metadata": {},
   "outputs": [
    {
     "data": {
      "text/plain": [
       "120"
      ]
     },
     "execution_count": 35,
     "metadata": {},
     "output_type": "execute_result"
    }
   ],
   "source": [
    "def factorial(n):\n",
    "    if n==0:\n",
    "        return 1\n",
    "    else:\n",
    "        return reduce(lambda x,y : x*y,range(1,n+1))\n",
    " \n",
    "\n",
    "factorial(5)"
   ]
  },
  {
   "cell_type": "code",
   "execution_count": 36,
   "id": "bc881dfd",
   "metadata": {},
   "outputs": [],
   "source": [
    "# 6. Create a Python program that uses `reduce()` to find the GCD (Greatest Common Divisor) of a list of numbers."
   ]
  },
  {
   "cell_type": "code",
   "execution_count": 37,
   "id": "8a42feb2",
   "metadata": {},
   "outputs": [
    {
     "name": "stdout",
     "output_type": "stream",
     "text": [
      "The GCD of [12, 24, 27, 30, 36] is 3.\n"
     ]
    }
   ],
   "source": [
    "from functools import reduce\n",
    "import math\n",
    "\n",
    "def gcd(a, b):\n",
    "    while b:\n",
    "        a, b = b, a % b\n",
    "    return a\n",
    "\n",
    "def find_gcd(numbers):\n",
    "    return reduce(gcd, numbers)\n",
    "\n",
    "numbers = [12, 24, 27, 30, 36]\n",
    "result = find_gcd(numbers)\n",
    "print(f\"The GCD of {numbers} is {result}.\")\n"
   ]
  },
  {
   "cell_type": "code",
   "execution_count": 39,
   "id": "e5477cb3",
   "metadata": {},
   "outputs": [],
   "source": [
    "# 7. Write a Python program that uses the `reduce()` function to find the sum of the digits of a given number."
   ]
  },
  {
   "cell_type": "code",
   "execution_count": 40,
   "id": "c99d852f",
   "metadata": {},
   "outputs": [
    {
     "data": {
      "text/plain": [
       "140"
      ]
     },
     "execution_count": 40,
     "metadata": {},
     "output_type": "execute_result"
    }
   ],
   "source": [
    "list1=[20,30,40,50]\n",
    "\n",
    "def add(x,y):\n",
    "    return x+y\n",
    "\n",
    "reduce(add,list1)\n"
   ]
  },
  {
   "cell_type": "markdown",
   "id": "bb208c0a",
   "metadata": {},
   "source": [
    "# Filter"
   ]
  },
  {
   "cell_type": "code",
   "execution_count": 41,
   "id": "8a2dc976",
   "metadata": {},
   "outputs": [],
   "source": [
    "# 1. Explain the purpose of the `filter()` function in Python and provide an example of \n",
    "#    how it can be used to filter elements from an iterable."
   ]
  },
  {
   "cell_type": "code",
   "execution_count": 54,
   "id": "9cba4487",
   "metadata": {},
   "outputs": [],
   "source": [
    "# The filter() function takes two arguments: a function and an iterable. The function is applied to each element of \n",
    "# the iterable, and if it returns True, the element is selected by the filter() function. The output of the filter() function \n",
    "# is an iterator containing only the selected elements.\n"
   ]
  },
  {
   "cell_type": "code",
   "execution_count": 57,
   "id": "a4c9648f",
   "metadata": {},
   "outputs": [
    {
     "name": "stdout",
     "output_type": "stream",
     "text": [
      "[2, 4, 6, 8, 10]\n"
     ]
    }
   ],
   "source": [
    "def is_even(n):\n",
    "    return n % 2 == 0\n",
    "\n",
    "numbers = [1, 2, 3, 4, 5, 6, 7, 8, 9, 10]\n",
    "filtered_numbers = filter(is_even, numbers)\n",
    "\n",
    "print(list(filtered_numbers))\n"
   ]
  },
  {
   "cell_type": "code",
   "execution_count": 58,
   "id": "ff939e95",
   "metadata": {},
   "outputs": [],
   "source": [
    "# 2. Write a Python program that uses the `filter()` function to select even numbers from a list of integers."
   ]
  },
  {
   "cell_type": "code",
   "execution_count": 60,
   "id": "7364432a",
   "metadata": {},
   "outputs": [
    {
     "data": {
      "text/plain": [
       "[2, 4, 6, 8, 10]"
      ]
     },
     "execution_count": 60,
     "metadata": {},
     "output_type": "execute_result"
    }
   ],
   "source": [
    "def not_odd(x):\n",
    "    return x%2==0\n",
    "\n",
    "num=[1,2,3,4,5,6,7,8,9,10]\n",
    "\n",
    "list(filter(not_odd,num))"
   ]
  },
  {
   "cell_type": "code",
   "execution_count": 61,
   "id": "a8905e19",
   "metadata": {},
   "outputs": [],
   "source": [
    "# 3. Create a Python program that uses the `filter()` function to select names that start with a specific letter\n",
    "#    from a list of strings."
   ]
  },
  {
   "cell_type": "code",
   "execution_count": 62,
   "id": "2965cdd5",
   "metadata": {},
   "outputs": [
    {
     "name": "stdout",
     "output_type": "stream",
     "text": [
      "The letter starts with s are :  ['sapple', 'smango']\n",
      "The letter not starts with s are : ['orange', 'grape']\n"
     ]
    }
   ],
   "source": [
    "fruits=['sapple','orange','smango','grape']\n",
    "\n",
    "start='s'\n",
    "\n",
    "with_s=list(filter(lambda x: x.startswith(start),fruits))\n",
    "without_s=list(filter(lambda x: not x.startswith(start),fruits))\n",
    "\n",
    "print('The letter starts with s are : ',with_s)\n",
    "print('The letter not starts with s are :',without_s)"
   ]
  },
  {
   "cell_type": "code",
   "execution_count": 63,
   "id": "43192a4c",
   "metadata": {},
   "outputs": [],
   "source": [
    "# 4. Write a Python program that uses the `filter()` function to select prime numbers from a list of integers."
   ]
  },
  {
   "cell_type": "code",
   "execution_count": 73,
   "id": "dc1d260a",
   "metadata": {},
   "outputs": [
    {
     "name": "stdout",
     "output_type": "stream",
     "text": [
      "[2, 3, 5, 7]\n"
     ]
    }
   ],
   "source": [
    "word=[1,2,3,4,5,6,7,8,9,10]\n",
    "\n",
    "def prime(x):\n",
    "    if x<2:\n",
    "        return False\n",
    "    \n",
    "    for i in range(2,int(x**0.5)+1):\n",
    "        if x%i==0:\n",
    "            return False\n",
    "    else:\n",
    "        return True\n",
    " \n",
    "        \n",
    "list_prime=list(filter(prime,word))\n",
    "print(str(list_prime))"
   ]
  },
  {
   "cell_type": "code",
   "execution_count": 74,
   "id": "da055703",
   "metadata": {},
   "outputs": [],
   "source": [
    "# 5. How can you use the `filter()` function to remove None values from a list in Python?"
   ]
  },
  {
   "cell_type": "code",
   "execution_count": 75,
   "id": "2e0fa8ef",
   "metadata": {},
   "outputs": [
    {
     "data": {
      "text/plain": [
       "[1, 3, 5, 7]"
      ]
     },
     "execution_count": 75,
     "metadata": {},
     "output_type": "execute_result"
    }
   ],
   "source": [
    "list1=[1,None,3,None,5,None,7]\n",
    "def remove(x):\n",
    "    if x==None:\n",
    "        return False\n",
    "    else:\n",
    "        return True\n",
    "\n",
    "list_without=list(filter(remove,list1))\n",
    "list_without"
   ]
  },
  {
   "cell_type": "code",
   "execution_count": 76,
   "id": "fe850a0a",
   "metadata": {},
   "outputs": [],
   "source": [
    "# 6. Create a Python program that uses `filter()` to select words longer than a certain length from a list of strings."
   ]
  },
  {
   "cell_type": "code",
   "execution_count": 78,
   "id": "d7783df5",
   "metadata": {},
   "outputs": [
    {
     "name": "stdout",
     "output_type": "stream",
     "text": [
      "['hello', 'everyone', 'course', 'data science']\n"
     ]
    }
   ],
   "source": [
    "list1=['hello','everyone','my','name','course','data science']\n",
    "\n",
    "def length(x):\n",
    "    if len(x)<=4:\n",
    "        return False\n",
    "    else:\n",
    "        return True\n",
    "\n",
    "list_more_than_4words=list(filter(length,list1))\n",
    "print(list_more_than_4words)"
   ]
  },
  {
   "cell_type": "code",
   "execution_count": 79,
   "id": "f1ba9472",
   "metadata": {},
   "outputs": [],
   "source": [
    "# 7. Write a Python program that uses the `filter()` function to select elements greater than a specified threshold \n",
    "#    from a list of values."
   ]
  },
  {
   "cell_type": "code",
   "execution_count": 81,
   "id": "9a462822",
   "metadata": {},
   "outputs": [
    {
     "name": "stdout",
     "output_type": "stream",
     "text": [
      "[5, 6, 7]\n"
     ]
    }
   ],
   "source": [
    "def thresh(x):\n",
    "    if x<5:\n",
    "        return False\n",
    "    else:\n",
    "        return True\n",
    "list2=[1,2,3,4,5,6,7]    \n",
    "data=list(filter(thresh,list2))\n",
    "print(data)"
   ]
  },
  {
   "cell_type": "markdown",
   "id": "180a26d0",
   "metadata": {},
   "source": [
    "# Recursion"
   ]
  },
  {
   "cell_type": "code",
   "execution_count": 1,
   "id": "9b836cb5",
   "metadata": {},
   "outputs": [],
   "source": [
    "# 1. Explain the concept of recursion in Python. How does it differ from iteration?"
   ]
  },
  {
   "cell_type": "code",
   "execution_count": null,
   "id": "d5148914",
   "metadata": {},
   "outputs": [],
   "source": [
    "'''\n",
    "Recursion is a process in which a function calls itself directly or indirectly to solve a problem by breaking it down into\n",
    "smaller sub-problems. It involves two main steps: defining the base case(s) and the recursive case(s). Recursive functions\n",
    "make the code look simple and effective1. They are useful when a complicated function can be split into smaller sub-problems.\n",
    "Sequence creation is simpler through recursion than utilizing any nested iteration\n",
    "\n",
    "\n",
    "Both recursion and iteration have their own advantages and disadvantages. Recursive functions can be challenging to debug \n",
    "and may consume more memory and time compared to iterative functions. However, they can simplify complex problems and make\n",
    "the code more elegant. Iterative functions, on the other hand, are generally easier to understand and debug\n",
    "'''"
   ]
  },
  {
   "cell_type": "code",
   "execution_count": 2,
   "id": "96200ce7",
   "metadata": {},
   "outputs": [],
   "source": [
    "# 2. Write a Python program to calculate the factorial of a number using recursion."
   ]
  },
  {
   "cell_type": "code",
   "execution_count": 3,
   "id": "127c4b2f",
   "metadata": {},
   "outputs": [
    {
     "data": {
      "text/plain": [
       "120"
      ]
     },
     "execution_count": 3,
     "metadata": {},
     "output_type": "execute_result"
    }
   ],
   "source": [
    "def factor(n):\n",
    "    if n==1 or n==0:\n",
    "        return 1\n",
    "    else:\n",
    "        return n * factor(n-1)\n",
    "factor(5)    "
   ]
  },
  {
   "cell_type": "code",
   "execution_count": 4,
   "id": "fa79049e",
   "metadata": {},
   "outputs": [],
   "source": [
    "# 3. Create a recursive Python function to find the nth Fibonacci number."
   ]
  },
  {
   "cell_type": "code",
   "execution_count": 6,
   "id": "5b021769",
   "metadata": {},
   "outputs": [
    {
     "data": {
      "text/plain": [
       "3"
      ]
     },
     "execution_count": 6,
     "metadata": {},
     "output_type": "execute_result"
    }
   ],
   "source": [
    "def fibonaci(x):\n",
    "    if x<=0:\n",
    "        return 'incorrect input'\n",
    "    elif x==1:\n",
    "        return 0\n",
    "    elif x==2:\n",
    "        return 1\n",
    "    else:\n",
    "        return fibonaci(x-1)+fibonaci(x-2)\n",
    "    \n",
    "fibonaci(5)    "
   ]
  },
  {
   "cell_type": "code",
   "execution_count": 7,
   "id": "2221cfd0",
   "metadata": {},
   "outputs": [],
   "source": [
    "# 4. Write a recursive Python function to calculate the sum of all elements in a list."
   ]
  },
  {
   "cell_type": "code",
   "execution_count": 8,
   "id": "8df87d2a",
   "metadata": {},
   "outputs": [
    {
     "data": {
      "text/plain": [
       "15"
      ]
     },
     "execution_count": 8,
     "metadata": {},
     "output_type": "execute_result"
    }
   ],
   "source": [
    "def sum_list(x):\n",
    "    if len(x)==0:\n",
    "        return 0\n",
    "    else:\n",
    "        return x[0]+ sum_list(x[1:])\n",
    "list1=[1,2,3,4,5]\n",
    "\n",
    "sum_list(list1)\n",
    "    "
   ]
  },
  {
   "cell_type": "code",
   "execution_count": 9,
   "id": "534a4f79",
   "metadata": {},
   "outputs": [],
   "source": [
    "# 5. How can you prevent a recursive function from running indefinitely, causing a stack overflow error?"
   ]
  },
  {
   "cell_type": "code",
   "execution_count": null,
   "id": "b4328b67",
   "metadata": {},
   "outputs": [],
   "source": [
    "'''\n",
    "To prevent a recursive function from running indefinitely and causing a stack overflow error, you can consider the following \n",
    "approaches:\n",
    "\n",
    "Base case:\n",
    "          Ensure that your recursive function has a well-defined base case that will terminate the recursion. \n",
    "          The base case should be a condition that can be evaluated to either True or False. \n",
    "Limiting recursion depth: \n",
    "                           You can set a maximum recursion depth to prevent the function from going too deep into the call stack.\n",
    "                           In some programming languages, such as Python, you can use the sys.setrecursionlimit() function to\n",
    "                           set the maximum depth of the call stack.\n",
    "\n",
    "Tail recursion optimization: \n",
    "                             If your recursive function is tail-recursive, you can optimize it by converting it into an \n",
    "                             iterative loop. Tail recursion occurs when the recursive call is the last operation performed in \n",
    "                             the function.\n",
    "'''"
   ]
  },
  {
   "cell_type": "code",
   "execution_count": 11,
   "id": "bce819a4",
   "metadata": {},
   "outputs": [],
   "source": [
    "# 6. Create a recursive Python function to find the greatest common divisor (GCD) of two numbers using the Euclidean algorithm."
   ]
  },
  {
   "cell_type": "code",
   "execution_count": 12,
   "id": "1b7e9bfc",
   "metadata": {},
   "outputs": [
    {
     "data": {
      "text/plain": [
       "5"
      ]
     },
     "execution_count": 12,
     "metadata": {},
     "output_type": "execute_result"
    }
   ],
   "source": [
    "def gcd(x, y):\n",
    "    if y == 0:\n",
    "        return x\n",
    "    else:\n",
    "        return gcd(y, x % y)\n",
    "\n",
    "gcd(5,15)    "
   ]
  },
  {
   "cell_type": "code",
   "execution_count": 13,
   "id": "b9533764",
   "metadata": {},
   "outputs": [],
   "source": [
    "# 7. Write a recursive Python function to reverse a string."
   ]
  },
  {
   "cell_type": "code",
   "execution_count": 15,
   "id": "046d8a2e",
   "metadata": {},
   "outputs": [
    {
     "data": {
      "text/plain": [
       "'dlrowolleh'"
      ]
     },
     "execution_count": 15,
     "metadata": {},
     "output_type": "execute_result"
    }
   ],
   "source": [
    "def string_rev(x):\n",
    "    if len(x)==0:\n",
    "        return x\n",
    "    else:\n",
    "        return string_rev(x[1:])+x[0]\n",
    "\n",
    "string_rev('helloworld')    "
   ]
  },
  {
   "cell_type": "code",
   "execution_count": 17,
   "id": "f67e89b6",
   "metadata": {},
   "outputs": [],
   "source": [
    "# 8. Create a recursive Python function to calculate the power of a number (x^n)."
   ]
  },
  {
   "cell_type": "code",
   "execution_count": 19,
   "id": "1bfceb4e",
   "metadata": {},
   "outputs": [
    {
     "data": {
      "text/plain": [
       "125"
      ]
     },
     "execution_count": 19,
     "metadata": {},
     "output_type": "execute_result"
    }
   ],
   "source": [
    "def power(x,n):\n",
    "    if n==0:\n",
    "        return 1\n",
    "    elif n<0:\n",
    "        return 1/power(x,-n)\n",
    "    elif n%2==0:\n",
    "        return power(x*x,n//2)\n",
    "    else:\n",
    "        return x*power(x,n-1)\n",
    "    \n",
    "power(5,3)    "
   ]
  },
  {
   "cell_type": "code",
   "execution_count": 20,
   "id": "d43c650c",
   "metadata": {},
   "outputs": [],
   "source": [
    "# 9. Write a recursive Python function to find all permutations of a given string."
   ]
  },
  {
   "cell_type": "code",
   "execution_count": 21,
   "id": "cefe4c13",
   "metadata": {},
   "outputs": [
    {
     "name": "stdout",
     "output_type": "stream",
     "text": [
      "['abc', 'acb', 'bac', 'bca', 'cab', 'cba']\n"
     ]
    }
   ],
   "source": [
    "def get_permutations(string):\n",
    "    # Base case: If the string has only one character, return the string itself\n",
    "    if len(string) == 1:\n",
    "        return [string]\n",
    "\n",
    "    # Recursive case: Generate permutations by swapping each character with the first character\n",
    "    permutations = []\n",
    "    for i in range(len(string)):\n",
    "        first_char = string[i]\n",
    "        remaining_chars = string[:i] + string[i+1:]\n",
    "        for perm in get_permutations(remaining_chars):\n",
    "            permutations.append(first_char + perm)\n",
    "\n",
    "    return permutations\n",
    "\n",
    "# Example usage:\n",
    "input_string = \"abc\"\n",
    "all_permutations = get_permutations(input_string)\n",
    "print(all_permutations)\n"
   ]
  },
  {
   "cell_type": "code",
   "execution_count": 22,
   "id": "888f6824",
   "metadata": {},
   "outputs": [],
   "source": [
    "# 10. Write a recursive Python function to check if a string is a palindrome."
   ]
  },
  {
   "cell_type": "code",
   "execution_count": 23,
   "id": "b25eed05",
   "metadata": {},
   "outputs": [
    {
     "data": {
      "text/plain": [
       "True"
      ]
     },
     "execution_count": 23,
     "metadata": {},
     "output_type": "execute_result"
    }
   ],
   "source": [
    "def is_palindrome(string):\n",
    "    if len(string) < 2:\n",
    "        return True\n",
    "    if string[0] != string[-1]:\n",
    "        return False\n",
    "    return is_palindrome(string[1:-1])\n",
    "is_palindrome('malayalam')"
   ]
  },
  {
   "cell_type": "code",
   "execution_count": 24,
   "id": "7012ae53",
   "metadata": {},
   "outputs": [],
   "source": [
    "# 11. Create a recursive Python function to generate all possible combinations of a list of elements."
   ]
  },
  {
   "cell_type": "code",
   "execution_count": 25,
   "id": "ae2f0f4b",
   "metadata": {},
   "outputs": [
    {
     "name": "stdout",
     "output_type": "stream",
     "text": [
      "[[], [1], [2], [1, 2], [3], [1, 3], [2, 3], [1, 2, 3]]\n"
     ]
    }
   ],
   "source": [
    "def combinations(lst):\n",
    "    if lst:\n",
    "        result = combinations(lst[:-1])\n",
    "        return result + [c + [lst[-1]] for c in result]\n",
    "    else:\n",
    "        return [[]]\n",
    "\n",
    "print(combinations([1, 2, 3]))\n"
   ]
  },
  {
   "cell_type": "markdown",
   "id": "f6e42fc4",
   "metadata": {},
   "source": [
    "# Basics of Functions:"
   ]
  },
  {
   "cell_type": "code",
   "execution_count": 1,
   "id": "fdb58332",
   "metadata": {},
   "outputs": [],
   "source": [
    "# 1. What is a function in Python, and why is it used?"
   ]
  },
  {
   "cell_type": "code",
   "execution_count": null,
   "id": "aceeee3f",
   "metadata": {},
   "outputs": [],
   "source": [
    "'''\n",
    "A function in Python is a block of code that performs a specific task. It allows you to group related tasks together and\n",
    "reuse the code contained in it over and over again1. Functions are an essential part of programming as they help break down\n",
    "complex programs into smaller, more manageable modules\n",
    "'''"
   ]
  },
  {
   "cell_type": "code",
   "execution_count": 2,
   "id": "2e54373f",
   "metadata": {},
   "outputs": [],
   "source": [
    "# 2. How do you define a function in Python? Provide an example."
   ]
  },
  {
   "cell_type": "code",
   "execution_count": 6,
   "id": "9aceba49",
   "metadata": {},
   "outputs": [
    {
     "name": "stdout",
     "output_type": "stream",
     "text": [
      "My name is krish\n"
     ]
    }
   ],
   "source": [
    "# A function in Python is a block of code that performs a certain task or a group of related tasks. It is defined using \n",
    "# the def keyword, followed by the function name and parentheses.\n",
    "# Example\n",
    "\n",
    "def name(x):\n",
    "    print('My name is', x)\n",
    "\n",
    "name('krish')"
   ]
  },
  {
   "cell_type": "code",
   "execution_count": 7,
   "id": "29853bf9",
   "metadata": {},
   "outputs": [],
   "source": [
    "# 3. Explain the difference between a function definition and a function call."
   ]
  },
  {
   "cell_type": "code",
   "execution_count": null,
   "id": "82cd07e7",
   "metadata": {},
   "outputs": [],
   "source": [
    "'''\n",
    "A function definition is a piece of code that defines a function, enhancing the reusability and modularity of your program.\n",
    "It allows you to write a block of code once and use it multiple times without having to rewrite it. A function definition is\n",
    "like a blueprint or a template that describes how the function should behave when called.\n",
    "\n",
    "On the other hand, a function call is when you invoke or execute a function. It means you are instructing the computer to run\n",
    "the set of actions defined within the function. A function call is used to achieve a specific task at any point in your program.\n",
    "When you call a function, you are telling the computer to execute that set of actions\n",
    "'''"
   ]
  },
  {
   "cell_type": "code",
   "execution_count": 1,
   "id": "5e01ac00",
   "metadata": {},
   "outputs": [],
   "source": [
    "# 4. Write a Python program that defines a function to calculate the sum of two numbers and then calls the function."
   ]
  },
  {
   "cell_type": "code",
   "execution_count": 2,
   "id": "63a646e8",
   "metadata": {},
   "outputs": [
    {
     "data": {
      "text/plain": [
       "12"
      ]
     },
     "execution_count": 2,
     "metadata": {},
     "output_type": "execute_result"
    }
   ],
   "source": [
    "def addition(a,b):\n",
    "    return a+b\n",
    "\n",
    "addition(5,7)"
   ]
  },
  {
   "cell_type": "code",
   "execution_count": 3,
   "id": "b0c57c91",
   "metadata": {},
   "outputs": [],
   "source": [
    "# 5. What is a function signature, and what information does it typically include?"
   ]
  },
  {
   "cell_type": "code",
   "execution_count": 4,
   "id": "c210c26b",
   "metadata": {},
   "outputs": [
    {
     "data": {
      "text/plain": [
       "'A function signature is a part of a function declaration that the compiler uses to perform overload resolution. It includes\\nthe types of the function’s parameters and, if the function is a class member, the cv-qualifiers (if any) on the function\\nitself and the class in which the member function is declared'"
      ]
     },
     "execution_count": 4,
     "metadata": {},
     "output_type": "execute_result"
    }
   ],
   "source": [
    "'''A function signature is a part of a function declaration that the compiler uses to perform overload resolution. It includes\n",
    "the types of the function’s parameters and, if the function is a class member, the cv-qualifiers (if any) on the function\n",
    "itself and the class in which the member function is declared'''"
   ]
  },
  {
   "cell_type": "code",
   "execution_count": 5,
   "id": "fe536996",
   "metadata": {},
   "outputs": [],
   "source": [
    "# 6. Create a Python function that takes two arguments and returns their product."
   ]
  },
  {
   "cell_type": "code",
   "execution_count": 6,
   "id": "36ef66d5",
   "metadata": {},
   "outputs": [
    {
     "data": {
      "text/plain": [
       "35"
      ]
     },
     "execution_count": 6,
     "metadata": {},
     "output_type": "execute_result"
    }
   ],
   "source": [
    "def product(a,b):\n",
    "    return a*b\n",
    "\n",
    "product(5,7)"
   ]
  },
  {
   "cell_type": "markdown",
   "id": "bbe7c19d",
   "metadata": {},
   "source": [
    "# Function Parameters and Arguments:"
   ]
  },
  {
   "cell_type": "code",
   "execution_count": 7,
   "id": "c3947e2f",
   "metadata": {},
   "outputs": [],
   "source": [
    "# 1. Explain the concepts of formal parameters and actual arguments in Python functions."
   ]
  },
  {
   "cell_type": "code",
   "execution_count": null,
   "id": "0fa6ae6b",
   "metadata": {},
   "outputs": [],
   "source": [
    "\n",
    "In Python, a parameter is a variable that is defined in the function definition. It is used to receive data from outside of the function. Parameters are also known as formal parameters.\n",
    "\n",
    "For example, consider the following function definition:\n",
    "\n",
    "def sum(a, b):\n",
    "    return a + b\n",
    "Copy\n",
    "Here, a and b are formal parameters.\n",
    "\n",
    "An argument is a value that is passed to the function during its invocation. Arguments are also known as actual parameters.\n",
    "\n",
    "For example, consider the following function call:\n",
    "\n",
    "sum(2, 3)\n",
    "Copy\n",
    "Here, 2 and 3 are actual parameters"
   ]
  },
  {
   "cell_type": "code",
   "execution_count": 8,
   "id": "42c86f96",
   "metadata": {},
   "outputs": [],
   "source": [
    "# 2. Write a Python program that defines a function with default argument values."
   ]
  },
  {
   "cell_type": "code",
   "execution_count": 9,
   "id": "fe89967f",
   "metadata": {},
   "outputs": [
    {
     "name": "stdout",
     "output_type": "stream",
     "text": [
      "Hello, there!\n",
      "Hello, John!\n"
     ]
    }
   ],
   "source": [
    "def greet(name='there'):\n",
    "    print(f'Hello, {name}!')\n",
    "\n",
    "greet()  \n",
    "greet('John')"
   ]
  },
  {
   "cell_type": "code",
   "execution_count": 10,
   "id": "2f12d99a",
   "metadata": {},
   "outputs": [],
   "source": [
    "# 3. How do you use keyword arguments in Python function calls? Provide an example."
   ]
  },
  {
   "cell_type": "code",
   "execution_count": 11,
   "id": "b1985a65",
   "metadata": {},
   "outputs": [
    {
     "name": "stdout",
     "output_type": "stream",
     "text": [
      "Good morning, John!\n"
     ]
    }
   ],
   "source": [
    "'''arguments to a function by explicitly specifying the parameter name and its corresponding value. This is useful when the function has many parameters, and you want to pass only a few of them.\n",
    "\n",
    "Here’s an example of how to use keyword arguments in Python function calls:\n",
    "'''\n",
    "\n",
    "def greet(name, message):\n",
    "    print(f\"{message}, {name}!\")\n",
    "\n",
    "greet(name=\"John\", message=\"Good morning\")"
   ]
  },
  {
   "cell_type": "code",
   "execution_count": 12,
   "id": "27c37520",
   "metadata": {},
   "outputs": [],
   "source": [
    "# 4. Create a Python function that accepts a variable number of arguments and calculates their sum."
   ]
  },
  {
   "cell_type": "code",
   "execution_count": 13,
   "id": "68683b91",
   "metadata": {},
   "outputs": [
    {
     "data": {
      "text/plain": [
       "10"
      ]
     },
     "execution_count": 13,
     "metadata": {},
     "output_type": "execute_result"
    }
   ],
   "source": [
    "def sum_all(*args):\n",
    "    return sum(args)\n",
    "\n",
    "sum_all(1,2,3,4)"
   ]
  },
  {
   "cell_type": "code",
   "execution_count": null,
   "id": "9b589227",
   "metadata": {},
   "outputs": [],
   "source": [
    "# 5. What is the purpose of the `*args` and `**kwargs` syntax in function parameter lists?"
   ]
  },
  {
   "cell_type": "code",
   "execution_count": null,
   "id": "8eeb9de9",
   "metadata": {},
   "outputs": [],
   "source": [
    "'''\n",
    "The *args and **kwargs syntax in Python function parameter lists are used to pass a variable number of arguments to a function.\n",
    "\n",
    "The *args syntax is used to pass a variable number of non-keyworded arguments to a function. It allows you to pass any number \n",
    "of arguments to the function, which are then packed into a tuple. You can then iterate over the tuple and use the values as\n",
    "needed.\n",
    "\n",
    "The **kwargs syntax is used to pass a variable number of keyworded arguments to a function. It allows you to pass any number\n",
    "of keyword arguments to the function, which are then packed into a dictionary. You can then iterate over the dictionary and\n",
    "use the keys and values as needed.\n",
    "'''"
   ]
  },
  {
   "cell_type": "markdown",
   "id": "1b6da249",
   "metadata": {},
   "source": [
    "# Return Values and Scoping:"
   ]
  },
  {
   "cell_type": "code",
   "execution_count": 14,
   "id": "c0877ab0",
   "metadata": {},
   "outputs": [],
   "source": [
    "# 1. Describe the role of the `return` statement in Python functions and provide examples."
   ]
  },
  {
   "cell_type": "code",
   "execution_count": 16,
   "id": "0a68a559",
   "metadata": {},
   "outputs": [
    {
     "data": {
      "text/plain": [
       "27"
      ]
     },
     "execution_count": 16,
     "metadata": {},
     "output_type": "execute_result"
    }
   ],
   "source": [
    "'''\n",
    "The return statement is used to exit a function and return a value to the caller. When a return statement is executed,\n",
    "the function call is terminated, and the program control returns to the caller with the value specified in the return statement.\n",
    "If no expression is provided in the return statement, then None is returned. The statements after the return statement are not\n",
    "executed. \n",
    "'''\n",
    "def cube(x):\n",
    "    return x**3\n",
    "\n",
    "cube(3)"
   ]
  },
  {
   "cell_type": "code",
   "execution_count": 17,
   "id": "facb607e",
   "metadata": {},
   "outputs": [],
   "source": [
    "# 2. Explain the concept of variable scope in Python, including local and global variables."
   ]
  },
  {
   "cell_type": "code",
   "execution_count": null,
   "id": "6c1f5b32",
   "metadata": {},
   "outputs": [],
   "source": [
    "'''\n",
    "\n",
    "In Python, the scope of a variable refers to the region of the program where it is accessible. The scope of a variable is\n",
    "determined by where it is defined in the code.\n",
    "\n",
    "Python has two types of variable scopes: local and global. A local variable is defined inside a function and can only be \n",
    "accessed within that function. On the other hand, a global variable is defined outside of any function and can be accessed \n",
    "from anywhere in the program.\n",
    "'''"
   ]
  },
  {
   "cell_type": "code",
   "execution_count": 18,
   "id": "f5e9bbd3",
   "metadata": {},
   "outputs": [],
   "source": [
    "# 3. Write a Python program that demonstrates the use of global variables within functions."
   ]
  },
  {
   "cell_type": "code",
   "execution_count": 19,
   "id": "09555077",
   "metadata": {},
   "outputs": [
    {
     "name": "stdout",
     "output_type": "stream",
     "text": [
      "The value of the global variable is: 10\n",
      "The value of the global variable is: 15\n"
     ]
    }
   ],
   "source": [
    "# Define a global variable\n",
    "global_var = 10\n",
    "\n",
    "# Define a function that modifies the global variable\n",
    "def modify_global_var():\n",
    "    global global_var\n",
    "    global_var += 5\n",
    "\n",
    "# Define a function that prints the global variable\n",
    "def print_global_var():\n",
    "    print(\"The value of the global variable is:\", global_var)\n",
    "\n",
    "# Call the functions\n",
    "print_global_var() \n",
    "modify_global_var()\n",
    "print_global_var() \n"
   ]
  },
  {
   "cell_type": "code",
   "execution_count": 20,
   "id": "a7c5d0de",
   "metadata": {},
   "outputs": [],
   "source": [
    "# 4. Create a Python function that calculates the factorial of a number and returns it."
   ]
  },
  {
   "cell_type": "code",
   "execution_count": 21,
   "id": "055064a3",
   "metadata": {},
   "outputs": [
    {
     "data": {
      "text/plain": [
       "120"
      ]
     },
     "execution_count": 21,
     "metadata": {},
     "output_type": "execute_result"
    }
   ],
   "source": [
    "def factor(n):\n",
    "    if n<0:\n",
    "        return None\n",
    "    elif n==0:\n",
    "        return 1\n",
    "    else:\n",
    "        return n*factor(n-1)\n",
    "    \n",
    "factor(5)    "
   ]
  },
  {
   "cell_type": "code",
   "execution_count": 22,
   "id": "d84c93e4",
   "metadata": {},
   "outputs": [],
   "source": [
    "# 5. How can you access variables defined outside a function from within the function?"
   ]
  },
  {
   "cell_type": "code",
   "execution_count": 23,
   "id": "087d234f",
   "metadata": {},
   "outputs": [
    {
     "name": "stdout",
     "output_type": "stream",
     "text": [
      "15\n"
     ]
    }
   ],
   "source": [
    "x = 10\n",
    "\n",
    "def my_function():\n",
    "    global x\n",
    "    x += 5\n",
    "    print(x)\n",
    "\n",
    "my_function() \n"
   ]
  },
  {
   "cell_type": "markdown",
   "id": "7115533c",
   "metadata": {},
   "source": [
    "# Lambda Functions and Higher-Order Functions:"
   ]
  },
  {
   "cell_type": "code",
   "execution_count": 24,
   "id": "f526af26",
   "metadata": {},
   "outputs": [],
   "source": [
    "# 1. What are lambda functions in Python, and when are they typically used?"
   ]
  },
  {
   "cell_type": "code",
   "execution_count": null,
   "id": "5ab85e01",
   "metadata": {},
   "outputs": [],
   "source": [
    "'''\n",
    "Lambda functions are anonymous functions in Python that are defined without a name. They are defined using the lambda keyword,\n",
    "followed by the function’s inputs, a colon, and the function’s expression.\n",
    "\n",
    "Lambda functions are typically used when we need to pass a small function as an argument to another function. They are also\n",
    "useful when we need to create a function that will be used only once \n",
    "'''"
   ]
  },
  {
   "cell_type": "code",
   "execution_count": 25,
   "id": "16d95063",
   "metadata": {},
   "outputs": [],
   "source": [
    "# 2. Write a Python program that uses lambda functions to sort a list of tuples based on the second element."
   ]
  },
  {
   "cell_type": "code",
   "execution_count": 26,
   "id": "c36a0938",
   "metadata": {},
   "outputs": [
    {
     "name": "stdout",
     "output_type": "stream",
     "text": [
      "[('banana', 5), ('apple', 10), ('date', 15), ('cherry', 20)]\n"
     ]
    }
   ],
   "source": [
    "my_list = [('apple', 10), ('banana', 5), ('cherry', 20), ('date', 15)]\n",
    "sorted_list = sorted(my_list, key=lambda x: x[1])\n",
    "print(sorted_list)\n"
   ]
  },
  {
   "cell_type": "code",
   "execution_count": 27,
   "id": "2ee65fa7",
   "metadata": {},
   "outputs": [],
   "source": [
    "# 3. Explain the concept of higher-order functions in Python, and provide an example."
   ]
  },
  {
   "cell_type": "code",
   "execution_count": 28,
   "id": "dbc292dc",
   "metadata": {},
   "outputs": [
    {
     "name": "stdout",
     "output_type": "stream",
     "text": [
      "3\n"
     ]
    }
   ],
   "source": [
    "def apply(func, x):\n",
    "    return func(x)\n",
    "\n",
    "def add_one(x):\n",
    "    return x + 1\n",
    "\n",
    "result = apply(add_one, 2)\n",
    "print(result)\n"
   ]
  },
  {
   "cell_type": "code",
   "execution_count": 30,
   "id": "38b54a0c",
   "metadata": {},
   "outputs": [],
   "source": [
    "# 4. Create a Python function that takes a list of numbers and a function as arguments, applying the function to each element\n",
    "#    in the list."
   ]
  },
  {
   "cell_type": "code",
   "execution_count": 31,
   "id": "ee5bf74b",
   "metadata": {},
   "outputs": [
    {
     "data": {
      "text/plain": [
       "[1, 4, 9]"
      ]
     },
     "execution_count": 31,
     "metadata": {},
     "output_type": "execute_result"
    }
   ],
   "source": [
    "def apply_func_to_list(lst, func):\n",
    "    return [func(x) for x in lst]\n",
    "apply_func_to_list([1, 2, 3], lambda x: x**2)\n",
    "\n"
   ]
  },
  {
   "cell_type": "markdown",
   "id": "cc27bb97",
   "metadata": {},
   "source": [
    "# Built-in Functions:\n"
   ]
  },
  {
   "cell_type": "code",
   "execution_count": 1,
   "id": "f56f7019",
   "metadata": {},
   "outputs": [],
   "source": [
    "# 1. Describe the role of built-in functions like `len()`, `max()`, and `min()` in Python."
   ]
  },
  {
   "cell_type": "code",
   "execution_count": null,
   "id": "1e004252",
   "metadata": {},
   "outputs": [],
   "source": [
    "'''\n",
    "len(), max(), and min() are built-in functions in Python that are used to perform operations on data structures like lists,\n",
    "tuples, and strings.\n",
    "\n",
    "len() is used to determine the length of a data structure. It returns the number of items in the data structure. For example,\n",
    "if we have a list of numbers [1, 2, 3, 4], then len([1, 2, 3, 4]) will return 4.\n",
    "\n",
    "max() and min() are used to find the maximum and minimum values in a data structure. They can be used with both numeric and\n",
    "non-numeric data types. For example, if we have a list of numbers [1, 2, 3, 4], then max([1, 2, 3, 4]) will return 4, and\n",
    "min([1, 2, 3, 4]) will return 1.\n",
    "\n",
    "These functions are very useful when working with data structures in Python as they allow us to perform common operations\n",
    "quickly and easily.\n",
    "'''"
   ]
  },
  {
   "cell_type": "code",
   "execution_count": 2,
   "id": "2ab25f8d",
   "metadata": {},
   "outputs": [],
   "source": [
    "# 2. Write a Python program that uses the `map()` function to apply a function to each element of a list."
   ]
  },
  {
   "cell_type": "code",
   "execution_count": 3,
   "id": "e008144a",
   "metadata": {},
   "outputs": [
    {
     "name": "stdout",
     "output_type": "stream",
     "text": [
      "[1, 4, 9, 16, 25]\n"
     ]
    }
   ],
   "source": [
    "def square(x):\n",
    "    return x ** 2\n",
    "\n",
    "my_list = [1, 2, 3, 4, 5]\n",
    "result = list(map(square, my_list))\n",
    "print(result)\n"
   ]
  },
  {
   "cell_type": "code",
   "execution_count": 4,
   "id": "1401a5a9",
   "metadata": {},
   "outputs": [],
   "source": [
    "# 3. How does the `filter()` function work in Python, and when would you use it?"
   ]
  },
  {
   "cell_type": "code",
   "execution_count": 5,
   "id": "588ceaaa",
   "metadata": {},
   "outputs": [
    {
     "name": "stdout",
     "output_type": "stream",
     "text": [
      "[2, 4, 6]\n"
     ]
    }
   ],
   "source": [
    "def is_even(num):\n",
    "    return num % 2 == 0\n",
    "\n",
    "numbers = [1, 2, 3, 4, 5, 6]\n",
    "even_numbers = list(filter(is_even, numbers))\n",
    "print(even_numbers)"
   ]
  },
  {
   "cell_type": "code",
   "execution_count": 6,
   "id": "78befea5",
   "metadata": {},
   "outputs": [],
   "source": [
    "# 4. Create a Python program that uses the `reduce()` function to find the product of all elements in a list."
   ]
  },
  {
   "cell_type": "code",
   "execution_count": 10,
   "id": "f405801b",
   "metadata": {},
   "outputs": [
    {
     "name": "stdout",
     "output_type": "stream",
     "text": [
      "120\n"
     ]
    }
   ],
   "source": [
    "from functools import reduce\n",
    "def product(x,y):\n",
    "    return x*y\n",
    "\n",
    "l=[1,2,3,4,5]\n",
    "\n",
    "red=reduce(product,l)\n",
    "print(red)"
   ]
  },
  {
   "cell_type": "markdown",
   "id": "b9e01cf1",
   "metadata": {},
   "source": [
    "# Function Documentation and Best Practices:"
   ]
  },
  {
   "cell_type": "code",
   "execution_count": 11,
   "id": "4ff2626c",
   "metadata": {},
   "outputs": [],
   "source": [
    "# 1. Explain the purpose of docstrings in Python functions and how to write them.\n",
    "\n",
    "'''\n",
    "The purpose of docstrings is to provide a way for developers to understand how to use the code they are working with.\n",
    "Docstrings can be used to describe the inputs and outputs of a function, as well as any side effects that may occur when\n",
    "the function is called. They can also be used to provide examples of how to use the function.\n",
    "'''"
   ]
  },
  {
   "cell_type": "code",
   "execution_count": 12,
   "id": "849f4a6d",
   "metadata": {},
   "outputs": [
    {
     "data": {
      "text/plain": [
       "12"
      ]
     },
     "execution_count": 12,
     "metadata": {},
     "output_type": "execute_result"
    }
   ],
   "source": [
    "# how to use\n",
    "def add(x,y):\n",
    "    '''\n",
    "    this function is use\n",
    "    to  add two arguments.\n",
    "    \n",
    "    '''\n",
    "    return x+y\n",
    "\n",
    "add(5,7)"
   ]
  },
  {
   "cell_type": "code",
   "execution_count": 13,
   "id": "3f3cebe4",
   "metadata": {},
   "outputs": [],
   "source": [
    "# 2. Describe some best practices for naming functions and variables in Python, including naming conventions and guidelines."
   ]
  },
  {
   "cell_type": "code",
   "execution_count": null,
   "id": "4d894b4c",
   "metadata": {},
   "outputs": [],
   "source": [
    "'''\n",
    "In Python, it is important to choose meaningful and descriptive names for functions and variables to improve the readability\n",
    "and maintainability of your code. Here are some best practices for naming functions and variables in Python:\n",
    "\n",
    "Use lowercase letters for function and variable names: According to the official Python style guide, function names should be\n",
    "lowercase, with words separated by underscores as necessary to improve readability. Variable names should follow the same\n",
    "convention as function names \n",
    "\n",
    "1. Avoid using reserved keywords: Avoid using reserved keywords such as if, else, while, for, etc., as variable or function \n",
    "names.\n",
    "\n",
    "\n",
    "2.Use descriptive names: Use descriptive names that convey the purpose of the function or variable. Avoid using generic or\n",
    "meaningless names such as temp, x, y, etc.\n",
    "\n",
    "3.Be consistent: Use consistent naming conventions throughout your codebase. This makes it easier for other developers to\n",
    "read and understand your code .\n",
    "\n",
    "4.Use camelCase for class names: Use camelCase for class names, with the first letter of each word capitalized.\n",
    "'''"
   ]
  }
 ],
 "metadata": {
  "kernelspec": {
   "display_name": "Python 3 (ipykernel)",
   "language": "python",
   "name": "python3"
  },
  "language_info": {
   "codemirror_mode": {
    "name": "ipython",
    "version": 3
   },
   "file_extension": ".py",
   "mimetype": "text/x-python",
   "name": "python",
   "nbconvert_exporter": "python",
   "pygments_lexer": "ipython3",
   "version": "3.9.12"
  }
 },
 "nbformat": 4,
 "nbformat_minor": 5
}
